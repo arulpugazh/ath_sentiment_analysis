{
 "cells": [
  {
   "cell_type": "code",
   "execution_count": 1,
   "metadata": {},
   "outputs": [
    {
     "name": "stderr",
     "output_type": "stream",
     "text": [
      "/Users/jj/anaconda3/lib/python3.7/site-packages/sklearn/externals/joblib/__init__.py:15: DeprecationWarning: sklearn.externals.joblib is deprecated in 0.21 and will be removed in 0.23. Please import this functionality directly from joblib, which can be installed with: pip install joblib. If this warning is raised when loading pickled models, you may need to re-serialize those models with scikit-learn 0.21+.\n",
      "  warnings.warn(msg, category=DeprecationWarning)\n"
     ]
    }
   ],
   "source": [
    "#import required packages\n",
    "%matplotlib inline\n",
    "import matplotlib.pyplot as plt\n",
    "import numpy as np\n",
    "import pandas as pd\n",
    "import re\n",
    "\n",
    "from sklearn import linear_model\n",
    "from sklearn import svm\n",
    "from sklearn.linear_model import LogisticRegression\n",
    "from sklearn.model_selection import GridSearchCV\n",
    "from sklearn.svm import SVC\n",
    "\n",
    "from sklearn.model_selection import train_test_split , StratifiedShuffleSplit, StratifiedKFold\n",
    "from sklearn.metrics import classification_report\n",
    "from sklearn import preprocessing\n",
    "from sklearn.metrics import confusion_matrix, accuracy_score\n",
    "\n",
    "import nltk\n",
    "from nltk.corpus import stopwords\n",
    "#from textblob import TextBlob\n",
    "#from textblob import Word\n",
    "#from bs4 import BeautifulSoup\n",
    "from nltk.stem.snowball import SnowballStemmer\n",
    "from sklearn.feature_extraction.text import CountVectorizer\n",
    "from sklearn.feature_extraction.text import TfidfTransformer\n",
    "from sklearn.externals import joblib\n",
    "#from spacy.lang.en.stop_words import STOP_WORDS\n",
    "from sklearn.naive_bayes import MultinomialNB\n",
    "from sklearn.ensemble import GradientBoostingClassifier\n",
    "from sklearn.ensemble import RandomForestClassifier"
   ]
  },
  {
   "cell_type": "code",
   "execution_count": 2,
   "metadata": {},
   "outputs": [],
   "source": [
    "stops={}"
   ]
  },
  {
   "cell_type": "code",
   "execution_count": 3,
   "metadata": {},
   "outputs": [],
   "source": [
    "#to preprocess the text\n",
    "\n",
    "def text_preprocessing(text, language, minWordSize):\n",
    "    \n",
    "    # remove html\n",
    "    #text_html = BeautifulSoup(text,\"html.parser\" ).get_text()\n",
    "    \n",
    "    # remove non-letters\n",
    "    text_non_letters = re.sub(\"[^a-zA-Z']\", \" \", text) \n",
    "        \n",
    "    # convert to lower-case\n",
    "    text_lower = text_non_letters.lower()\n",
    "    \n",
    "    # remove stop words\n",
    "    text_no_stop_words = ' '\n",
    "    for w in text_lower.split():\n",
    "        if w not in stops:  \n",
    "            text_no_stop_words = text_no_stop_words + w + ' '  \n",
    "    \n",
    "    # do stemming\n",
    "    text_stemmer = ' '\n",
    "    stemmer = SnowballStemmer(language)\n",
    "    for w in text_no_stop_words.split():\n",
    "        text_stemmer = text_stemmer + stemmer.stem(w) + ' '\n",
    "         \n",
    "    # remove short words\n",
    "    text_no_short_words = ' '\n",
    "    for w in text_stemmer.split(): \n",
    "        if len(w) >=minWordSize:\n",
    "            text_no_short_words = text_no_short_words + w + ' '\n",
    "    return text_no_short_words"
   ]
  },
  {
   "cell_type": "code",
   "execution_count": 4,
   "metadata": {},
   "outputs": [],
   "source": [
    "#load and prepare old data\n",
    "df_reviews = pd.read_csv('Input_data/Old_data_reviews.csv',sep=',',quotechar='\"' ) #contains the reviews from Facebook and Tripadvisor\n",
    "df_cat_labels = pd.read_csv('Input_data/Old_data_categorisation_labels.csv',sep=',',quotechar='\"') # contains the classlabels of the reviews\n",
    "df_merged_data = pd.merge(df_cat_labels,df_reviews,how='left',left_on='review_id',right_on='id')\n",
    "\n",
    "# Drop unnecessary columns\n",
    "df_merged_data = df_merged_data.drop(['labeler_id', 'post_type', 'datetime_posted','likes', 'traveler_type',\n",
    "                    'rating_food','rating_service', 'rating_environment', 'rating_value',\n",
    "                     'reviewer_id','source_subject_id','id_x','review_id','id_y','source'],axis=1)\n",
    "\n",
    "#select english reviews\n",
    "olddata =  df_merged_data.loc[df_merged_data['language'] == 'en']\n",
    "reviews_old = olddata['text'].values\n",
    "sentiment_old=olddata['rating'].values"
   ]
  },
  {
   "cell_type": "code",
   "execution_count": 5,
   "metadata": {},
   "outputs": [],
   "source": [
    "#load and prepare new data\n",
    "newdata=pd.read_csv('Input_data/New_data.csv')\n",
    "reviews_new= newdata['Text'].values\n",
    "sentiment_new = newdata['Sentiment'].values\n",
    "\n",
    "#Split category column \n",
    "newdata['category']=newdata['Categories'].apply(lambda x:x.split(';'))\n",
    "\n",
    "def category_includer(data,string):    \n",
    "    for i in range(len(data)):\n",
    "        data.loc[i,string]=0\n",
    "        column=list(data.loc[i,'category'])\n",
    "        if string in column:\n",
    "            data.loc[i,string]=1\n",
    "    return data\n",
    "\n",
    "newdata=category_includer(newdata,'experience')\n",
    "newdata=category_includer(newdata,'service')\n",
    "newdata=category_includer(newdata,'consistency')\n",
    "newdata=category_includer(newdata,'value')\n",
    "newdata=category_includer(newdata,'food')\n",
    "newdata=category_includer(newdata,'convenience')\n",
    "\n",
    "#dropping the two columns and filter only English\n",
    "newdata=newdata.drop(['Categories','category'],axis=1)\n",
    "newdata=newdata[newdata['Language']==\"eng\"]"
   ]
  },
  {
   "cell_type": "code",
   "execution_count": 6,
   "metadata": {},
   "outputs": [],
   "source": [
    "#define the models, parameters for grid search and their names.\n",
    "\"\"\"\n",
    "#List of all models in reasonably large range\n",
    "models = [ LogisticRegression(class_weight='balanced'),\n",
    "     SVC(class_weight='balanced'),\n",
    "     RandomForestClassifier(class_weight='balanced',random_state=0),\n",
    "     GradientBoostingClassifier(),\n",
    "     MultinomialNB()\n",
    "         ]\n",
    "params = [ \n",
    "     { 'C': [0.01,0.1, 1, 10, 100, 1000, 10000, 100000, 1000000]},\n",
    "     [\n",
    "        {'kernel': ['linear'], 'C': np.linspace(0.1,10,5)},\n",
    "        {'kernel': ['rbf'], 'C': np.linspace(0.1,10,5), 'gamma': np.linspace(0.001,1,5)},\n",
    "    ],\n",
    "    {'max_depth':list(range(5,15,5)),'n_estimators':[100,200]},\n",
    "    {'n_estimators':[100,200],'learning_rate':[0.01,0.02],'max_depth':list(range(1,15,3))},\n",
    "    {}\n",
    "    \n",
    "]\n",
    "\n",
    "#1 example model each for testing\n",
    "\"\"\"\n",
    "models = [ LogisticRegression(class_weight='balanced'),\n",
    "     SVC(class_weight='balanced'),\n",
    "     RandomForestClassifier(class_weight='balanced',random_state=0),\n",
    "     GradientBoostingClassifier(),\n",
    "     MultinomialNB()\n",
    "         ]\n",
    "params = [ \n",
    "     { 'C': [0.01]},\n",
    "     [\n",
    "        #{'kernel': ['linear'], 'C': np.linspace(0.1,10,5)},\n",
    "        {'kernel': ['rbf'], 'C': [2.3], 'gamma': [1]},\n",
    "    ],\n",
    "    {'max_depth':[5],'n_estimators':[100]},\n",
    "    {'n_estimators':[100],'learning_rate':[0.01],'max_depth':[7]},\n",
    "    {}\n",
    "    \n",
    "]\n",
    "\n",
    "names=['LogisticRegression','SVM','RandomForest','GradientBoostingClassifier','MultinomialNB']\n",
    "#the function iterates for all the models and selects the model with the highest score for the test set. The model is fitted on the training set.\n",
    "\n",
    "\n",
    "\n",
    "def select_best_model(X_train,y_train,X_test,y_test):\n",
    "    param_matrix={}\n",
    "    score=0\n",
    "    for model,param,name in zip(models,params,names):\n",
    "        gs_model=GridSearchCV(model,param,refit=True,n_jobs=-1,verbose=25)\n",
    "        print(name)\n",
    "        gs_model.fit(X_train,y_train)\n",
    "        predictions=gs_model.predict(X_test)\n",
    "        param_matrix[name]=accuracy_score(y_test,predictions)    \n",
    "        if accuracy_score(y_test,predictions)>score:\n",
    "            score=accuracy_score(y_test,predictions)\n",
    "            best_model=gs_model\n",
    "    return best_model\n",
    "        "
   ]
  },
  {
   "cell_type": "code",
   "execution_count": 7,
   "metadata": {},
   "outputs": [
    {
     "name": "stdout",
     "output_type": "stream",
     "text": [
      "training to find sentiment\n",
      "\n",
      "LogisticRegression\n",
      "Fitting 3 folds for each of 1 candidates, totalling 3 fits\n"
     ]
    },
    {
     "name": "stderr",
     "output_type": "stream",
     "text": [
      "/Users/jj/anaconda3/lib/python3.7/site-packages/sklearn/model_selection/_split.py:1978: FutureWarning: The default value of cv will change from 3 to 5 in version 0.22. Specify it explicitly to silence this warning.\n",
      "  warnings.warn(CV_WARNING, FutureWarning)\n",
      "[Parallel(n_jobs=-1)]: Using backend LokyBackend with 4 concurrent workers.\n",
      "[Parallel(n_jobs=-1)]: Done   1 tasks      | elapsed:    1.7s\n",
      "[Parallel(n_jobs=-1)]: Done   3 out of   3 | elapsed:    1.7s remaining:    0.0s\n",
      "[Parallel(n_jobs=-1)]: Done   3 out of   3 | elapsed:    1.7s finished\n",
      "/Users/jj/anaconda3/lib/python3.7/site-packages/sklearn/linear_model/logistic.py:432: FutureWarning: Default solver will be changed to 'lbfgs' in 0.22. Specify a solver to silence this warning.\n",
      "  FutureWarning)\n",
      "/Users/jj/anaconda3/lib/python3.7/site-packages/sklearn/linear_model/logistic.py:469: FutureWarning: Default multi_class will be changed to 'auto' in 0.22. Specify the multi_class option to silence this warning.\n",
      "  \"this warning.\", FutureWarning)\n"
     ]
    },
    {
     "name": "stdout",
     "output_type": "stream",
     "text": [
      "SVM\n",
      "Fitting 3 folds for each of 1 candidates, totalling 3 fits\n"
     ]
    },
    {
     "name": "stderr",
     "output_type": "stream",
     "text": [
      "/Users/jj/anaconda3/lib/python3.7/site-packages/sklearn/model_selection/_split.py:1978: FutureWarning: The default value of cv will change from 3 to 5 in version 0.22. Specify it explicitly to silence this warning.\n",
      "  warnings.warn(CV_WARNING, FutureWarning)\n",
      "[Parallel(n_jobs=-1)]: Using backend LokyBackend with 4 concurrent workers.\n",
      "[Parallel(n_jobs=-1)]: Done   1 tasks      | elapsed:   51.4s\n",
      "[Parallel(n_jobs=-1)]: Done   3 out of   3 | elapsed:   52.4s remaining:    0.0s\n",
      "[Parallel(n_jobs=-1)]: Done   3 out of   3 | elapsed:   52.4s finished\n"
     ]
    },
    {
     "name": "stdout",
     "output_type": "stream",
     "text": [
      "RandomForest\n",
      "Fitting 3 folds for each of 1 candidates, totalling 3 fits\n"
     ]
    },
    {
     "name": "stderr",
     "output_type": "stream",
     "text": [
      "/Users/jj/anaconda3/lib/python3.7/site-packages/sklearn/model_selection/_split.py:1978: FutureWarning: The default value of cv will change from 3 to 5 in version 0.22. Specify it explicitly to silence this warning.\n",
      "  warnings.warn(CV_WARNING, FutureWarning)\n",
      "[Parallel(n_jobs=-1)]: Using backend LokyBackend with 4 concurrent workers.\n",
      "[Parallel(n_jobs=-1)]: Done   1 tasks      | elapsed:    0.8s\n",
      "[Parallel(n_jobs=-1)]: Done   3 out of   3 | elapsed:    0.8s remaining:    0.0s\n",
      "[Parallel(n_jobs=-1)]: Done   3 out of   3 | elapsed:    0.8s finished\n"
     ]
    },
    {
     "name": "stdout",
     "output_type": "stream",
     "text": [
      "GradientBoostingClassifier\n",
      "Fitting 3 folds for each of 1 candidates, totalling 3 fits\n"
     ]
    },
    {
     "name": "stderr",
     "output_type": "stream",
     "text": [
      "/Users/jj/anaconda3/lib/python3.7/site-packages/sklearn/model_selection/_split.py:1978: FutureWarning: The default value of cv will change from 3 to 5 in version 0.22. Specify it explicitly to silence this warning.\n",
      "  warnings.warn(CV_WARNING, FutureWarning)\n",
      "[Parallel(n_jobs=-1)]: Using backend LokyBackend with 4 concurrent workers.\n",
      "[Parallel(n_jobs=-1)]: Done   1 tasks      | elapsed:  4.0min\n",
      "[Parallel(n_jobs=-1)]: Done   3 out of   3 | elapsed:  4.1min remaining:    0.0s\n",
      "[Parallel(n_jobs=-1)]: Done   3 out of   3 | elapsed:  4.1min finished\n"
     ]
    },
    {
     "name": "stdout",
     "output_type": "stream",
     "text": [
      "MultinomialNB\n",
      "Fitting 3 folds for each of 1 candidates, totalling 3 fits\n"
     ]
    },
    {
     "name": "stderr",
     "output_type": "stream",
     "text": [
      "/Users/jj/anaconda3/lib/python3.7/site-packages/sklearn/model_selection/_split.py:1978: FutureWarning: The default value of cv will change from 3 to 5 in version 0.22. Specify it explicitly to silence this warning.\n",
      "  warnings.warn(CV_WARNING, FutureWarning)\n",
      "[Parallel(n_jobs=-1)]: Using backend LokyBackend with 4 concurrent workers.\n"
     ]
    },
    {
     "name": "stdout",
     "output_type": "stream",
     "text": [
      "Testing on sentiment prediction\n",
      "\n",
      "best parameters:\n",
      "SVC(C=2.3, cache_size=200, class_weight='balanced', coef0=0.0,\n",
      "    decision_function_shape='ovr', degree=3, gamma=1, kernel='rbf', max_iter=-1,\n",
      "    probability=False, random_state=None, shrinking=True, tol=0.001,\n",
      "    verbose=False)\n",
      "\n",
      "\n",
      "Classification report:\n"
     ]
    },
    {
     "name": "stderr",
     "output_type": "stream",
     "text": [
      "[Parallel(n_jobs=-1)]: Done   1 tasks      | elapsed:    0.1s\n",
      "[Parallel(n_jobs=-1)]: Batch computation too fast (0.0895s.) Setting batch_size=4.\n",
      "[Parallel(n_jobs=-1)]: Done   3 out of   3 | elapsed:    0.1s remaining:    0.0s\n",
      "[Parallel(n_jobs=-1)]: Done   3 out of   3 | elapsed:    0.1s finished\n"
     ]
    },
    {
     "name": "stdout",
     "output_type": "stream",
     "text": [
      "              precision    recall  f1-score   support\n",
      "\n",
      "         1.0       0.93      0.93      0.93        30\n",
      "         2.0       1.00      0.85      0.92        47\n",
      "         3.0       1.00      0.73      0.84       129\n",
      "         4.0       0.89      0.85      0.87       429\n",
      "         5.0       0.94      0.98      0.96      1392\n",
      "\n",
      "    accuracy                           0.93      2027\n",
      "   macro avg       0.95      0.87      0.91      2027\n",
      "weighted avg       0.94      0.93      0.93      2027\n",
      "\n",
      "[[  28    0    0    2    0]\n",
      " [   0   40    0    3    4]\n",
      " [   2    0   94   16   17]\n",
      " [   0    0    0  364   65]\n",
      " [   0    0    0   23 1369]]\n",
      "93.48791317217562\n"
     ]
    }
   ],
   "source": [
    "#training on old and testing on the old data\n",
    "\n",
    "#test train split\n",
    "text_train,text_test,sentiment_train,sentiment_test= train_test_split(reviews_old,sentiment_old,random_state=0,test_size=0.2,stratify=sentiment_old)\n",
    "\n",
    "#bag of words\n",
    "language = 'english'\n",
    "minWordLength = 2 # shorter words will be removed\n",
    "\n",
    "for i in range(len(text_train)):\n",
    "    text_train[i] = text_preprocessing(text_train[i], language, minWordLength)\n",
    "for i in range(len(text_test)):\n",
    "    text_test[i] = text_preprocessing(text_test[i], language, minWordLength)\n",
    "        \n",
    "count_vect = CountVectorizer(ngram_range=(1,3),max_features=20000)\n",
    "tfidf_transformer = TfidfTransformer(use_idf=True)\n",
    "    \n",
    "count_vect.fit(text_train)\n",
    "text_train_bow = count_vect.transform(text_train)\n",
    "text_test_bow = count_vect.transform(text_test)\n",
    "    \n",
    "tfidf_transformer.fit_transform(text_train_bow)\n",
    "reviews_bow_train = tfidf_transformer.transform(text_train_bow)\n",
    "reviews_bow_test = tfidf_transformer.transform(text_test_bow)\n",
    "joblib.dump(count_vect,'Exported_models/count_vectorizer_oldtrain_oldtest_sentiment.pkl')\n",
    "joblib.dump(tfidf_transformer,'Exported_models/tfidftransformer_oldtrain_oldtest_sentiment.pkl')\n",
    "    \n",
    "#training the models\n",
    "print('training to find sentiment'+'\\n')\n",
    "best_model_reviews = select_best_model(reviews_bow_train,sentiment_train,reviews_bow_test,sentiment_test)\n",
    "\n",
    "#testing the models\n",
    "print('Testing on sentiment prediction'+ '\\n\\n'+ 'best parameters:')\n",
    "print(best_model_reviews.best_estimator_)\n",
    "print('\\n')\n",
    "print('Classification report:')\n",
    "y_pred_reviews = best_model_reviews.predict(reviews_bow_test)\n",
    "\n",
    "print(classification_report(sentiment_test, y_pred_reviews))\n",
    "\n",
    "cf_sentiment = confusion_matrix(sentiment_test, y_pred_reviews)\n",
    "print(cf_sentiment)\n",
    "print(accuracy_score(sentiment_test, y_pred_reviews) * 100)\n",
    "\n",
    "#joblib.dump(best_model_reviews,'Exported_models/train_old_test_old_sentiment.pkl')\n",
    "#joblib.dump(best_model_reviews.best_estimator_, 'Exported_models/train_new_test_new_sentiment_bestmodel.pkl')\n"
   ]
  },
  {
   "cell_type": "code",
   "execution_count": 8,
   "metadata": {},
   "outputs": [
    {
     "name": "stdout",
     "output_type": "stream",
     "text": [
      "training to find sentiment\n",
      "\n",
      "LogisticRegression\n",
      "Fitting 3 folds for each of 1 candidates, totalling 3 fits\n"
     ]
    },
    {
     "name": "stderr",
     "output_type": "stream",
     "text": [
      "/Users/jj/anaconda3/lib/python3.7/site-packages/sklearn/model_selection/_split.py:1978: FutureWarning: The default value of cv will change from 3 to 5 in version 0.22. Specify it explicitly to silence this warning.\n",
      "  warnings.warn(CV_WARNING, FutureWarning)\n",
      "[Parallel(n_jobs=-1)]: Using backend LokyBackend with 4 concurrent workers.\n",
      "[Parallel(n_jobs=-1)]: Done   1 tasks      | elapsed:    0.1s\n",
      "[Parallel(n_jobs=-1)]: Batch computation too fast (0.0909s.) Setting batch_size=4.\n",
      "[Parallel(n_jobs=-1)]: Done   3 out of   3 | elapsed:    1.4s remaining:    0.0s\n",
      "[Parallel(n_jobs=-1)]: Done   3 out of   3 | elapsed:    1.4s finished\n",
      "/Users/jj/anaconda3/lib/python3.7/site-packages/sklearn/linear_model/logistic.py:432: FutureWarning: Default solver will be changed to 'lbfgs' in 0.22. Specify a solver to silence this warning.\n",
      "  FutureWarning)\n",
      "/Users/jj/anaconda3/lib/python3.7/site-packages/sklearn/linear_model/logistic.py:469: FutureWarning: Default multi_class will be changed to 'auto' in 0.22. Specify the multi_class option to silence this warning.\n",
      "  \"this warning.\", FutureWarning)\n",
      "/Users/jj/anaconda3/lib/python3.7/site-packages/sklearn/model_selection/_split.py:1978: FutureWarning: The default value of cv will change from 3 to 5 in version 0.22. Specify it explicitly to silence this warning.\n",
      "  warnings.warn(CV_WARNING, FutureWarning)\n",
      "[Parallel(n_jobs=-1)]: Using backend LokyBackend with 4 concurrent workers.\n"
     ]
    },
    {
     "name": "stdout",
     "output_type": "stream",
     "text": [
      "SVM\n",
      "Fitting 3 folds for each of 1 candidates, totalling 3 fits\n"
     ]
    },
    {
     "name": "stderr",
     "output_type": "stream",
     "text": [
      "[Parallel(n_jobs=-1)]: Done   1 tasks      | elapsed:    6.5s\n",
      "[Parallel(n_jobs=-1)]: Done   3 out of   3 | elapsed:    6.7s remaining:    0.0s\n",
      "[Parallel(n_jobs=-1)]: Done   3 out of   3 | elapsed:    6.7s finished\n"
     ]
    },
    {
     "name": "stdout",
     "output_type": "stream",
     "text": [
      "RandomForest\n",
      "Fitting 3 folds for each of 1 candidates, totalling 3 fits\n"
     ]
    },
    {
     "name": "stderr",
     "output_type": "stream",
     "text": [
      "/Users/jj/anaconda3/lib/python3.7/site-packages/sklearn/model_selection/_split.py:1978: FutureWarning: The default value of cv will change from 3 to 5 in version 0.22. Specify it explicitly to silence this warning.\n",
      "  warnings.warn(CV_WARNING, FutureWarning)\n",
      "[Parallel(n_jobs=-1)]: Using backend LokyBackend with 4 concurrent workers.\n",
      "[Parallel(n_jobs=-1)]: Done   1 tasks      | elapsed:    0.5s\n",
      "[Parallel(n_jobs=-1)]: Done   3 out of   3 | elapsed:    0.6s remaining:    0.0s\n",
      "[Parallel(n_jobs=-1)]: Done   3 out of   3 | elapsed:    0.6s finished\n"
     ]
    },
    {
     "name": "stdout",
     "output_type": "stream",
     "text": [
      "GradientBoostingClassifier\n",
      "Fitting 3 folds for each of 1 candidates, totalling 3 fits\n"
     ]
    },
    {
     "name": "stderr",
     "output_type": "stream",
     "text": [
      "/Users/jj/anaconda3/lib/python3.7/site-packages/sklearn/model_selection/_split.py:1978: FutureWarning: The default value of cv will change from 3 to 5 in version 0.22. Specify it explicitly to silence this warning.\n",
      "  warnings.warn(CV_WARNING, FutureWarning)\n",
      "[Parallel(n_jobs=-1)]: Using backend LokyBackend with 4 concurrent workers.\n",
      "[Parallel(n_jobs=-1)]: Done   1 tasks      | elapsed:   59.0s\n",
      "[Parallel(n_jobs=-1)]: Done   3 out of   3 | elapsed:   59.2s remaining:    0.0s\n",
      "[Parallel(n_jobs=-1)]: Done   3 out of   3 | elapsed:   59.2s finished\n"
     ]
    },
    {
     "name": "stdout",
     "output_type": "stream",
     "text": [
      "MultinomialNB\n",
      "Fitting 3 folds for each of 1 candidates, totalling 3 fits\n",
      "Testing on sentiment prediction\n",
      "\n",
      "best parameters:\n",
      "SVC(C=2.3, cache_size=200, class_weight='balanced', coef0=0.0,\n",
      "    decision_function_shape='ovr', degree=3, gamma=1, kernel='rbf', max_iter=-1,\n",
      "    probability=False, random_state=None, shrinking=True, tol=0.001,\n",
      "    verbose=False)\n",
      "\n",
      "\n",
      "Classification report:\n"
     ]
    },
    {
     "name": "stderr",
     "output_type": "stream",
     "text": [
      "/Users/jj/anaconda3/lib/python3.7/site-packages/sklearn/model_selection/_split.py:1978: FutureWarning: The default value of cv will change from 3 to 5 in version 0.22. Specify it explicitly to silence this warning.\n",
      "  warnings.warn(CV_WARNING, FutureWarning)\n",
      "[Parallel(n_jobs=-1)]: Using backend LokyBackend with 4 concurrent workers.\n",
      "[Parallel(n_jobs=-1)]: Done   1 tasks      | elapsed:    0.0s\n",
      "[Parallel(n_jobs=-1)]: Batch computation too fast (0.0407s.) Setting batch_size=8.\n",
      "[Parallel(n_jobs=-1)]: Done   3 out of   3 | elapsed:    0.0s remaining:    0.0s\n",
      "[Parallel(n_jobs=-1)]: Done   3 out of   3 | elapsed:    0.0s finished\n"
     ]
    },
    {
     "name": "stdout",
     "output_type": "stream",
     "text": [
      "              precision    recall  f1-score   support\n",
      "\n",
      "          -1       0.82      0.79      0.81       177\n",
      "           0       0.88      0.23      0.37        60\n",
      "           1       0.92      0.98      0.95       749\n",
      "\n",
      "    accuracy                           0.90       986\n",
      "   macro avg       0.87      0.67      0.71       986\n",
      "weighted avg       0.90      0.90      0.89       986\n",
      "\n",
      "[[140   1  36]\n",
      " [ 16  14  30]\n",
      " [ 14   1 734]]\n",
      "90.06085192697769\n"
     ]
    },
    {
     "data": {
      "text/plain": [
       "['Exported_models/train_new_test_new_sentiment.pkl']"
      ]
     },
     "execution_count": 8,
     "metadata": {},
     "output_type": "execute_result"
    }
   ],
   "source": [
    "# training and testing on new data\n",
    "\n",
    "#reviews and sentiment as values\n",
    "reviews_new= newdata['Text'].values\n",
    "sentiment_new = newdata['Sentiment'].values\n",
    "\n",
    "#test train split\n",
    "reviews_train, reviews_test, sentiment_train, sentiment_test = train_test_split(reviews_new, sentiment_new, test_size=0.2,random_state=0,stratify=sentiment_new)\n",
    "\n",
    "#bag of words\n",
    "language = 'english'\n",
    "minWordLength = 2 # shorter words will be removed\n",
    "\n",
    "for i in range(len(reviews_train)):\n",
    "    reviews_train[i] = text_preprocessing(reviews_train[i], language, minWordLength)\n",
    "for i in range(len(reviews_test)):\n",
    "    reviews_test[i] = text_preprocessing(reviews_test[i], language, minWordLength)\n",
    "        \n",
    "count_vect = CountVectorizer(ngram_range=(1,3),max_features=20000)\n",
    "tfidf_transformer = TfidfTransformer(use_idf=True)\n",
    "    \n",
    "count_vect.fit(reviews_train)\n",
    "text_train_bow = count_vect.transform(reviews_train)\n",
    "text_test_bow = count_vect.transform(reviews_test)\n",
    "    \n",
    "tfidf_transformer.fit_transform(text_train_bow)\n",
    "reviews_bow_train = tfidf_transformer.transform(text_train_bow)\n",
    "reviews_bow_test = tfidf_transformer.transform(text_test_bow)\n",
    "joblib.dump(count_vect,'Exported_models/count_vectorizer_newtrain_newtest_sentiment.pkl')\n",
    "joblib.dump(tfidf_transformer,'Exported_models/tfidftransformer_newtrain_newtest_sentiment.pkl')\n",
    "\n",
    "#training the model\n",
    "print('training to find sentiment'+'\\n')\n",
    "best_model_reviews = select_best_model(reviews_bow_train,sentiment_train,reviews_bow_test,sentiment_test)\n",
    "\n",
    "#testing the models\n",
    "print('Testing on sentiment prediction'+ '\\n\\n'+ 'best parameters:')\n",
    "print(best_model_reviews.best_estimator_)\n",
    "print('\\n')\n",
    "print('Classification report:')\n",
    "y_pred_reviews = best_model_reviews.predict(reviews_bow_test)\n",
    "\n",
    "print(classification_report(sentiment_test, y_pred_reviews))\n",
    "\n",
    "cf_sentiment = confusion_matrix(sentiment_test, y_pred_reviews)\n",
    "print(cf_sentiment)\n",
    "print(accuracy_score(sentiment_test, y_pred_reviews) * 100)\n",
    "\n",
    "#Exporting the models\n",
    "joblib.dump(best_model_reviews.best_estimator_, 'Exported_models/train_new_test_new_sentiment_bestmodel.pkl')\n",
    "joblib.dump(best_model_reviews, 'Exported_models/train_new_test_new_sentiment.pkl')"
   ]
  },
  {
   "cell_type": "code",
   "execution_count": 9,
   "metadata": {},
   "outputs": [],
   "source": [
    "\n",
    "# 1,2,3,4,5 as -1,0,1 old data rating from 1,2,3,4,5 to -1,0,1\n",
    "\n",
    "for i in range(len(olddata)):\n",
    "    if olddata.loc[i,'rating'] in [1,2]:\n",
    "        olddata.loc[i,'rating']=-1\n",
    "    elif olddata.loc[i,'rating']==3:\n",
    "        olddata.loc[i,'rating']=0\n",
    "    elif olddata.loc[i,'rating'] in [4,5]:\n",
    "        olddata.loc[i,'rating']=1"
   ]
  },
  {
   "cell_type": "code",
   "execution_count": 10,
   "metadata": {},
   "outputs": [
    {
     "name": "stdout",
     "output_type": "stream",
     "text": [
      "training to find sentiment\n",
      "\n",
      "LogisticRegression\n",
      "Fitting 3 folds for each of 1 candidates, totalling 3 fits\n"
     ]
    },
    {
     "name": "stderr",
     "output_type": "stream",
     "text": [
      "/Users/jj/anaconda3/lib/python3.7/site-packages/sklearn/model_selection/_split.py:1978: FutureWarning: The default value of cv will change from 3 to 5 in version 0.22. Specify it explicitly to silence this warning.\n",
      "  warnings.warn(CV_WARNING, FutureWarning)\n",
      "[Parallel(n_jobs=-1)]: Using backend LokyBackend with 4 concurrent workers.\n",
      "[Parallel(n_jobs=-1)]: Done   1 tasks      | elapsed:    0.3s\n",
      "[Parallel(n_jobs=-1)]: Done   3 out of   3 | elapsed:    0.3s remaining:    0.0s\n",
      "[Parallel(n_jobs=-1)]: Done   3 out of   3 | elapsed:    0.3s finished\n",
      "/Users/jj/anaconda3/lib/python3.7/site-packages/sklearn/linear_model/logistic.py:432: FutureWarning: Default solver will be changed to 'lbfgs' in 0.22. Specify a solver to silence this warning.\n",
      "  FutureWarning)\n",
      "/Users/jj/anaconda3/lib/python3.7/site-packages/sklearn/linear_model/logistic.py:469: FutureWarning: Default multi_class will be changed to 'auto' in 0.22. Specify the multi_class option to silence this warning.\n",
      "  \"this warning.\", FutureWarning)\n"
     ]
    },
    {
     "name": "stdout",
     "output_type": "stream",
     "text": [
      "SVM\n",
      "Fitting 3 folds for each of 1 candidates, totalling 3 fits\n"
     ]
    },
    {
     "name": "stderr",
     "output_type": "stream",
     "text": [
      "/Users/jj/anaconda3/lib/python3.7/site-packages/sklearn/model_selection/_split.py:1978: FutureWarning: The default value of cv will change from 3 to 5 in version 0.22. Specify it explicitly to silence this warning.\n",
      "  warnings.warn(CV_WARNING, FutureWarning)\n",
      "[Parallel(n_jobs=-1)]: Using backend LokyBackend with 4 concurrent workers.\n",
      "[Parallel(n_jobs=-1)]: Done   1 tasks      | elapsed:   39.7s\n",
      "[Parallel(n_jobs=-1)]: Done   3 out of   3 | elapsed:   40.3s remaining:    0.0s\n",
      "[Parallel(n_jobs=-1)]: Done   3 out of   3 | elapsed:   40.3s finished\n"
     ]
    },
    {
     "name": "stdout",
     "output_type": "stream",
     "text": [
      "RandomForest\n",
      "Fitting 3 folds for each of 1 candidates, totalling 3 fits\n"
     ]
    },
    {
     "name": "stderr",
     "output_type": "stream",
     "text": [
      "/Users/jj/anaconda3/lib/python3.7/site-packages/sklearn/model_selection/_split.py:1978: FutureWarning: The default value of cv will change from 3 to 5 in version 0.22. Specify it explicitly to silence this warning.\n",
      "  warnings.warn(CV_WARNING, FutureWarning)\n",
      "[Parallel(n_jobs=-1)]: Using backend LokyBackend with 4 concurrent workers.\n",
      "[Parallel(n_jobs=-1)]: Done   1 tasks      | elapsed:    0.7s\n",
      "[Parallel(n_jobs=-1)]: Done   3 out of   3 | elapsed:    0.7s remaining:    0.0s\n",
      "[Parallel(n_jobs=-1)]: Done   3 out of   3 | elapsed:    0.7s finished\n"
     ]
    },
    {
     "name": "stdout",
     "output_type": "stream",
     "text": [
      "GradientBoostingClassifier\n",
      "Fitting 3 folds for each of 1 candidates, totalling 3 fits\n"
     ]
    },
    {
     "name": "stderr",
     "output_type": "stream",
     "text": [
      "/Users/jj/anaconda3/lib/python3.7/site-packages/sklearn/model_selection/_split.py:1978: FutureWarning: The default value of cv will change from 3 to 5 in version 0.22. Specify it explicitly to silence this warning.\n",
      "  warnings.warn(CV_WARNING, FutureWarning)\n",
      "[Parallel(n_jobs=-1)]: Using backend LokyBackend with 4 concurrent workers.\n",
      "[Parallel(n_jobs=-1)]: Done   1 tasks      | elapsed:  2.8min\n",
      "[Parallel(n_jobs=-1)]: Done   3 out of   3 | elapsed:  2.9min remaining:    0.0s\n",
      "[Parallel(n_jobs=-1)]: Done   3 out of   3 | elapsed:  2.9min finished\n"
     ]
    },
    {
     "name": "stdout",
     "output_type": "stream",
     "text": [
      "MultinomialNB\n",
      "Fitting 3 folds for each of 1 candidates, totalling 3 fits\n"
     ]
    },
    {
     "name": "stderr",
     "output_type": "stream",
     "text": [
      "/Users/jj/anaconda3/lib/python3.7/site-packages/sklearn/model_selection/_split.py:1978: FutureWarning: The default value of cv will change from 3 to 5 in version 0.22. Specify it explicitly to silence this warning.\n",
      "  warnings.warn(CV_WARNING, FutureWarning)\n",
      "[Parallel(n_jobs=-1)]: Using backend LokyBackend with 4 concurrent workers.\n"
     ]
    },
    {
     "name": "stdout",
     "output_type": "stream",
     "text": [
      "Testing on sentiment prediction\n",
      "\n",
      "best parameters:\n",
      "RandomForestClassifier(bootstrap=True, class_weight='balanced',\n",
      "                       criterion='gini', max_depth=5, max_features='auto',\n",
      "                       max_leaf_nodes=None, min_impurity_decrease=0.0,\n",
      "                       min_impurity_split=None, min_samples_leaf=1,\n",
      "                       min_samples_split=2, min_weight_fraction_leaf=0.0,\n",
      "                       n_estimators=100, n_jobs=None, oob_score=False,\n",
      "                       random_state=0, verbose=0, warm_start=False)\n",
      "\n",
      "\n",
      "Classification report:\n"
     ]
    },
    {
     "name": "stderr",
     "output_type": "stream",
     "text": [
      "[Parallel(n_jobs=-1)]: Done   1 tasks      | elapsed:    0.1s\n",
      "[Parallel(n_jobs=-1)]: Batch computation too fast (0.0872s.) Setting batch_size=4.\n",
      "[Parallel(n_jobs=-1)]: Done   3 out of   3 | elapsed:    0.1s remaining:    0.0s\n",
      "[Parallel(n_jobs=-1)]: Done   3 out of   3 | elapsed:    0.1s finished\n"
     ]
    },
    {
     "name": "stdout",
     "output_type": "stream",
     "text": [
      "              precision    recall  f1-score   support\n",
      "\n",
      "          -1       0.85      0.34      0.48       883\n",
      "           0       0.09      0.11      0.10       302\n",
      "           1       0.84      0.94      0.89      3745\n",
      "\n",
      "    accuracy                           0.78      4930\n",
      "   macro avg       0.59      0.46      0.49      4930\n",
      "weighted avg       0.80      0.78      0.77      4930\n",
      "\n",
      "[[ 299  154  430]\n",
      " [  18   34  250]\n",
      " [  34  180 3531]]\n",
      "78.37728194726166\n"
     ]
    }
   ],
   "source": [
    "#training on old and testing on new data\n",
    "\n",
    "#reviews as arrays\n",
    "text_train = olddata['text'].values\n",
    "text_test = newdata['Text'].values\n",
    "\n",
    "#sentiment as arrays\n",
    "sentiment_train = olddata['rating'].values\n",
    "sentiment_test = newdata['Sentiment'].values\n",
    "\n",
    "#bag of words\n",
    "language = 'english'\n",
    "minWordLength = 2 # shorter words will be removed\n",
    "\n",
    "for i in range(len(text_train)):\n",
    "    text_train[i] = text_preprocessing(text_train[i], language, minWordLength)\n",
    "for i in range(len(text_test)):\n",
    "    text_test[i] = text_preprocessing(text_test[i], language, minWordLength)\n",
    "        \n",
    "count_vect = CountVectorizer(ngram_range=(1,3),max_features=20000)\n",
    "tfidf_transformer = TfidfTransformer(use_idf=True)\n",
    "    \n",
    "count_vect.fit(text_train)\n",
    "text_train_bow = count_vect.transform(text_train)\n",
    "text_test_bow = count_vect.transform(text_test)\n",
    "    \n",
    "tfidf_transformer.fit_transform(text_train_bow)\n",
    "reviews_bow_train = tfidf_transformer.transform(text_train_bow)\n",
    "reviews_bow_test = tfidf_transformer.transform(text_test_bow)\n",
    "#joblib.dump(count_vect,'Exported_models/count_vectorizer_oldtrain_newtest_sentiment.pkl')\n",
    "#joblib.dump(tfidf_transformer,'Exported_models/tfidftransformer_oldtrain_newtest_sentiment.pkl')\n",
    "\n",
    "#training the model\n",
    "print('training to find sentiment'+'\\n')\n",
    "best_model_reviews = select_best_model(reviews_bow_train,sentiment_train,reviews_bow_test,sentiment_test)\n",
    "\n",
    "#testing the model\n",
    "print('Testing on sentiment prediction'+ '\\n\\n'+ 'best parameters:')\n",
    "print(best_model_reviews.best_estimator_)\n",
    "print('\\n')\n",
    "print('Classification report:')\n",
    "y_pred_reviews = best_model_reviews.predict(reviews_bow_test)\n",
    "\n",
    "print(classification_report(sentiment_test, y_pred_reviews))\n",
    "\n",
    "cf_sentiment = confusion_matrix(sentiment_test, y_pred_reviews)\n",
    "print(cf_sentiment)\n",
    "print(accuracy_score(sentiment_test, y_pred_reviews) * 100)\n",
    "\n",
    "#Exporting the model\n",
    "#joblib.dump(best_model_reviews,'Exported_models/train_old_test_new_sentiment.pkl')\n",
    "#joblib.dump(best_model_reviews.best_estimator_, 'Exported_models/train_old_test_new_sentiment_bestmodel.pkl')\n"
   ]
  },
  {
   "cell_type": "code",
   "execution_count": 11,
   "metadata": {},
   "outputs": [
    {
     "name": "stderr",
     "output_type": "stream",
     "text": [
      "/Users/jj/anaconda3/lib/python3.7/site-packages/ipykernel_launcher.py:17: FutureWarning: Sorting because non-concatenation axis is not aligned. A future version\n",
      "of pandas will change to not sort by default.\n",
      "\n",
      "To accept the future behavior, pass 'sort=False'.\n",
      "\n",
      "To retain the current behavior and silence the warning, pass 'sort=True'.\n",
      "\n"
     ]
    },
    {
     "name": "stdout",
     "output_type": "stream",
     "text": [
      "training to find sentiment\n",
      "\n",
      "LogisticRegression\n",
      "Fitting 3 folds for each of 1 candidates, totalling 3 fits\n"
     ]
    },
    {
     "name": "stderr",
     "output_type": "stream",
     "text": [
      "/Users/jj/anaconda3/lib/python3.7/site-packages/sklearn/model_selection/_split.py:1978: FutureWarning: The default value of cv will change from 3 to 5 in version 0.22. Specify it explicitly to silence this warning.\n",
      "  warnings.warn(CV_WARNING, FutureWarning)\n",
      "[Parallel(n_jobs=-1)]: Using backend LokyBackend with 4 concurrent workers.\n",
      "[Parallel(n_jobs=-1)]: Done   1 tasks      | elapsed:    0.3s\n",
      "[Parallel(n_jobs=-1)]: Done   3 out of   3 | elapsed:    1.5s remaining:    0.0s\n",
      "[Parallel(n_jobs=-1)]: Done   3 out of   3 | elapsed:    1.5s finished\n",
      "/Users/jj/anaconda3/lib/python3.7/site-packages/sklearn/linear_model/logistic.py:432: FutureWarning: Default solver will be changed to 'lbfgs' in 0.22. Specify a solver to silence this warning.\n",
      "  FutureWarning)\n",
      "/Users/jj/anaconda3/lib/python3.7/site-packages/sklearn/linear_model/logistic.py:469: FutureWarning: Default multi_class will be changed to 'auto' in 0.22. Specify the multi_class option to silence this warning.\n",
      "  \"this warning.\", FutureWarning)\n"
     ]
    },
    {
     "name": "stdout",
     "output_type": "stream",
     "text": [
      "SVM\n",
      "Fitting 3 folds for each of 1 candidates, totalling 3 fits\n"
     ]
    },
    {
     "name": "stderr",
     "output_type": "stream",
     "text": [
      "/Users/jj/anaconda3/lib/python3.7/site-packages/sklearn/model_selection/_split.py:1978: FutureWarning: The default value of cv will change from 3 to 5 in version 0.22. Specify it explicitly to silence this warning.\n",
      "  warnings.warn(CV_WARNING, FutureWarning)\n",
      "[Parallel(n_jobs=-1)]: Using backend LokyBackend with 4 concurrent workers.\n",
      "[Parallel(n_jobs=-1)]: Done   1 tasks      | elapsed:  1.0min\n",
      "[Parallel(n_jobs=-1)]: Done   3 out of   3 | elapsed:  1.1min remaining:    0.0s\n",
      "[Parallel(n_jobs=-1)]: Done   3 out of   3 | elapsed:  1.1min finished\n"
     ]
    },
    {
     "name": "stdout",
     "output_type": "stream",
     "text": [
      "RandomForest\n",
      "Fitting 3 folds for each of 1 candidates, totalling 3 fits\n"
     ]
    },
    {
     "name": "stderr",
     "output_type": "stream",
     "text": [
      "/Users/jj/anaconda3/lib/python3.7/site-packages/sklearn/model_selection/_split.py:1978: FutureWarning: The default value of cv will change from 3 to 5 in version 0.22. Specify it explicitly to silence this warning.\n",
      "  warnings.warn(CV_WARNING, FutureWarning)\n",
      "[Parallel(n_jobs=-1)]: Using backend LokyBackend with 4 concurrent workers.\n",
      "[Parallel(n_jobs=-1)]: Done   1 tasks      | elapsed:    0.9s\n",
      "[Parallel(n_jobs=-1)]: Done   3 out of   3 | elapsed:    0.9s remaining:    0.0s\n",
      "[Parallel(n_jobs=-1)]: Done   3 out of   3 | elapsed:    0.9s finished\n"
     ]
    },
    {
     "name": "stdout",
     "output_type": "stream",
     "text": [
      "GradientBoostingClassifier\n",
      "Fitting 3 folds for each of 1 candidates, totalling 3 fits\n"
     ]
    },
    {
     "name": "stderr",
     "output_type": "stream",
     "text": [
      "/Users/jj/anaconda3/lib/python3.7/site-packages/sklearn/model_selection/_split.py:1978: FutureWarning: The default value of cv will change from 3 to 5 in version 0.22. Specify it explicitly to silence this warning.\n",
      "  warnings.warn(CV_WARNING, FutureWarning)\n",
      "[Parallel(n_jobs=-1)]: Using backend LokyBackend with 4 concurrent workers.\n",
      "[Parallel(n_jobs=-1)]: Done   1 tasks      | elapsed:  3.3min\n",
      "[Parallel(n_jobs=-1)]: Done   3 out of   3 | elapsed:  3.7min remaining:    0.0s\n",
      "[Parallel(n_jobs=-1)]: Done   3 out of   3 | elapsed:  3.7min finished\n"
     ]
    },
    {
     "name": "stdout",
     "output_type": "stream",
     "text": [
      "MultinomialNB\n",
      "Fitting 3 folds for each of 1 candidates, totalling 3 fits\n"
     ]
    },
    {
     "name": "stderr",
     "output_type": "stream",
     "text": [
      "/Users/jj/anaconda3/lib/python3.7/site-packages/sklearn/model_selection/_split.py:1978: FutureWarning: The default value of cv will change from 3 to 5 in version 0.22. Specify it explicitly to silence this warning.\n",
      "  warnings.warn(CV_WARNING, FutureWarning)\n",
      "[Parallel(n_jobs=-1)]: Using backend LokyBackend with 4 concurrent workers.\n"
     ]
    },
    {
     "name": "stdout",
     "output_type": "stream",
     "text": [
      "Testing on sentiment prediction\n",
      "\n",
      "best parameters:\n",
      "SVC(C=2.3, cache_size=200, class_weight='balanced', coef0=0.0,\n",
      "    decision_function_shape='ovr', degree=3, gamma=1, kernel='rbf', max_iter=-1,\n",
      "    probability=False, random_state=None, shrinking=True, tol=0.001,\n",
      "    verbose=False)\n",
      "\n",
      "\n",
      "Classification report:\n"
     ]
    },
    {
     "name": "stderr",
     "output_type": "stream",
     "text": [
      "[Parallel(n_jobs=-1)]: Done   1 tasks      | elapsed:    0.1s\n",
      "[Parallel(n_jobs=-1)]: Batch computation too fast (0.0887s.) Setting batch_size=4.\n",
      "[Parallel(n_jobs=-1)]: Done   3 out of   3 | elapsed:    0.1s remaining:    0.0s\n",
      "[Parallel(n_jobs=-1)]: Done   3 out of   3 | elapsed:    0.1s finished\n"
     ]
    },
    {
     "name": "stdout",
     "output_type": "stream",
     "text": [
      "              precision    recall  f1-score   support\n",
      "\n",
      "          -1       0.87      0.61      0.72       291\n",
      "           0       0.79      0.30      0.43       100\n",
      "           1       0.88      0.98      0.93      1236\n",
      "\n",
      "    accuracy                           0.88      1627\n",
      "   macro avg       0.85      0.63      0.69      1627\n",
      "weighted avg       0.87      0.88      0.86      1627\n",
      "\n",
      "[[ 177    2  112]\n",
      " [  13   30   57]\n",
      " [  13    6 1217]]\n",
      "87.52304855562384\n"
     ]
    }
   ],
   "source": [
    "#training on old+67% new and testing on 33% new\n",
    "\n",
    "#selecting required columns from new and old data\n",
    "newdata1= newdata[['Text','Sentiment']].copy()\n",
    "olddata1=olddata[['text','rating']].copy()\n",
    "\n",
    "#naming old data columns\n",
    "olddata1['Sentiment']=olddata1['rating']\n",
    "olddata1['Text']=olddata1['text']\n",
    "#dropping the old columns\n",
    "olddata1 = olddata1.drop(['rating','text'],axis=1)\n",
    "\n",
    "#splitting the test data into 67% for training and rest for testing\n",
    "train1,train2,test1,test2= train_test_split(newdata,newdata['Sentiment'],random_state=0,test_size=0.33,stratify=newdata['Sentiment'])\n",
    "\n",
    "#joining the old and 67%new data. Note train1 and train2 are just names\n",
    "joineddata=pd.concat([olddata1,train1],axis=0)\n",
    "\n",
    "#creating arrays of train and test\n",
    "text_train= joineddata['Text'].values\n",
    "text_test=train2['Text'].values\n",
    "sentiment_train = joineddata['Sentiment'].values\n",
    "sentiment_test= train2['Sentiment'].values\n",
    "\n",
    "#defining bag of words\n",
    "language = 'english'\n",
    "minWordLength = 2 # shorter words will be removed\n",
    "\n",
    "for i in range(len(text_train)):\n",
    "    text_train[i] = text_preprocessing(text_train[i], language, minWordLength)\n",
    "for i in range(len(text_test)):\n",
    "    text_test[i] = text_preprocessing(text_test[i], language, minWordLength)\n",
    "        \n",
    "count_vect = CountVectorizer(ngram_range=(1,3),max_features=20000)\n",
    "tfidf_transformer = TfidfTransformer(use_idf=True)\n",
    "    \n",
    "count_vect.fit(text_train)\n",
    "text_train_bow = count_vect.transform(text_train)\n",
    "text_test_bow = count_vect.transform(text_test)\n",
    "    \n",
    "tfidf_transformer.fit_transform(text_train_bow)\n",
    "reviews_bow_train = tfidf_transformer.transform(text_train_bow)\n",
    "reviews_bow_test = tfidf_transformer.transform(text_test_bow)\n",
    "joblib.dump(count_vect,'Exported_models/count_vectorizer_oldnewtrain_newtest_sentiment.pkl')\n",
    "joblib.dump(tfidf_transformer,'Exported_models/tfidftransformer_oldnewtrain_newtest_sentiment.pkl')\n",
    "\n",
    "#training the model\n",
    "print('training to find sentiment'+'\\n')\n",
    "best_model_reviews = select_best_model(reviews_bow_train,sentiment_train,reviews_bow_test,sentiment_test)\n",
    "\n",
    "#testing the model\n",
    "print('Testing on sentiment prediction'+ '\\n\\n'+ 'best parameters:')\n",
    "print(best_model_reviews.best_estimator_)\n",
    "print('\\n')\n",
    "print('Classification report:')\n",
    "y_pred_reviews = best_model_reviews.predict(reviews_bow_test)\n",
    "\n",
    "print(classification_report(sentiment_test, y_pred_reviews))\n",
    "\n",
    "cf_sentiment = confusion_matrix(sentiment_test, y_pred_reviews)\n",
    "print(cf_sentiment)\n",
    "print(accuracy_score(sentiment_test, y_pred_reviews) * 100)\n",
    "\n",
    "#Exporting the model\n",
    "#joblib.dump(best_model_reviews,'Exported_models/train_oldnew_test_new_sentiment.pkl')\n",
    "#joblib.dump(best_model_reviews.best_estimator_, 'Exported_models/train_oldnew_test_new_sentiment_bestmodel.pkl')"
   ]
  },
  {
   "cell_type": "code",
   "execution_count": 12,
   "metadata": {},
   "outputs": [
    {
     "name": "stdout",
     "output_type": "stream",
     "text": [
      "Training model on choice driver food\n",
      "\n",
      "LogisticRegression\n",
      "Fitting 3 folds for each of 1 candidates, totalling 3 fits\n"
     ]
    },
    {
     "name": "stderr",
     "output_type": "stream",
     "text": [
      "/Users/jj/anaconda3/lib/python3.7/site-packages/sklearn/model_selection/_split.py:1978: FutureWarning: The default value of cv will change from 3 to 5 in version 0.22. Specify it explicitly to silence this warning.\n",
      "  warnings.warn(CV_WARNING, FutureWarning)\n",
      "[Parallel(n_jobs=-1)]: Using backend LokyBackend with 4 concurrent workers.\n",
      "[Parallel(n_jobs=-1)]: Done   1 tasks      | elapsed:    0.8s\n",
      "[Parallel(n_jobs=-1)]: Done   3 out of   3 | elapsed:    1.7s remaining:    0.0s\n",
      "[Parallel(n_jobs=-1)]: Done   3 out of   3 | elapsed:    1.7s finished\n",
      "/Users/jj/anaconda3/lib/python3.7/site-packages/sklearn/linear_model/logistic.py:432: FutureWarning: Default solver will be changed to 'lbfgs' in 0.22. Specify a solver to silence this warning.\n",
      "  FutureWarning)\n",
      "/Users/jj/anaconda3/lib/python3.7/site-packages/sklearn/model_selection/_split.py:1978: FutureWarning: The default value of cv will change from 3 to 5 in version 0.22. Specify it explicitly to silence this warning.\n",
      "  warnings.warn(CV_WARNING, FutureWarning)\n",
      "[Parallel(n_jobs=-1)]: Using backend LokyBackend with 4 concurrent workers.\n"
     ]
    },
    {
     "name": "stdout",
     "output_type": "stream",
     "text": [
      "SVM\n",
      "Fitting 3 folds for each of 1 candidates, totalling 3 fits\n"
     ]
    },
    {
     "name": "stderr",
     "output_type": "stream",
     "text": [
      "[Parallel(n_jobs=-1)]: Done   1 tasks      | elapsed:   18.3s\n",
      "[Parallel(n_jobs=-1)]: Done   3 out of   3 | elapsed:   19.1s remaining:    0.0s\n",
      "[Parallel(n_jobs=-1)]: Done   3 out of   3 | elapsed:   19.1s finished\n"
     ]
    },
    {
     "name": "stdout",
     "output_type": "stream",
     "text": [
      "RandomForest\n",
      "Fitting 3 folds for each of 1 candidates, totalling 3 fits\n"
     ]
    },
    {
     "name": "stderr",
     "output_type": "stream",
     "text": [
      "/Users/jj/anaconda3/lib/python3.7/site-packages/sklearn/model_selection/_split.py:1978: FutureWarning: The default value of cv will change from 3 to 5 in version 0.22. Specify it explicitly to silence this warning.\n",
      "  warnings.warn(CV_WARNING, FutureWarning)\n",
      "[Parallel(n_jobs=-1)]: Using backend LokyBackend with 4 concurrent workers.\n",
      "[Parallel(n_jobs=-1)]: Done   1 tasks      | elapsed:    0.8s\n",
      "[Parallel(n_jobs=-1)]: Done   3 out of   3 | elapsed:    0.8s remaining:    0.0s\n",
      "[Parallel(n_jobs=-1)]: Done   3 out of   3 | elapsed:    0.8s finished\n"
     ]
    },
    {
     "name": "stdout",
     "output_type": "stream",
     "text": [
      "GradientBoostingClassifier\n",
      "Fitting 3 folds for each of 1 candidates, totalling 3 fits\n"
     ]
    },
    {
     "name": "stderr",
     "output_type": "stream",
     "text": [
      "/Users/jj/anaconda3/lib/python3.7/site-packages/sklearn/model_selection/_split.py:1978: FutureWarning: The default value of cv will change from 3 to 5 in version 0.22. Specify it explicitly to silence this warning.\n",
      "  warnings.warn(CV_WARNING, FutureWarning)\n",
      "[Parallel(n_jobs=-1)]: Using backend LokyBackend with 4 concurrent workers.\n",
      "[Parallel(n_jobs=-1)]: Done   1 tasks      | elapsed:   48.8s\n",
      "[Parallel(n_jobs=-1)]: Done   3 out of   3 | elapsed:   49.9s remaining:    0.0s\n",
      "[Parallel(n_jobs=-1)]: Done   3 out of   3 | elapsed:   49.9s finished\n"
     ]
    },
    {
     "name": "stdout",
     "output_type": "stream",
     "text": [
      "MultinomialNB\n",
      "Fitting 3 folds for each of 1 candidates, totalling 3 fits\n",
      "Training model on choice driver environment\n",
      "\n",
      "LogisticRegression\n",
      "Fitting 3 folds for each of 1 candidates, totalling 3 fits\n"
     ]
    },
    {
     "name": "stderr",
     "output_type": "stream",
     "text": [
      "/Users/jj/anaconda3/lib/python3.7/site-packages/sklearn/model_selection/_split.py:1978: FutureWarning: The default value of cv will change from 3 to 5 in version 0.22. Specify it explicitly to silence this warning.\n",
      "  warnings.warn(CV_WARNING, FutureWarning)\n",
      "[Parallel(n_jobs=-1)]: Using backend LokyBackend with 4 concurrent workers.\n",
      "[Parallel(n_jobs=-1)]: Done   1 tasks      | elapsed:    0.0s\n",
      "[Parallel(n_jobs=-1)]: Batch computation too fast (0.0433s.) Setting batch_size=8.\n",
      "[Parallel(n_jobs=-1)]: Done   3 out of   3 | elapsed:    0.1s remaining:    0.0s\n",
      "[Parallel(n_jobs=-1)]: Done   3 out of   3 | elapsed:    0.1s finished\n",
      "/Users/jj/anaconda3/lib/python3.7/site-packages/sklearn/model_selection/_split.py:1978: FutureWarning: The default value of cv will change from 3 to 5 in version 0.22. Specify it explicitly to silence this warning.\n",
      "  warnings.warn(CV_WARNING, FutureWarning)\n",
      "[Parallel(n_jobs=-1)]: Using backend LokyBackend with 4 concurrent workers.\n",
      "[Parallel(n_jobs=-1)]: Done   1 tasks      | elapsed:    0.1s\n",
      "[Parallel(n_jobs=-1)]: Batch computation too fast (0.0970s.) Setting batch_size=4.\n",
      "[Parallel(n_jobs=-1)]: Done   3 out of   3 | elapsed:    0.1s remaining:    0.0s\n",
      "[Parallel(n_jobs=-1)]: Done   3 out of   3 | elapsed:    0.1s finished\n",
      "/Users/jj/anaconda3/lib/python3.7/site-packages/sklearn/linear_model/logistic.py:432: FutureWarning: Default solver will be changed to 'lbfgs' in 0.22. Specify a solver to silence this warning.\n",
      "  FutureWarning)\n",
      "/Users/jj/anaconda3/lib/python3.7/site-packages/sklearn/model_selection/_split.py:1978: FutureWarning: The default value of cv will change from 3 to 5 in version 0.22. Specify it explicitly to silence this warning.\n",
      "  warnings.warn(CV_WARNING, FutureWarning)\n",
      "[Parallel(n_jobs=-1)]: Using backend LokyBackend with 4 concurrent workers.\n"
     ]
    },
    {
     "name": "stdout",
     "output_type": "stream",
     "text": [
      "SVM\n",
      "Fitting 3 folds for each of 1 candidates, totalling 3 fits\n"
     ]
    },
    {
     "name": "stderr",
     "output_type": "stream",
     "text": [
      "[Parallel(n_jobs=-1)]: Done   1 tasks      | elapsed:   34.9s\n",
      "[Parallel(n_jobs=-1)]: Done   3 out of   3 | elapsed:   35.1s remaining:    0.0s\n",
      "[Parallel(n_jobs=-1)]: Done   3 out of   3 | elapsed:   35.1s finished\n"
     ]
    },
    {
     "name": "stdout",
     "output_type": "stream",
     "text": [
      "RandomForest\n",
      "Fitting 3 folds for each of 1 candidates, totalling 3 fits\n"
     ]
    },
    {
     "name": "stderr",
     "output_type": "stream",
     "text": [
      "/Users/jj/anaconda3/lib/python3.7/site-packages/sklearn/model_selection/_split.py:1978: FutureWarning: The default value of cv will change from 3 to 5 in version 0.22. Specify it explicitly to silence this warning.\n",
      "  warnings.warn(CV_WARNING, FutureWarning)\n",
      "[Parallel(n_jobs=-1)]: Using backend LokyBackend with 4 concurrent workers.\n",
      "[Parallel(n_jobs=-1)]: Done   1 tasks      | elapsed:    0.9s\n",
      "[Parallel(n_jobs=-1)]: Done   3 out of   3 | elapsed:    1.0s remaining:    0.0s\n",
      "[Parallel(n_jobs=-1)]: Done   3 out of   3 | elapsed:    1.0s finished\n"
     ]
    },
    {
     "name": "stdout",
     "output_type": "stream",
     "text": [
      "GradientBoostingClassifier\n",
      "Fitting 3 folds for each of 1 candidates, totalling 3 fits\n"
     ]
    },
    {
     "name": "stderr",
     "output_type": "stream",
     "text": [
      "/Users/jj/anaconda3/lib/python3.7/site-packages/sklearn/model_selection/_split.py:1978: FutureWarning: The default value of cv will change from 3 to 5 in version 0.22. Specify it explicitly to silence this warning.\n",
      "  warnings.warn(CV_WARNING, FutureWarning)\n",
      "[Parallel(n_jobs=-1)]: Using backend LokyBackend with 4 concurrent workers.\n",
      "[Parallel(n_jobs=-1)]: Done   1 tasks      | elapsed:  1.1min\n",
      "[Parallel(n_jobs=-1)]: Done   3 out of   3 | elapsed:  1.1min remaining:    0.0s\n",
      "[Parallel(n_jobs=-1)]: Done   3 out of   3 | elapsed:  1.1min finished\n"
     ]
    },
    {
     "name": "stdout",
     "output_type": "stream",
     "text": [
      "MultinomialNB\n",
      "Fitting 3 folds for each of 1 candidates, totalling 3 fits\n",
      "Training model on choice driver value\n",
      "\n",
      "LogisticRegression\n",
      "Fitting 3 folds for each of 1 candidates, totalling 3 fits\n"
     ]
    },
    {
     "name": "stderr",
     "output_type": "stream",
     "text": [
      "/Users/jj/anaconda3/lib/python3.7/site-packages/sklearn/model_selection/_split.py:1978: FutureWarning: The default value of cv will change from 3 to 5 in version 0.22. Specify it explicitly to silence this warning.\n",
      "  warnings.warn(CV_WARNING, FutureWarning)\n",
      "[Parallel(n_jobs=-1)]: Using backend LokyBackend with 4 concurrent workers.\n",
      "[Parallel(n_jobs=-1)]: Done   1 tasks      | elapsed:    0.0s\n",
      "[Parallel(n_jobs=-1)]: Batch computation too fast (0.0429s.) Setting batch_size=8.\n",
      "[Parallel(n_jobs=-1)]: Done   3 out of   3 | elapsed:    0.0s remaining:    0.0s\n",
      "[Parallel(n_jobs=-1)]: Done   3 out of   3 | elapsed:    0.0s finished\n",
      "/Users/jj/anaconda3/lib/python3.7/site-packages/sklearn/model_selection/_split.py:1978: FutureWarning: The default value of cv will change from 3 to 5 in version 0.22. Specify it explicitly to silence this warning.\n",
      "  warnings.warn(CV_WARNING, FutureWarning)\n",
      "[Parallel(n_jobs=-1)]: Using backend LokyBackend with 4 concurrent workers.\n",
      "[Parallel(n_jobs=-1)]: Done   1 tasks      | elapsed:    0.1s\n",
      "[Parallel(n_jobs=-1)]: Batch computation too fast (0.0880s.) Setting batch_size=4.\n",
      "[Parallel(n_jobs=-1)]: Done   3 out of   3 | elapsed:    0.1s remaining:    0.0s\n",
      "[Parallel(n_jobs=-1)]: Done   3 out of   3 | elapsed:    0.1s finished\n",
      "/Users/jj/anaconda3/lib/python3.7/site-packages/sklearn/linear_model/logistic.py:432: FutureWarning: Default solver will be changed to 'lbfgs' in 0.22. Specify a solver to silence this warning.\n",
      "  FutureWarning)\n"
     ]
    },
    {
     "name": "stdout",
     "output_type": "stream",
     "text": [
      "SVM\n",
      "Fitting 3 folds for each of 1 candidates, totalling 3 fits\n"
     ]
    },
    {
     "name": "stderr",
     "output_type": "stream",
     "text": [
      "/Users/jj/anaconda3/lib/python3.7/site-packages/sklearn/model_selection/_split.py:1978: FutureWarning: The default value of cv will change from 3 to 5 in version 0.22. Specify it explicitly to silence this warning.\n",
      "  warnings.warn(CV_WARNING, FutureWarning)\n",
      "[Parallel(n_jobs=-1)]: Using backend LokyBackend with 4 concurrent workers.\n",
      "[Parallel(n_jobs=-1)]: Done   1 tasks      | elapsed:   40.9s\n",
      "[Parallel(n_jobs=-1)]: Done   3 out of   3 | elapsed:   41.3s remaining:    0.0s\n",
      "[Parallel(n_jobs=-1)]: Done   3 out of   3 | elapsed:   41.3s finished\n"
     ]
    },
    {
     "name": "stdout",
     "output_type": "stream",
     "text": [
      "RandomForest\n",
      "Fitting 3 folds for each of 1 candidates, totalling 3 fits\n"
     ]
    },
    {
     "name": "stderr",
     "output_type": "stream",
     "text": [
      "/Users/jj/anaconda3/lib/python3.7/site-packages/sklearn/model_selection/_split.py:1978: FutureWarning: The default value of cv will change from 3 to 5 in version 0.22. Specify it explicitly to silence this warning.\n",
      "  warnings.warn(CV_WARNING, FutureWarning)\n",
      "[Parallel(n_jobs=-1)]: Using backend LokyBackend with 4 concurrent workers.\n",
      "[Parallel(n_jobs=-1)]: Done   1 tasks      | elapsed:    1.1s\n",
      "[Parallel(n_jobs=-1)]: Done   3 out of   3 | elapsed:    1.1s remaining:    0.0s\n",
      "[Parallel(n_jobs=-1)]: Done   3 out of   3 | elapsed:    1.1s finished\n"
     ]
    },
    {
     "name": "stdout",
     "output_type": "stream",
     "text": [
      "GradientBoostingClassifier\n",
      "Fitting 3 folds for each of 1 candidates, totalling 3 fits\n"
     ]
    },
    {
     "name": "stderr",
     "output_type": "stream",
     "text": [
      "/Users/jj/anaconda3/lib/python3.7/site-packages/sklearn/model_selection/_split.py:1978: FutureWarning: The default value of cv will change from 3 to 5 in version 0.22. Specify it explicitly to silence this warning.\n",
      "  warnings.warn(CV_WARNING, FutureWarning)\n",
      "[Parallel(n_jobs=-1)]: Using backend LokyBackend with 4 concurrent workers.\n",
      "[Parallel(n_jobs=-1)]: Done   1 tasks      | elapsed:  1.0min\n",
      "[Parallel(n_jobs=-1)]: Done   3 out of   3 | elapsed:  1.1min remaining:    0.0s\n",
      "[Parallel(n_jobs=-1)]: Done   3 out of   3 | elapsed:  1.1min finished\n"
     ]
    },
    {
     "name": "stdout",
     "output_type": "stream",
     "text": [
      "MultinomialNB\n",
      "Fitting 3 folds for each of 1 candidates, totalling 3 fits\n",
      "Training model on choice driver service\n",
      "\n",
      "LogisticRegression\n",
      "Fitting 3 folds for each of 1 candidates, totalling 3 fits\n"
     ]
    },
    {
     "name": "stderr",
     "output_type": "stream",
     "text": [
      "/Users/jj/anaconda3/lib/python3.7/site-packages/sklearn/model_selection/_split.py:1978: FutureWarning: The default value of cv will change from 3 to 5 in version 0.22. Specify it explicitly to silence this warning.\n",
      "  warnings.warn(CV_WARNING, FutureWarning)\n",
      "[Parallel(n_jobs=-1)]: Using backend LokyBackend with 4 concurrent workers.\n",
      "[Parallel(n_jobs=-1)]: Done   1 tasks      | elapsed:    0.0s\n",
      "[Parallel(n_jobs=-1)]: Batch computation too fast (0.0373s.) Setting batch_size=10.\n",
      "[Parallel(n_jobs=-1)]: Done   3 out of   3 | elapsed:    0.0s remaining:    0.0s\n",
      "[Parallel(n_jobs=-1)]: Done   3 out of   3 | elapsed:    0.0s finished\n",
      "/Users/jj/anaconda3/lib/python3.7/site-packages/sklearn/model_selection/_split.py:1978: FutureWarning: The default value of cv will change from 3 to 5 in version 0.22. Specify it explicitly to silence this warning.\n",
      "  warnings.warn(CV_WARNING, FutureWarning)\n",
      "[Parallel(n_jobs=-1)]: Using backend LokyBackend with 4 concurrent workers.\n",
      "[Parallel(n_jobs=-1)]: Done   1 tasks      | elapsed:    0.1s\n",
      "[Parallel(n_jobs=-1)]: Batch computation too fast (0.0906s.) Setting batch_size=4.\n",
      "[Parallel(n_jobs=-1)]: Done   3 out of   3 | elapsed:    0.1s remaining:    0.0s\n",
      "[Parallel(n_jobs=-1)]: Done   3 out of   3 | elapsed:    0.1s finished\n",
      "/Users/jj/anaconda3/lib/python3.7/site-packages/sklearn/linear_model/logistic.py:432: FutureWarning: Default solver will be changed to 'lbfgs' in 0.22. Specify a solver to silence this warning.\n",
      "  FutureWarning)\n"
     ]
    },
    {
     "name": "stdout",
     "output_type": "stream",
     "text": [
      "SVM\n",
      "Fitting 3 folds for each of 1 candidates, totalling 3 fits\n"
     ]
    },
    {
     "name": "stderr",
     "output_type": "stream",
     "text": [
      "/Users/jj/anaconda3/lib/python3.7/site-packages/sklearn/model_selection/_split.py:1978: FutureWarning: The default value of cv will change from 3 to 5 in version 0.22. Specify it explicitly to silence this warning.\n",
      "  warnings.warn(CV_WARNING, FutureWarning)\n",
      "[Parallel(n_jobs=-1)]: Using backend LokyBackend with 4 concurrent workers.\n",
      "[Parallel(n_jobs=-1)]: Done   1 tasks      | elapsed:   28.4s\n",
      "[Parallel(n_jobs=-1)]: Done   3 out of   3 | elapsed:   28.7s remaining:    0.0s\n",
      "[Parallel(n_jobs=-1)]: Done   3 out of   3 | elapsed:   28.7s finished\n"
     ]
    },
    {
     "name": "stdout",
     "output_type": "stream",
     "text": [
      "RandomForest\n",
      "Fitting 3 folds for each of 1 candidates, totalling 3 fits\n"
     ]
    },
    {
     "name": "stderr",
     "output_type": "stream",
     "text": [
      "/Users/jj/anaconda3/lib/python3.7/site-packages/sklearn/model_selection/_split.py:1978: FutureWarning: The default value of cv will change from 3 to 5 in version 0.22. Specify it explicitly to silence this warning.\n",
      "  warnings.warn(CV_WARNING, FutureWarning)\n",
      "[Parallel(n_jobs=-1)]: Using backend LokyBackend with 4 concurrent workers.\n",
      "[Parallel(n_jobs=-1)]: Done   1 tasks      | elapsed:    0.6s\n",
      "[Parallel(n_jobs=-1)]: Done   3 out of   3 | elapsed:    0.7s remaining:    0.0s\n",
      "[Parallel(n_jobs=-1)]: Done   3 out of   3 | elapsed:    0.7s finished\n"
     ]
    },
    {
     "name": "stdout",
     "output_type": "stream",
     "text": [
      "GradientBoostingClassifier\n",
      "Fitting 3 folds for each of 1 candidates, totalling 3 fits\n"
     ]
    },
    {
     "name": "stderr",
     "output_type": "stream",
     "text": [
      "/Users/jj/anaconda3/lib/python3.7/site-packages/sklearn/model_selection/_split.py:1978: FutureWarning: The default value of cv will change from 3 to 5 in version 0.22. Specify it explicitly to silence this warning.\n",
      "  warnings.warn(CV_WARNING, FutureWarning)\n",
      "[Parallel(n_jobs=-1)]: Using backend LokyBackend with 4 concurrent workers.\n",
      "[Parallel(n_jobs=-1)]: Done   1 tasks      | elapsed:   47.4s\n",
      "[Parallel(n_jobs=-1)]: Done   3 out of   3 | elapsed:   49.1s remaining:    0.0s\n",
      "[Parallel(n_jobs=-1)]: Done   3 out of   3 | elapsed:   49.1s finished\n"
     ]
    },
    {
     "name": "stdout",
     "output_type": "stream",
     "text": [
      "MultinomialNB\n",
      "Fitting 3 folds for each of 1 candidates, totalling 3 fits\n",
      "Training model on choice driver consistency\n",
      "\n",
      "LogisticRegression\n",
      "Fitting 3 folds for each of 1 candidates, totalling 3 fits\n"
     ]
    },
    {
     "name": "stderr",
     "output_type": "stream",
     "text": [
      "/Users/jj/anaconda3/lib/python3.7/site-packages/sklearn/model_selection/_split.py:1978: FutureWarning: The default value of cv will change from 3 to 5 in version 0.22. Specify it explicitly to silence this warning.\n",
      "  warnings.warn(CV_WARNING, FutureWarning)\n",
      "[Parallel(n_jobs=-1)]: Using backend LokyBackend with 4 concurrent workers.\n",
      "[Parallel(n_jobs=-1)]: Done   1 tasks      | elapsed:    0.0s\n",
      "[Parallel(n_jobs=-1)]: Batch computation too fast (0.0484s.) Setting batch_size=8.\n",
      "[Parallel(n_jobs=-1)]: Done   3 out of   3 | elapsed:    0.1s remaining:    0.0s\n",
      "[Parallel(n_jobs=-1)]: Done   3 out of   3 | elapsed:    0.1s finished\n",
      "/Users/jj/anaconda3/lib/python3.7/site-packages/sklearn/model_selection/_split.py:1978: FutureWarning: The default value of cv will change from 3 to 5 in version 0.22. Specify it explicitly to silence this warning.\n",
      "  warnings.warn(CV_WARNING, FutureWarning)\n",
      "[Parallel(n_jobs=-1)]: Using backend LokyBackend with 4 concurrent workers.\n",
      "[Parallel(n_jobs=-1)]: Done   1 tasks      | elapsed:    0.1s\n",
      "[Parallel(n_jobs=-1)]: Batch computation too fast (0.0761s.) Setting batch_size=4.\n",
      "[Parallel(n_jobs=-1)]: Done   3 out of   3 | elapsed:    0.1s remaining:    0.0s\n",
      "[Parallel(n_jobs=-1)]: Done   3 out of   3 | elapsed:    0.1s finished\n",
      "/Users/jj/anaconda3/lib/python3.7/site-packages/sklearn/linear_model/logistic.py:432: FutureWarning: Default solver will be changed to 'lbfgs' in 0.22. Specify a solver to silence this warning.\n",
      "  FutureWarning)\n"
     ]
    },
    {
     "name": "stdout",
     "output_type": "stream",
     "text": [
      "SVM\n",
      "Fitting 3 folds for each of 1 candidates, totalling 3 fits\n"
     ]
    },
    {
     "name": "stderr",
     "output_type": "stream",
     "text": [
      "/Users/jj/anaconda3/lib/python3.7/site-packages/sklearn/model_selection/_split.py:1978: FutureWarning: The default value of cv will change from 3 to 5 in version 0.22. Specify it explicitly to silence this warning.\n",
      "  warnings.warn(CV_WARNING, FutureWarning)\n",
      "[Parallel(n_jobs=-1)]: Using backend LokyBackend with 4 concurrent workers.\n",
      "[Parallel(n_jobs=-1)]: Done   1 tasks      | elapsed:   32.5s\n",
      "[Parallel(n_jobs=-1)]: Done   3 out of   3 | elapsed:   32.7s remaining:    0.0s\n",
      "[Parallel(n_jobs=-1)]: Done   3 out of   3 | elapsed:   32.7s finished\n"
     ]
    },
    {
     "name": "stdout",
     "output_type": "stream",
     "text": [
      "RandomForest\n",
      "Fitting 3 folds for each of 1 candidates, totalling 3 fits\n"
     ]
    },
    {
     "name": "stderr",
     "output_type": "stream",
     "text": [
      "/Users/jj/anaconda3/lib/python3.7/site-packages/sklearn/model_selection/_split.py:1978: FutureWarning: The default value of cv will change from 3 to 5 in version 0.22. Specify it explicitly to silence this warning.\n",
      "  warnings.warn(CV_WARNING, FutureWarning)\n",
      "[Parallel(n_jobs=-1)]: Using backend LokyBackend with 4 concurrent workers.\n",
      "[Parallel(n_jobs=-1)]: Done   1 tasks      | elapsed:    0.9s\n",
      "[Parallel(n_jobs=-1)]: Done   3 out of   3 | elapsed:    1.0s remaining:    0.0s\n",
      "[Parallel(n_jobs=-1)]: Done   3 out of   3 | elapsed:    1.0s finished\n"
     ]
    },
    {
     "name": "stdout",
     "output_type": "stream",
     "text": [
      "GradientBoostingClassifier\n",
      "Fitting 3 folds for each of 1 candidates, totalling 3 fits\n"
     ]
    },
    {
     "name": "stderr",
     "output_type": "stream",
     "text": [
      "/Users/jj/anaconda3/lib/python3.7/site-packages/sklearn/model_selection/_split.py:1978: FutureWarning: The default value of cv will change from 3 to 5 in version 0.22. Specify it explicitly to silence this warning.\n",
      "  warnings.warn(CV_WARNING, FutureWarning)\n",
      "[Parallel(n_jobs=-1)]: Using backend LokyBackend with 4 concurrent workers.\n",
      "[Parallel(n_jobs=-1)]: Done   1 tasks      | elapsed:  1.1min\n",
      "[Parallel(n_jobs=-1)]: Done   3 out of   3 | elapsed:  1.1min remaining:    0.0s\n",
      "[Parallel(n_jobs=-1)]: Done   3 out of   3 | elapsed:  1.1min finished\n"
     ]
    },
    {
     "name": "stdout",
     "output_type": "stream",
     "text": [
      "MultinomialNB\n",
      "Fitting 3 folds for each of 1 candidates, totalling 3 fits\n",
      "Testing on choice driver food\n",
      "\n",
      "best parameters:\n",
      "SVC(C=2.3, cache_size=200, class_weight='balanced', coef0=0.0,\n",
      "    decision_function_shape='ovr', degree=3, gamma=1, kernel='rbf', max_iter=-1,\n",
      "    probability=False, random_state=None, shrinking=True, tol=0.001,\n",
      "    verbose=False)\n",
      "\n",
      "\n",
      "Classification report:\n"
     ]
    },
    {
     "name": "stderr",
     "output_type": "stream",
     "text": [
      "/Users/jj/anaconda3/lib/python3.7/site-packages/sklearn/model_selection/_split.py:1978: FutureWarning: The default value of cv will change from 3 to 5 in version 0.22. Specify it explicitly to silence this warning.\n",
      "  warnings.warn(CV_WARNING, FutureWarning)\n",
      "[Parallel(n_jobs=-1)]: Using backend LokyBackend with 4 concurrent workers.\n",
      "[Parallel(n_jobs=-1)]: Done   1 tasks      | elapsed:    0.0s\n",
      "[Parallel(n_jobs=-1)]: Batch computation too fast (0.0346s.) Setting batch_size=10.\n",
      "[Parallel(n_jobs=-1)]: Done   3 out of   3 | elapsed:    0.0s remaining:    0.0s\n",
      "[Parallel(n_jobs=-1)]: Done   3 out of   3 | elapsed:    0.0s finished\n"
     ]
    },
    {
     "name": "stdout",
     "output_type": "stream",
     "text": [
      "              precision    recall  f1-score   support\n",
      "\n",
      "           0       0.63      0.46      0.53        59\n",
      "           1       0.98      0.99      0.99      1968\n",
      "\n",
      "    accuracy                           0.98      2027\n",
      "   macro avg       0.81      0.72      0.76      2027\n",
      "weighted avg       0.97      0.98      0.97      2027\n",
      "\n",
      "[[  27   32]\n",
      " [  16 1952]]\n",
      "97.63196842624569\n",
      "---------------------------------------------\n",
      "Testing on choice driver environment\n",
      "\n",
      "best parameters:\n",
      "SVC(C=2.3, cache_size=200, class_weight='balanced', coef0=0.0,\n",
      "    decision_function_shape='ovr', degree=3, gamma=1, kernel='rbf', max_iter=-1,\n",
      "    probability=False, random_state=None, shrinking=True, tol=0.001,\n",
      "    verbose=False)\n",
      "\n",
      "\n",
      "Classification report:\n",
      "              precision    recall  f1-score   support\n",
      "\n",
      "           0       0.87      0.89      0.88       867\n",
      "           1       0.92      0.90      0.91      1160\n",
      "\n",
      "    accuracy                           0.89      2027\n",
      "   macro avg       0.89      0.89      0.89      2027\n",
      "weighted avg       0.89      0.89      0.89      2027\n",
      "\n",
      "[[ 771   96]\n",
      " [ 118 1042]]\n",
      "89.44252590034534\n",
      "---------------------------------------------\n",
      "Testing on choice driver value\n",
      "\n",
      "best parameters:\n",
      "GradientBoostingClassifier(criterion='friedman_mse', init=None,\n",
      "                           learning_rate=0.01, loss='deviance', max_depth=7,\n",
      "                           max_features=None, max_leaf_nodes=None,\n",
      "                           min_impurity_decrease=0.0, min_impurity_split=None,\n",
      "                           min_samples_leaf=1, min_samples_split=2,\n",
      "                           min_weight_fraction_leaf=0.0, n_estimators=100,\n",
      "                           n_iter_no_change=None, presort='auto',\n",
      "                           random_state=None, subsample=1.0, tol=0.0001,\n",
      "                           validation_fraction=0.1, verbose=0,\n",
      "                           warm_start=False)\n",
      "\n",
      "\n",
      "Classification report:\n",
      "              precision    recall  f1-score   support\n",
      "\n",
      "           0       0.80      0.88      0.84      1370\n",
      "           1       0.69      0.53      0.60       657\n",
      "\n",
      "    accuracy                           0.77      2027\n",
      "   macro avg       0.74      0.71      0.72      2027\n",
      "weighted avg       0.76      0.77      0.76      2027\n",
      "\n",
      "[[1210  160]\n",
      " [ 307  350]]\n",
      "76.9610261470153\n",
      "---------------------------------------------\n",
      "Testing on choice driver service\n",
      "\n",
      "best parameters:\n",
      "SVC(C=2.3, cache_size=200, class_weight='balanced', coef0=0.0,\n",
      "    decision_function_shape='ovr', degree=3, gamma=1, kernel='rbf', max_iter=-1,\n",
      "    probability=False, random_state=None, shrinking=True, tol=0.001,\n",
      "    verbose=False)\n",
      "\n",
      "\n",
      "Classification report:\n",
      "              precision    recall  f1-score   support\n",
      "\n",
      "           0       0.92      0.84      0.88       531\n",
      "           1       0.95      0.98      0.96      1496\n",
      "\n",
      "    accuracy                           0.94      2027\n",
      "   macro avg       0.93      0.91      0.92      2027\n",
      "weighted avg       0.94      0.94      0.94      2027\n",
      "\n",
      "[[ 447   84]\n",
      " [  37 1459]]\n",
      "94.03058707449433\n",
      "---------------------------------------------\n",
      "Testing on choice driver consistency\n",
      "\n",
      "best parameters:\n",
      "GradientBoostingClassifier(criterion='friedman_mse', init=None,\n",
      "                           learning_rate=0.01, loss='deviance', max_depth=7,\n",
      "                           max_features=None, max_leaf_nodes=None,\n",
      "                           min_impurity_decrease=0.0, min_impurity_split=None,\n",
      "                           min_samples_leaf=1, min_samples_split=2,\n",
      "                           min_weight_fraction_leaf=0.0, n_estimators=100,\n",
      "                           n_iter_no_change=None, presort='auto',\n",
      "                           random_state=None, subsample=1.0, tol=0.0001,\n",
      "                           validation_fraction=0.1, verbose=0,\n",
      "                           warm_start=False)\n",
      "\n",
      "\n",
      "Classification report:\n",
      "              precision    recall  f1-score   support\n",
      "\n",
      "           0       0.82      0.98      0.90      1624\n",
      "           1       0.66      0.16      0.25       403\n",
      "\n",
      "    accuracy                           0.82      2027\n",
      "   macro avg       0.74      0.57      0.57      2027\n",
      "weighted avg       0.79      0.82      0.77      2027\n",
      "\n",
      "[[1592   32]\n",
      " [ 340   63]]\n",
      "81.64775530340404\n",
      "---------------------------------------------\n"
     ]
    },
    {
     "data": {
      "text/plain": [
       "\"\\njoblib.dump(best_model_food.best_estimator_, 'Exported_models/train_old_test_old_food_bestmodel.pkl')\\njoblib.dump(best_model_food, 'Exported_models/train_old_test_old_food.pkl')\\njoblib.dump(best_model_consistency.best_estimator_, 'Exported_models/train_old_test_old_consistency_bestmodel.pkl')\\njoblib.dump(best_model_consistency, 'Exported_models/train_new_test_old_consistency.pkl')\\njoblib.dump(best_model_convenience.best_estimator_, 'Exported_models/train_old_test_old_convenience_bestmodel.pkl')\\njoblib.dump(best_model_convenience, 'Exported_models/train_old_test_old_convenience.pkl')\\njoblib.dump(best_model_environment.best_estimator_, 'Exported_models/train_old_test_old_environment_bestmodel.pkl')\\njoblib.dump(best_model_environment, 'Exported_models/train_old_test_old_environment.pkl')\\njoblib.dump(best_model_service.best_estimator_, 'Exported_models/train_old_test_old_service_bestmodel.pkl')\\njoblib.dump(best_model_service, 'Exported_models/train_old_test_old_service.pkl')\\njoblib.dump(best_model_value.best_estimator_, 'Exported_models/train_old_test_old_value_bestmodel.pkl')\\njoblib.dump(best_model_value, 'Exported_models/train_old_test_old_value.pkl')\\n\""
      ]
     },
     "execution_count": 12,
     "metadata": {},
     "output_type": "execute_result"
    }
   ],
   "source": [
    "#training and testing on the old data\n",
    "\n",
    "\n",
    "\n",
    "\n",
    "# Split in training set and test set\n",
    "\n",
    "random_state = 0\n",
    "test_size = 0.2 # test set is 20% of the total data set\n",
    "text_train,text_test,y_train,y_test=train_test_split(olddata['text'].values,olddata[['sentiment_food','sentiment_environment','sentiment_value','sentiment_service','sentiment_consistency']],random_state=0,test_size=0.2)\n",
    "\n",
    "\n",
    "# Make bag of words feature vectors\n",
    "language = 'english'\n",
    "minWordLength = 2 # shorter words will be removed\n",
    "\n",
    "for i in range(len(text_train)):\n",
    "    text_train[i] = text_preprocessing(text_train[i], language, minWordLength)\n",
    "for i in range(len(text_test)):\n",
    "    text_test[i] = text_preprocessing(text_test[i], language, minWordLength)\n",
    "        \n",
    "count_vect = CountVectorizer(ngram_range=(1,3),max_features=20000)\n",
    "tfidf_transformer = TfidfTransformer(use_idf=True)\n",
    "    \n",
    "count_vect.fit(text_train)\n",
    "text_train_bow = count_vect.transform(text_train)\n",
    "text_test_bow = count_vect.transform(text_test)\n",
    "    \n",
    "tfidf_transformer.fit_transform(text_train_bow)\n",
    "reviews_bow_train = tfidf_transformer.transform(text_train_bow)\n",
    "reviews_bow_test = tfidf_transformer.transform(text_test_bow)\n",
    "joblib.dump(count_vect,'Exported_models/count_vectorizer_oldtrain_oldtest_classification.pkl')\n",
    "joblib.dump(tfidf_transformer,'Exported_models/tfidftransformer_oldtrain_oldtest_classification.pkl')\n",
    "\n",
    "\n",
    "#training for the various choice drivers\n",
    "print('Training model on choice driver food'+'\\n')\n",
    "best_model_food=select_best_model(reviews_bow_train, y_train['sentiment_food'],reviews_bow_test,y_test['sentiment_food'])\n",
    "print('Training model on choice driver environment' +'\\n')\n",
    "best_model_environment=select_best_model(reviews_bow_train, y_train['sentiment_environment'],reviews_bow_test,y_test['sentiment_environment'])\n",
    "print('Training model on choice driver value' +'\\n')\n",
    "best_model_value = select_best_model(reviews_bow_train, y_train['sentiment_value'],reviews_bow_test,y_test['sentiment_value'])\n",
    "print('Training model on choice driver service' +'\\n')\n",
    "best_model_service = select_best_model(reviews_bow_train, y_train['sentiment_service'],reviews_bow_test,y_test['sentiment_service'])\n",
    "print('Training model on choice driver consistency' +'\\n')\n",
    "best_model_consistency =select_best_model(reviews_bow_train, y_train['sentiment_consistency'],reviews_bow_test,y_test['sentiment_consistency'])\n",
    "\n",
    "# Testing on test set\n",
    "print('Testing on choice driver food'+ '\\n\\n' + 'best parameters:')\n",
    "print( best_model_food.best_estimator_ )\n",
    "print('\\n')\n",
    "y_test_food = y_test['sentiment_food'].values\n",
    "print('Classification report:')\n",
    "y_pred_food = best_model_food.predict(reviews_bow_test)\n",
    "print(classification_report(y_test_food, y_pred_food))\n",
    "cf_food = confusion_matrix(y_test_food, y_pred_food)\n",
    "print(cf_food)\n",
    "print(accuracy_score(y_test_food, y_pred_food) * 100)\n",
    "\n",
    "print('---------------------------------------------')\n",
    "y_test_environment = y_test['sentiment_environment'].values\n",
    "print('Testing on choice driver environment'+ '\\n\\n'+ 'best parameters:')\n",
    "print(best_model_environment.best_estimator_)\n",
    "print('\\n')\n",
    "print('Classification report:')\n",
    "y_pred_environment = best_model_environment.predict(reviews_bow_test)\n",
    "print(classification_report(y_test_environment, y_pred_environment))\n",
    "cf_environment = confusion_matrix(y_test_environment, y_pred_environment)\n",
    "print(cf_environment)\n",
    "print(accuracy_score(y_test_environment, y_pred_environment) * 100)\n",
    "\n",
    "print('---------------------------------------------')\n",
    "\n",
    "print('Testing on choice driver value'+ '\\n\\n'+ 'best parameters:')\n",
    "y_test_value = y_test['sentiment_value'].values\n",
    "print(best_model_value.best_estimator_)\n",
    "print('\\n')\n",
    "print('Classification report:')\n",
    "y_pred_value = best_model_value.predict(reviews_bow_test)\n",
    "print(classification_report(y_test_value, y_pred_value))\n",
    "cf_value = confusion_matrix(y_test_value, y_pred_value)\n",
    "print(cf_value)\n",
    "print(accuracy_score(y_test_value, y_pred_value) * 100)\n",
    "\n",
    "print('---------------------------------------------')\n",
    "\n",
    "print('Testing on choice driver service'+ '\\n\\n'+ 'best parameters:')\n",
    "y_test_service = y_test['sentiment_service'].values\n",
    "print(best_model_service.best_estimator_)\n",
    "print('\\n')\n",
    "print('Classification report:')\n",
    "y_pred_service = best_model_service.predict(reviews_bow_test)\n",
    "print(classification_report(y_test_service, y_pred_service))\n",
    "cf_service = confusion_matrix(y_test_service, y_pred_service)\n",
    "print(cf_service)\n",
    "print(accuracy_score(y_test_service, y_pred_service) * 100)\n",
    "\n",
    "print('---------------------------------------------')\n",
    "\n",
    "print('Testing on choice driver consistency'+ '\\n\\n'+ 'best parameters:')\n",
    "y_test_consistency = y_test['sentiment_consistency'].values\n",
    "print(best_model_consistency.best_estimator_)\n",
    "print('\\n')\n",
    "print('Classification report:')\n",
    "y_pred_consistency = best_model_consistency.predict(reviews_bow_test)\n",
    "print(classification_report(y_test_consistency, y_pred_consistency))\n",
    "cf_consistency = confusion_matrix(y_test_consistency, y_pred_consistency)\n",
    "print(cf_consistency)\n",
    "print(accuracy_score(y_test_consistency, y_pred_consistency) * 100)\n",
    "\n",
    "print('---------------------------------------------')\n",
    "\"\"\"\n",
    "joblib.dump(best_model_food.best_estimator_, 'Exported_models/train_old_test_old_food_bestmodel.pkl')\n",
    "joblib.dump(best_model_food, 'Exported_models/train_old_test_old_food.pkl')\n",
    "joblib.dump(best_model_consistency.best_estimator_, 'Exported_models/train_old_test_old_consistency_bestmodel.pkl')\n",
    "joblib.dump(best_model_consistency, 'Exported_models/train_new_test_old_consistency.pkl')\n",
    "joblib.dump(best_model_convenience.best_estimator_, 'Exported_models/train_old_test_old_convenience_bestmodel.pkl')\n",
    "joblib.dump(best_model_convenience, 'Exported_models/train_old_test_old_convenience.pkl')\n",
    "joblib.dump(best_model_environment.best_estimator_, 'Exported_models/train_old_test_old_environment_bestmodel.pkl')\n",
    "joblib.dump(best_model_environment, 'Exported_models/train_old_test_old_environment.pkl')\n",
    "joblib.dump(best_model_service.best_estimator_, 'Exported_models/train_old_test_old_service_bestmodel.pkl')\n",
    "joblib.dump(best_model_service, 'Exported_models/train_old_test_old_service.pkl')\n",
    "joblib.dump(best_model_value.best_estimator_, 'Exported_models/train_old_test_old_value_bestmodel.pkl')\n",
    "joblib.dump(best_model_value, 'Exported_models/train_old_test_old_value.pkl')\n",
    "\"\"\""
   ]
  },
  {
   "cell_type": "code",
   "execution_count": 13,
   "metadata": {},
   "outputs": [
    {
     "name": "stdout",
     "output_type": "stream",
     "text": [
      "Training model on choice driver food\n",
      "\n",
      "LogisticRegression\n",
      "Fitting 3 folds for each of 1 candidates, totalling 3 fits\n",
      "SVM\n",
      "Fitting 3 folds for each of 1 candidates, totalling 3 fits\n"
     ]
    },
    {
     "name": "stderr",
     "output_type": "stream",
     "text": [
      "/Users/jj/anaconda3/lib/python3.7/site-packages/sklearn/model_selection/_split.py:1978: FutureWarning: The default value of cv will change from 3 to 5 in version 0.22. Specify it explicitly to silence this warning.\n",
      "  warnings.warn(CV_WARNING, FutureWarning)\n",
      "[Parallel(n_jobs=-1)]: Using backend LokyBackend with 4 concurrent workers.\n",
      "[Parallel(n_jobs=-1)]: Done   1 tasks      | elapsed:    0.0s\n",
      "[Parallel(n_jobs=-1)]: Batch computation too fast (0.0378s.) Setting batch_size=10.\n",
      "[Parallel(n_jobs=-1)]: Done   3 out of   3 | elapsed:    0.1s remaining:    0.0s\n",
      "[Parallel(n_jobs=-1)]: Done   3 out of   3 | elapsed:    0.1s finished\n",
      "/Users/jj/anaconda3/lib/python3.7/site-packages/sklearn/linear_model/logistic.py:432: FutureWarning: Default solver will be changed to 'lbfgs' in 0.22. Specify a solver to silence this warning.\n",
      "  FutureWarning)\n",
      "/Users/jj/anaconda3/lib/python3.7/site-packages/sklearn/model_selection/_split.py:1978: FutureWarning: The default value of cv will change from 3 to 5 in version 0.22. Specify it explicitly to silence this warning.\n",
      "  warnings.warn(CV_WARNING, FutureWarning)\n",
      "[Parallel(n_jobs=-1)]: Using backend LokyBackend with 4 concurrent workers.\n",
      "[Parallel(n_jobs=-1)]: Done   1 tasks      | elapsed:    4.8s\n",
      "[Parallel(n_jobs=-1)]: Done   3 out of   3 | elapsed:    4.9s remaining:    0.0s\n",
      "[Parallel(n_jobs=-1)]: Done   3 out of   3 | elapsed:    4.9s finished\n"
     ]
    },
    {
     "name": "stdout",
     "output_type": "stream",
     "text": [
      "RandomForest\n",
      "Fitting 3 folds for each of 1 candidates, totalling 3 fits\n"
     ]
    },
    {
     "name": "stderr",
     "output_type": "stream",
     "text": [
      "/Users/jj/anaconda3/lib/python3.7/site-packages/sklearn/model_selection/_split.py:1978: FutureWarning: The default value of cv will change from 3 to 5 in version 0.22. Specify it explicitly to silence this warning.\n",
      "  warnings.warn(CV_WARNING, FutureWarning)\n",
      "[Parallel(n_jobs=-1)]: Using backend LokyBackend with 4 concurrent workers.\n",
      "[Parallel(n_jobs=-1)]: Done   1 tasks      | elapsed:    0.4s\n",
      "[Parallel(n_jobs=-1)]: Done   3 out of   3 | elapsed:    0.4s remaining:    0.0s\n",
      "[Parallel(n_jobs=-1)]: Done   3 out of   3 | elapsed:    0.4s finished\n"
     ]
    },
    {
     "name": "stdout",
     "output_type": "stream",
     "text": [
      "GradientBoostingClassifier\n",
      "Fitting 3 folds for each of 1 candidates, totalling 3 fits\n"
     ]
    },
    {
     "name": "stderr",
     "output_type": "stream",
     "text": [
      "/Users/jj/anaconda3/lib/python3.7/site-packages/sklearn/model_selection/_split.py:1978: FutureWarning: The default value of cv will change from 3 to 5 in version 0.22. Specify it explicitly to silence this warning.\n",
      "  warnings.warn(CV_WARNING, FutureWarning)\n",
      "[Parallel(n_jobs=-1)]: Using backend LokyBackend with 4 concurrent workers.\n",
      "[Parallel(n_jobs=-1)]: Done   1 tasks      | elapsed:   21.9s\n",
      "[Parallel(n_jobs=-1)]: Done   3 out of   3 | elapsed:   22.1s remaining:    0.0s\n",
      "[Parallel(n_jobs=-1)]: Done   3 out of   3 | elapsed:   22.1s finished\n"
     ]
    },
    {
     "name": "stdout",
     "output_type": "stream",
     "text": [
      "MultinomialNB\n",
      "Fitting 3 folds for each of 1 candidates, totalling 3 fits\n",
      "Training model on choice driver experience\n",
      "\n",
      "LogisticRegression\n",
      "Fitting 3 folds for each of 1 candidates, totalling 3 fits\n",
      "SVM\n",
      "Fitting 3 folds for each of 1 candidates, totalling 3 fits\n"
     ]
    },
    {
     "name": "stderr",
     "output_type": "stream",
     "text": [
      "/Users/jj/anaconda3/lib/python3.7/site-packages/sklearn/model_selection/_split.py:1978: FutureWarning: The default value of cv will change from 3 to 5 in version 0.22. Specify it explicitly to silence this warning.\n",
      "  warnings.warn(CV_WARNING, FutureWarning)\n",
      "[Parallel(n_jobs=-1)]: Using backend LokyBackend with 4 concurrent workers.\n",
      "[Parallel(n_jobs=-1)]: Done   1 tasks      | elapsed:    0.0s\n",
      "[Parallel(n_jobs=-1)]: Batch computation too fast (0.0297s.) Setting batch_size=12.\n",
      "[Parallel(n_jobs=-1)]: Done   3 out of   3 | elapsed:    0.0s remaining:    0.0s\n",
      "[Parallel(n_jobs=-1)]: Done   3 out of   3 | elapsed:    0.0s finished\n",
      "/Users/jj/anaconda3/lib/python3.7/site-packages/sklearn/model_selection/_split.py:1978: FutureWarning: The default value of cv will change from 3 to 5 in version 0.22. Specify it explicitly to silence this warning.\n",
      "  warnings.warn(CV_WARNING, FutureWarning)\n",
      "[Parallel(n_jobs=-1)]: Using backend LokyBackend with 4 concurrent workers.\n",
      "[Parallel(n_jobs=-1)]: Done   1 tasks      | elapsed:    0.0s\n",
      "[Parallel(n_jobs=-1)]: Batch computation too fast (0.0418s.) Setting batch_size=8.\n",
      "[Parallel(n_jobs=-1)]: Done   3 out of   3 | elapsed:    0.0s remaining:    0.0s\n",
      "[Parallel(n_jobs=-1)]: Done   3 out of   3 | elapsed:    0.0s finished\n",
      "/Users/jj/anaconda3/lib/python3.7/site-packages/sklearn/linear_model/logistic.py:432: FutureWarning: Default solver will be changed to 'lbfgs' in 0.22. Specify a solver to silence this warning.\n",
      "  FutureWarning)\n",
      "/Users/jj/anaconda3/lib/python3.7/site-packages/sklearn/model_selection/_split.py:1978: FutureWarning: The default value of cv will change from 3 to 5 in version 0.22. Specify it explicitly to silence this warning.\n",
      "  warnings.warn(CV_WARNING, FutureWarning)\n",
      "[Parallel(n_jobs=-1)]: Using backend LokyBackend with 4 concurrent workers.\n",
      "[Parallel(n_jobs=-1)]: Done   1 tasks      | elapsed:    4.3s\n",
      "[Parallel(n_jobs=-1)]: Done   3 out of   3 | elapsed:    4.4s remaining:    0.0s\n",
      "[Parallel(n_jobs=-1)]: Done   3 out of   3 | elapsed:    4.4s finished\n"
     ]
    },
    {
     "name": "stdout",
     "output_type": "stream",
     "text": [
      "RandomForest\n",
      "Fitting 3 folds for each of 1 candidates, totalling 3 fits\n"
     ]
    },
    {
     "name": "stderr",
     "output_type": "stream",
     "text": [
      "/Users/jj/anaconda3/lib/python3.7/site-packages/sklearn/model_selection/_split.py:1978: FutureWarning: The default value of cv will change from 3 to 5 in version 0.22. Specify it explicitly to silence this warning.\n",
      "  warnings.warn(CV_WARNING, FutureWarning)\n",
      "[Parallel(n_jobs=-1)]: Using backend LokyBackend with 4 concurrent workers.\n",
      "[Parallel(n_jobs=-1)]: Done   1 tasks      | elapsed:    0.5s\n",
      "[Parallel(n_jobs=-1)]: Done   3 out of   3 | elapsed:    0.5s remaining:    0.0s\n",
      "[Parallel(n_jobs=-1)]: Done   3 out of   3 | elapsed:    0.5s finished\n"
     ]
    },
    {
     "name": "stdout",
     "output_type": "stream",
     "text": [
      "GradientBoostingClassifier\n",
      "Fitting 3 folds for each of 1 candidates, totalling 3 fits\n"
     ]
    },
    {
     "name": "stderr",
     "output_type": "stream",
     "text": [
      "/Users/jj/anaconda3/lib/python3.7/site-packages/sklearn/model_selection/_split.py:1978: FutureWarning: The default value of cv will change from 3 to 5 in version 0.22. Specify it explicitly to silence this warning.\n",
      "  warnings.warn(CV_WARNING, FutureWarning)\n",
      "[Parallel(n_jobs=-1)]: Using backend LokyBackend with 4 concurrent workers.\n",
      "[Parallel(n_jobs=-1)]: Done   1 tasks      | elapsed:   18.5s\n",
      "[Parallel(n_jobs=-1)]: Done   3 out of   3 | elapsed:   19.0s remaining:    0.0s\n",
      "[Parallel(n_jobs=-1)]: Done   3 out of   3 | elapsed:   19.0s finished\n"
     ]
    },
    {
     "name": "stdout",
     "output_type": "stream",
     "text": [
      "MultinomialNB\n",
      "Fitting 3 folds for each of 1 candidates, totalling 3 fits\n",
      "Training model on choice driver value\n",
      "\n",
      "LogisticRegression\n",
      "Fitting 3 folds for each of 1 candidates, totalling 3 fits\n",
      "SVM\n",
      "Fitting 3 folds for each of 1 candidates, totalling 3 fits\n"
     ]
    },
    {
     "name": "stderr",
     "output_type": "stream",
     "text": [
      "/Users/jj/anaconda3/lib/python3.7/site-packages/sklearn/model_selection/_split.py:1978: FutureWarning: The default value of cv will change from 3 to 5 in version 0.22. Specify it explicitly to silence this warning.\n",
      "  warnings.warn(CV_WARNING, FutureWarning)\n",
      "[Parallel(n_jobs=-1)]: Using backend LokyBackend with 4 concurrent workers.\n",
      "[Parallel(n_jobs=-1)]: Done   1 tasks      | elapsed:    0.0s\n",
      "[Parallel(n_jobs=-1)]: Batch computation too fast (0.0243s.) Setting batch_size=16.\n",
      "[Parallel(n_jobs=-1)]: Done   3 out of   3 | elapsed:    0.0s remaining:    0.0s\n",
      "[Parallel(n_jobs=-1)]: Done   3 out of   3 | elapsed:    0.0s finished\n",
      "/Users/jj/anaconda3/lib/python3.7/site-packages/sklearn/model_selection/_split.py:1978: FutureWarning: The default value of cv will change from 3 to 5 in version 0.22. Specify it explicitly to silence this warning.\n",
      "  warnings.warn(CV_WARNING, FutureWarning)\n",
      "[Parallel(n_jobs=-1)]: Using backend LokyBackend with 4 concurrent workers.\n",
      "[Parallel(n_jobs=-1)]: Done   1 tasks      | elapsed:    0.0s\n",
      "[Parallel(n_jobs=-1)]: Batch computation too fast (0.0329s.) Setting batch_size=12.\n",
      "[Parallel(n_jobs=-1)]: Done   3 out of   3 | elapsed:    0.0s remaining:    0.0s\n",
      "[Parallel(n_jobs=-1)]: Done   3 out of   3 | elapsed:    0.0s finished\n",
      "/Users/jj/anaconda3/lib/python3.7/site-packages/sklearn/linear_model/logistic.py:432: FutureWarning: Default solver will be changed to 'lbfgs' in 0.22. Specify a solver to silence this warning.\n",
      "  FutureWarning)\n",
      "/Users/jj/anaconda3/lib/python3.7/site-packages/sklearn/model_selection/_split.py:1978: FutureWarning: The default value of cv will change from 3 to 5 in version 0.22. Specify it explicitly to silence this warning.\n",
      "  warnings.warn(CV_WARNING, FutureWarning)\n",
      "[Parallel(n_jobs=-1)]: Using backend LokyBackend with 4 concurrent workers.\n",
      "[Parallel(n_jobs=-1)]: Done   1 tasks      | elapsed:    4.5s\n",
      "[Parallel(n_jobs=-1)]: Done   3 out of   3 | elapsed:    4.5s remaining:    0.0s\n",
      "[Parallel(n_jobs=-1)]: Done   3 out of   3 | elapsed:    4.5s finished\n"
     ]
    },
    {
     "name": "stdout",
     "output_type": "stream",
     "text": [
      "RandomForest\n",
      "Fitting 3 folds for each of 1 candidates, totalling 3 fits\n"
     ]
    },
    {
     "name": "stderr",
     "output_type": "stream",
     "text": [
      "/Users/jj/anaconda3/lib/python3.7/site-packages/sklearn/model_selection/_split.py:1978: FutureWarning: The default value of cv will change from 3 to 5 in version 0.22. Specify it explicitly to silence this warning.\n",
      "  warnings.warn(CV_WARNING, FutureWarning)\n",
      "[Parallel(n_jobs=-1)]: Using backend LokyBackend with 4 concurrent workers.\n",
      "[Parallel(n_jobs=-1)]: Done   1 tasks      | elapsed:    0.6s\n",
      "[Parallel(n_jobs=-1)]: Done   3 out of   3 | elapsed:    0.6s remaining:    0.0s\n",
      "[Parallel(n_jobs=-1)]: Done   3 out of   3 | elapsed:    0.6s finished\n"
     ]
    },
    {
     "name": "stdout",
     "output_type": "stream",
     "text": [
      "GradientBoostingClassifier\n",
      "Fitting 3 folds for each of 1 candidates, totalling 3 fits\n"
     ]
    },
    {
     "name": "stderr",
     "output_type": "stream",
     "text": [
      "/Users/jj/anaconda3/lib/python3.7/site-packages/sklearn/model_selection/_split.py:1978: FutureWarning: The default value of cv will change from 3 to 5 in version 0.22. Specify it explicitly to silence this warning.\n",
      "  warnings.warn(CV_WARNING, FutureWarning)\n",
      "[Parallel(n_jobs=-1)]: Using backend LokyBackend with 4 concurrent workers.\n",
      "[Parallel(n_jobs=-1)]: Done   1 tasks      | elapsed:   18.7s\n",
      "[Parallel(n_jobs=-1)]: Done   3 out of   3 | elapsed:   18.8s remaining:    0.0s\n",
      "[Parallel(n_jobs=-1)]: Done   3 out of   3 | elapsed:   18.8s finished\n"
     ]
    },
    {
     "name": "stdout",
     "output_type": "stream",
     "text": [
      "MultinomialNB\n",
      "Fitting 3 folds for each of 1 candidates, totalling 3 fits\n",
      "Training model on choice driver service\n",
      "\n",
      "LogisticRegression\n",
      "Fitting 3 folds for each of 1 candidates, totalling 3 fits\n",
      "SVM\n",
      "Fitting 3 folds for each of 1 candidates, totalling 3 fits\n"
     ]
    },
    {
     "name": "stderr",
     "output_type": "stream",
     "text": [
      "/Users/jj/anaconda3/lib/python3.7/site-packages/sklearn/model_selection/_split.py:1978: FutureWarning: The default value of cv will change from 3 to 5 in version 0.22. Specify it explicitly to silence this warning.\n",
      "  warnings.warn(CV_WARNING, FutureWarning)\n",
      "[Parallel(n_jobs=-1)]: Using backend LokyBackend with 4 concurrent workers.\n",
      "[Parallel(n_jobs=-1)]: Done   1 tasks      | elapsed:    0.0s\n",
      "[Parallel(n_jobs=-1)]: Batch computation too fast (0.0246s.) Setting batch_size=16.\n",
      "[Parallel(n_jobs=-1)]: Done   3 out of   3 | elapsed:    0.0s remaining:    0.0s\n",
      "[Parallel(n_jobs=-1)]: Done   3 out of   3 | elapsed:    0.0s finished\n",
      "/Users/jj/anaconda3/lib/python3.7/site-packages/sklearn/model_selection/_split.py:1978: FutureWarning: The default value of cv will change from 3 to 5 in version 0.22. Specify it explicitly to silence this warning.\n",
      "  warnings.warn(CV_WARNING, FutureWarning)\n",
      "[Parallel(n_jobs=-1)]: Using backend LokyBackend with 4 concurrent workers.\n",
      "[Parallel(n_jobs=-1)]: Done   1 tasks      | elapsed:    0.0s\n",
      "[Parallel(n_jobs=-1)]: Batch computation too fast (0.0309s.) Setting batch_size=12.\n",
      "[Parallel(n_jobs=-1)]: Done   3 out of   3 | elapsed:    0.0s remaining:    0.0s\n",
      "[Parallel(n_jobs=-1)]: Done   3 out of   3 | elapsed:    0.0s finished\n",
      "/Users/jj/anaconda3/lib/python3.7/site-packages/sklearn/linear_model/logistic.py:432: FutureWarning: Default solver will be changed to 'lbfgs' in 0.22. Specify a solver to silence this warning.\n",
      "  FutureWarning)\n",
      "/Users/jj/anaconda3/lib/python3.7/site-packages/sklearn/model_selection/_split.py:1978: FutureWarning: The default value of cv will change from 3 to 5 in version 0.22. Specify it explicitly to silence this warning.\n",
      "  warnings.warn(CV_WARNING, FutureWarning)\n",
      "[Parallel(n_jobs=-1)]: Using backend LokyBackend with 4 concurrent workers.\n",
      "[Parallel(n_jobs=-1)]: Done   1 tasks      | elapsed:    5.4s\n",
      "[Parallel(n_jobs=-1)]: Done   3 out of   3 | elapsed:    5.5s remaining:    0.0s\n",
      "[Parallel(n_jobs=-1)]: Done   3 out of   3 | elapsed:    5.5s finished\n"
     ]
    },
    {
     "name": "stdout",
     "output_type": "stream",
     "text": [
      "RandomForest\n",
      "Fitting 3 folds for each of 1 candidates, totalling 3 fits\n"
     ]
    },
    {
     "name": "stderr",
     "output_type": "stream",
     "text": [
      "/Users/jj/anaconda3/lib/python3.7/site-packages/sklearn/model_selection/_split.py:1978: FutureWarning: The default value of cv will change from 3 to 5 in version 0.22. Specify it explicitly to silence this warning.\n",
      "  warnings.warn(CV_WARNING, FutureWarning)\n",
      "[Parallel(n_jobs=-1)]: Using backend LokyBackend with 4 concurrent workers.\n",
      "[Parallel(n_jobs=-1)]: Done   1 tasks      | elapsed:    0.6s\n",
      "[Parallel(n_jobs=-1)]: Done   3 out of   3 | elapsed:    0.7s remaining:    0.0s\n",
      "[Parallel(n_jobs=-1)]: Done   3 out of   3 | elapsed:    0.7s finished\n"
     ]
    },
    {
     "name": "stdout",
     "output_type": "stream",
     "text": [
      "GradientBoostingClassifier\n",
      "Fitting 3 folds for each of 1 candidates, totalling 3 fits\n"
     ]
    },
    {
     "name": "stderr",
     "output_type": "stream",
     "text": [
      "/Users/jj/anaconda3/lib/python3.7/site-packages/sklearn/model_selection/_split.py:1978: FutureWarning: The default value of cv will change from 3 to 5 in version 0.22. Specify it explicitly to silence this warning.\n",
      "  warnings.warn(CV_WARNING, FutureWarning)\n",
      "[Parallel(n_jobs=-1)]: Using backend LokyBackend with 4 concurrent workers.\n",
      "[Parallel(n_jobs=-1)]: Done   1 tasks      | elapsed:   20.3s\n",
      "[Parallel(n_jobs=-1)]: Done   3 out of   3 | elapsed:   20.5s remaining:    0.0s\n",
      "[Parallel(n_jobs=-1)]: Done   3 out of   3 | elapsed:   20.5s finished\n"
     ]
    },
    {
     "name": "stdout",
     "output_type": "stream",
     "text": [
      "MultinomialNB\n",
      "Fitting 3 folds for each of 1 candidates, totalling 3 fits\n",
      "Training model on choice driver convenience\n",
      "\n",
      "LogisticRegression\n",
      "Fitting 3 folds for each of 1 candidates, totalling 3 fits\n",
      "SVM\n",
      "Fitting 3 folds for each of 1 candidates, totalling 3 fits\n"
     ]
    },
    {
     "name": "stderr",
     "output_type": "stream",
     "text": [
      "/Users/jj/anaconda3/lib/python3.7/site-packages/sklearn/model_selection/_split.py:1978: FutureWarning: The default value of cv will change from 3 to 5 in version 0.22. Specify it explicitly to silence this warning.\n",
      "  warnings.warn(CV_WARNING, FutureWarning)\n",
      "[Parallel(n_jobs=-1)]: Using backend LokyBackend with 4 concurrent workers.\n",
      "[Parallel(n_jobs=-1)]: Done   1 tasks      | elapsed:    0.0s\n",
      "[Parallel(n_jobs=-1)]: Batch computation too fast (0.0240s.) Setting batch_size=16.\n",
      "[Parallel(n_jobs=-1)]: Done   3 out of   3 | elapsed:    0.0s remaining:    0.0s\n",
      "[Parallel(n_jobs=-1)]: Done   3 out of   3 | elapsed:    0.0s finished\n",
      "/Users/jj/anaconda3/lib/python3.7/site-packages/sklearn/model_selection/_split.py:1978: FutureWarning: The default value of cv will change from 3 to 5 in version 0.22. Specify it explicitly to silence this warning.\n",
      "  warnings.warn(CV_WARNING, FutureWarning)\n",
      "[Parallel(n_jobs=-1)]: Using backend LokyBackend with 4 concurrent workers.\n",
      "[Parallel(n_jobs=-1)]: Done   1 tasks      | elapsed:    0.0s\n",
      "[Parallel(n_jobs=-1)]: Batch computation too fast (0.0392s.) Setting batch_size=10.\n",
      "[Parallel(n_jobs=-1)]: Done   3 out of   3 | elapsed:    0.0s remaining:    0.0s\n",
      "[Parallel(n_jobs=-1)]: Done   3 out of   3 | elapsed:    0.0s finished\n",
      "/Users/jj/anaconda3/lib/python3.7/site-packages/sklearn/linear_model/logistic.py:432: FutureWarning: Default solver will be changed to 'lbfgs' in 0.22. Specify a solver to silence this warning.\n",
      "  FutureWarning)\n",
      "/Users/jj/anaconda3/lib/python3.7/site-packages/sklearn/model_selection/_split.py:1978: FutureWarning: The default value of cv will change from 3 to 5 in version 0.22. Specify it explicitly to silence this warning.\n",
      "  warnings.warn(CV_WARNING, FutureWarning)\n",
      "[Parallel(n_jobs=-1)]: Using backend LokyBackend with 4 concurrent workers.\n",
      "[Parallel(n_jobs=-1)]: Done   1 tasks      | elapsed:    3.5s\n",
      "[Parallel(n_jobs=-1)]: Done   3 out of   3 | elapsed:    3.8s remaining:    0.0s\n",
      "[Parallel(n_jobs=-1)]: Done   3 out of   3 | elapsed:    3.8s finished\n"
     ]
    },
    {
     "name": "stdout",
     "output_type": "stream",
     "text": [
      "RandomForest\n",
      "Fitting 3 folds for each of 1 candidates, totalling 3 fits\n"
     ]
    },
    {
     "name": "stderr",
     "output_type": "stream",
     "text": [
      "/Users/jj/anaconda3/lib/python3.7/site-packages/sklearn/model_selection/_split.py:1978: FutureWarning: The default value of cv will change from 3 to 5 in version 0.22. Specify it explicitly to silence this warning.\n",
      "  warnings.warn(CV_WARNING, FutureWarning)\n",
      "[Parallel(n_jobs=-1)]: Using backend LokyBackend with 4 concurrent workers.\n",
      "[Parallel(n_jobs=-1)]: Done   1 tasks      | elapsed:    0.6s\n",
      "[Parallel(n_jobs=-1)]: Done   3 out of   3 | elapsed:    0.6s remaining:    0.0s\n",
      "[Parallel(n_jobs=-1)]: Done   3 out of   3 | elapsed:    0.6s finished\n"
     ]
    },
    {
     "name": "stdout",
     "output_type": "stream",
     "text": [
      "GradientBoostingClassifier\n",
      "Fitting 3 folds for each of 1 candidates, totalling 3 fits\n"
     ]
    },
    {
     "name": "stderr",
     "output_type": "stream",
     "text": [
      "/Users/jj/anaconda3/lib/python3.7/site-packages/sklearn/model_selection/_split.py:1978: FutureWarning: The default value of cv will change from 3 to 5 in version 0.22. Specify it explicitly to silence this warning.\n",
      "  warnings.warn(CV_WARNING, FutureWarning)\n",
      "[Parallel(n_jobs=-1)]: Using backend LokyBackend with 4 concurrent workers.\n",
      "[Parallel(n_jobs=-1)]: Done   1 tasks      | elapsed:   14.9s\n",
      "[Parallel(n_jobs=-1)]: Done   3 out of   3 | elapsed:   15.1s remaining:    0.0s\n",
      "[Parallel(n_jobs=-1)]: Done   3 out of   3 | elapsed:   15.1s finished\n"
     ]
    },
    {
     "name": "stdout",
     "output_type": "stream",
     "text": [
      "MultinomialNB\n",
      "Fitting 3 folds for each of 1 candidates, totalling 3 fits\n",
      "Training model on choice driver consistency\n",
      "\n",
      "LogisticRegression\n",
      "Fitting 3 folds for each of 1 candidates, totalling 3 fits\n",
      "SVM\n",
      "Fitting 3 folds for each of 1 candidates, totalling 3 fits\n"
     ]
    },
    {
     "name": "stderr",
     "output_type": "stream",
     "text": [
      "/Users/jj/anaconda3/lib/python3.7/site-packages/sklearn/model_selection/_split.py:1978: FutureWarning: The default value of cv will change from 3 to 5 in version 0.22. Specify it explicitly to silence this warning.\n",
      "  warnings.warn(CV_WARNING, FutureWarning)\n",
      "[Parallel(n_jobs=-1)]: Using backend LokyBackend with 4 concurrent workers.\n",
      "[Parallel(n_jobs=-1)]: Done   1 tasks      | elapsed:    0.0s\n",
      "[Parallel(n_jobs=-1)]: Batch computation too fast (0.0246s.) Setting batch_size=16.\n",
      "[Parallel(n_jobs=-1)]: Done   3 out of   3 | elapsed:    0.0s remaining:    0.0s\n",
      "[Parallel(n_jobs=-1)]: Done   3 out of   3 | elapsed:    0.0s finished\n",
      "/Users/jj/anaconda3/lib/python3.7/site-packages/sklearn/model_selection/_split.py:1978: FutureWarning: The default value of cv will change from 3 to 5 in version 0.22. Specify it explicitly to silence this warning.\n",
      "  warnings.warn(CV_WARNING, FutureWarning)\n",
      "[Parallel(n_jobs=-1)]: Using backend LokyBackend with 4 concurrent workers.\n",
      "[Parallel(n_jobs=-1)]: Done   1 tasks      | elapsed:    0.0s\n",
      "[Parallel(n_jobs=-1)]: Batch computation too fast (0.0401s.) Setting batch_size=8.\n",
      "[Parallel(n_jobs=-1)]: Done   3 out of   3 | elapsed:    0.0s remaining:    0.0s\n",
      "[Parallel(n_jobs=-1)]: Done   3 out of   3 | elapsed:    0.0s finished\n",
      "/Users/jj/anaconda3/lib/python3.7/site-packages/sklearn/linear_model/logistic.py:432: FutureWarning: Default solver will be changed to 'lbfgs' in 0.22. Specify a solver to silence this warning.\n",
      "  FutureWarning)\n",
      "/Users/jj/anaconda3/lib/python3.7/site-packages/sklearn/model_selection/_split.py:1978: FutureWarning: The default value of cv will change from 3 to 5 in version 0.22. Specify it explicitly to silence this warning.\n",
      "  warnings.warn(CV_WARNING, FutureWarning)\n",
      "[Parallel(n_jobs=-1)]: Using backend LokyBackend with 4 concurrent workers.\n",
      "[Parallel(n_jobs=-1)]: Done   1 tasks      | elapsed:    2.3s\n",
      "[Parallel(n_jobs=-1)]: Done   3 out of   3 | elapsed:    2.5s remaining:    0.0s\n",
      "[Parallel(n_jobs=-1)]: Done   3 out of   3 | elapsed:    2.5s finished\n"
     ]
    },
    {
     "name": "stdout",
     "output_type": "stream",
     "text": [
      "RandomForest\n",
      "Fitting 3 folds for each of 1 candidates, totalling 3 fits\n"
     ]
    },
    {
     "name": "stderr",
     "output_type": "stream",
     "text": [
      "/Users/jj/anaconda3/lib/python3.7/site-packages/sklearn/model_selection/_split.py:1978: FutureWarning: The default value of cv will change from 3 to 5 in version 0.22. Specify it explicitly to silence this warning.\n",
      "  warnings.warn(CV_WARNING, FutureWarning)\n",
      "[Parallel(n_jobs=-1)]: Using backend LokyBackend with 4 concurrent workers.\n",
      "[Parallel(n_jobs=-1)]: Done   1 tasks      | elapsed:    0.4s\n",
      "[Parallel(n_jobs=-1)]: Done   3 out of   3 | elapsed:    0.4s remaining:    0.0s\n",
      "[Parallel(n_jobs=-1)]: Done   3 out of   3 | elapsed:    0.4s finished\n"
     ]
    },
    {
     "name": "stdout",
     "output_type": "stream",
     "text": [
      "GradientBoostingClassifier\n",
      "Fitting 3 folds for each of 1 candidates, totalling 3 fits\n"
     ]
    },
    {
     "name": "stderr",
     "output_type": "stream",
     "text": [
      "/Users/jj/anaconda3/lib/python3.7/site-packages/sklearn/model_selection/_split.py:1978: FutureWarning: The default value of cv will change from 3 to 5 in version 0.22. Specify it explicitly to silence this warning.\n",
      "  warnings.warn(CV_WARNING, FutureWarning)\n",
      "[Parallel(n_jobs=-1)]: Using backend LokyBackend with 4 concurrent workers.\n",
      "[Parallel(n_jobs=-1)]: Done   1 tasks      | elapsed:   13.9s\n",
      "[Parallel(n_jobs=-1)]: Done   3 out of   3 | elapsed:   14.3s remaining:    0.0s\n",
      "[Parallel(n_jobs=-1)]: Done   3 out of   3 | elapsed:   14.3s finished\n"
     ]
    },
    {
     "name": "stdout",
     "output_type": "stream",
     "text": [
      "MultinomialNB\n",
      "Fitting 3 folds for each of 1 candidates, totalling 3 fits\n",
      "Testing on choice driver food\n",
      "\n",
      "best parameters:\n",
      "SVC(C=2.3, cache_size=200, class_weight='balanced', coef0=0.0,\n",
      "    decision_function_shape='ovr', degree=3, gamma=1, kernel='rbf', max_iter=-1,\n",
      "    probability=False, random_state=None, shrinking=True, tol=0.001,\n",
      "    verbose=False)\n",
      "\n",
      "\n",
      "Classification report:\n"
     ]
    },
    {
     "name": "stderr",
     "output_type": "stream",
     "text": [
      "/Users/jj/anaconda3/lib/python3.7/site-packages/sklearn/model_selection/_split.py:1978: FutureWarning: The default value of cv will change from 3 to 5 in version 0.22. Specify it explicitly to silence this warning.\n",
      "  warnings.warn(CV_WARNING, FutureWarning)\n",
      "[Parallel(n_jobs=-1)]: Using backend LokyBackend with 4 concurrent workers.\n",
      "[Parallel(n_jobs=-1)]: Done   1 tasks      | elapsed:    0.0s\n",
      "[Parallel(n_jobs=-1)]: Batch computation too fast (0.0236s.) Setting batch_size=16.\n",
      "[Parallel(n_jobs=-1)]: Done   3 out of   3 | elapsed:    0.0s remaining:    0.0s\n",
      "[Parallel(n_jobs=-1)]: Done   3 out of   3 | elapsed:    0.0s finished\n"
     ]
    },
    {
     "name": "stdout",
     "output_type": "stream",
     "text": [
      "              precision    recall  f1-score   support\n",
      "\n",
      "         0.0       0.77      0.46      0.57       301\n",
      "         1.0       0.80      0.94      0.86       685\n",
      "\n",
      "    accuracy                           0.79       986\n",
      "   macro avg       0.78      0.70      0.72       986\n",
      "weighted avg       0.79      0.79      0.78       986\n",
      "\n",
      "[[138 163]\n",
      " [ 41 644]]\n",
      "79.3103448275862\n",
      "---------------------------------------------\n",
      "Testing on choice driver experience\n",
      "\n",
      "best parameters:\n",
      "SVC(C=2.3, cache_size=200, class_weight='balanced', coef0=0.0,\n",
      "    decision_function_shape='ovr', degree=3, gamma=1, kernel='rbf', max_iter=-1,\n",
      "    probability=False, random_state=None, shrinking=True, tol=0.001,\n",
      "    verbose=False)\n",
      "\n",
      "\n",
      "Classification report:\n",
      "              precision    recall  f1-score   support\n",
      "\n",
      "         0.0       0.82      0.69      0.75       463\n",
      "         1.0       0.76      0.87      0.81       523\n",
      "\n",
      "    accuracy                           0.78       986\n",
      "   macro avg       0.79      0.78      0.78       986\n",
      "weighted avg       0.79      0.78      0.78       986\n",
      "\n",
      "[[319 144]\n",
      " [ 68 455]]\n",
      "78.49898580121703\n",
      "---------------------------------------------\n",
      "Testing on choice driver value\n",
      "\n",
      "best parameters:\n",
      "GradientBoostingClassifier(criterion='friedman_mse', init=None,\n",
      "                           learning_rate=0.01, loss='deviance', max_depth=7,\n",
      "                           max_features=None, max_leaf_nodes=None,\n",
      "                           min_impurity_decrease=0.0, min_impurity_split=None,\n",
      "                           min_samples_leaf=1, min_samples_split=2,\n",
      "                           min_weight_fraction_leaf=0.0, n_estimators=100,\n",
      "                           n_iter_no_change=None, presort='auto',\n",
      "                           random_state=None, subsample=1.0, tol=0.0001,\n",
      "                           validation_fraction=0.1, verbose=0,\n",
      "                           warm_start=False)\n",
      "\n",
      "\n",
      "Classification report:\n",
      "              precision    recall  f1-score   support\n",
      "\n",
      "         0.0       0.88      0.98      0.93       831\n",
      "         1.0       0.76      0.27      0.40       155\n",
      "\n",
      "    accuracy                           0.87       986\n",
      "   macro avg       0.82      0.63      0.66       986\n",
      "weighted avg       0.86      0.87      0.85       986\n",
      "\n",
      "[[818  13]\n",
      " [113  42]]\n",
      "87.2210953346856\n",
      "---------------------------------------------\n",
      "Testing on choice driver service\n",
      "\n",
      "best parameters:\n",
      "SVC(C=2.3, cache_size=200, class_weight='balanced', coef0=0.0,\n",
      "    decision_function_shape='ovr', degree=3, gamma=1, kernel='rbf', max_iter=-1,\n",
      "    probability=False, random_state=None, shrinking=True, tol=0.001,\n",
      "    verbose=False)\n",
      "\n",
      "\n",
      "Classification report:\n",
      "              precision    recall  f1-score   support\n",
      "\n",
      "         0.0       0.85      0.85      0.85       490\n",
      "         1.0       0.85      0.85      0.85       496\n",
      "\n",
      "    accuracy                           0.85       986\n",
      "   macro avg       0.85      0.85      0.85       986\n",
      "weighted avg       0.85      0.85      0.85       986\n",
      "\n",
      "[[417  73]\n",
      " [ 73 423]]\n",
      "85.19269776876268\n",
      "---------------------------------------------\n",
      "Testing on choice driver consistency\n",
      "\n",
      "best parameters:\n",
      "SVC(C=2.3, cache_size=200, class_weight='balanced', coef0=0.0,\n",
      "    decision_function_shape='ovr', degree=3, gamma=1, kernel='rbf', max_iter=-1,\n",
      "    probability=False, random_state=None, shrinking=True, tol=0.001,\n",
      "    verbose=False)\n",
      "\n",
      "\n",
      "Classification report:\n",
      "              precision    recall  f1-score   support\n",
      "\n",
      "         0.0       0.99      1.00      0.99       976\n",
      "         1.0       0.00      0.00      0.00        10\n",
      "\n",
      "    accuracy                           0.99       986\n",
      "   macro avg       0.49      0.50      0.50       986\n",
      "weighted avg       0.98      0.99      0.98       986\n",
      "\n",
      "[[976   0]\n",
      " [ 10   0]]\n",
      "98.98580121703854\n",
      "---------------------------------------------\n",
      "Testing on choice driver convenience\n",
      "\n",
      "best parameters:\n",
      "GradientBoostingClassifier(criterion='friedman_mse', init=None,\n",
      "                           learning_rate=0.01, loss='deviance', max_depth=7,\n",
      "                           max_features=None, max_leaf_nodes=None,\n",
      "                           min_impurity_decrease=0.0, min_impurity_split=None,\n",
      "                           min_samples_leaf=1, min_samples_split=2,\n",
      "                           min_weight_fraction_leaf=0.0, n_estimators=100,\n",
      "                           n_iter_no_change=None, presort='auto',\n",
      "                           random_state=None, subsample=1.0, tol=0.0001,\n",
      "                           validation_fraction=0.1, verbose=0,\n",
      "                           warm_start=False)\n",
      "\n",
      "\n",
      "Classification report:\n",
      "              precision    recall  f1-score   support\n",
      "\n",
      "         0.0       0.98      1.00      0.99       964\n",
      "         1.0       1.00      0.09      0.17        22\n",
      "\n",
      "    accuracy                           0.98       986\n",
      "   macro avg       0.99      0.55      0.58       986\n",
      "weighted avg       0.98      0.98      0.97       986\n",
      "\n",
      "[[964   0]\n",
      " [ 20   2]]\n",
      "97.97160243407707\n"
     ]
    },
    {
     "name": "stderr",
     "output_type": "stream",
     "text": [
      "/Users/jj/anaconda3/lib/python3.7/site-packages/sklearn/metrics/classification.py:1437: UndefinedMetricWarning: Precision and F-score are ill-defined and being set to 0.0 in labels with no predicted samples.\n",
      "  'precision', 'predicted', average, warn_for)\n"
     ]
    },
    {
     "data": {
      "text/plain": [
       "['Exported_models/train_new_test_new_value.pkl']"
      ]
     },
     "execution_count": 13,
     "metadata": {},
     "output_type": "execute_result"
    }
   ],
   "source": [
    "#training and testing on the new data\n",
    "\n",
    "#CLassification \n",
    "\n",
    "random_state = 0\n",
    "test_size = 0.2 # test set is 20% of the total data set\n",
    "text_train,text_test,y_train,y_test=train_test_split(newdata['Text'].values,newdata[['food','experience','value','service','consistency','convenience']],random_state=0,test_size=0.2)\n",
    "\n",
    "\n",
    "# Make bag of words feature vectors\n",
    "language = 'english'\n",
    "minWordLength = 2 # shorter words will be removed\n",
    "\n",
    "for i in range(len(text_train)):\n",
    "    text_train[i] = text_preprocessing(text_train[i], language, minWordLength)\n",
    "for i in range(len(text_test)):\n",
    "    text_test[i] = text_preprocessing(text_test[i], language, minWordLength)\n",
    "        \n",
    "count_vect = CountVectorizer(ngram_range=(1,3),max_features=20000)\n",
    "tfidf_transformer = TfidfTransformer(use_idf=True)\n",
    "    \n",
    "count_vect.fit(text_train)\n",
    "text_train_bow = count_vect.transform(text_train)\n",
    "text_test_bow = count_vect.transform(text_test)\n",
    "    \n",
    "tfidf_transformer.fit_transform(text_train_bow)\n",
    "reviews_bow_train = tfidf_transformer.transform(text_train_bow)\n",
    "reviews_bow_test = tfidf_transformer.transform(text_test_bow)\n",
    "joblib.dump(count_vect,'Exported_models/count_vectorizer_newtrain_newtest_classification.pkl')\n",
    "joblib.dump(tfidf_transformer,'Exported_models/tfidftransformer_newtrain_newtest_classification.pkl')\n",
    "\n",
    "#training for the various choice drivers\n",
    "print('Training model on choice driver food'+'\\n')\n",
    "best_model_food = select_best_model(reviews_bow_train,y_train['food'].values,reviews_bow_test,y_test['food'].values)\n",
    "print('Training model on choice driver experience' +'\\n')\n",
    "best_model_experience = select_best_model(reviews_bow_train, y_train['experience'].values,reviews_bow_test,y_test['experience'].values)\n",
    "print('Training model on choice driver value' +'\\n')\n",
    "best_model_value = select_best_model(reviews_bow_train, y_train['value'].values,reviews_bow_test,y_test['value'].values)\n",
    "print('Training model on choice driver service' +'\\n')\n",
    "best_model_service = select_best_model(reviews_bow_train, y_train['service'].values,reviews_bow_test,y_test['service'].values)\n",
    "print('Training model on choice driver convenience' +'\\n')\n",
    "best_model_convenience = select_best_model(reviews_bow_train, y_train['convenience'].values,reviews_bow_test,y_test['convenience'].values)\n",
    "print('Training model on choice driver consistency' +'\\n')\n",
    "best_model_consistency = select_best_model(reviews_bow_train, y_train['consistency'].values,reviews_bow_test,y_test['consistency'].values)\n",
    "\n",
    "\n",
    "# Testing on test set\n",
    "print('Testing on choice driver food'+ '\\n\\n' + 'best parameters:')\n",
    "print( best_model_food.best_estimator_ )\n",
    "print('\\n')\n",
    "y_test_food = y_test['food'].values\n",
    "print('Classification report:')\n",
    "y_pred_food = best_model_food.predict(reviews_bow_test)\n",
    "print(classification_report(y_test_food, y_pred_food))\n",
    "cf_food = confusion_matrix(y_test_food, y_pred_food)\n",
    "print(cf_food)\n",
    "print(accuracy_score(y_test_food, y_pred_food) * 100)\n",
    "\n",
    "print('---------------------------------------------')\n",
    "y_test_experience = y_test['experience'].values\n",
    "print('Testing on choice driver experience'+ '\\n\\n'+ 'best parameters:')\n",
    "print(best_model_experience.best_estimator_)\n",
    "print('\\n')\n",
    "print('Classification report:')\n",
    "y_pred_experience = best_model_experience.predict(reviews_bow_test)\n",
    "print(classification_report(y_test_experience, y_pred_experience))\n",
    "cf_experience = confusion_matrix(y_test_experience, y_pred_experience)\n",
    "print(cf_experience)\n",
    "print(accuracy_score(y_test_experience, y_pred_experience) * 100)\n",
    "\n",
    "print('---------------------------------------------')\n",
    "\n",
    "print('Testing on choice driver value'+ '\\n\\n'+ 'best parameters:')\n",
    "y_test_value = y_test['value'].values\n",
    "print(best_model_value.best_estimator_)\n",
    "print('\\n')\n",
    "print('Classification report:')\n",
    "y_pred_value = best_model_value.predict(reviews_bow_test)\n",
    "print(classification_report(y_test_value, y_pred_value))\n",
    "cf_value = confusion_matrix(y_test_value, y_pred_value)\n",
    "print(cf_value)\n",
    "print(accuracy_score(y_test_value, y_pred_value) * 100)\n",
    "\n",
    "print('---------------------------------------------')\n",
    "\n",
    "print('Testing on choice driver service'+ '\\n\\n'+ 'best parameters:')\n",
    "y_test_service = y_test['service'].values\n",
    "print(best_model_service.best_estimator_)\n",
    "print('\\n')\n",
    "print('Classification report:')\n",
    "y_pred_service = best_model_service.predict(reviews_bow_test)\n",
    "print(classification_report(y_test_service, y_pred_service))\n",
    "cf_service = confusion_matrix(y_test_service, y_pred_service)\n",
    "print(cf_service)\n",
    "print(accuracy_score(y_test_service, y_pred_service) * 100)\n",
    "\n",
    "print('---------------------------------------------')\n",
    "\n",
    "print('Testing on choice driver consistency'+ '\\n\\n'+ 'best parameters:')\n",
    "y_test_consistency = y_test['consistency'].values\n",
    "print(best_model_consistency.best_estimator_)\n",
    "print('\\n')\n",
    "print('Classification report:')\n",
    "y_pred_consistency = best_model_consistency.predict(reviews_bow_test)\n",
    "print(classification_report(y_test_consistency, y_pred_consistency))\n",
    "cf_consistency = confusion_matrix(y_test_consistency, y_pred_consistency)\n",
    "print(cf_consistency)\n",
    "print(accuracy_score(y_test_consistency, y_pred_consistency) * 100)\n",
    "\n",
    "print('---------------------------------------------')\n",
    "\n",
    "\n",
    "\n",
    "print('Testing on choice driver convenience'+ '\\n\\n'+ 'best parameters:')\n",
    "y_test_convenience = y_test['convenience'].values\n",
    "print(best_model_convenience.best_estimator_)\n",
    "print('\\n')\n",
    "print('Classification report:')\n",
    "y_pred_convenience = best_model_convenience.predict(reviews_bow_test)\n",
    "print(classification_report(y_test_convenience, y_pred_convenience))\n",
    "cf_convenience = confusion_matrix(y_test_convenience, y_pred_convenience)\n",
    "print(cf_convenience)\n",
    "print(accuracy_score(y_test_convenience, y_pred_convenience) * 100)\n",
    "\n",
    "\n",
    "\n",
    "joblib.dump(best_model_food.best_estimator_, 'Exported_models/train_new_test_new_food_bestmodel.pkl')\n",
    "joblib.dump(best_model_food, 'Exported_models/train_new_test_new_food.pkl')\n",
    "joblib.dump(best_model_consistency.best_estimator_, 'Exported_models/train_new_test_new_consistency_bestmodel.pkl')\n",
    "joblib.dump(best_model_consistency, 'Exported_models/train_new_test_new_consistency.pkl')\n",
    "joblib.dump(best_model_convenience.best_estimator_, 'Exported_models/train_new_test_new_convenience_bestmodel.pkl')\n",
    "joblib.dump(best_model_convenience, 'Exported_models/train_new_test_new_convenience.pkl')\n",
    "joblib.dump(best_model_experience.best_estimator_, 'Exported_models/train_new_test_new_experience_bestmodel.pkl')\n",
    "joblib.dump(best_model_experience, 'Exported_models/train_new_test_new_experience.pkl')\n",
    "joblib.dump(best_model_service.best_estimator_, 'Exported_models/train_new_test_new_service_bestmodel.pkl')\n",
    "joblib.dump(best_model_service, 'Exported_models/train_new_test_new_service.pkl')\n",
    "joblib.dump(best_model_value.best_estimator_, 'Exported_models/train_new_test_new_value_bestmodel.pkl')\n",
    "joblib.dump(best_model_value, 'Exported_models/train_new_test_new_value.pkl')\n"
   ]
  },
  {
   "cell_type": "code",
   "execution_count": 14,
   "metadata": {},
   "outputs": [
    {
     "name": "stdout",
     "output_type": "stream",
     "text": [
      "Training model on choice driver food\n",
      "\n",
      "LogisticRegression\n",
      "Fitting 3 folds for each of 1 candidates, totalling 3 fits\n"
     ]
    },
    {
     "name": "stderr",
     "output_type": "stream",
     "text": [
      "/Users/jj/anaconda3/lib/python3.7/site-packages/sklearn/model_selection/_split.py:1978: FutureWarning: The default value of cv will change from 3 to 5 in version 0.22. Specify it explicitly to silence this warning.\n",
      "  warnings.warn(CV_WARNING, FutureWarning)\n",
      "[Parallel(n_jobs=-1)]: Using backend LokyBackend with 4 concurrent workers.\n",
      "[Parallel(n_jobs=-1)]: Done   1 tasks      | elapsed:    0.2s\n",
      "[Parallel(n_jobs=-1)]: Batch computation too fast (0.1637s.) Setting batch_size=2.\n",
      "[Parallel(n_jobs=-1)]: Done   3 out of   3 | elapsed:    0.2s remaining:    0.0s\n",
      "[Parallel(n_jobs=-1)]: Done   3 out of   3 | elapsed:    0.2s finished\n",
      "/Users/jj/anaconda3/lib/python3.7/site-packages/sklearn/linear_model/logistic.py:432: FutureWarning: Default solver will be changed to 'lbfgs' in 0.22. Specify a solver to silence this warning.\n",
      "  FutureWarning)\n",
      "/Users/jj/anaconda3/lib/python3.7/site-packages/sklearn/model_selection/_split.py:1978: FutureWarning: The default value of cv will change from 3 to 5 in version 0.22. Specify it explicitly to silence this warning.\n",
      "  warnings.warn(CV_WARNING, FutureWarning)\n",
      "[Parallel(n_jobs=-1)]: Using backend LokyBackend with 4 concurrent workers.\n"
     ]
    },
    {
     "name": "stdout",
     "output_type": "stream",
     "text": [
      "SVM\n",
      "Fitting 3 folds for each of 1 candidates, totalling 3 fits\n"
     ]
    },
    {
     "name": "stderr",
     "output_type": "stream",
     "text": [
      "[Parallel(n_jobs=-1)]: Done   1 tasks      | elapsed:   22.3s\n",
      "[Parallel(n_jobs=-1)]: Done   3 out of   3 | elapsed:   24.1s remaining:    0.0s\n",
      "[Parallel(n_jobs=-1)]: Done   3 out of   3 | elapsed:   24.1s finished\n"
     ]
    },
    {
     "name": "stdout",
     "output_type": "stream",
     "text": [
      "RandomForest\n",
      "Fitting 3 folds for each of 1 candidates, totalling 3 fits\n"
     ]
    },
    {
     "name": "stderr",
     "output_type": "stream",
     "text": [
      "/Users/jj/anaconda3/lib/python3.7/site-packages/sklearn/model_selection/_split.py:1978: FutureWarning: The default value of cv will change from 3 to 5 in version 0.22. Specify it explicitly to silence this warning.\n",
      "  warnings.warn(CV_WARNING, FutureWarning)\n",
      "[Parallel(n_jobs=-1)]: Using backend LokyBackend with 4 concurrent workers.\n",
      "[Parallel(n_jobs=-1)]: Done   1 tasks      | elapsed:    1.0s\n",
      "[Parallel(n_jobs=-1)]: Done   3 out of   3 | elapsed:    1.1s remaining:    0.0s\n",
      "[Parallel(n_jobs=-1)]: Done   3 out of   3 | elapsed:    1.1s finished\n"
     ]
    },
    {
     "name": "stdout",
     "output_type": "stream",
     "text": [
      "GradientBoostingClassifier\n",
      "Fitting 3 folds for each of 1 candidates, totalling 3 fits\n"
     ]
    },
    {
     "name": "stderr",
     "output_type": "stream",
     "text": [
      "/Users/jj/anaconda3/lib/python3.7/site-packages/sklearn/model_selection/_split.py:1978: FutureWarning: The default value of cv will change from 3 to 5 in version 0.22. Specify it explicitly to silence this warning.\n",
      "  warnings.warn(CV_WARNING, FutureWarning)\n",
      "[Parallel(n_jobs=-1)]: Using backend LokyBackend with 4 concurrent workers.\n",
      "[Parallel(n_jobs=-1)]: Done   1 tasks      | elapsed:   50.6s\n",
      "[Parallel(n_jobs=-1)]: Done   3 out of   3 | elapsed:   52.9s remaining:    0.0s\n",
      "[Parallel(n_jobs=-1)]: Done   3 out of   3 | elapsed:   52.9s finished\n"
     ]
    },
    {
     "name": "stdout",
     "output_type": "stream",
     "text": [
      "MultinomialNB\n",
      "Fitting 3 folds for each of 1 candidates, totalling 3 fits\n",
      "Training model on choice driver value\n",
      "\n",
      "LogisticRegression\n",
      "Fitting 3 folds for each of 1 candidates, totalling 3 fits\n"
     ]
    },
    {
     "name": "stderr",
     "output_type": "stream",
     "text": [
      "/Users/jj/anaconda3/lib/python3.7/site-packages/sklearn/model_selection/_split.py:1978: FutureWarning: The default value of cv will change from 3 to 5 in version 0.22. Specify it explicitly to silence this warning.\n",
      "  warnings.warn(CV_WARNING, FutureWarning)\n",
      "[Parallel(n_jobs=-1)]: Using backend LokyBackend with 4 concurrent workers.\n",
      "[Parallel(n_jobs=-1)]: Done   1 tasks      | elapsed:    0.0s\n",
      "[Parallel(n_jobs=-1)]: Batch computation too fast (0.0448s.) Setting batch_size=8.\n",
      "[Parallel(n_jobs=-1)]: Done   3 out of   3 | elapsed:    0.1s remaining:    0.0s\n",
      "[Parallel(n_jobs=-1)]: Done   3 out of   3 | elapsed:    0.1s finished\n",
      "/Users/jj/anaconda3/lib/python3.7/site-packages/sklearn/model_selection/_split.py:1978: FutureWarning: The default value of cv will change from 3 to 5 in version 0.22. Specify it explicitly to silence this warning.\n",
      "  warnings.warn(CV_WARNING, FutureWarning)\n",
      "[Parallel(n_jobs=-1)]: Using backend LokyBackend with 4 concurrent workers.\n",
      "[Parallel(n_jobs=-1)]: Done   1 tasks      | elapsed:    0.1s\n",
      "[Parallel(n_jobs=-1)]: Batch computation too fast (0.1432s.) Setting batch_size=2.\n",
      "[Parallel(n_jobs=-1)]: Done   3 out of   3 | elapsed:    0.2s remaining:    0.0s\n",
      "[Parallel(n_jobs=-1)]: Done   3 out of   3 | elapsed:    0.2s finished\n",
      "/Users/jj/anaconda3/lib/python3.7/site-packages/sklearn/linear_model/logistic.py:432: FutureWarning: Default solver will be changed to 'lbfgs' in 0.22. Specify a solver to silence this warning.\n",
      "  FutureWarning)\n",
      "/Users/jj/anaconda3/lib/python3.7/site-packages/sklearn/model_selection/_split.py:1978: FutureWarning: The default value of cv will change from 3 to 5 in version 0.22. Specify it explicitly to silence this warning.\n",
      "  warnings.warn(CV_WARNING, FutureWarning)\n",
      "[Parallel(n_jobs=-1)]: Using backend LokyBackend with 4 concurrent workers.\n"
     ]
    },
    {
     "name": "stdout",
     "output_type": "stream",
     "text": [
      "SVM\n",
      "Fitting 3 folds for each of 1 candidates, totalling 3 fits\n"
     ]
    },
    {
     "name": "stderr",
     "output_type": "stream",
     "text": [
      "[Parallel(n_jobs=-1)]: Done   1 tasks      | elapsed:   41.3s\n",
      "[Parallel(n_jobs=-1)]: Done   3 out of   3 | elapsed:   44.3s remaining:    0.0s\n",
      "[Parallel(n_jobs=-1)]: Done   3 out of   3 | elapsed:   44.3s finished\n"
     ]
    },
    {
     "name": "stdout",
     "output_type": "stream",
     "text": [
      "RandomForest\n",
      "Fitting 3 folds for each of 1 candidates, totalling 3 fits\n"
     ]
    },
    {
     "name": "stderr",
     "output_type": "stream",
     "text": [
      "/Users/jj/anaconda3/lib/python3.7/site-packages/sklearn/model_selection/_split.py:1978: FutureWarning: The default value of cv will change from 3 to 5 in version 0.22. Specify it explicitly to silence this warning.\n",
      "  warnings.warn(CV_WARNING, FutureWarning)\n",
      "[Parallel(n_jobs=-1)]: Using backend LokyBackend with 4 concurrent workers.\n",
      "[Parallel(n_jobs=-1)]: Done   1 tasks      | elapsed:    1.3s\n",
      "[Parallel(n_jobs=-1)]: Done   3 out of   3 | elapsed:    2.7s remaining:    0.0s\n",
      "[Parallel(n_jobs=-1)]: Done   3 out of   3 | elapsed:    2.7s finished\n"
     ]
    },
    {
     "name": "stdout",
     "output_type": "stream",
     "text": [
      "GradientBoostingClassifier\n",
      "Fitting 3 folds for each of 1 candidates, totalling 3 fits\n"
     ]
    },
    {
     "name": "stderr",
     "output_type": "stream",
     "text": [
      "/Users/jj/anaconda3/lib/python3.7/site-packages/sklearn/model_selection/_split.py:1978: FutureWarning: The default value of cv will change from 3 to 5 in version 0.22. Specify it explicitly to silence this warning.\n",
      "  warnings.warn(CV_WARNING, FutureWarning)\n",
      "[Parallel(n_jobs=-1)]: Using backend LokyBackend with 4 concurrent workers.\n",
      "[Parallel(n_jobs=-1)]: Done   1 tasks      | elapsed:  1.1min\n",
      "[Parallel(n_jobs=-1)]: Done   3 out of   3 | elapsed:  1.1min remaining:    0.0s\n",
      "[Parallel(n_jobs=-1)]: Done   3 out of   3 | elapsed:  1.1min finished\n"
     ]
    },
    {
     "name": "stdout",
     "output_type": "stream",
     "text": [
      "MultinomialNB\n",
      "Fitting 3 folds for each of 1 candidates, totalling 3 fits\n",
      "Training model on choice driver service\n",
      "\n",
      "LogisticRegression\n",
      "Fitting 3 folds for each of 1 candidates, totalling 3 fits\n"
     ]
    },
    {
     "name": "stderr",
     "output_type": "stream",
     "text": [
      "/Users/jj/anaconda3/lib/python3.7/site-packages/sklearn/model_selection/_split.py:1978: FutureWarning: The default value of cv will change from 3 to 5 in version 0.22. Specify it explicitly to silence this warning.\n",
      "  warnings.warn(CV_WARNING, FutureWarning)\n",
      "[Parallel(n_jobs=-1)]: Using backend LokyBackend with 4 concurrent workers.\n",
      "[Parallel(n_jobs=-1)]: Done   1 tasks      | elapsed:    0.1s\n",
      "[Parallel(n_jobs=-1)]: Batch computation too fast (0.0657s.) Setting batch_size=6.\n",
      "[Parallel(n_jobs=-1)]: Done   3 out of   3 | elapsed:    0.1s remaining:    0.0s\n",
      "[Parallel(n_jobs=-1)]: Done   3 out of   3 | elapsed:    0.1s finished\n",
      "/Users/jj/anaconda3/lib/python3.7/site-packages/sklearn/model_selection/_split.py:1978: FutureWarning: The default value of cv will change from 3 to 5 in version 0.22. Specify it explicitly to silence this warning.\n",
      "  warnings.warn(CV_WARNING, FutureWarning)\n",
      "[Parallel(n_jobs=-1)]: Using backend LokyBackend with 4 concurrent workers.\n",
      "[Parallel(n_jobs=-1)]: Done   1 tasks      | elapsed:    0.1s\n",
      "[Parallel(n_jobs=-1)]: Batch computation too fast (0.1059s.) Setting batch_size=2.\n",
      "[Parallel(n_jobs=-1)]: Done   3 out of   3 | elapsed:    0.1s remaining:    0.0s\n",
      "[Parallel(n_jobs=-1)]: Done   3 out of   3 | elapsed:    0.1s finished\n",
      "/Users/jj/anaconda3/lib/python3.7/site-packages/sklearn/linear_model/logistic.py:432: FutureWarning: Default solver will be changed to 'lbfgs' in 0.22. Specify a solver to silence this warning.\n",
      "  FutureWarning)\n",
      "/Users/jj/anaconda3/lib/python3.7/site-packages/sklearn/model_selection/_split.py:1978: FutureWarning: The default value of cv will change from 3 to 5 in version 0.22. Specify it explicitly to silence this warning.\n",
      "  warnings.warn(CV_WARNING, FutureWarning)\n",
      "[Parallel(n_jobs=-1)]: Using backend LokyBackend with 4 concurrent workers.\n"
     ]
    },
    {
     "name": "stdout",
     "output_type": "stream",
     "text": [
      "SVM\n",
      "Fitting 3 folds for each of 1 candidates, totalling 3 fits\n"
     ]
    },
    {
     "name": "stderr",
     "output_type": "stream",
     "text": [
      "[Parallel(n_jobs=-1)]: Done   1 tasks      | elapsed:   35.2s\n",
      "[Parallel(n_jobs=-1)]: Done   3 out of   3 | elapsed:   36.8s remaining:    0.0s\n",
      "[Parallel(n_jobs=-1)]: Done   3 out of   3 | elapsed:   36.8s finished\n"
     ]
    },
    {
     "name": "stdout",
     "output_type": "stream",
     "text": [
      "RandomForest\n",
      "Fitting 3 folds for each of 1 candidates, totalling 3 fits\n"
     ]
    },
    {
     "name": "stderr",
     "output_type": "stream",
     "text": [
      "/Users/jj/anaconda3/lib/python3.7/site-packages/sklearn/model_selection/_split.py:1978: FutureWarning: The default value of cv will change from 3 to 5 in version 0.22. Specify it explicitly to silence this warning.\n",
      "  warnings.warn(CV_WARNING, FutureWarning)\n",
      "[Parallel(n_jobs=-1)]: Using backend LokyBackend with 4 concurrent workers.\n",
      "[Parallel(n_jobs=-1)]: Done   1 tasks      | elapsed:    1.1s\n",
      "[Parallel(n_jobs=-1)]: Done   3 out of   3 | elapsed:    1.1s remaining:    0.0s\n",
      "[Parallel(n_jobs=-1)]: Done   3 out of   3 | elapsed:    1.1s finished\n"
     ]
    },
    {
     "name": "stdout",
     "output_type": "stream",
     "text": [
      "GradientBoostingClassifier\n",
      "Fitting 3 folds for each of 1 candidates, totalling 3 fits\n"
     ]
    },
    {
     "name": "stderr",
     "output_type": "stream",
     "text": [
      "/Users/jj/anaconda3/lib/python3.7/site-packages/sklearn/model_selection/_split.py:1978: FutureWarning: The default value of cv will change from 3 to 5 in version 0.22. Specify it explicitly to silence this warning.\n",
      "  warnings.warn(CV_WARNING, FutureWarning)\n",
      "[Parallel(n_jobs=-1)]: Using backend LokyBackend with 4 concurrent workers.\n",
      "[Parallel(n_jobs=-1)]: Done   1 tasks      | elapsed:  1.1min\n",
      "[Parallel(n_jobs=-1)]: Done   3 out of   3 | elapsed:  1.2min remaining:    0.0s\n",
      "[Parallel(n_jobs=-1)]: Done   3 out of   3 | elapsed:  1.2min finished\n"
     ]
    },
    {
     "name": "stdout",
     "output_type": "stream",
     "text": [
      "MultinomialNB\n",
      "Fitting 3 folds for each of 1 candidates, totalling 3 fits\n",
      "Training model on choice driver convenience\n",
      "\n",
      "LogisticRegression\n",
      "Fitting 3 folds for each of 1 candidates, totalling 3 fits\n"
     ]
    },
    {
     "name": "stderr",
     "output_type": "stream",
     "text": [
      "/Users/jj/anaconda3/lib/python3.7/site-packages/sklearn/model_selection/_split.py:1978: FutureWarning: The default value of cv will change from 3 to 5 in version 0.22. Specify it explicitly to silence this warning.\n",
      "  warnings.warn(CV_WARNING, FutureWarning)\n",
      "[Parallel(n_jobs=-1)]: Using backend LokyBackend with 4 concurrent workers.\n",
      "[Parallel(n_jobs=-1)]: Done   1 tasks      | elapsed:    0.1s\n",
      "[Parallel(n_jobs=-1)]: Batch computation too fast (0.0875s.) Setting batch_size=4.\n",
      "[Parallel(n_jobs=-1)]: Done   3 out of   3 | elapsed:    0.1s remaining:    0.0s\n",
      "[Parallel(n_jobs=-1)]: Done   3 out of   3 | elapsed:    0.1s finished\n",
      "/Users/jj/anaconda3/lib/python3.7/site-packages/sklearn/model_selection/_split.py:1978: FutureWarning: The default value of cv will change from 3 to 5 in version 0.22. Specify it explicitly to silence this warning.\n",
      "  warnings.warn(CV_WARNING, FutureWarning)\n",
      "[Parallel(n_jobs=-1)]: Using backend LokyBackend with 4 concurrent workers.\n",
      "[Parallel(n_jobs=-1)]: Done   1 tasks      | elapsed:    0.1s\n",
      "[Parallel(n_jobs=-1)]: Batch computation too fast (0.1397s.) Setting batch_size=2.\n",
      "[Parallel(n_jobs=-1)]: Done   3 out of   3 | elapsed:    0.1s remaining:    0.0s\n",
      "[Parallel(n_jobs=-1)]: Done   3 out of   3 | elapsed:    0.1s finished\n",
      "/Users/jj/anaconda3/lib/python3.7/site-packages/sklearn/linear_model/logistic.py:432: FutureWarning: Default solver will be changed to 'lbfgs' in 0.22. Specify a solver to silence this warning.\n",
      "  FutureWarning)\n",
      "/Users/jj/anaconda3/lib/python3.7/site-packages/sklearn/model_selection/_split.py:1978: FutureWarning: The default value of cv will change from 3 to 5 in version 0.22. Specify it explicitly to silence this warning.\n",
      "  warnings.warn(CV_WARNING, FutureWarning)\n",
      "[Parallel(n_jobs=-1)]: Using backend LokyBackend with 4 concurrent workers.\n"
     ]
    },
    {
     "name": "stdout",
     "output_type": "stream",
     "text": [
      "SVM\n",
      "Fitting 3 folds for each of 1 candidates, totalling 3 fits\n"
     ]
    },
    {
     "name": "stderr",
     "output_type": "stream",
     "text": [
      "[Parallel(n_jobs=-1)]: Done   1 tasks      | elapsed:   24.5s\n",
      "[Parallel(n_jobs=-1)]: Done   3 out of   3 | elapsed:   30.1s remaining:    0.0s\n",
      "[Parallel(n_jobs=-1)]: Done   3 out of   3 | elapsed:   30.1s finished\n"
     ]
    },
    {
     "name": "stdout",
     "output_type": "stream",
     "text": [
      "RandomForest\n",
      "Fitting 3 folds for each of 1 candidates, totalling 3 fits\n"
     ]
    },
    {
     "name": "stderr",
     "output_type": "stream",
     "text": [
      "/Users/jj/anaconda3/lib/python3.7/site-packages/sklearn/model_selection/_split.py:1978: FutureWarning: The default value of cv will change from 3 to 5 in version 0.22. Specify it explicitly to silence this warning.\n",
      "  warnings.warn(CV_WARNING, FutureWarning)\n",
      "[Parallel(n_jobs=-1)]: Using backend LokyBackend with 4 concurrent workers.\n",
      "[Parallel(n_jobs=-1)]: Done   1 tasks      | elapsed:    0.7s\n",
      "[Parallel(n_jobs=-1)]: Done   3 out of   3 | elapsed:    0.8s remaining:    0.0s\n",
      "[Parallel(n_jobs=-1)]: Done   3 out of   3 | elapsed:    0.8s finished\n"
     ]
    },
    {
     "name": "stdout",
     "output_type": "stream",
     "text": [
      "GradientBoostingClassifier\n",
      "Fitting 3 folds for each of 1 candidates, totalling 3 fits\n"
     ]
    },
    {
     "name": "stderr",
     "output_type": "stream",
     "text": [
      "/Users/jj/anaconda3/lib/python3.7/site-packages/sklearn/model_selection/_split.py:1978: FutureWarning: The default value of cv will change from 3 to 5 in version 0.22. Specify it explicitly to silence this warning.\n",
      "  warnings.warn(CV_WARNING, FutureWarning)\n",
      "[Parallel(n_jobs=-1)]: Using backend LokyBackend with 4 concurrent workers.\n",
      "[Parallel(n_jobs=-1)]: Done   1 tasks      | elapsed:   44.7s\n",
      "[Parallel(n_jobs=-1)]: Done   3 out of   3 | elapsed:   46.3s remaining:    0.0s\n",
      "[Parallel(n_jobs=-1)]: Done   3 out of   3 | elapsed:   46.3s finished\n"
     ]
    },
    {
     "name": "stdout",
     "output_type": "stream",
     "text": [
      "MultinomialNB\n",
      "Fitting 3 folds for each of 1 candidates, totalling 3 fits\n",
      "Training model on choice driver consistency\n",
      "\n",
      "LogisticRegression\n",
      "Fitting 3 folds for each of 1 candidates, totalling 3 fits\n"
     ]
    },
    {
     "name": "stderr",
     "output_type": "stream",
     "text": [
      "/Users/jj/anaconda3/lib/python3.7/site-packages/sklearn/model_selection/_split.py:1978: FutureWarning: The default value of cv will change from 3 to 5 in version 0.22. Specify it explicitly to silence this warning.\n",
      "  warnings.warn(CV_WARNING, FutureWarning)\n",
      "[Parallel(n_jobs=-1)]: Using backend LokyBackend with 4 concurrent workers.\n",
      "[Parallel(n_jobs=-1)]: Done   1 tasks      | elapsed:    0.1s\n",
      "[Parallel(n_jobs=-1)]: Batch computation too fast (0.0562s.) Setting batch_size=6.\n",
      "[Parallel(n_jobs=-1)]: Done   3 out of   3 | elapsed:    0.1s remaining:    0.0s\n",
      "[Parallel(n_jobs=-1)]: Done   3 out of   3 | elapsed:    0.1s finished\n",
      "/Users/jj/anaconda3/lib/python3.7/site-packages/sklearn/model_selection/_split.py:1978: FutureWarning: The default value of cv will change from 3 to 5 in version 0.22. Specify it explicitly to silence this warning.\n",
      "  warnings.warn(CV_WARNING, FutureWarning)\n",
      "[Parallel(n_jobs=-1)]: Using backend LokyBackend with 4 concurrent workers.\n",
      "[Parallel(n_jobs=-1)]: Done   1 tasks      | elapsed:    0.1s\n",
      "[Parallel(n_jobs=-1)]: Batch computation too fast (0.1050s.) Setting batch_size=2.\n",
      "[Parallel(n_jobs=-1)]: Done   3 out of   3 | elapsed:    0.1s remaining:    0.0s\n",
      "[Parallel(n_jobs=-1)]: Done   3 out of   3 | elapsed:    0.1s finished\n",
      "/Users/jj/anaconda3/lib/python3.7/site-packages/sklearn/linear_model/logistic.py:432: FutureWarning: Default solver will be changed to 'lbfgs' in 0.22. Specify a solver to silence this warning.\n",
      "  FutureWarning)\n",
      "/Users/jj/anaconda3/lib/python3.7/site-packages/sklearn/model_selection/_split.py:1978: FutureWarning: The default value of cv will change from 3 to 5 in version 0.22. Specify it explicitly to silence this warning.\n",
      "  warnings.warn(CV_WARNING, FutureWarning)\n",
      "[Parallel(n_jobs=-1)]: Using backend LokyBackend with 4 concurrent workers.\n"
     ]
    },
    {
     "name": "stdout",
     "output_type": "stream",
     "text": [
      "SVM\n",
      "Fitting 3 folds for each of 1 candidates, totalling 3 fits\n"
     ]
    },
    {
     "name": "stderr",
     "output_type": "stream",
     "text": [
      "[Parallel(n_jobs=-1)]: Done   1 tasks      | elapsed:   40.1s\n",
      "[Parallel(n_jobs=-1)]: Done   3 out of   3 | elapsed:   42.5s remaining:    0.0s\n",
      "[Parallel(n_jobs=-1)]: Done   3 out of   3 | elapsed:   42.5s finished\n"
     ]
    },
    {
     "name": "stdout",
     "output_type": "stream",
     "text": [
      "RandomForest\n",
      "Fitting 3 folds for each of 1 candidates, totalling 3 fits\n"
     ]
    },
    {
     "name": "stderr",
     "output_type": "stream",
     "text": [
      "/Users/jj/anaconda3/lib/python3.7/site-packages/sklearn/model_selection/_split.py:1978: FutureWarning: The default value of cv will change from 3 to 5 in version 0.22. Specify it explicitly to silence this warning.\n",
      "  warnings.warn(CV_WARNING, FutureWarning)\n",
      "[Parallel(n_jobs=-1)]: Using backend LokyBackend with 4 concurrent workers.\n",
      "[Parallel(n_jobs=-1)]: Done   1 tasks      | elapsed:    0.8s\n",
      "[Parallel(n_jobs=-1)]: Done   3 out of   3 | elapsed:    0.9s remaining:    0.0s\n",
      "[Parallel(n_jobs=-1)]: Done   3 out of   3 | elapsed:    0.9s finished\n"
     ]
    },
    {
     "name": "stdout",
     "output_type": "stream",
     "text": [
      "GradientBoostingClassifier\n",
      "Fitting 3 folds for each of 1 candidates, totalling 3 fits\n"
     ]
    },
    {
     "name": "stderr",
     "output_type": "stream",
     "text": [
      "/Users/jj/anaconda3/lib/python3.7/site-packages/sklearn/model_selection/_split.py:1978: FutureWarning: The default value of cv will change from 3 to 5 in version 0.22. Specify it explicitly to silence this warning.\n",
      "  warnings.warn(CV_WARNING, FutureWarning)\n",
      "[Parallel(n_jobs=-1)]: Using backend LokyBackend with 4 concurrent workers.\n",
      "[Parallel(n_jobs=-1)]: Done   1 tasks      | elapsed:  1.0min\n",
      "[Parallel(n_jobs=-1)]: Done   3 out of   3 | elapsed:  1.0min remaining:    0.0s\n",
      "[Parallel(n_jobs=-1)]: Done   3 out of   3 | elapsed:  1.0min finished\n"
     ]
    },
    {
     "name": "stdout",
     "output_type": "stream",
     "text": [
      "MultinomialNB\n",
      "Fitting 3 folds for each of 1 candidates, totalling 3 fits\n",
      "LogisticRegression(C=0.01, class_weight='balanced', dual=False,\n",
      "                   fit_intercept=True, intercept_scaling=1, l1_ratio=None,\n",
      "                   max_iter=100, multi_class='warn', n_jobs=None, penalty='l2',\n",
      "                   random_state=None, solver='warn', tol=0.0001, verbose=0,\n",
      "                   warm_start=False)\n",
      "\n",
      "\n",
      "Classification report:\n",
      "              precision    recall  f1-score   support\n",
      "\n",
      "         0.0       0.62      0.44      0.52      1516\n",
      "         1.0       0.78      0.88      0.83      3414\n",
      "\n",
      "    accuracy                           0.74      4930\n",
      "   macro avg       0.70      0.66      0.67      4930\n",
      "weighted avg       0.73      0.74      0.73      4930\n",
      "\n",
      "[[ 673  843]\n",
      " [ 418 2996]]\n",
      "74.42190669371197\n",
      "---------------------------------------------\n",
      "MultinomialNB(alpha=1.0, class_prior=None, fit_prior=True)\n",
      "\n",
      "\n",
      "Classification report:\n",
      "              precision    recall  f1-score   support\n",
      "\n",
      "         0.0       0.99      1.00      0.99      4868\n",
      "         1.0       0.00      0.00      0.00        62\n",
      "\n",
      "    accuracy                           0.99      4930\n",
      "   macro avg       0.49      0.50      0.50      4930\n",
      "weighted avg       0.97      0.99      0.98      4930\n",
      "\n",
      "[[4862    6]\n",
      " [  62    0]]\n",
      "98.62068965517241\n",
      "---------------------------------------------\n",
      "MultinomialNB(alpha=1.0, class_prior=None, fit_prior=True)\n",
      "\n",
      "\n",
      "Classification report:\n",
      "              precision    recall  f1-score   support\n",
      "\n",
      "         0.0       0.97      1.00      0.99      4804\n",
      "         1.0       0.00      0.00      0.00       126\n",
      "\n",
      "    accuracy                           0.97      4930\n",
      "   macro avg       0.49      0.50      0.49      4930\n",
      "weighted avg       0.95      0.97      0.96      4930\n",
      "\n",
      "[[4804    0]\n",
      " [ 126    0]]\n",
      "97.44421906693712\n",
      "---------------------------------------------\n",
      "MultinomialNB(alpha=1.0, class_prior=None, fit_prior=True)\n",
      "\n",
      "\n",
      "Classification report:\n",
      "              precision    recall  f1-score   support\n",
      "\n",
      "         0.0       0.88      0.96      0.92      4148\n",
      "         1.0       0.59      0.30      0.40       782\n",
      "\n",
      "    accuracy                           0.86      4930\n",
      "   macro avg       0.74      0.63      0.66      4930\n",
      "weighted avg       0.83      0.86      0.84      4930\n",
      "\n",
      "[[3984  164]\n",
      " [ 544  238]]\n",
      "85.63894523326572\n",
      "---------------------------------------------\n",
      "GradientBoostingClassifier(criterion='friedman_mse', init=None,\n",
      "                           learning_rate=0.01, loss='deviance', max_depth=7,\n",
      "                           max_features=None, max_leaf_nodes=None,\n",
      "                           min_impurity_decrease=0.0, min_impurity_split=None,\n",
      "                           min_samples_leaf=1, min_samples_split=2,\n",
      "                           min_weight_fraction_leaf=0.0, n_estimators=100,\n",
      "                           n_iter_no_change=None, presort='auto',\n",
      "                           random_state=None, subsample=1.0, tol=0.0001,\n",
      "                           validation_fraction=0.1, verbose=0,\n",
      "                           warm_start=False)\n",
      "\n",
      "\n",
      "Classification report:\n"
     ]
    },
    {
     "name": "stderr",
     "output_type": "stream",
     "text": [
      "/Users/jj/anaconda3/lib/python3.7/site-packages/sklearn/model_selection/_split.py:1978: FutureWarning: The default value of cv will change from 3 to 5 in version 0.22. Specify it explicitly to silence this warning.\n",
      "  warnings.warn(CV_WARNING, FutureWarning)\n",
      "[Parallel(n_jobs=-1)]: Using backend LokyBackend with 4 concurrent workers.\n",
      "[Parallel(n_jobs=-1)]: Done   1 tasks      | elapsed:    0.0s\n",
      "[Parallel(n_jobs=-1)]: Batch computation too fast (0.0492s.) Setting batch_size=8.\n",
      "[Parallel(n_jobs=-1)]: Done   3 out of   3 | elapsed:    0.1s remaining:    0.0s\n",
      "[Parallel(n_jobs=-1)]: Done   3 out of   3 | elapsed:    0.1s finished\n",
      "/Users/jj/anaconda3/lib/python3.7/site-packages/sklearn/metrics/classification.py:1437: UndefinedMetricWarning: Precision and F-score are ill-defined and being set to 0.0 in labels with no predicted samples.\n",
      "  'precision', 'predicted', average, warn_for)\n"
     ]
    },
    {
     "name": "stdout",
     "output_type": "stream",
     "text": [
      "              precision    recall  f1-score   support\n",
      "\n",
      "         0.0       0.85      0.83      0.84      2518\n",
      "         1.0       0.83      0.85      0.84      2412\n",
      "\n",
      "    accuracy                           0.84      4930\n",
      "   macro avg       0.84      0.84      0.84      4930\n",
      "weighted avg       0.84      0.84      0.84      4930\n",
      "\n",
      "[[2099  419]\n",
      " [ 370 2042]]\n",
      "83.99594320486815\n",
      "---------------------------------------------\n"
     ]
    },
    {
     "data": {
      "text/plain": [
       "\"\\njoblib.dump(best_model_food.best_estimator_, 'Exported_models/train_old_test_new_food_bestmodel.pkl')\\njoblib.dump(best_model_food, 'Exported_models/train_old_test_new_food.pkl')\\njoblib.dump(best_model_consistency.best_estimator_, 'Exported_models/train_old_test_new_consistency_bestmodel.pkl')\\njoblib.dump(best_model_consistency, 'Exported_models/train_new_test_new_consistency.pkl')\\njoblib.dump(best_model_convenience.best_estimator_, 'Exported_models/train_old_test_new_convenience_bestmodel.pkl')\\njoblib.dump(best_model_convenience, 'Exported_models/train_old_test_new_convenience.pkl')\\njoblib.dump(best_model_service.best_estimator_, 'Exported_models/train_old_test_new_service_bestmodel.pkl')\\njoblib.dump(best_model_service, 'Exported_models/train_old_test_new_service.pkl')\\njoblib.dump(best_model_value.best_estimator_, 'Exported_models/train_old_test_new_value_bestmodel.pkl')\\njoblib.dump(best_model_value, 'Exported_models/train_old_test_new_value.pkl')\\n\""
      ]
     },
     "execution_count": 14,
     "metadata": {},
     "output_type": "execute_result"
    }
   ],
   "source": [
    "#training on old and testing on new\n",
    "\n",
    "\n",
    "\n",
    "#selecting text and choice drivers as an array\n",
    "text_train = olddata['text'].values\n",
    "text_test = newdata['Text'].values\n",
    "\n",
    "food_train = olddata['sentiment_food'].values\n",
    "food_test = newdata['food'].values\n",
    "consistency_train = olddata['sentiment_consistency'].values\n",
    "consistency_test = newdata['consistency'].values\n",
    "convenience_train = olddata['sentiment_convenience'].values\n",
    "convenience_test = newdata['convenience'].values\n",
    "value_train = olddata['sentiment_value'].values\n",
    "value_test = newdata['value'].values\n",
    "service_train = olddata['sentiment_service'].values\n",
    "service_test = newdata['service'].values\n",
    "\n",
    "language = 'english'\n",
    "minWordLength = 2 # shorter words will be removed\n",
    "\n",
    "for i in range(len(text_train)):\n",
    "    text_train[i] = text_preprocessing(text_train[i], language, minWordLength)\n",
    "for i in range(len(text_test)):\n",
    "    text_test[i] = text_preprocessing(text_test[i], language, minWordLength)\n",
    "        \n",
    "count_vect = CountVectorizer(ngram_range=(1,3),max_features=20000)\n",
    "tfidf_transformer = TfidfTransformer(use_idf=True)\n",
    "    \n",
    "count_vect.fit(text_train)\n",
    "text_train_bow = count_vect.transform(text_train)\n",
    "text_test_bow = count_vect.transform(text_test)\n",
    "    \n",
    "tfidf_transformer.fit_transform(text_train_bow)\n",
    "reviews_bow_train = tfidf_transformer.transform(text_train_bow)\n",
    "reviews_bow_test = tfidf_transformer.transform(text_test_bow)\n",
    "joblib.dump(count_vect,'Exported_models/count_vectorizer_oldtrain_newtest_classification.pkl')\n",
    "joblib.dump(tfidf_transformer,'Exported_models/tfidftransformer_oldtrain_newtest_classification.pkl')\n",
    "\n",
    "#training the models\n",
    "print('Training model on choice driver food'+'\\n')\n",
    "best_model_food = select_best_model(reviews_bow_train,food_train,reviews_bow_test,food_test)\n",
    "\n",
    "print('Training model on choice driver value' +'\\n')\n",
    "best_model_value = select_best_model(reviews_bow_train,value_train,reviews_bow_test,value_test)\n",
    "print('Training model on choice driver service' +'\\n')\n",
    "best_model_service = select_best_model(reviews_bow_train,service_train,reviews_bow_test,service_test)\n",
    "print('Training model on choice driver convenience' +'\\n')\n",
    "best_model_convenience = select_best_model(reviews_bow_train,convenience_train,reviews_bow_test,convenience_test)\n",
    "print('Training model on choice driver consistency' +'\\n')\n",
    "best_model_consistency = select_best_model(reviews_bow_train,consistency_train,reviews_bow_test,consistency_test)\n",
    "#testing the models\n",
    "print(best_model_food.best_estimator_)\n",
    "print('\\n')\n",
    "print('Classification report:')\n",
    "y_pred_food = best_model_food.predict(reviews_bow_test)\n",
    "print(classification_report(food_test, y_pred_food))\n",
    "cf_food = confusion_matrix(food_test, y_pred_food)\n",
    "print(cf_food)\n",
    "print(accuracy_score(food_test, y_pred_food) * 100)\n",
    "\n",
    "print('---------------------------------------------')\n",
    "\n",
    "print(best_model_consistency.best_estimator_)\n",
    "print('\\n')\n",
    "print('Classification report:')\n",
    "y_pred_consistency = best_model_consistency.predict(reviews_bow_test)\n",
    "print(classification_report(consistency_test, y_pred_consistency))\n",
    "cf_consistency = confusion_matrix(consistency_test, y_pred_consistency)\n",
    "print(cf_consistency)\n",
    "print(accuracy_score(consistency_test, y_pred_consistency) * 100)\n",
    "\n",
    "print('---------------------------------------------')\n",
    "\n",
    "print(best_model_convenience.best_estimator_)\n",
    "print('\\n')\n",
    "print('Classification report:')\n",
    "y_pred_convenience = best_model_convenience.predict(reviews_bow_test)\n",
    "print(classification_report(convenience_test, y_pred_convenience))\n",
    "cf_convenience = confusion_matrix(convenience_test, y_pred_convenience)\n",
    "print(cf_convenience)\n",
    "print(accuracy_score(convenience_test, y_pred_convenience) * 100)\n",
    "\n",
    "print('---------------------------------------------')\n",
    "\n",
    "print(best_model_value.best_estimator_)\n",
    "print('\\n')\n",
    "print('Classification report:')\n",
    "y_pred_value = best_model_value.predict(reviews_bow_test)\n",
    "print(classification_report(value_test, y_pred_value))\n",
    "cf_value = confusion_matrix(value_test, y_pred_value)\n",
    "print(cf_value)\n",
    "print(accuracy_score(value_test, y_pred_value) * 100)\n",
    "\n",
    "print('---------------------------------------------')\n",
    "\n",
    "print(best_model_service.best_estimator_)\n",
    "print('\\n')\n",
    "print('Classification report:')\n",
    "y_pred_service = best_model_service.predict(reviews_bow_test)\n",
    "print(classification_report(service_test, y_pred_service))\n",
    "cf_service = confusion_matrix(service_test, y_pred_service)\n",
    "print(cf_service)\n",
    "print(accuracy_score(service_test, y_pred_service) * 100)\n",
    "\n",
    "print('---------------------------------------------')\n",
    "\"\"\"\n",
    "joblib.dump(best_model_food.best_estimator_, 'Exported_models/train_old_test_new_food_bestmodel.pkl')\n",
    "joblib.dump(best_model_food, 'Exported_models/train_old_test_new_food.pkl')\n",
    "joblib.dump(best_model_consistency.best_estimator_, 'Exported_models/train_old_test_new_consistency_bestmodel.pkl')\n",
    "joblib.dump(best_model_consistency, 'Exported_models/train_new_test_new_consistency.pkl')\n",
    "joblib.dump(best_model_convenience.best_estimator_, 'Exported_models/train_old_test_new_convenience_bestmodel.pkl')\n",
    "joblib.dump(best_model_convenience, 'Exported_models/train_old_test_new_convenience.pkl')\n",
    "joblib.dump(best_model_service.best_estimator_, 'Exported_models/train_old_test_new_service_bestmodel.pkl')\n",
    "joblib.dump(best_model_service, 'Exported_models/train_old_test_new_service.pkl')\n",
    "joblib.dump(best_model_value.best_estimator_, 'Exported_models/train_old_test_new_value_bestmodel.pkl')\n",
    "joblib.dump(best_model_value, 'Exported_models/train_old_test_new_value.pkl')\n",
    "\"\"\""
   ]
  },
  {
   "cell_type": "code",
   "execution_count": 15,
   "metadata": {},
   "outputs": [
    {
     "name": "stderr",
     "output_type": "stream",
     "text": [
      "/Users/jj/anaconda3/lib/python3.7/site-packages/ipykernel_launcher.py:26: FutureWarning: Sorting because non-concatenation axis is not aligned. A future version\n",
      "of pandas will change to not sort by default.\n",
      "\n",
      "To accept the future behavior, pass 'sort=False'.\n",
      "\n",
      "To retain the current behavior and silence the warning, pass 'sort=True'.\n",
      "\n"
     ]
    },
    {
     "name": "stdout",
     "output_type": "stream",
     "text": [
      "Training model on choice driver food\n",
      "\n",
      "LogisticRegression\n",
      "Fitting 3 folds for each of 1 candidates, totalling 3 fits\n"
     ]
    },
    {
     "name": "stderr",
     "output_type": "stream",
     "text": [
      "/Users/jj/anaconda3/lib/python3.7/site-packages/sklearn/model_selection/_split.py:1978: FutureWarning: The default value of cv will change from 3 to 5 in version 0.22. Specify it explicitly to silence this warning.\n",
      "  warnings.warn(CV_WARNING, FutureWarning)\n",
      "[Parallel(n_jobs=-1)]: Using backend LokyBackend with 4 concurrent workers.\n",
      "[Parallel(n_jobs=-1)]: Done   1 tasks      | elapsed:    0.1s\n",
      "[Parallel(n_jobs=-1)]: Batch computation too fast (0.1488s.) Setting batch_size=2.\n",
      "[Parallel(n_jobs=-1)]: Done   3 out of   3 | elapsed:    0.2s remaining:    0.0s\n",
      "[Parallel(n_jobs=-1)]: Done   3 out of   3 | elapsed:    0.2s finished\n"
     ]
    },
    {
     "name": "stdout",
     "output_type": "stream",
     "text": [
      "SVM\n",
      "Fitting 3 folds for each of 1 candidates, totalling 3 fits\n"
     ]
    },
    {
     "name": "stderr",
     "output_type": "stream",
     "text": [
      "/Users/jj/anaconda3/lib/python3.7/site-packages/sklearn/linear_model/logistic.py:432: FutureWarning: Default solver will be changed to 'lbfgs' in 0.22. Specify a solver to silence this warning.\n",
      "  FutureWarning)\n",
      "/Users/jj/anaconda3/lib/python3.7/site-packages/sklearn/model_selection/_split.py:1978: FutureWarning: The default value of cv will change from 3 to 5 in version 0.22. Specify it explicitly to silence this warning.\n",
      "  warnings.warn(CV_WARNING, FutureWarning)\n",
      "[Parallel(n_jobs=-1)]: Using backend LokyBackend with 4 concurrent workers.\n",
      "[Parallel(n_jobs=-1)]: Done   1 tasks      | elapsed:   47.8s\n",
      "[Parallel(n_jobs=-1)]: Done   3 out of   3 | elapsed:   52.6s remaining:    0.0s\n",
      "[Parallel(n_jobs=-1)]: Done   3 out of   3 | elapsed:   52.6s finished\n"
     ]
    },
    {
     "name": "stdout",
     "output_type": "stream",
     "text": [
      "RandomForest\n",
      "Fitting 3 folds for each of 1 candidates, totalling 3 fits\n"
     ]
    },
    {
     "name": "stderr",
     "output_type": "stream",
     "text": [
      "/Users/jj/anaconda3/lib/python3.7/site-packages/sklearn/model_selection/_split.py:1978: FutureWarning: The default value of cv will change from 3 to 5 in version 0.22. Specify it explicitly to silence this warning.\n",
      "  warnings.warn(CV_WARNING, FutureWarning)\n",
      "[Parallel(n_jobs=-1)]: Using backend LokyBackend with 4 concurrent workers.\n",
      "[Parallel(n_jobs=-1)]: Done   1 tasks      | elapsed:    0.8s\n",
      "[Parallel(n_jobs=-1)]: Done   3 out of   3 | elapsed:    2.5s remaining:    0.0s\n",
      "[Parallel(n_jobs=-1)]: Done   3 out of   3 | elapsed:    2.5s finished\n"
     ]
    },
    {
     "name": "stdout",
     "output_type": "stream",
     "text": [
      "GradientBoostingClassifier\n",
      "Fitting 3 folds for each of 1 candidates, totalling 3 fits\n"
     ]
    },
    {
     "name": "stderr",
     "output_type": "stream",
     "text": [
      "/Users/jj/anaconda3/lib/python3.7/site-packages/sklearn/model_selection/_split.py:1978: FutureWarning: The default value of cv will change from 3 to 5 in version 0.22. Specify it explicitly to silence this warning.\n",
      "  warnings.warn(CV_WARNING, FutureWarning)\n",
      "[Parallel(n_jobs=-1)]: Using backend LokyBackend with 4 concurrent workers.\n",
      "[Parallel(n_jobs=-1)]: Done   1 tasks      | elapsed:  6.2min\n",
      "[Parallel(n_jobs=-1)]: Done   3 out of   3 | elapsed:  6.3min remaining:    0.0s\n",
      "[Parallel(n_jobs=-1)]: Done   3 out of   3 | elapsed:  6.3min finished\n"
     ]
    },
    {
     "name": "stdout",
     "output_type": "stream",
     "text": [
      "MultinomialNB\n",
      "Fitting 3 folds for each of 1 candidates, totalling 3 fits\n",
      "Training model on choice driver value\n",
      "\n",
      "LogisticRegression\n",
      "Fitting 3 folds for each of 1 candidates, totalling 3 fits\n"
     ]
    },
    {
     "name": "stderr",
     "output_type": "stream",
     "text": [
      "/Users/jj/anaconda3/lib/python3.7/site-packages/sklearn/model_selection/_split.py:1978: FutureWarning: The default value of cv will change from 3 to 5 in version 0.22. Specify it explicitly to silence this warning.\n",
      "  warnings.warn(CV_WARNING, FutureWarning)\n",
      "[Parallel(n_jobs=-1)]: Using backend LokyBackend with 4 concurrent workers.\n",
      "[Parallel(n_jobs=-1)]: Done   1 tasks      | elapsed:    0.1s\n",
      "[Parallel(n_jobs=-1)]: Batch computation too fast (0.0638s.) Setting batch_size=6.\n",
      "[Parallel(n_jobs=-1)]: Done   3 out of   3 | elapsed:    0.1s remaining:    0.0s\n",
      "[Parallel(n_jobs=-1)]: Done   3 out of   3 | elapsed:    0.1s finished\n",
      "/Users/jj/anaconda3/lib/python3.7/site-packages/sklearn/model_selection/_split.py:1978: FutureWarning: The default value of cv will change from 3 to 5 in version 0.22. Specify it explicitly to silence this warning.\n",
      "  warnings.warn(CV_WARNING, FutureWarning)\n",
      "[Parallel(n_jobs=-1)]: Using backend LokyBackend with 4 concurrent workers.\n",
      "[Parallel(n_jobs=-1)]: Done   1 tasks      | elapsed:    0.1s\n",
      "[Parallel(n_jobs=-1)]: Batch computation too fast (0.1332s.) Setting batch_size=2.\n",
      "[Parallel(n_jobs=-1)]: Done   3 out of   3 | elapsed:    0.1s remaining:    0.0s\n",
      "[Parallel(n_jobs=-1)]: Done   3 out of   3 | elapsed:    0.1s finished\n",
      "/Users/jj/anaconda3/lib/python3.7/site-packages/sklearn/linear_model/logistic.py:432: FutureWarning: Default solver will be changed to 'lbfgs' in 0.22. Specify a solver to silence this warning.\n",
      "  FutureWarning)\n",
      "/Users/jj/anaconda3/lib/python3.7/site-packages/sklearn/model_selection/_split.py:1978: FutureWarning: The default value of cv will change from 3 to 5 in version 0.22. Specify it explicitly to silence this warning.\n",
      "  warnings.warn(CV_WARNING, FutureWarning)\n",
      "[Parallel(n_jobs=-1)]: Using backend LokyBackend with 4 concurrent workers.\n"
     ]
    },
    {
     "name": "stdout",
     "output_type": "stream",
     "text": [
      "SVM\n",
      "Fitting 3 folds for each of 1 candidates, totalling 3 fits\n"
     ]
    },
    {
     "name": "stderr",
     "output_type": "stream",
     "text": [
      "[Parallel(n_jobs=-1)]: Done   1 tasks      | elapsed:  1.1min\n",
      "[Parallel(n_jobs=-1)]: Done   3 out of   3 | elapsed:  1.3min remaining:    0.0s\n",
      "[Parallel(n_jobs=-1)]: Done   3 out of   3 | elapsed:  1.3min finished\n"
     ]
    },
    {
     "name": "stdout",
     "output_type": "stream",
     "text": [
      "RandomForest\n",
      "Fitting 3 folds for each of 1 candidates, totalling 3 fits\n"
     ]
    },
    {
     "name": "stderr",
     "output_type": "stream",
     "text": [
      "/Users/jj/anaconda3/lib/python3.7/site-packages/sklearn/model_selection/_split.py:1978: FutureWarning: The default value of cv will change from 3 to 5 in version 0.22. Specify it explicitly to silence this warning.\n",
      "  warnings.warn(CV_WARNING, FutureWarning)\n",
      "[Parallel(n_jobs=-1)]: Using backend LokyBackend with 4 concurrent workers.\n",
      "[Parallel(n_jobs=-1)]: Done   1 tasks      | elapsed:    1.0s\n",
      "[Parallel(n_jobs=-1)]: Done   3 out of   3 | elapsed:    1.9s remaining:    0.0s\n",
      "[Parallel(n_jobs=-1)]: Done   3 out of   3 | elapsed:    1.9s finished\n"
     ]
    },
    {
     "name": "stdout",
     "output_type": "stream",
     "text": [
      "GradientBoostingClassifier\n",
      "Fitting 3 folds for each of 1 candidates, totalling 3 fits\n"
     ]
    },
    {
     "name": "stderr",
     "output_type": "stream",
     "text": [
      "/Users/jj/anaconda3/lib/python3.7/site-packages/sklearn/model_selection/_split.py:1978: FutureWarning: The default value of cv will change from 3 to 5 in version 0.22. Specify it explicitly to silence this warning.\n",
      "  warnings.warn(CV_WARNING, FutureWarning)\n",
      "[Parallel(n_jobs=-1)]: Using backend LokyBackend with 4 concurrent workers.\n",
      "[Parallel(n_jobs=-1)]: Done   1 tasks      | elapsed:  1.2min\n",
      "[Parallel(n_jobs=-1)]: Done   3 out of   3 | elapsed:  1.3min remaining:    0.0s\n",
      "[Parallel(n_jobs=-1)]: Done   3 out of   3 | elapsed:  1.3min finished\n"
     ]
    },
    {
     "name": "stdout",
     "output_type": "stream",
     "text": [
      "MultinomialNB\n",
      "Fitting 3 folds for each of 1 candidates, totalling 3 fits\n"
     ]
    },
    {
     "name": "stderr",
     "output_type": "stream",
     "text": [
      "/Users/jj/anaconda3/lib/python3.7/site-packages/sklearn/model_selection/_split.py:1978: FutureWarning: The default value of cv will change from 3 to 5 in version 0.22. Specify it explicitly to silence this warning.\n",
      "  warnings.warn(CV_WARNING, FutureWarning)\n",
      "[Parallel(n_jobs=-1)]: Using backend LokyBackend with 4 concurrent workers.\n"
     ]
    },
    {
     "name": "stdout",
     "output_type": "stream",
     "text": [
      "Training model on choice driver service\n",
      "\n",
      "LogisticRegression\n",
      "Fitting 3 folds for each of 1 candidates, totalling 3 fits\n"
     ]
    },
    {
     "name": "stderr",
     "output_type": "stream",
     "text": [
      "[Parallel(n_jobs=-1)]: Done   1 tasks      | elapsed:    0.1s\n",
      "[Parallel(n_jobs=-1)]: Batch computation too fast (0.0766s.) Setting batch_size=4.\n",
      "[Parallel(n_jobs=-1)]: Done   3 out of   3 | elapsed:    0.1s remaining:    0.0s\n",
      "[Parallel(n_jobs=-1)]: Done   3 out of   3 | elapsed:    0.1s finished\n",
      "/Users/jj/anaconda3/lib/python3.7/site-packages/sklearn/model_selection/_split.py:1978: FutureWarning: The default value of cv will change from 3 to 5 in version 0.22. Specify it explicitly to silence this warning.\n",
      "  warnings.warn(CV_WARNING, FutureWarning)\n",
      "[Parallel(n_jobs=-1)]: Using backend LokyBackend with 4 concurrent workers.\n",
      "[Parallel(n_jobs=-1)]: Done   1 tasks      | elapsed:    0.2s\n",
      "[Parallel(n_jobs=-1)]: Batch computation too fast (0.1570s.) Setting batch_size=2.\n",
      "[Parallel(n_jobs=-1)]: Done   3 out of   3 | elapsed:    0.2s remaining:    0.0s\n",
      "[Parallel(n_jobs=-1)]: Done   3 out of   3 | elapsed:    0.2s finished\n",
      "/Users/jj/anaconda3/lib/python3.7/site-packages/sklearn/linear_model/logistic.py:432: FutureWarning: Default solver will be changed to 'lbfgs' in 0.22. Specify a solver to silence this warning.\n",
      "  FutureWarning)\n"
     ]
    },
    {
     "name": "stdout",
     "output_type": "stream",
     "text": [
      "SVM\n",
      "Fitting 3 folds for each of 1 candidates, totalling 3 fits\n"
     ]
    },
    {
     "name": "stderr",
     "output_type": "stream",
     "text": [
      "/Users/jj/anaconda3/lib/python3.7/site-packages/sklearn/model_selection/_split.py:1978: FutureWarning: The default value of cv will change from 3 to 5 in version 0.22. Specify it explicitly to silence this warning.\n",
      "  warnings.warn(CV_WARNING, FutureWarning)\n",
      "[Parallel(n_jobs=-1)]: Using backend LokyBackend with 4 concurrent workers.\n",
      "[Parallel(n_jobs=-1)]: Done   1 tasks      | elapsed:   53.9s\n",
      "[Parallel(n_jobs=-1)]: Done   3 out of   3 | elapsed:   59.7s remaining:    0.0s\n",
      "[Parallel(n_jobs=-1)]: Done   3 out of   3 | elapsed:   59.7s finished\n"
     ]
    },
    {
     "name": "stdout",
     "output_type": "stream",
     "text": [
      "RandomForest\n",
      "Fitting 3 folds for each of 1 candidates, totalling 3 fits\n"
     ]
    },
    {
     "name": "stderr",
     "output_type": "stream",
     "text": [
      "/Users/jj/anaconda3/lib/python3.7/site-packages/sklearn/model_selection/_split.py:1978: FutureWarning: The default value of cv will change from 3 to 5 in version 0.22. Specify it explicitly to silence this warning.\n",
      "  warnings.warn(CV_WARNING, FutureWarning)\n",
      "[Parallel(n_jobs=-1)]: Using backend LokyBackend with 4 concurrent workers.\n",
      "[Parallel(n_jobs=-1)]: Done   1 tasks      | elapsed:    8.1s\n",
      "[Parallel(n_jobs=-1)]: Done   3 out of   3 | elapsed:    9.2s remaining:    0.0s\n",
      "[Parallel(n_jobs=-1)]: Done   3 out of   3 | elapsed:    9.2s finished\n"
     ]
    },
    {
     "name": "stdout",
     "output_type": "stream",
     "text": [
      "GradientBoostingClassifier\n",
      "Fitting 3 folds for each of 1 candidates, totalling 3 fits\n"
     ]
    },
    {
     "name": "stderr",
     "output_type": "stream",
     "text": [
      "/Users/jj/anaconda3/lib/python3.7/site-packages/sklearn/model_selection/_split.py:1978: FutureWarning: The default value of cv will change from 3 to 5 in version 0.22. Specify it explicitly to silence this warning.\n",
      "  warnings.warn(CV_WARNING, FutureWarning)\n",
      "[Parallel(n_jobs=-1)]: Using backend LokyBackend with 4 concurrent workers.\n",
      "[Parallel(n_jobs=-1)]: Done   1 tasks      | elapsed:  1.5min\n",
      "[Parallel(n_jobs=-1)]: Done   3 out of   3 | elapsed:  1.6min remaining:    0.0s\n",
      "[Parallel(n_jobs=-1)]: Done   3 out of   3 | elapsed:  1.6min finished\n"
     ]
    },
    {
     "name": "stdout",
     "output_type": "stream",
     "text": [
      "MultinomialNB\n",
      "Fitting 3 folds for each of 1 candidates, totalling 3 fits\n",
      "Training model on choice driver convenience\n",
      "\n",
      "LogisticRegression\n",
      "Fitting 3 folds for each of 1 candidates, totalling 3 fits\n"
     ]
    },
    {
     "name": "stderr",
     "output_type": "stream",
     "text": [
      "/Users/jj/anaconda3/lib/python3.7/site-packages/sklearn/model_selection/_split.py:1978: FutureWarning: The default value of cv will change from 3 to 5 in version 0.22. Specify it explicitly to silence this warning.\n",
      "  warnings.warn(CV_WARNING, FutureWarning)\n",
      "[Parallel(n_jobs=-1)]: Using backend LokyBackend with 4 concurrent workers.\n",
      "[Parallel(n_jobs=-1)]: Done   1 tasks      | elapsed:    0.1s\n",
      "[Parallel(n_jobs=-1)]: Batch computation too fast (0.0544s.) Setting batch_size=6.\n",
      "[Parallel(n_jobs=-1)]: Done   3 out of   3 | elapsed:    0.1s remaining:    0.0s\n",
      "[Parallel(n_jobs=-1)]: Done   3 out of   3 | elapsed:    0.1s finished\n",
      "/Users/jj/anaconda3/lib/python3.7/site-packages/sklearn/model_selection/_split.py:1978: FutureWarning: The default value of cv will change from 3 to 5 in version 0.22. Specify it explicitly to silence this warning.\n",
      "  warnings.warn(CV_WARNING, FutureWarning)\n",
      "[Parallel(n_jobs=-1)]: Using backend LokyBackend with 4 concurrent workers.\n",
      "[Parallel(n_jobs=-1)]: Done   1 tasks      | elapsed:    0.1s\n",
      "[Parallel(n_jobs=-1)]: Batch computation too fast (0.1354s.) Setting batch_size=2.\n",
      "[Parallel(n_jobs=-1)]: Done   3 out of   3 | elapsed:    0.2s remaining:    0.0s\n",
      "[Parallel(n_jobs=-1)]: Done   3 out of   3 | elapsed:    0.2s finished\n",
      "/Users/jj/anaconda3/lib/python3.7/site-packages/sklearn/linear_model/logistic.py:432: FutureWarning: Default solver will be changed to 'lbfgs' in 0.22. Specify a solver to silence this warning.\n",
      "  FutureWarning)\n",
      "/Users/jj/anaconda3/lib/python3.7/site-packages/sklearn/model_selection/_split.py:1978: FutureWarning: The default value of cv will change from 3 to 5 in version 0.22. Specify it explicitly to silence this warning.\n",
      "  warnings.warn(CV_WARNING, FutureWarning)\n",
      "[Parallel(n_jobs=-1)]: Using backend LokyBackend with 4 concurrent workers.\n"
     ]
    },
    {
     "name": "stdout",
     "output_type": "stream",
     "text": [
      "SVM\n",
      "Fitting 3 folds for each of 1 candidates, totalling 3 fits\n"
     ]
    },
    {
     "name": "stderr",
     "output_type": "stream",
     "text": [
      "[Parallel(n_jobs=-1)]: Done   1 tasks      | elapsed:   38.2s\n",
      "[Parallel(n_jobs=-1)]: Done   3 out of   3 | elapsed:   40.9s remaining:    0.0s\n",
      "[Parallel(n_jobs=-1)]: Done   3 out of   3 | elapsed:   40.9s finished\n"
     ]
    },
    {
     "name": "stdout",
     "output_type": "stream",
     "text": [
      "RandomForest\n",
      "Fitting 3 folds for each of 1 candidates, totalling 3 fits\n"
     ]
    },
    {
     "name": "stderr",
     "output_type": "stream",
     "text": [
      "/Users/jj/anaconda3/lib/python3.7/site-packages/sklearn/model_selection/_split.py:1978: FutureWarning: The default value of cv will change from 3 to 5 in version 0.22. Specify it explicitly to silence this warning.\n",
      "  warnings.warn(CV_WARNING, FutureWarning)\n",
      "[Parallel(n_jobs=-1)]: Using backend LokyBackend with 4 concurrent workers.\n",
      "[Parallel(n_jobs=-1)]: Done   1 tasks      | elapsed:    1.0s\n",
      "[Parallel(n_jobs=-1)]: Done   3 out of   3 | elapsed:    1.0s remaining:    0.0s\n",
      "[Parallel(n_jobs=-1)]: Done   3 out of   3 | elapsed:    1.0s finished\n"
     ]
    },
    {
     "name": "stdout",
     "output_type": "stream",
     "text": [
      "GradientBoostingClassifier\n",
      "Fitting 3 folds for each of 1 candidates, totalling 3 fits\n"
     ]
    },
    {
     "name": "stderr",
     "output_type": "stream",
     "text": [
      "/Users/jj/anaconda3/lib/python3.7/site-packages/sklearn/model_selection/_split.py:1978: FutureWarning: The default value of cv will change from 3 to 5 in version 0.22. Specify it explicitly to silence this warning.\n",
      "  warnings.warn(CV_WARNING, FutureWarning)\n",
      "[Parallel(n_jobs=-1)]: Using backend LokyBackend with 4 concurrent workers.\n",
      "[Parallel(n_jobs=-1)]: Done   1 tasks      | elapsed:   59.2s\n",
      "[Parallel(n_jobs=-1)]: Done   3 out of   3 | elapsed:  1.1min remaining:    0.0s\n",
      "[Parallel(n_jobs=-1)]: Done   3 out of   3 | elapsed:  1.1min finished\n"
     ]
    },
    {
     "name": "stdout",
     "output_type": "stream",
     "text": [
      "MultinomialNB\n",
      "Fitting 3 folds for each of 1 candidates, totalling 3 fits\n",
      "Training model on choice driver consistency\n",
      "\n",
      "LogisticRegression\n",
      "Fitting 3 folds for each of 1 candidates, totalling 3 fits\n"
     ]
    },
    {
     "name": "stderr",
     "output_type": "stream",
     "text": [
      "/Users/jj/anaconda3/lib/python3.7/site-packages/sklearn/model_selection/_split.py:1978: FutureWarning: The default value of cv will change from 3 to 5 in version 0.22. Specify it explicitly to silence this warning.\n",
      "  warnings.warn(CV_WARNING, FutureWarning)\n",
      "[Parallel(n_jobs=-1)]: Using backend LokyBackend with 4 concurrent workers.\n",
      "[Parallel(n_jobs=-1)]: Done   1 tasks      | elapsed:    0.1s\n",
      "[Parallel(n_jobs=-1)]: Batch computation too fast (0.0617s.) Setting batch_size=6.\n",
      "[Parallel(n_jobs=-1)]: Done   3 out of   3 | elapsed:    0.1s remaining:    0.0s\n",
      "[Parallel(n_jobs=-1)]: Done   3 out of   3 | elapsed:    0.1s finished\n",
      "/Users/jj/anaconda3/lib/python3.7/site-packages/sklearn/model_selection/_split.py:1978: FutureWarning: The default value of cv will change from 3 to 5 in version 0.22. Specify it explicitly to silence this warning.\n",
      "  warnings.warn(CV_WARNING, FutureWarning)\n",
      "[Parallel(n_jobs=-1)]: Using backend LokyBackend with 4 concurrent workers.\n",
      "[Parallel(n_jobs=-1)]: Done   1 tasks      | elapsed:    0.1s\n",
      "[Parallel(n_jobs=-1)]: Batch computation too fast (0.1381s.) Setting batch_size=2.\n",
      "[Parallel(n_jobs=-1)]: Done   3 out of   3 | elapsed:    0.1s remaining:    0.0s\n",
      "[Parallel(n_jobs=-1)]: Done   3 out of   3 | elapsed:    0.1s finished\n",
      "/Users/jj/anaconda3/lib/python3.7/site-packages/sklearn/linear_model/logistic.py:432: FutureWarning: Default solver will be changed to 'lbfgs' in 0.22. Specify a solver to silence this warning.\n",
      "  FutureWarning)\n",
      "/Users/jj/anaconda3/lib/python3.7/site-packages/sklearn/model_selection/_split.py:1978: FutureWarning: The default value of cv will change from 3 to 5 in version 0.22. Specify it explicitly to silence this warning.\n",
      "  warnings.warn(CV_WARNING, FutureWarning)\n",
      "[Parallel(n_jobs=-1)]: Using backend LokyBackend with 4 concurrent workers.\n"
     ]
    },
    {
     "name": "stdout",
     "output_type": "stream",
     "text": [
      "SVM\n",
      "Fitting 3 folds for each of 1 candidates, totalling 3 fits\n"
     ]
    },
    {
     "name": "stderr",
     "output_type": "stream",
     "text": [
      "[Parallel(n_jobs=-1)]: Done   1 tasks      | elapsed:  1.1min\n",
      "[Parallel(n_jobs=-1)]: Done   3 out of   3 | elapsed:  1.2min remaining:    0.0s\n",
      "[Parallel(n_jobs=-1)]: Done   3 out of   3 | elapsed:  1.2min finished\n"
     ]
    },
    {
     "name": "stdout",
     "output_type": "stream",
     "text": [
      "RandomForest\n",
      "Fitting 3 folds for each of 1 candidates, totalling 3 fits\n"
     ]
    },
    {
     "name": "stderr",
     "output_type": "stream",
     "text": [
      "/Users/jj/anaconda3/lib/python3.7/site-packages/sklearn/model_selection/_split.py:1978: FutureWarning: The default value of cv will change from 3 to 5 in version 0.22. Specify it explicitly to silence this warning.\n",
      "  warnings.warn(CV_WARNING, FutureWarning)\n",
      "[Parallel(n_jobs=-1)]: Using backend LokyBackend with 4 concurrent workers.\n",
      "[Parallel(n_jobs=-1)]: Done   1 tasks      | elapsed:    1.0s\n",
      "[Parallel(n_jobs=-1)]: Done   3 out of   3 | elapsed:    1.2s remaining:    0.0s\n",
      "[Parallel(n_jobs=-1)]: Done   3 out of   3 | elapsed:    1.2s finished\n"
     ]
    },
    {
     "name": "stdout",
     "output_type": "stream",
     "text": [
      "GradientBoostingClassifier\n",
      "Fitting 3 folds for each of 1 candidates, totalling 3 fits\n"
     ]
    },
    {
     "name": "stderr",
     "output_type": "stream",
     "text": [
      "/Users/jj/anaconda3/lib/python3.7/site-packages/sklearn/model_selection/_split.py:1978: FutureWarning: The default value of cv will change from 3 to 5 in version 0.22. Specify it explicitly to silence this warning.\n",
      "  warnings.warn(CV_WARNING, FutureWarning)\n",
      "[Parallel(n_jobs=-1)]: Using backend LokyBackend with 4 concurrent workers.\n",
      "[Parallel(n_jobs=-1)]: Done   1 tasks      | elapsed:  1.7min\n",
      "[Parallel(n_jobs=-1)]: Done   3 out of   3 | elapsed:  1.8min remaining:    0.0s\n",
      "[Parallel(n_jobs=-1)]: Done   3 out of   3 | elapsed:  1.8min finished\n"
     ]
    },
    {
     "name": "stdout",
     "output_type": "stream",
     "text": [
      "MultinomialNB\n",
      "Fitting 3 folds for each of 1 candidates, totalling 3 fits\n"
     ]
    },
    {
     "name": "stderr",
     "output_type": "stream",
     "text": [
      "/Users/jj/anaconda3/lib/python3.7/site-packages/sklearn/model_selection/_split.py:1978: FutureWarning: The default value of cv will change from 3 to 5 in version 0.22. Specify it explicitly to silence this warning.\n",
      "  warnings.warn(CV_WARNING, FutureWarning)\n",
      "[Parallel(n_jobs=-1)]: Using backend LokyBackend with 4 concurrent workers.\n",
      "[Parallel(n_jobs=-1)]: Done   1 tasks      | elapsed:    0.1s\n",
      "[Parallel(n_jobs=-1)]: Batch computation too fast (0.0561s.) Setting batch_size=6.\n",
      "[Parallel(n_jobs=-1)]: Done   3 out of   3 | elapsed:    0.1s remaining:    0.0s\n",
      "[Parallel(n_jobs=-1)]: Done   3 out of   3 | elapsed:    0.2s finished\n"
     ]
    },
    {
     "name": "stdout",
     "output_type": "stream",
     "text": [
      "SVC(C=2.3, cache_size=200, class_weight='balanced', coef0=0.0,\n",
      "    decision_function_shape='ovr', degree=3, gamma=1, kernel='rbf', max_iter=-1,\n",
      "    probability=False, random_state=None, shrinking=True, tol=0.001,\n",
      "    verbose=False)\n",
      "\n",
      "\n",
      "Classification report:\n",
      "              precision    recall  f1-score   support\n",
      "\n",
      "         0.0       0.80      0.38      0.51       511\n",
      "         1.0       0.77      0.96      0.85      1116\n",
      "\n",
      "    accuracy                           0.77      1627\n",
      "   macro avg       0.79      0.67      0.68      1627\n",
      "weighted avg       0.78      0.77      0.75      1627\n",
      "\n",
      "[[ 192  319]\n",
      " [  48 1068]]\n",
      "77.44314689612784\n",
      "---------------------------------------------\n",
      "MultinomialNB(alpha=1.0, class_prior=None, fit_prior=True)\n",
      "\n",
      "\n",
      "Classification report:\n",
      "              precision    recall  f1-score   support\n",
      "\n",
      "         0.0       0.99      1.00      0.99      1605\n",
      "         1.0       0.00      0.00      0.00        22\n",
      "\n",
      "    accuracy                           0.99      1627\n",
      "   macro avg       0.49      0.50      0.50      1627\n",
      "weighted avg       0.97      0.99      0.98      1627\n",
      "\n",
      "[[1605    0]\n",
      " [  22    0]]\n",
      "98.6478180700676\n",
      "---------------------------------------------\n",
      "MultinomialNB(alpha=1.0, class_prior=None, fit_prior=True)\n",
      "\n",
      "\n",
      "Classification report:\n",
      "              precision    recall  f1-score   support\n",
      "\n",
      "         0.0       0.98      1.00      0.99      1590\n",
      "         1.0       0.40      0.11      0.17        37\n",
      "\n",
      "    accuracy                           0.98      1627\n",
      "   macro avg       0.69      0.55      0.58      1627\n",
      "weighted avg       0.97      0.98      0.97      1627\n",
      "\n",
      "[[1584    6]\n",
      " [  33    4]]\n",
      "97.60295021511986\n",
      "---------------------------------------------\n",
      "GradientBoostingClassifier(criterion='friedman_mse', init=None,\n",
      "                           learning_rate=0.01, loss='deviance', max_depth=7,\n",
      "                           max_features=None, max_leaf_nodes=None,\n",
      "                           min_impurity_decrease=0.0, min_impurity_split=None,\n",
      "                           min_samples_leaf=1, min_samples_split=2,\n",
      "                           min_weight_fraction_leaf=0.0, n_estimators=100,\n",
      "                           n_iter_no_change=None, presort='auto',\n",
      "                           random_state=None, subsample=1.0, tol=0.0001,\n",
      "                           validation_fraction=0.1, verbose=0,\n",
      "                           warm_start=False)\n",
      "\n",
      "\n",
      "Classification report:\n",
      "              precision    recall  f1-score   support\n",
      "\n",
      "         0.0       0.86      0.85      0.86       830\n",
      "         1.0       0.85      0.85      0.85       797\n",
      "\n",
      "    accuracy                           0.85      1627\n",
      "   macro avg       0.85      0.85      0.85      1627\n",
      "weighted avg       0.85      0.85      0.85      1627\n",
      "\n",
      "[[709 121]\n",
      " [116 681]]\n",
      "85.43331284572834\n",
      "---------------------------------------------\n",
      "SVC(C=2.3, cache_size=200, class_weight='balanced', coef0=0.0,\n",
      "    decision_function_shape='ovr', degree=3, gamma=1, kernel='rbf', max_iter=-1,\n",
      "    probability=False, random_state=None, shrinking=True, tol=0.001,\n",
      "    verbose=False)\n",
      "\n",
      "\n",
      "Classification report:\n"
     ]
    },
    {
     "name": "stderr",
     "output_type": "stream",
     "text": [
      "/Users/jj/anaconda3/lib/python3.7/site-packages/sklearn/metrics/classification.py:1437: UndefinedMetricWarning: Precision and F-score are ill-defined and being set to 0.0 in labels with no predicted samples.\n",
      "  'precision', 'predicted', average, warn_for)\n"
     ]
    },
    {
     "name": "stdout",
     "output_type": "stream",
     "text": [
      "              precision    recall  f1-score   support\n",
      "\n",
      "         0.0       0.92      0.92      0.92      1366\n",
      "         1.0       0.59      0.58      0.59       261\n",
      "\n",
      "    accuracy                           0.87      1627\n",
      "   macro avg       0.75      0.75      0.75      1627\n",
      "weighted avg       0.87      0.87      0.87      1627\n",
      "\n",
      "[[1260  106]\n",
      " [ 109  152]]\n",
      "86.78549477566072\n",
      "---------------------------------------------\n"
     ]
    },
    {
     "data": {
      "text/plain": [
       "\"\\njoblib.dump(best_model_food,'Exported_models/train_oldnew_test_new_food.pkl')\\njoblib.dump(best_model_service,'Exported_models/train_oldnew_test_new_service.pkl')\\njoblib.dump(best_model_value,'Exported_models/train_oldnew_test_new_value.pkl')\\njoblib.dump(best_model_consistency,'Exported_models/train_oldnew_test_new_consistency.pkl')\\njoblib.dump(best_model_convenience,'Exported_models/train_oldnew_test_new_convenience.pkl')\\njoblib.dump(best_model_food.best_estimator_, 'Exported_models/train_oldnew_test_new_food_bestmodel.pkl')\\njoblib.dump(best_model_consistency.best_estimator_, 'Exported_models/train_oldnew_test_new_consistency_bestmodel.pkl')\\njoblib.dump(best_model_convenience.best_estimator_, 'Exported_models/train_oldnew_test_new_convenience_bestmodel.pkl')\\njoblib.dump(best_model_service.best_estimator_, 'Exported_models/train_oldnew_test_new_service_bestmodel.pkl')\\njoblib.dump(best_model_value.best_estimator_, 'Exported_models/train_oldnew_test_new_value_bestmodel.pkl')\\n\""
      ]
     },
     "execution_count": 15,
     "metadata": {},
     "output_type": "execute_result"
    }
   ],
   "source": [
    "#training on old+67% old and testing on 33% new\n",
    "\n",
    "#selecting the neccessary columns from the old and new data frame\n",
    "newdata1=newdata[['Text','experience','service','consistency','value','food','convenience','Sentiment']].copy()\n",
    "olddata1=olddata[['sentiment_food','sentiment_service','sentiment_value','sentiment_consistency','sentiment_convenience','text','rating']].copy()\n",
    "\n",
    "#splitting the test data into 67% for training and rest for testing\n",
    "train1,train2,test1,test2= train_test_split(newdata1,newdata1['Sentiment'],random_state=0,test_size=0.33)\n",
    "\n",
    "#renaming columns of the old data to prevent problems during merging of the data frames\n",
    "olddata1['food']=olddata1['sentiment_food']\n",
    "olddata1['value']=olddata1['sentiment_value']\n",
    "olddata1['consistency']=olddata1['sentiment_consistency']\n",
    "olddata1['service']=olddata1['sentiment_service']\n",
    "olddata1['convenience']=olddata1['sentiment_convenience']\n",
    "olddata1['Text']=olddata1['text']\n",
    "olddata1['Sentiment']=olddata1['rating']\n",
    "\n",
    "#selecting the required columns again\n",
    "olddata1=olddata1[['food','consistency','value','convenience','service','Text','Sentiment']]\n",
    "\n",
    "#drop the experience column\n",
    "train1=train1.drop(['experience'],axis=1)\n",
    "\n",
    "#join the old data and the 67% training set from the new data\n",
    "joineddata=pd.concat([olddata1,train1],axis=0)\n",
    "#creating arrays from the choice drivers and reviews\n",
    "text_train= joineddata['Text'].values\n",
    "text_test=train2['Text'].values\n",
    "\n",
    "\n",
    "food_train= joineddata['food'].values\n",
    "food_test=train2['food'].values\n",
    "\n",
    "consistency_train= joineddata['consistency'].values\n",
    "consistency_test=train2['consistency'].values\n",
    "\n",
    "convenience_train= joineddata['convenience'].values\n",
    "convenience_test=train2['convenience'].values\n",
    "\n",
    "value_train= joineddata['value'].values\n",
    "value_test=train2['value'].values\n",
    "\n",
    "service_train= joineddata['service'].values\n",
    "service_test=train2['service'].values\n",
    "\n",
    "#bag of words\n",
    "language = 'english'\n",
    "minWordLength = 2 # shorter words will be removed\n",
    "\n",
    "for i in range(len(text_train)):\n",
    "    text_train[i] = text_preprocessing(text_train[i], language, minWordLength)\n",
    "for i in range(len(text_test)):\n",
    "    text_test[i] = text_preprocessing(text_test[i], language, minWordLength)\n",
    "        \n",
    "count_vect = CountVectorizer(ngram_range=(1,3),max_features=20000)\n",
    "tfidf_transformer = TfidfTransformer(use_idf=True)\n",
    "    \n",
    "count_vect.fit(text_train)\n",
    "text_train_bow = count_vect.transform(text_train)\n",
    "text_test_bow = count_vect.transform(text_test)\n",
    "    \n",
    "tfidf_transformer.fit_transform(text_train_bow)\n",
    "reviews_bow_train = tfidf_transformer.transform(text_train_bow)\n",
    "reviews_bow_test = tfidf_transformer.transform(text_test_bow)\n",
    "\n",
    "joblib.dump(count_vect,'Exported_models/count_vectorizer_oldnewtrain_newtest_classification.pkl')\n",
    "joblib.dump(tfidf_transformer,'Exported_models/tfidftransformer_oldnewtrain_newtest_classification.pkl')\n",
    "\n",
    "#training the models\n",
    "print('Training model on choice driver food'+'\\n')\n",
    "best_model_food = select_best_model(reviews_bow_train,food_train,reviews_bow_test,food_test)\n",
    "\n",
    "print('Training model on choice driver value' +'\\n')\n",
    "best_model_value = select_best_model(reviews_bow_train,value_train,reviews_bow_test,value_test)\n",
    "print('Training model on choice driver service' +'\\n')\n",
    "best_model_service = select_best_model(reviews_bow_train,service_train,reviews_bow_test,service_test)\n",
    "print('Training model on choice driver convenience' +'\\n')\n",
    "best_model_convenience = select_best_model(reviews_bow_train,convenience_train,reviews_bow_test,convenience_test)\n",
    "print('Training model on choice driver consistency' +'\\n')\n",
    "best_model_consistency = select_best_model(reviews_bow_train,consistency_train,reviews_bow_test,consistency_test)\n",
    "\n",
    "#testing on the test data\n",
    "\n",
    "print(best_model_food.best_estimator_)\n",
    "print('\\n')\n",
    "print('Classification report:')\n",
    "y_pred_food = best_model_food.predict(reviews_bow_test)\n",
    "print(classification_report(food_test, y_pred_food))\n",
    "cf_food = confusion_matrix(food_test, y_pred_food)\n",
    "print(cf_food)\n",
    "print(accuracy_score(food_test, y_pred_food) * 100)\n",
    "\n",
    "print('---------------------------------------------')\n",
    "\n",
    "print(best_model_consistency.best_estimator_)\n",
    "print('\\n')\n",
    "print('Classification report:')\n",
    "y_pred_consistency = best_model_consistency.predict(reviews_bow_test)\n",
    "print(classification_report(consistency_test, y_pred_consistency))\n",
    "cf_consistency = confusion_matrix(consistency_test, y_pred_consistency)\n",
    "print(cf_consistency)\n",
    "print(accuracy_score(consistency_test, y_pred_consistency) * 100)\n",
    "\n",
    "print('---------------------------------------------')\n",
    "\n",
    "print(best_model_convenience.best_estimator_)\n",
    "print('\\n')\n",
    "print('Classification report:')\n",
    "y_pred_convenience = best_model_convenience.predict(reviews_bow_test)\n",
    "print(classification_report(convenience_test, y_pred_convenience))\n",
    "cf_convenience = confusion_matrix(convenience_test, y_pred_convenience)\n",
    "print(cf_convenience)\n",
    "print(accuracy_score(convenience_test, y_pred_convenience) * 100)\n",
    "\n",
    "print('---------------------------------------------')\n",
    "\n",
    "print(best_model_service.best_estimator_)\n",
    "print('\\n')\n",
    "print('Classification report:')\n",
    "y_pred_service = best_model_service.predict(reviews_bow_test)\n",
    "print(classification_report(service_test, y_pred_service))\n",
    "cf_service = confusion_matrix(service_test, y_pred_service)\n",
    "print(cf_service)\n",
    "print(accuracy_score(service_test, y_pred_service) * 100)\n",
    "\n",
    "print('---------------------------------------------')\n",
    "\n",
    "print(best_model_value.best_estimator_)\n",
    "print('\\n')\n",
    "print('Classification report:')\n",
    "y_pred_value = best_model_value.predict(reviews_bow_test)\n",
    "print(classification_report(value_test, y_pred_value))\n",
    "cf_value = confusion_matrix(value_test, y_pred_value)\n",
    "print(cf_value)\n",
    "print(accuracy_score(value_test, y_pred_value) * 100)\n",
    "\n",
    "print('---------------------------------------------')\n",
    "\"\"\"\n",
    "joblib.dump(best_model_food,'Exported_models/train_oldnew_test_new_food.pkl')\n",
    "joblib.dump(best_model_service,'Exported_models/train_oldnew_test_new_service.pkl')\n",
    "joblib.dump(best_model_value,'Exported_models/train_oldnew_test_new_value.pkl')\n",
    "joblib.dump(best_model_consistency,'Exported_models/train_oldnew_test_new_consistency.pkl')\n",
    "joblib.dump(best_model_convenience,'Exported_models/train_oldnew_test_new_convenience.pkl')\n",
    "joblib.dump(best_model_food.best_estimator_, 'Exported_models/train_oldnew_test_new_food_bestmodel.pkl')\n",
    "joblib.dump(best_model_consistency.best_estimator_, 'Exported_models/train_oldnew_test_new_consistency_bestmodel.pkl')\n",
    "joblib.dump(best_model_convenience.best_estimator_, 'Exported_models/train_oldnew_test_new_convenience_bestmodel.pkl')\n",
    "joblib.dump(best_model_service.best_estimator_, 'Exported_models/train_oldnew_test_new_service_bestmodel.pkl')\n",
    "joblib.dump(best_model_value.best_estimator_, 'Exported_models/train_oldnew_test_new_value_bestmodel.pkl')\n",
    "\"\"\""
   ]
  }
 ],
 "metadata": {
  "kernel_info": {
   "name": "python3"
  },
  "kernelspec": {
   "display_name": "Python 3",
   "language": "python",
   "name": "python3"
  },
  "language_info": {
   "codemirror_mode": {
    "name": "ipython",
    "version": 3
   },
   "file_extension": ".py",
   "mimetype": "text/x-python",
   "name": "python",
   "nbconvert_exporter": "python",
   "pygments_lexer": "ipython3",
   "version": "3.6.10"
  },
  "nteract": {
   "version": "0.15.0"
  }
 },
 "nbformat": 4,
 "nbformat_minor": 4
}
