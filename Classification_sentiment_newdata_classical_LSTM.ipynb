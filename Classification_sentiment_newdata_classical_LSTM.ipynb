{
  "cells": [
    {
      "cell_type": "markdown",
      "source": [
        "# Installing and loading packages"
      ],
      "metadata": {
        "colab_type": "text",
        "id": "mwux7DD4b_8t"
      }
    },
    {
      "cell_type": "code",
      "source": [
        "# Install packages if not done already\n",
        "import sys\n",
        "!{sys.executable} -m pip install numpy matplotlib pandas sklearn nltk textblob bs4 keras\n",
        "#Also in terminal: conda install tensorflow"
      ],
      "outputs": [
        {
          "output_type": "stream",
          "name": "stdout",
          "text": [
            "Requirement already satisfied: numpy in /Users/jj/anaconda3/lib/python3.7/site-packages (1.17.2)\n",
            "Requirement already satisfied: matplotlib in /Users/jj/anaconda3/lib/python3.7/site-packages (3.1.1)\n",
            "Requirement already satisfied: pandas in /Users/jj/anaconda3/lib/python3.7/site-packages (0.25.1)\n",
            "Requirement already satisfied: sklearn in /Users/jj/anaconda3/lib/python3.7/site-packages (0.0)\n",
            "Requirement already satisfied: nltk in /Users/jj/anaconda3/lib/python3.7/site-packages (3.4.5)\n",
            "Requirement already satisfied: textblob in /Users/jj/anaconda3/lib/python3.7/site-packages (0.15.3)\n",
            "Requirement already satisfied: bs4 in /Users/jj/anaconda3/lib/python3.7/site-packages (0.0.1)\n",
            "Requirement already satisfied: keras in /Users/jj/anaconda3/lib/python3.7/site-packages (2.3.1)\n",
            "Requirement already satisfied: cycler>=0.10 in /Users/jj/anaconda3/lib/python3.7/site-packages (from matplotlib) (0.10.0)\n",
            "Requirement already satisfied: kiwisolver>=1.0.1 in /Users/jj/anaconda3/lib/python3.7/site-packages (from matplotlib) (1.1.0)\n",
            "Requirement already satisfied: pyparsing!=2.0.4,!=2.1.2,!=2.1.6,>=2.0.1 in /Users/jj/anaconda3/lib/python3.7/site-packages (from matplotlib) (2.4.2)\n",
            "Requirement already satisfied: python-dateutil>=2.1 in /Users/jj/anaconda3/lib/python3.7/site-packages (from matplotlib) (2.8.0)\n",
            "Requirement already satisfied: pytz>=2017.2 in /Users/jj/anaconda3/lib/python3.7/site-packages (from pandas) (2019.3)\n",
            "Requirement already satisfied: scikit-learn in /Users/jj/anaconda3/lib/python3.7/site-packages (from sklearn) (0.21.3)\n",
            "Requirement already satisfied: six in /Users/jj/anaconda3/lib/python3.7/site-packages (from nltk) (1.12.0)\n",
            "Requirement already satisfied: beautifulsoup4 in /Users/jj/anaconda3/lib/python3.7/site-packages (from bs4) (4.8.0)\n",
            "Requirement already satisfied: keras-preprocessing>=1.0.5 in /Users/jj/anaconda3/lib/python3.7/site-packages (from keras) (1.1.0)\n",
            "Requirement already satisfied: scipy>=0.14 in /Users/jj/anaconda3/lib/python3.7/site-packages (from keras) (1.3.1)\n",
            "Requirement already satisfied: pyyaml in /Users/jj/anaconda3/lib/python3.7/site-packages (from keras) (5.1.2)\n",
            "Requirement already satisfied: h5py in /Users/jj/anaconda3/lib/python3.7/site-packages (from keras) (2.9.0)\n",
            "Requirement already satisfied: keras-applications>=1.0.6 in /Users/jj/anaconda3/lib/python3.7/site-packages (from keras) (1.0.8)\n",
            "Requirement already satisfied: setuptools in /Users/jj/anaconda3/lib/python3.7/site-packages (from kiwisolver>=1.0.1->matplotlib) (41.4.0)\n",
            "Requirement already satisfied: joblib>=0.11 in /Users/jj/anaconda3/lib/python3.7/site-packages (from scikit-learn->sklearn) (0.13.2)\n",
            "Requirement already satisfied: soupsieve>=1.2 in /Users/jj/anaconda3/lib/python3.7/site-packages (from beautifulsoup4->bs4) (1.9.3)\n"
          ]
        }
      ],
      "execution_count": 0,
      "metadata": {
        "colab": {},
        "colab_type": "code",
        "id": "GDPrIjkCb_81",
        "outputId": "155feaeb-3739-4aee-efbf-118d2c35560d"
      }
    },
    {
      "cell_type": "code",
      "source": [
        "#import required packages\n",
        "%matplotlib inline\n",
        "import matplotlib.pyplot as plt\n",
        "import numpy as np\n",
        "import pandas as pd\n",
        "import re\n",
        "\n",
        "from sklearn import linear_model\n",
        "from sklearn import svm\n",
        "from sklearn.linear_model import LogisticRegression\n",
        "from sklearn.model_selection import GridSearchCV\n",
        "from sklearn.svm import SVC\n",
        "\n",
        "from sklearn.model_selection import train_test_split , StratifiedShuffleSplit, StratifiedKFold\n",
        "from sklearn.metrics import classification_report\n",
        "from sklearn import preprocessing\n",
        "from sklearn.metrics import confusion_matrix, accuracy_score\n",
        "\n",
        "import nltk\n",
        "from nltk.corpus import stopwords\n",
        "from textblob import TextBlob\n",
        "from textblob import Word\n",
        "from bs4 import BeautifulSoup\n",
        "from nltk.stem.snowball import SnowballStemmer\n",
        "from sklearn.feature_extraction.text import CountVectorizer\n",
        "from sklearn.feature_extraction.text import TfidfTransformer\n",
        "from sklearn.externals import joblib\n",
        "from spacy.lang.en.stop_words import STOP_WORDS\n",
        "from sklearn.naive_bayes import MultinomialNB\n",
        "from sklearn.ensemble import GradientBoostingClassifier\n",
        "from sklearn.ensemble import RandomForestClassifier\n",
        "from string import punctuation\n",
        "from keras.preprocessing.text import Tokenizer\n",
        "from keras.preprocessing.sequence import pad_sequences\n",
        "from keras.models import Sequential,load_model\n",
        "from keras.layers import Embedding, LSTM, Dense, Dropout\n",
        "from keras.callbacks import EarlyStopping,ModelCheckpoint,ReduceLROnPlateau\n",
        "np.random.seed(0)"
      ],
      "outputs": [
        {
          "output_type": "stream",
          "name": "stderr",
          "text": [
            "/Users/jj/anaconda3/lib/python3.7/site-packages/sklearn/externals/joblib/__init__.py:15: DeprecationWarning: sklearn.externals.joblib is deprecated in 0.21 and will be removed in 0.23. Please import this functionality directly from joblib, which can be installed with: pip install joblib. If this warning is raised when loading pickled models, you may need to re-serialize those models with scikit-learn 0.21+.\n",
            "  warnings.warn(msg, category=DeprecationWarning)\n",
            "Using TensorFlow backend.\n",
            "/Users/jj/anaconda3/lib/python3.7/site-packages/tensorflow/python/framework/dtypes.py:526: FutureWarning: Passing (type, 1) or '1type' as a synonym of type is deprecated; in a future version of numpy, it will be understood as (type, (1,)) / '(1,)type'.\n",
            "  _np_qint8 = np.dtype([(\"qint8\", np.int8, 1)])\n",
            "/Users/jj/anaconda3/lib/python3.7/site-packages/tensorflow/python/framework/dtypes.py:527: FutureWarning: Passing (type, 1) or '1type' as a synonym of type is deprecated; in a future version of numpy, it will be understood as (type, (1,)) / '(1,)type'.\n",
            "  _np_quint8 = np.dtype([(\"quint8\", np.uint8, 1)])\n",
            "/Users/jj/anaconda3/lib/python3.7/site-packages/tensorflow/python/framework/dtypes.py:528: FutureWarning: Passing (type, 1) or '1type' as a synonym of type is deprecated; in a future version of numpy, it will be understood as (type, (1,)) / '(1,)type'.\n",
            "  _np_qint16 = np.dtype([(\"qint16\", np.int16, 1)])\n",
            "/Users/jj/anaconda3/lib/python3.7/site-packages/tensorflow/python/framework/dtypes.py:529: FutureWarning: Passing (type, 1) or '1type' as a synonym of type is deprecated; in a future version of numpy, it will be understood as (type, (1,)) / '(1,)type'.\n",
            "  _np_quint16 = np.dtype([(\"quint16\", np.uint16, 1)])\n",
            "/Users/jj/anaconda3/lib/python3.7/site-packages/tensorflow/python/framework/dtypes.py:530: FutureWarning: Passing (type, 1) or '1type' as a synonym of type is deprecated; in a future version of numpy, it will be understood as (type, (1,)) / '(1,)type'.\n",
            "  _np_qint32 = np.dtype([(\"qint32\", np.int32, 1)])\n",
            "/Users/jj/anaconda3/lib/python3.7/site-packages/tensorflow/python/framework/dtypes.py:535: FutureWarning: Passing (type, 1) or '1type' as a synonym of type is deprecated; in a future version of numpy, it will be understood as (type, (1,)) / '(1,)type'.\n",
            "  np_resource = np.dtype([(\"resource\", np.ubyte, 1)])\n"
          ]
        }
      ],
      "execution_count": 1,
      "metadata": {
        "colab": {},
        "colab_type": "code",
        "id": "4PW0W4qib_9C",
        "outputId": "9810135e-804a-48e7-aee7-36375e02d1d4"
      }
    },
    {
      "cell_type": "markdown",
      "source": [
        "# Data preprocessing"
      ],
      "metadata": {
        "colab_type": "text",
        "id": "zh_ptsPyb_9L"
      }
    },
    {
      "cell_type": "code",
      "source": [
        "#Method for preprocessing data (used for all except ULMFiT)\n",
        "def text_preprocessing(text, language, minWordSize):\n",
        "    \n",
        "    # remove html\n",
        "    text_html = BeautifulSoup(text,\"html.parser\" ).get_text()\n",
        "    \n",
        "    # remove non-letters\n",
        "    text_non_letters = re.sub(\"[^a-zA-Z']\", \" \", text_html) \n",
        "        \n",
        "    # convert to lower-case\n",
        "    text_lower = text_non_letters.lower()\n",
        "    \n",
        "    # remove stop words\n",
        "    text_no_stop_words = ' '\n",
        "    for w in text_lower.split():\n",
        "        if w not in stops:  \n",
        "            text_no_stop_words = text_no_stop_words + w + ' '  \n",
        "    \n",
        "    # do stemming\n",
        "    text_stemmer = ' '\n",
        "    stemmer = SnowballStemmer(language)\n",
        "    for w in text_no_stop_words.split():\n",
        "        text_stemmer = text_stemmer + stemmer.stem(w) + ' '\n",
        "         \n",
        "    # remove short words\n",
        "    text_no_short_words = ' '\n",
        "    for w in text_stemmer.split(): \n",
        "        if len(w) >=minWordSize:\n",
        "            text_no_short_words = text_no_short_words + w + ' '\n",
        "    return text_no_short_words"
      ],
      "outputs": [],
      "execution_count": 0,
      "metadata": {
        "colab": {},
        "colab_type": "code",
        "id": "nJJhwA_Zb_9N"
      }
    },
    {
      "cell_type": "markdown",
      "source": [
        "## Loading data - only \"New_data\" in this case"
      ],
      "metadata": {
        "colab_type": "text",
        "id": "3CJ9UMEhb_9U"
      }
    },
    {
      "cell_type": "code",
      "source": [
        "#load and prepare new data\n",
        "newdata=pd.read_csv('Input_data/New_data.csv')\n",
        "reviews_new= newdata['Text'].values\n",
        "sentiment_new = newdata['Sentiment'].values\n",
        "\n",
        "#Split category column \n",
        "newdata['category']=newdata['Categories'].apply(lambda x:x.split(';'))\n",
        "\n",
        "def category_includer(data,string):    \n",
        "    for i in range(len(data)):\n",
        "        data.loc[i,string]=0\n",
        "        column=list(data.loc[i,'category'])\n",
        "        if string in column:\n",
        "            data.loc[i,string]=1\n",
        "    return data\n",
        "\n",
        "newdata=category_includer(newdata,'experience')\n",
        "newdata=category_includer(newdata,'service')\n",
        "newdata=category_includer(newdata,'consistency')\n",
        "newdata=category_includer(newdata,'value')\n",
        "newdata=category_includer(newdata,'food')\n",
        "newdata=category_includer(newdata,'convenience')\n",
        "\n",
        "#dropping the two columns and filter only English\n",
        "newdata=newdata.drop(['Categories','category'],axis=1)\n",
        "newdata=newdata[newdata['Language']==\"eng\"]"
      ],
      "outputs": [],
      "execution_count": 2,
      "metadata": {
        "colab": {},
        "colab_type": "code",
        "id": "RYC6Kcwib_9W"
      }
    },
    {
      "cell_type": "code",
      "source": [
        "#To make a list of stopwords to exclude, but best results achieved without stopwords\n",
        "\"\"\"\n",
        "nltk.download('stopwords')\n",
        "stops_nlp = set(stopwords.words('english')) \n",
        "stops_1 = [\"a's\" , \"able\" , \"about\" , \"above\" , \"according\" , \"accordingly\" , \"across\" , \"actually\" , \"after\" , \"afterwards\" , \"again\" , \"against\" , \"ain't\" , \"all\" , \"allow\" , \"allows\" , \"almost\" , \"alone\" , \"along\" , \"already\" , \"also\" , \"although\" , \"always\" , \"am\" , \"among\" , \"amongst\" , \"an\" , \"and\" , \"another\" , \"any\" , \"anybody\" , \"anyhow\" , \"anyone\" , \"anything\" , \"anyway\" , \"anyways\" , \"anywhere\" , \"apart\" , \"appear\" , \"appreciate\" , \"appropriate\" , \"are\" , \"aren't\" , \"around\" , \"as\" , \"aside\" , \"ask\" , \"asking\" , \"associated\" , \"at\" , \"available\" , \"away\" , \"awfully\" , \"be\" , \"became\" , \"because\" , \"become\" , \"becomes\" , \"becoming\" , \"been\" , \"before\" , \"beforehand\" , \"behind\" , \"being\" , \"believe\" , \"below\" , \"beside\" , \"besides\" , \"best\" , \"better\" , \"between\" , \"beyond\" , \"both\" , \"brief\" , \"but\" , \"by\" , \"c'mon\" , \"c's\" , \"came\" , \"can\" , \"can't\" , \"cannot\" , \"cant\" , \"cause\" , \"causes\" , \"certain\" , \"certainly\" , \"changes\" , \"clearly\" , \"co\" , \"com\" , \"come\" , \"comes\" , \"concerning\" , \"consequently\" , \"consider\" , \"considering\" , \"contain\" , \"containing\" , \"contains\" , \"corresponding\" , \"could\" , \"couldn't\" , \"course\" , \"currently\" , \"definitely\" , \"described\" , \"despite\" , \"did\" , \"didn't\" , \"different\" , \"do\" , \"does\" , \"doesn't\" , \"doing\" , \"don't\" , \"done\" , \"down\" , \"downwards\" , \"during\" , \"each\" , \"edu\" , \"eg\" , \"eight\" , \"either\" , \"else\" , \"elsewhere\" , \"enough\" , \"entirely\" , \"especially\" , \"et\" , \"etc\" , \"even\" , \"ever\" , \"every\" , \"everybody\" , \"everyone\" , \"everything\" , \"everywhere\" , \"ex\" , \"exactly\" , \"example\" , \"except\" , \"far\" , \"few\" , \"fifth\" , \"first\" , \"five\" , \"followed\" , \"following\" , \"follows\" , \"for\" , \"former\" , \"formerly\" , \"forth\" , \"four\" , \"from\" , \"further\" , \"furthermore\" , \"get\" , \"gets\" , \"getting\" , \"given\" , \"gives\" , \"go\" , \"goes\" , \"going\" , \"gone\" , \"got\" , \"gotten\" , \"greetings\" , \"had\" , \"hadn't\" , \"happens\" , \"hardly\" , \"has\" , \"hasn't\" , \"have\" , \"haven't\" , \"having\" , \"he\" , \"he's\" , \"hello\" , \"help\" , \"hence\" , \"her\" , \"here\" , \"here's\" , \"hereafter\" , \"hereby\" , \"herein\" , \"hereupon\" , \"hers\" , \"herself\" , \"hi\" , \"him\" , \"himself\" , \"his\" , \"hither\" , \"hopefully\" , \"how\" , \"howbeit\" , \"however\" , \"i'd\" , \"i'll\" , \"i'm\" , \"i've\" , \"ie\" , \"if\" , \"ignored\" , \"immediate\" , \"in\" , \"inasmuch\" , \"inc\" , \"indeed\" , \"indicate\" , \"indicated\" , \"indicates\" , \"inner\" , \"insofar\" , \"instead\" , \"into\" , \"inward\" , \"is\" , \"isn't\" , \"it\" , \"it'd\" , \"it'll\" , \"it's\" , \"its\" , \"itself\" , \"just\" , \"keep\" , \"keeps\" , \"kept\" , \"know\" , \"known\" , \"knows\" , \"last\" , \"lately\" , \"later\" , \"latter\" , \"latterly\" , \"least\" , \"less\" , \"lest\" , \"let\" , \"let's\" , \"like\" , \"liked\" , \"likely\" , \"little\" , \"look\" , \"looking\" , \"looks\" , \"ltd\" , \"mainly\" , \"many\" , \"may\" , \"maybe\" , \"me\" , \"mean\" , \"meanwhile\" , \"merely\" , \"might\" , \"more\" , \"moreover\" , \"most\" , \"mostly\" , \"much\" , \"must\" , \"my\" , \"myself\" , \"name\" , \"namely\" , \"nd\" , \"near\" , \"nearly\" , \"necessary\" , \"need\" , \"needs\" , \"neither\" , \"never\" , \"nevertheless\" , \"new\" , \"next\" , \"nine\" , \"no\" , \"nobody\" , \"non\" , \"none\" , \"noone\" , \"nor\" , \"normally\" , \"not\" , \"nothing\" , \"novel\" , \"now\" , \"nowhere\" , \"obviously\" , \"of\" , \"off\" , \"often\" , \"oh\" , \"ok\" , \"okay\" , \"old\" , \"on\" , \"once\" , \"one\" , \"ones\" , \"only\" , \"onto\" , \"or\" , \"other\" , \"others\" , \"otherwise\" , \"ought\" , \"our\" , \"ours\" , \"ourselves\" , \"out\" , \"outside\" , \"over\" , \"overall\" , \"own\" , \"particular\" , \"particularly\" , \"per\" , \"perhaps\" , \"placed\" , \"please\" , \"plus\" , \"possible\" , \"presumably\" , \"probably\" , \"provides\" , \"que\" , \"quite\" , \"qv\" , \"rather\" , \"rd\" , \"re\" , \"really\" , \"reasonably\" , \"regarding\" , \"regardless\" , \"regards\" , \"relatively\" , \"respectively\" , \"right\" , \"said\" , \"same\" , \"saw\" , \"say\" , \"saying\" , \"says\" , \"second\" , \"secondly\" , \"see\" , \"seeing\" , \"seem\" , \"seemed\" , \"seeming\" , \"seems\" , \"seen\" , \"self\" , \"selves\" , \"sensible\" , \"sent\" , \"serious\" , \"seriously\" , \"seven\" , \"several\" , \"shall\" , \"she\" , \"should\" , \"shouldn't\" , \"since\" , \"six\" , \"so\" , \"some\" , \"somebody\" , \"somehow\" , \"someone\" , \"something\" , \"sometime\" , \"sometimes\" , \"somewhat\" , \"somewhere\" , \"soon\" , \"sorry\" , \"specified\" , \"specify\" , \"specifying\" , \"still\" , \"sub\" , \"such\" , \"sup\" , \"sure\" , \"t's\" , \"take\" , \"taken\" , \"tell\" , \"tends\" , \"th\" , \"than\" , \"thank\" , \"thanks\" , \"thanx\" , \"that\" , \"that's\" , \"thats\" , \"the\" , \"their\" , \"theirs\" , \"them\" , \"themselves\" , \"then\" , \"thence\" , \"there\" , \"there's\" , \"thereafter\" , \"thereby\" , \"therefore\" , \"therein\" , \"theres\" , \"thereupon\" , \"these\" , \"they\" , \"they'd\" , \"they'll\" , \"they're\" , \"they've\" , \"think\" , \"third\" , \"this\" , \"thorough\" , \"thoroughly\" , \"those\" , \"though\" , \"three\" , \"through\" , \"throughout\" , \"thru\" , \"thus\" , \"to\" , \"together\" , \"too\" , \"took\" , \"toward\" , \"towards\" , \"tried\" , \"tries\" , \"truly\" , \"try\" , \"trying\" , \"twice\" , \"two\" , \"un\" , \"under\" , \"unfortunately\" , \"unless\" , \"unlikely\" , \"until\" , \"unto\" , \"up\" , \"upon\" , \"us\" , \"use\" , \"used\" , \"useful\" , \"uses\" , \"using\" , \"usually\" , \"value\" , \"various\" , \"very\" , \"via\" , \"viz\" , \"vs\" , \"want\" , \"wants\" , \"was\" , \"wasn't\" , \"way\" , \"we\" , \"we'd\" , \"we'll\" , \"we're\" , \"we've\" , \"welcome\" , \"well\" , \"went\" , \"were\" , \"weren't\" , \"what\" , \"what's\" , \"whatever\" , \"when\" , \"whence\" , \"whenever\" , \"where\" , \"where's\" , \"whereafter\" , \"whereas\" , \"whereby\" , \"wherein\" , \"whereupon\" , \"wherever\" , \"whether\" , \"which\" , \"while\" , \"whither\" , \"who\" , \"who's\" , \"whoever\" , \"whole\" , \"whom\" , \"whose\" , \"why\" , \"will\" , \"willing\" , \"wish\" , \"with\" , \"within\" , \"without\" , \"won't\" , \"wonder\" , \"would\" , \"wouldn't\" , \"yes\" , \"yet\" , \"you\" , \"you'd\" , \"you'll\" , \"you're\" , \"you've\" , \"your\" , \"yours\" , \"yourself\" , \"yourselves\" , \"zero\"]\n",
        "stops_2=[\"i\", \"me\", \"my\", \"myself\", \"we\", \"our\", \"ours\", \"ourselves\", \"you\", \"your\", \"yours\", \"yourself\", \"yourselves\", \"he\", \"him\", \"his\", \"himself\", \"she\", \"her\", \"hers\", \"herself\", \"it\", \"its\", \"itself\", \"they\", \"them\", \"their\", \"theirs\", \"themselves\", \"what\", \"which\", \"who\", \"whom\", \"this\", \"that\", \"these\", \"those\", \"am\", \"is\", \"are\", \"was\", \"were\", \"be\", \"been\", \"being\", \"have\", \"has\", \"had\", \"having\", \"do\", \"does\", \"did\", \"doing\", \"a\", \"an\", \"the\", \"and\", \"but\", \"if\", \"or\", \"because\", \"as\", \"until\", \"while\", \"of\", \"at\", \"by\", \"for\", \"with\", \"about\", \"against\", \"between\", \"into\", \"through\", \"during\", \"before\", \"after\", \"above\", \"below\", \"to\", \"from\", \"up\", \"down\", \"in\", \"out\", \"on\", \"off\", \"over\", \"under\", \"again\", \"further\", \"then\", \"once\", \"here\", \"there\", \"when\", \"where\", \"why\", \"how\", \"all\", \"any\", \"both\", \"each\", \"few\", \"more\", \"most\", \"other\", \"some\", \"such\", \"no\", \"nor\", \"not\", \"only\", \"own\", \"same\", \"so\", \"than\", \"too\", \"very\", \"s\", \"t\", \"can\", \"will\", \"just\", \"don\", \"should\", \"now\"]\n",
        "stops_spacy = STOP_WORDS\n",
        "stops_nlp=list(stops_nlp)\n",
        "stops_nlp.extend(stops_1)\n",
        "stops_nlp.extend(stops_2)\n",
        "stops_nlp=set(stops_nlp)\n",
        "stops=stops_nlp.union(stops_spacy)\n",
        "\"\"\"\n",
        "#Using no stopwords\n",
        "stops={}"
      ],
      "outputs": [],
      "execution_count": 3,
      "metadata": {
        "colab": {},
        "colab_type": "code",
        "id": "hSwtuaheb_9d"
      }
    },
    {
      "cell_type": "markdown",
      "source": [
        "## Model definitions"
      ],
      "metadata": {
        "colab_type": "text",
        "id": "VOzlg8Lxb_9l"
      }
    },
    {
      "cell_type": "code",
      "source": [
        "#define the models, parameters for grid search and their names.\n",
        "\"\"\"\n",
        "#List of all models in reasonably large range\n",
        "models = [ LogisticRegression(class_weight='balanced'),\n",
        "     SVC(class_weight='balanced'),\n",
        "     RandomForestClassifier(class_weight='balanced',random_state=0),\n",
        "     GradientBoostingClassifier(),\n",
        "     MultinomialNB()\n",
        "         ]\n",
        "params = [ \n",
        "     { 'C': [0.01,0.1, 1, 10, 100, 1000, 10000, 100000, 1000000]},\n",
        "     [\n",
        "        {'kernel': ['linear'], 'C': np.linspace(0.1,10,5)},\n",
        "        {'kernel': ['rbf'], 'C': np.linspace(0.1,10,5), 'gamma': np.linspace(0.001,1,5)},\n",
        "    ],\n",
        "    {'max_depth':list(range(5,15,5)),'n_estimators':[100,200]},\n",
        "    {'n_estimators':[100,200],'learning_rate':[0.01,0.02],'max_depth':list(range(1,15,3))},\n",
        "    {}\n",
        "    \n",
        "]\n",
        "\n",
        "#1 example model each for testing\n",
        "\"\"\"\n",
        "models = [ LogisticRegression(class_weight='balanced'),\n",
        "     SVC(class_weight='balanced'),\n",
        "     RandomForestClassifier(class_weight='balanced',random_state=0),\n",
        "     GradientBoostingClassifier(),\n",
        "     MultinomialNB()\n",
        "         ]\n",
        "params = [ \n",
        "     { 'C': [0.01]},\n",
        "     [\n",
        "        #{'kernel': ['linear'], 'C': np.linspace(0.1,10,5)},\n",
        "        {'kernel': ['rbf'], 'C': [2.3], 'gamma': [1]},\n",
        "    ],\n",
        "    {'max_depth':[5],'n_estimators':[100]},\n",
        "    {'n_estimators':[100],'learning_rate':[0.01],'max_depth':[7]},\n",
        "    {}\n",
        "    \n",
        "]\n",
        "\n",
        "names=['LogisticRegression','SVM','RandomForest','GradientBoostingClassifier','MultinomialNB']\n",
        "#the function iterates for all the models and selects the model with the highest score for the test set. The model is fitted on the training set.\n",
        "\n",
        "\n"
      ],
      "outputs": [],
      "execution_count": 0,
      "metadata": {
        "colab": {},
        "colab_type": "code",
        "id": "GHf3r_Dpb_9n"
      }
    },
    {
      "cell_type": "code",
      "source": [
        "#Method to select the best model\n",
        "def select_best_model(X_train,y_train,X_test,y_test):\n",
        "    param_matrix={}\n",
        "    score=0\n",
        "    for model,param,name in zip(models,params,names):\n",
        "        gs_model=GridSearchCV(model,param,refit=True,n_jobs=-1,verbose=25)\n",
        "        print(name)\n",
        "        gs_model.fit(X_train,y_train)\n",
        "        predictions=gs_model.predict(X_test)\n",
        "        param_matrix[name]=accuracy_score(y_test,predictions)    \n",
        "        if accuracy_score(y_test,predictions)>score:\n",
        "            score=accuracy_score(y_test,predictions)\n",
        "            best_model=gs_model\n",
        "    return best_model"
      ],
      "outputs": [],
      "execution_count": 0,
      "metadata": {
        "colab": {},
        "colab_type": "code",
        "id": "_906Jaipb_9u"
      }
    },
    {
      "cell_type": "markdown",
      "source": [
        "# Sentiment"
      ],
      "metadata": {
        "colab_type": "text",
        "id": "lsqQxcFdb_90"
      }
    },
    {
      "cell_type": "markdown",
      "source": [
        "## Data preparation for classical models\n"
      ],
      "metadata": {
        "colab_type": "text",
        "id": "x3T6IVyCb_92"
      }
    },
    {
      "cell_type": "code",
      "source": [
        "# Preparing data for sentiment - classical models and LSTM\n",
        "\n",
        "#reviews and sentiment as values\n",
        "reviews_new= newdata['Text'].values\n",
        "sentiment_new = newdata['Sentiment'].values\n",
        "\n",
        "#test train split\n",
        "reviews_train, reviews_test, sentiment_train, sentiment_test = train_test_split(reviews_new, sentiment_new, test_size=0.2,random_state=0,stratify=sentiment_new)\n",
        "\n",
        "#bag of words\n",
        "language = 'english'\n",
        "minWordLength = 2 # shorter words will be removed\n",
        "\n",
        "for i in range(len(reviews_train)):\n",
        "    reviews_train[i] = text_preprocessing(reviews_train[i], language, minWordLength)\n",
        "for i in range(len(reviews_test)):\n",
        "    reviews_test[i] = text_preprocessing(reviews_test[i], language, minWordLength)\n",
        "        \n",
        "count_vect = CountVectorizer(ngram_range=(1,3),max_features=20000)\n",
        "tfidf_transformer = TfidfTransformer(use_idf=True)\n",
        "    \n",
        "count_vect.fit(reviews_train)\n",
        "text_train_bow = count_vect.transform(reviews_train)\n",
        "text_test_bow = count_vect.transform(reviews_test)\n",
        "    \n",
        "tfidf_transformer.fit_transform(text_train_bow)\n",
        "reviews_bow_train = tfidf_transformer.transform(text_train_bow)\n",
        "reviews_bow_test = tfidf_transformer.transform(text_test_bow)\n",
        "joblib.dump(count_vect,'Exported_models/count_vectorizer_newtrain_newtest_sentiment.pkl')\n",
        "joblib.dump(tfidf_transformer,'Exported_models/tfidftransformer_newtrain_newtest_sentiment.pkl')\n"
      ],
      "outputs": [
        {
          "output_type": "stream",
          "name": "stderr",
          "text": [
            "/Users/jj/anaconda3/lib/python3.7/site-packages/bs4/__init__.py:357: UserWarning: \"https://www.valkyriestudios.be\" looks like a URL. Beautiful Soup is not an HTTP client. You should probably use an HTTP client like requests to get the document behind the URL, and feed that document to Beautiful Soup.\n",
            "  ' that document to Beautiful Soup.' % decoded_markup\n"
          ]
        },
        {
          "output_type": "execute_result",
          "execution_count": 8,
          "data": {
            "text/plain": [
              "['Exported_models/tfidftransformer_newtrain_newtest_sentiment']"
            ]
          },
          "metadata": {
            "tags": []
          }
        }
      ],
      "execution_count": 0,
      "metadata": {
        "colab": {},
        "colab_type": "code",
        "id": "RRfsDyp4b_95",
        "outputId": "a755b667-0886-44ac-9f3f-19065602ac77"
      }
    },
    {
      "cell_type": "markdown",
      "source": [
        "## Training Sentiment classical models + export optimal"
      ],
      "metadata": {
        "colab_type": "text",
        "id": "zos5uueqb_-B"
      }
    },
    {
      "cell_type": "code",
      "source": [
        "#training the classical models\n",
        "print('training to find sentiment'+'\\n')\n",
        "best_model_reviews = select_best_model(reviews_bow_train,sentiment_train,reviews_bow_test,sentiment_test)\n",
        "\n",
        "#testing the models\n",
        "print('Testing on sentiment prediction'+ '\\n\\n'+ 'best parameters:')\n",
        "print(best_model_reviews.best_estimator_)\n",
        "print('\\n')\n",
        "print('Classification report:')\n",
        "y_pred_reviews = best_model_reviews.predict(reviews_bow_test)\n",
        "\n",
        "print(classification_report(sentiment_test, y_pred_reviews))\n",
        "\n",
        "cf_sentiment = confusion_matrix(sentiment_test, y_pred_reviews)\n",
        "print(cf_sentiment)\n",
        "print(accuracy_score(sentiment_test, y_pred_reviews) * 100)\n",
        "\n",
        "#Exporting the models\n",
        "joblib.dump(best_model_reviews.best_estimator_, 'Exported_models/train_new_test_new_sentiment_bestmodel_classical.pkl')\n",
        "joblib.dump(best_model_reviews, 'Exported_models/train_new_test_new_sentiment_classical.pkl')"
      ],
      "outputs": [
        {
          "output_type": "stream",
          "name": "stdout",
          "text": [
            "training to find sentiment\n",
            "\n",
            "LogisticRegression\n",
            "Fitting 3 folds for each of 1 candidates, totalling 3 fits\n"
          ]
        },
        {
          "output_type": "stream",
          "name": "stderr",
          "text": [
            "/Users/jj/anaconda3/lib/python3.7/site-packages/sklearn/model_selection/_split.py:1978: FutureWarning: The default value of cv will change from 3 to 5 in version 0.22. Specify it explicitly to silence this warning.\n",
            "  warnings.warn(CV_WARNING, FutureWarning)\n",
            "[Parallel(n_jobs=-1)]: Using backend LokyBackend with 4 concurrent workers.\n",
            "[Parallel(n_jobs=-1)]: Done   1 tasks      | elapsed:    1.4s\n",
            "[Parallel(n_jobs=-1)]: Done   3 out of   3 | elapsed:    1.5s remaining:    0.0s\n",
            "[Parallel(n_jobs=-1)]: Done   3 out of   3 | elapsed:    1.5s finished\n",
            "/Users/jj/anaconda3/lib/python3.7/site-packages/sklearn/linear_model/logistic.py:432: FutureWarning: Default solver will be changed to 'lbfgs' in 0.22. Specify a solver to silence this warning.\n",
            "  FutureWarning)\n",
            "/Users/jj/anaconda3/lib/python3.7/site-packages/sklearn/linear_model/logistic.py:469: FutureWarning: Default multi_class will be changed to 'auto' in 0.22. Specify the multi_class option to silence this warning.\n",
            "  \"this warning.\", FutureWarning)\n",
            "/Users/jj/anaconda3/lib/python3.7/site-packages/sklearn/model_selection/_split.py:1978: FutureWarning: The default value of cv will change from 3 to 5 in version 0.22. Specify it explicitly to silence this warning.\n",
            "  warnings.warn(CV_WARNING, FutureWarning)\n",
            "[Parallel(n_jobs=-1)]: Using backend LokyBackend with 4 concurrent workers.\n"
          ]
        },
        {
          "output_type": "stream",
          "name": "stdout",
          "text": [
            "SVM\n",
            "Fitting 3 folds for each of 1 candidates, totalling 3 fits\n"
          ]
        },
        {
          "output_type": "stream",
          "name": "stderr",
          "text": [
            "[Parallel(n_jobs=-1)]: Done   1 tasks      | elapsed:    5.5s\n",
            "[Parallel(n_jobs=-1)]: Done   3 out of   3 | elapsed:    6.2s remaining:    0.0s\n",
            "[Parallel(n_jobs=-1)]: Done   3 out of   3 | elapsed:    6.2s finished\n"
          ]
        },
        {
          "output_type": "stream",
          "name": "stdout",
          "text": [
            "RandomForest\n",
            "Fitting 3 folds for each of 1 candidates, totalling 3 fits\n"
          ]
        },
        {
          "output_type": "stream",
          "name": "stderr",
          "text": [
            "/Users/jj/anaconda3/lib/python3.7/site-packages/sklearn/model_selection/_split.py:1978: FutureWarning: The default value of cv will change from 3 to 5 in version 0.22. Specify it explicitly to silence this warning.\n",
            "  warnings.warn(CV_WARNING, FutureWarning)\n",
            "[Parallel(n_jobs=-1)]: Using backend LokyBackend with 4 concurrent workers.\n",
            "[Parallel(n_jobs=-1)]: Done   1 tasks      | elapsed:    0.7s\n",
            "[Parallel(n_jobs=-1)]: Done   3 out of   3 | elapsed:    0.8s remaining:    0.0s\n",
            "[Parallel(n_jobs=-1)]: Done   3 out of   3 | elapsed:    0.8s finished\n"
          ]
        },
        {
          "output_type": "stream",
          "name": "stdout",
          "text": [
            "GradientBoostingClassifier\n",
            "Fitting 3 folds for each of 1 candidates, totalling 3 fits\n"
          ]
        },
        {
          "output_type": "stream",
          "name": "stderr",
          "text": [
            "/Users/jj/anaconda3/lib/python3.7/site-packages/sklearn/model_selection/_split.py:1978: FutureWarning: The default value of cv will change from 3 to 5 in version 0.22. Specify it explicitly to silence this warning.\n",
            "  warnings.warn(CV_WARNING, FutureWarning)\n",
            "[Parallel(n_jobs=-1)]: Using backend LokyBackend with 4 concurrent workers.\n",
            "[Parallel(n_jobs=-1)]: Done   1 tasks      | elapsed:   59.5s\n",
            "[Parallel(n_jobs=-1)]: Done   3 out of   3 | elapsed:   59.7s remaining:    0.0s\n",
            "[Parallel(n_jobs=-1)]: Done   3 out of   3 | elapsed:   59.7s finished\n"
          ]
        },
        {
          "output_type": "stream",
          "name": "stdout",
          "text": [
            "MultinomialNB\n",
            "Fitting 3 folds for each of 1 candidates, totalling 3 fits\n",
            "Testing on sentiment prediction\n",
            "\n",
            "best parameters:\n",
            "SVC(C=2.3, cache_size=200, class_weight='balanced', coef0=0.0,\n",
            "    decision_function_shape='ovr', degree=3, gamma=1, kernel='rbf', max_iter=-1,\n",
            "    probability=False, random_state=None, shrinking=True, tol=0.001,\n",
            "    verbose=False)\n",
            "\n",
            "\n",
            "Classification report:\n"
          ]
        },
        {
          "output_type": "stream",
          "name": "stderr",
          "text": [
            "/Users/jj/anaconda3/lib/python3.7/site-packages/sklearn/model_selection/_split.py:1978: FutureWarning: The default value of cv will change from 3 to 5 in version 0.22. Specify it explicitly to silence this warning.\n",
            "  warnings.warn(CV_WARNING, FutureWarning)\n",
            "[Parallel(n_jobs=-1)]: Using backend LokyBackend with 4 concurrent workers.\n",
            "[Parallel(n_jobs=-1)]: Done   1 tasks      | elapsed:    0.0s\n",
            "[Parallel(n_jobs=-1)]: Batch computation too fast (0.0292s.) Setting batch_size=12.\n",
            "[Parallel(n_jobs=-1)]: Done   3 out of   3 | elapsed:    0.0s remaining:    0.0s\n",
            "[Parallel(n_jobs=-1)]: Done   3 out of   3 | elapsed:    0.0s finished\n"
          ]
        },
        {
          "output_type": "stream",
          "name": "stdout",
          "text": [
            "              precision    recall  f1-score   support\n",
            "\n",
            "          -1       0.82      0.79      0.81       177\n",
            "           0       0.88      0.23      0.37        60\n",
            "           1       0.92      0.98      0.95       749\n",
            "\n",
            "    accuracy                           0.90       986\n",
            "   macro avg       0.87      0.67      0.71       986\n",
            "weighted avg       0.90      0.90      0.89       986\n",
            "\n",
            "[[140   1  36]\n",
            " [ 16  14  30]\n",
            " [ 14   1 734]]\n",
            "90.06085192697769\n"
          ]
        },
        {
          "output_type": "execute_result",
          "execution_count": 9,
          "data": {
            "text/plain": [
              "['Exported_models/train_new_test_new_sentiment_classical.pkl']"
            ]
          },
          "metadata": {
            "tags": []
          }
        }
      ],
      "execution_count": 0,
      "metadata": {
        "colab": {},
        "colab_type": "code",
        "id": "xyucGdq-b_-D",
        "outputId": "86b7081a-7a40-4b21-816b-deaf680e087c"
      }
    },
    {
      "cell_type": "markdown",
      "source": [
        "# Data preparation for LSTM"
      ],
      "metadata": {
        "colab_type": "text",
        "id": "rhRI9XBRcq8G"
      }
    },
    {
      "cell_type": "code",
      "source": [
        "reviews=newdata['Text'].values\n",
        "sentiment=newdata['Sentiment'].values\n",
        "\n",
        "#Split in train and test samples\n",
        "reviews_train, reviews_test, sentiment_train, sentiment_test = train_test_split(reviews,sentiment, test_size=0.2,random_state=0,stratify=sentiment)\n",
        "\n",
        "#tokenize the reviews and remove punctuations and convert to lower case\n",
        "tk = Tokenizer(lower = True,filters=punctuation)\n",
        "#fit on the training data and transform the test data\n",
        "tk.fit_on_texts(reviews_train)\n",
        "X_seq = tk.texts_to_sequences(reviews_train)\n",
        "#select only the first 100 words of the review and ignore the words after that. If review is less than 100 words then add zeroes to get a length of 100.\n",
        "X_pad = pad_sequences(X_seq, maxlen=100, padding='post')\n",
        "X_seq_test = tk.texts_to_sequences(reviews_test)\n",
        "X_pad_test = pad_sequences(X_seq_test, maxlen=100, padding='post')\n",
        "#save the tokenizer model as a pickle file.\n",
        "joblib.dump(tk,\"Exported_models/train_new_test_new_sentiment_tokenizer_LSTM.pkl\")"
      ],
      "outputs": [
        {
          "output_type": "execute_result",
          "execution_count": 10,
          "data": {
            "text/plain": [
              "['Exported_models/train_new_test_new_sentiment_tokenizer_LSTM.pkl']"
            ]
          },
          "metadata": {}
        }
      ],
      "execution_count": 10,
      "metadata": {
        "colab": {},
        "colab_type": "code",
        "id": "3JzZdWMFcvxH"
      }
    },
    {
      "cell_type": "markdown",
      "source": [
        "## Training Sentiment LSTM model + export"
      ],
      "metadata": {
        "colab_type": "text",
        "id": "MuP3ZJ2kb_-L"
      }
    },
    {
      "cell_type": "code",
      "source": [
        "#define the LSTM model. \n",
        "vocabulary_size = len(tk.word_counts.keys())+1\n",
        "max_words = 100\n",
        "embedding_size = 200\n",
        "model = Sequential()\n",
        "model.add(Embedding(vocabulary_size, embedding_size, input_length=max_words))\n",
        "model.add(LSTM(200))\n",
        "model.add(Dense(3, activation='sigmoid'))\n",
        "model.compile(loss='categorical_crossentropy', optimizer='adam', metrics=['categorical_accuracy'])\n",
        "\n",
        "#convert the sentiment values to dummies using one hot encoding\n",
        "sentiment_train2 = pd.get_dummies(sentiment_train).values\n",
        "\n",
        "# early stopping\n",
        "earlyStopping = EarlyStopping(monitor='val_loss', patience=10, verbose=0, mode='min')\n",
        "#save the best model automatically. The model saved has the lowest validation loss.\n",
        "mcp_save = ModelCheckpoint('Exported_models/train_new_test_new_sentiment_bestmodel_LSTM.h5', save_best_only=True, monitor='val_loss', mode='min')\n",
        "reduce_lr_loss = ReduceLROnPlateau(monitor='val_loss', factor=0.1, patience=15, verbose=1, epsilon=1e-4, mode='min')\n",
        "\n",
        "history=model.fit(X_pad,sentiment_train2, batch_size=100, epochs=60, verbose=1, callbacks=[earlyStopping, mcp_save, reduce_lr_loss], validation_split=0.1)\n",
        "\n",
        "#plot history\n",
        "\n",
        "plt.plot(history.history['categorical_accuracy'])\n",
        "plt.plot(history.history['val_categorical_accuracy'])\n"
      ],
      "outputs": [
        {
          "output_type": "stream",
          "name": "stderr",
          "text": [
            "/Users/jj/anaconda3/lib/python3.7/site-packages/keras/callbacks/callbacks.py:998: UserWarning: `epsilon` argument is deprecated and will be removed, use `min_delta` instead.\n",
            "  warnings.warn('`epsilon` argument is deprecated and '\n"
          ]
        },
        {
          "output_type": "stream",
          "name": "stdout",
          "text": [
            "Train on 3549 samples, validate on 395 samples\n",
            "Epoch 1/60\n",
            "3549/3549 [==============================] - 41s 12ms/step - loss: 0.7356 - categorical_accuracy: 0.7597 - val_loss: 0.7159 - val_categorical_accuracy: 0.7367\n",
            "Epoch 2/60\n",
            "3549/3549 [==============================] - 51s 14ms/step - loss: 0.6541 - categorical_accuracy: 0.7689 - val_loss: 0.6948 - val_categorical_accuracy: 0.7696\n",
            "Epoch 3/60\n",
            "3549/3549 [==============================] - 41s 12ms/step - loss: 0.6326 - categorical_accuracy: 0.7537 - val_loss: 0.7528 - val_categorical_accuracy: 0.7367\n",
            "Epoch 4/60\n",
            "3549/3549 [==============================] - 38s 11ms/step - loss: 0.6364 - categorical_accuracy: 0.7622 - val_loss: 0.6967 - val_categorical_accuracy: 0.7367\n",
            "Epoch 5/60\n",
            "3549/3549 [==============================] - 44s 13ms/step - loss: 0.6259 - categorical_accuracy: 0.7622 - val_loss: 0.6971 - val_categorical_accuracy: 0.7367\n",
            "Epoch 6/60\n",
            "3549/3549 [==============================] - 35s 10ms/step - loss: 0.6193 - categorical_accuracy: 0.7622 - val_loss: 0.7012 - val_categorical_accuracy: 0.7367\n",
            "Epoch 7/60\n",
            "3549/3549 [==============================] - 35s 10ms/step - loss: 0.6148 - categorical_accuracy: 0.7622 - val_loss: 0.6876 - val_categorical_accuracy: 0.7367\n",
            "Epoch 8/60\n",
            "3549/3549 [==============================] - 39s 11ms/step - loss: 0.6132 - categorical_accuracy: 0.7636 - val_loss: 0.6814 - val_categorical_accuracy: 0.7367\n",
            "Epoch 9/60\n",
            "3549/3549 [==============================] - 40s 11ms/step - loss: 0.6113 - categorical_accuracy: 0.7732 - val_loss: 0.6819 - val_categorical_accuracy: 0.7418\n",
            "Epoch 10/60\n",
            "3549/3549 [==============================] - 37s 10ms/step - loss: 0.6000 - categorical_accuracy: 0.7963 - val_loss: 0.6999 - val_categorical_accuracy: 0.7468\n",
            "Epoch 11/60\n",
            "3549/3549 [==============================] - 36s 10ms/step - loss: 0.5846 - categorical_accuracy: 0.7971 - val_loss: 0.6899 - val_categorical_accuracy: 0.7544\n",
            "Epoch 12/60\n",
            "3549/3549 [==============================] - 35s 10ms/step - loss: 0.5722 - categorical_accuracy: 0.8005 - val_loss: 0.6740 - val_categorical_accuracy: 0.7418\n",
            "Epoch 13/60\n",
            "3549/3549 [==============================] - 39s 11ms/step - loss: 0.5635 - categorical_accuracy: 0.8028 - val_loss: 0.6854 - val_categorical_accuracy: 0.7519\n",
            "Epoch 14/60\n",
            "3549/3549 [==============================] - 38s 11ms/step - loss: 0.5431 - categorical_accuracy: 0.8070 - val_loss: 0.6632 - val_categorical_accuracy: 0.7570\n",
            "Epoch 15/60\n",
            "3549/3549 [==============================] - 41s 12ms/step - loss: 0.6069 - categorical_accuracy: 0.8002 - val_loss: 0.6635 - val_categorical_accuracy: 0.7494\n",
            "Epoch 16/60\n",
            "3549/3549 [==============================] - 35s 10ms/step - loss: 0.6090 - categorical_accuracy: 0.7960 - val_loss: 0.6520 - val_categorical_accuracy: 0.7620\n",
            "Epoch 17/60\n",
            "3549/3549 [==============================] - 38s 11ms/step - loss: 0.4886 - categorical_accuracy: 0.8022 - val_loss: 0.5745 - val_categorical_accuracy: 0.7747\n",
            "Epoch 18/60\n",
            "3549/3549 [==============================] - 41s 12ms/step - loss: 0.4143 - categorical_accuracy: 0.8639 - val_loss: 0.5463 - val_categorical_accuracy: 0.8127\n",
            "Epoch 19/60\n",
            "3549/3549 [==============================] - 39s 11ms/step - loss: 0.3858 - categorical_accuracy: 0.8721 - val_loss: 0.5250 - val_categorical_accuracy: 0.8228\n",
            "Epoch 20/60\n",
            "3549/3549 [==============================] - 38s 11ms/step - loss: 0.3123 - categorical_accuracy: 0.8876 - val_loss: 0.5178 - val_categorical_accuracy: 0.8456\n",
            "Epoch 21/60\n",
            "3549/3549 [==============================] - 39s 11ms/step - loss: 0.2715 - categorical_accuracy: 0.9048 - val_loss: 0.5072 - val_categorical_accuracy: 0.8380\n",
            "Epoch 22/60\n",
            "3549/3549 [==============================] - 39s 11ms/step - loss: 0.2421 - categorical_accuracy: 0.9098 - val_loss: 0.5016 - val_categorical_accuracy: 0.8608\n",
            "Epoch 23/60\n",
            "3549/3549 [==============================] - 38s 11ms/step - loss: 0.2349 - categorical_accuracy: 0.9158 - val_loss: 0.5287 - val_categorical_accuracy: 0.8380\n",
            "Epoch 24/60\n",
            "3549/3549 [==============================] - 37s 10ms/step - loss: 0.2246 - categorical_accuracy: 0.9155 - val_loss: 0.5846 - val_categorical_accuracy: 0.8228\n",
            "Epoch 25/60\n",
            "3549/3549 [==============================] - 34s 10ms/step - loss: 0.1807 - categorical_accuracy: 0.9290 - val_loss: 0.5368 - val_categorical_accuracy: 0.8405\n",
            "Epoch 26/60\n",
            "3549/3549 [==============================] - 34s 10ms/step - loss: 0.1736 - categorical_accuracy: 0.9307 - val_loss: 0.5776 - val_categorical_accuracy: 0.8278\n",
            "Epoch 27/60\n",
            "3549/3549 [==============================] - 35s 10ms/step - loss: 0.1513 - categorical_accuracy: 0.9349 - val_loss: 0.6888 - val_categorical_accuracy: 0.8430\n",
            "Epoch 28/60\n",
            "3549/3549 [==============================] - 35s 10ms/step - loss: 0.1453 - categorical_accuracy: 0.9397 - val_loss: 0.6174 - val_categorical_accuracy: 0.8456\n",
            "Epoch 29/60\n",
            "3549/3549 [==============================] - 36s 10ms/step - loss: 0.1347 - categorical_accuracy: 0.9465 - val_loss: 0.6656 - val_categorical_accuracy: 0.8253\n",
            "Epoch 30/60\n",
            "3549/3549 [==============================] - 35s 10ms/step - loss: 0.1277 - categorical_accuracy: 0.9538 - val_loss: 0.7037 - val_categorical_accuracy: 0.8253\n",
            "Epoch 31/60\n",
            "3549/3549 [==============================] - 34s 10ms/step - loss: 0.1218 - categorical_accuracy: 0.9527 - val_loss: 0.6774 - val_categorical_accuracy: 0.8228\n",
            "Epoch 32/60\n",
            "3549/3549 [==============================] - 34s 10ms/step - loss: 0.1121 - categorical_accuracy: 0.9620 - val_loss: 0.7160 - val_categorical_accuracy: 0.8228\n"
          ]
        },
        {
          "output_type": "execute_result",
          "execution_count": 11,
          "data": {
            "text/plain": [
              "[<matplotlib.lines.Line2D at 0x1a7dde5650>]"
            ]
          },
          "metadata": {}
        },
        {
          "output_type": "display_data",
          "data": {
            "image/png": "[encoded data removed]",
            "text/plain": [
              "<Figure size 432x288 with 1 Axes>"
            ]
          },
          "metadata": {
            "needs_background": "light"
          }
        }
      ],
      "execution_count": 11,
      "metadata": {
        "colab": {},
        "colab_type": "code",
        "id": "NCcW0L4ld6Ur"
      }
    },
    {
      "cell_type": "code",
      "source": [
        "# Test and print results\n",
        "#load1_model = load_model('/content/drive/train_new_test_new_sentiment_bestmodel_LSTM.h5')\n",
        "y_pred_reviews=model.predict(X_pad_test, verbose=100)\n",
        "y_pred_reviews2=y_pred_reviews.copy()\n",
        "labels = [-1,0,1]\n",
        "for i in range(len(y_pred_reviews2)):\n",
        "    y_pred_reviews2[i,0]= labels[np.argmax(y_pred_reviews2[i])]\n",
        "y_pred_reviews3=y_pred_reviews2[:,0]\n",
        "\n",
        "print(classification_report(sentiment_test, y_pred_reviews3))\n",
        "cf_sentiment = confusion_matrix(sentiment_test, y_pred_reviews3)\n",
        "print(cf_sentiment)"
      ],
      "outputs": [
        {
          "output_type": "stream",
          "name": "stdout",
          "text": [
            "              precision    recall  f1-score   support\n",
            "\n",
            "          -1       0.72      0.78      0.75       177\n",
            "           0       0.24      0.28      0.26        60\n",
            "           1       0.94      0.91      0.93       749\n",
            "\n",
            "    accuracy                           0.85       986\n",
            "   macro avg       0.63      0.66      0.65       986\n",
            "weighted avg       0.86      0.85      0.85       986\n",
            "\n",
            "[[138  18  21]\n",
            " [ 24  17  19]\n",
            " [ 30  36 683]]\n"
          ]
        }
      ],
      "execution_count": 17,
      "metadata": {
        "colab": {},
        "colab_type": "code",
        "id": "IXYFgcGyeXCv"
      }
    },
    {
      "cell_type": "code",
      "source": [
        "#predict on a review\n",
        "new_review=np.array(['This is a great restaurant to visit'])\n",
        "#Use tokenizer and padding\n",
        "padded_review=pad_sequences(tk.texts_to_sequences(new_review), maxlen=100, padding='post')\n",
        "#predict the review\n",
        "labels=[-1,0,1]\n",
        "labels[np.argmax(model.predict(padded_review))]"
      ],
      "outputs": [
        {
          "output_type": "execute_result",
          "execution_count": 16,
          "data": {
            "text/plain": [
              "1"
            ]
          },
          "metadata": {}
        }
      ],
      "execution_count": 16,
      "metadata": {
        "colab": {},
        "colab_type": "code",
        "id": "mcp_JFC1eoNC"
      }
    },
    {
      "cell_type": "markdown",
      "source": [
        "Please note: need to use different API for LSTM, which will likely need more resources and run slower"
      ],
      "metadata": {
        "colab_type": "text",
        "id": "erbx_HAAb_-N"
      }
    },
    {
      "cell_type": "markdown",
      "source": [
        "# Classification"
      ],
      "metadata": {
        "colab_type": "text",
        "id": "BWArDEpsb_-7"
      }
    },
    {
      "cell_type": "markdown",
      "source": [
        "## Training classification classical models + export optimal"
      ],
      "metadata": {
        "colab_type": "text",
        "id": "riZzh5ptb_--"
      }
    },
    {
      "cell_type": "code",
      "source": [
        "#training and testing on the new data\n",
        "\n",
        "#CLassification \n",
        "\n",
        "random_state = 0\n",
        "test_size = 0.2 # test set is 20% of the total data set\n",
        "text_train,text_test,y_train,y_test=train_test_split(newdata['Text'].values,newdata[['food','experience','value','service','consistency','convenience']],random_state=0,test_size=0.2)\n",
        "\n",
        "\n",
        "# Make bag of words feature vectors\n",
        "language = 'english'\n",
        "minWordLength = 2 # shorter words will be removed\n",
        "\n",
        "for i in range(len(text_train)):\n",
        "    text_train[i] = text_preprocessing(text_train[i], language, minWordLength)\n",
        "for i in range(len(text_test)):\n",
        "    text_test[i] = text_preprocessing(text_test[i], language, minWordLength)\n",
        "        \n",
        "count_vect = CountVectorizer(ngram_range=(1,3),max_features=20000)\n",
        "tfidf_transformer = TfidfTransformer(use_idf=True)\n",
        "    \n",
        "count_vect.fit(text_train)\n",
        "text_train_bow = count_vect.transform(text_train)\n",
        "text_test_bow = count_vect.transform(text_test)\n",
        "    \n",
        "tfidf_transformer.fit_transform(text_train_bow)\n",
        "reviews_bow_train = tfidf_transformer.transform(text_train_bow)\n",
        "reviews_bow_test = tfidf_transformer.transform(text_test_bow)\n",
        "joblib.dump(count_vect,'Exported_models/count_vectorizer_newtrain_newtest_classification.pkl')\n",
        "joblib.dump(tfidf_transformer,'Exported_models/tfidftransformer_newtrain_newtest_classification.pkl')\n",
        "\n",
        "#training for the various choice drivers\n",
        "print('Training model on choice driver food'+'\\n')\n",
        "best_model_food = select_best_model(reviews_bow_train,y_train['food'].values,reviews_bow_test,y_test['food'].values)\n",
        "print('Training model on choice driver experience' +'\\n')\n",
        "best_model_experience = select_best_model(reviews_bow_train, y_train['experience'].values,reviews_bow_test,y_test['experience'].values)\n",
        "print('Training model on choice driver value' +'\\n')\n",
        "best_model_value = select_best_model(reviews_bow_train, y_train['value'].values,reviews_bow_test,y_test['value'].values)\n",
        "print('Training model on choice driver service' +'\\n')\n",
        "best_model_service = select_best_model(reviews_bow_train, y_train['service'].values,reviews_bow_test,y_test['service'].values)\n",
        "print('Training model on choice driver convenience' +'\\n')\n",
        "best_model_convenience = select_best_model(reviews_bow_train, y_train['convenience'].values,reviews_bow_test,y_test['convenience'].values)\n",
        "print('Training model on choice driver consistency' +'\\n')\n",
        "best_model_consistency = select_best_model(reviews_bow_train, y_train['consistency'].values,reviews_bow_test,y_test['consistency'].values)\n",
        "\n",
        "\n",
        "# Testing on test set\n",
        "print('Testing on choice driver food'+ '\\n\\n' + 'best parameters:')\n",
        "print( best_model_food.best_estimator_ )\n",
        "print('\\n')\n",
        "y_test_food = y_test['food'].values\n",
        "print('Classification report:')\n",
        "y_pred_food = best_model_food.predict(reviews_bow_test)\n",
        "print(classification_report(y_test_food, y_pred_food))\n",
        "cf_food = confusion_matrix(y_test_food, y_pred_food)\n",
        "print(cf_food)\n",
        "print(accuracy_score(y_test_food, y_pred_food) * 100)\n",
        "\n",
        "print('---------------------------------------------')\n",
        "y_test_experience = y_test['experience'].values\n",
        "print('Testing on choice driver experience'+ '\\n\\n'+ 'best parameters:')\n",
        "print(best_model_experience.best_estimator_)\n",
        "print('\\n')\n",
        "print('Classification report:')\n",
        "y_pred_experience = best_model_experience.predict(reviews_bow_test)\n",
        "print(classification_report(y_test_experience, y_pred_experience))\n",
        "cf_experience = confusion_matrix(y_test_experience, y_pred_experience)\n",
        "print(cf_experience)\n",
        "print(accuracy_score(y_test_experience, y_pred_experience) * 100)\n",
        "\n",
        "print('---------------------------------------------')\n",
        "\n",
        "print('Testing on choice driver value'+ '\\n\\n'+ 'best parameters:')\n",
        "y_test_value = y_test['value'].values\n",
        "print(best_model_value.best_estimator_)\n",
        "print('\\n')\n",
        "print('Classification report:')\n",
        "y_pred_value = best_model_value.predict(reviews_bow_test)\n",
        "print(classification_report(y_test_value, y_pred_value))\n",
        "cf_value = confusion_matrix(y_test_value, y_pred_value)\n",
        "print(cf_value)\n",
        "print(accuracy_score(y_test_value, y_pred_value) * 100)\n",
        "\n",
        "print('---------------------------------------------')\n",
        "\n",
        "print('Testing on choice driver service'+ '\\n\\n'+ 'best parameters:')\n",
        "y_test_service = y_test['service'].values\n",
        "print(best_model_service.best_estimator_)\n",
        "print('\\n')\n",
        "print('Classification report:')\n",
        "y_pred_service = best_model_service.predict(reviews_bow_test)\n",
        "print(classification_report(y_test_service, y_pred_service))\n",
        "cf_service = confusion_matrix(y_test_service, y_pred_service)\n",
        "print(cf_service)\n",
        "print(accuracy_score(y_test_service, y_pred_service) * 100)\n",
        "\n",
        "print('---------------------------------------------')\n",
        "\n",
        "print('Testing on choice driver consistency'+ '\\n\\n'+ 'best parameters:')\n",
        "y_test_consistency = y_test['consistency'].values\n",
        "print(best_model_consistency.best_estimator_)\n",
        "print('\\n')\n",
        "print('Classification report:')\n",
        "y_pred_consistency = best_model_consistency.predict(reviews_bow_test)\n",
        "print(classification_report(y_test_consistency, y_pred_consistency))\n",
        "cf_consistency = confusion_matrix(y_test_consistency, y_pred_consistency)\n",
        "print(cf_consistency)\n",
        "print(accuracy_score(y_test_consistency, y_pred_consistency) * 100)\n",
        "\n",
        "print('---------------------------------------------')\n",
        "\n",
        "\n",
        "\n",
        "print('Testing on choice driver convenience'+ '\\n\\n'+ 'best parameters:')\n",
        "y_test_convenience = y_test['convenience'].values\n",
        "print(best_model_convenience.best_estimator_)\n",
        "print('\\n')\n",
        "print('Classification report:')\n",
        "y_pred_convenience = best_model_convenience.predict(reviews_bow_test)\n",
        "print(classification_report(y_test_convenience, y_pred_convenience))\n",
        "cf_convenience = confusion_matrix(y_test_convenience, y_pred_convenience)\n",
        "print(cf_convenience)\n",
        "print(accuracy_score(y_test_convenience, y_pred_convenience) * 100)\n",
        "\n",
        "\n",
        "\n",
        "joblib.dump(best_model_food.best_estimator_, 'Exported_models/train_new_test_new_food_bestmodel.pkl')\n",
        "joblib.dump(best_model_food, 'Exported_models/train_new_test_new_food.pkl')\n",
        "joblib.dump(best_model_consistency.best_estimator_, 'Exported_models/train_new_test_new_consistency_bestmodel.pkl')\n",
        "joblib.dump(best_model_consistency, 'Exported_models/train_new_test_new_consistency.pkl')\n",
        "joblib.dump(best_model_convenience.best_estimator_, 'Exported_models/train_new_test_new_convenience_bestmodel.pkl')\n",
        "joblib.dump(best_model_convenience, 'Exported_models/train_new_test_new_convenience.pkl')\n",
        "joblib.dump(best_model_experience.best_estimator_, 'Exported_models/train_new_test_new_experience_bestmodel.pkl')\n",
        "joblib.dump(best_model_experience, 'Exported_models/train_new_test_new_experience.pkl')\n",
        "joblib.dump(best_model_service.best_estimator_, 'Exported_models/train_new_test_new_service_bestmodel.pkl')\n",
        "joblib.dump(best_model_service, 'Exported_models/train_new_test_new_service.pkl')\n",
        "joblib.dump(best_model_value.best_estimator_, 'Exported_models/train_new_test_new_value_bestmodel.pkl')\n",
        "joblib.dump(best_model_value, 'Exported_models/train_new_test_new_value.pkl')\n"
      ],
      "outputs": [
        {
          "output_type": "stream",
          "name": "stderr",
          "text": [
            "/Users/jj/anaconda3/lib/python3.7/site-packages/bs4/__init__.py:357: UserWarning: \"https://www.valkyriestudios.be\" looks like a URL. Beautiful Soup is not an HTTP client. You should probably use an HTTP client like requests to get the document behind the URL, and feed that document to Beautiful Soup.\n",
            "  ' that document to Beautiful Soup.' % decoded_markup\n"
          ]
        },
        {
          "output_type": "stream",
          "name": "stdout",
          "text": [
            "Training model on choice driver food\n",
            "\n",
            "LogisticRegression\n",
            "Fitting 3 folds for each of 1 candidates, totalling 3 fits\n"
          ]
        },
        {
          "output_type": "stream",
          "name": "stderr",
          "text": [
            "/Users/jj/anaconda3/lib/python3.7/site-packages/sklearn/model_selection/_split.py:1978: FutureWarning: The default value of cv will change from 3 to 5 in version 0.22. Specify it explicitly to silence this warning.\n",
            "  warnings.warn(CV_WARNING, FutureWarning)\n",
            "[Parallel(n_jobs=-1)]: Using backend LokyBackend with 4 concurrent workers.\n",
            "[Parallel(n_jobs=-1)]: Done   1 tasks      | elapsed:    2.4s\n",
            "[Parallel(n_jobs=-1)]: Done   3 out of   3 | elapsed:    2.4s remaining:    0.0s\n",
            "[Parallel(n_jobs=-1)]: Done   3 out of   3 | elapsed:    2.4s finished\n",
            "/Users/jj/anaconda3/lib/python3.7/site-packages/sklearn/linear_model/logistic.py:432: FutureWarning: Default solver will be changed to 'lbfgs' in 0.22. Specify a solver to silence this warning.\n",
            "  FutureWarning)\n",
            "/Users/jj/anaconda3/lib/python3.7/site-packages/sklearn/model_selection/_split.py:1978: FutureWarning: The default value of cv will change from 3 to 5 in version 0.22. Specify it explicitly to silence this warning.\n",
            "  warnings.warn(CV_WARNING, FutureWarning)\n",
            "[Parallel(n_jobs=-1)]: Using backend LokyBackend with 4 concurrent workers.\n"
          ]
        },
        {
          "output_type": "stream",
          "name": "stdout",
          "text": [
            "SVM\n",
            "Fitting 3 folds for each of 1 candidates, totalling 3 fits\n"
          ]
        },
        {
          "output_type": "stream",
          "name": "stderr",
          "text": [
            "[Parallel(n_jobs=-1)]: Done   1 tasks      | elapsed:    6.0s\n",
            "[Parallel(n_jobs=-1)]: Done   3 out of   3 | elapsed:    6.8s remaining:    0.0s\n",
            "[Parallel(n_jobs=-1)]: Done   3 out of   3 | elapsed:    6.8s finished\n"
          ]
        },
        {
          "output_type": "stream",
          "name": "stdout",
          "text": [
            "RandomForest\n",
            "Fitting 3 folds for each of 1 candidates, totalling 3 fits\n"
          ]
        },
        {
          "output_type": "stream",
          "name": "stderr",
          "text": [
            "/Users/jj/anaconda3/lib/python3.7/site-packages/sklearn/model_selection/_split.py:1978: FutureWarning: The default value of cv will change from 3 to 5 in version 0.22. Specify it explicitly to silence this warning.\n",
            "  warnings.warn(CV_WARNING, FutureWarning)\n",
            "[Parallel(n_jobs=-1)]: Using backend LokyBackend with 4 concurrent workers.\n",
            "[Parallel(n_jobs=-1)]: Done   1 tasks      | elapsed:    0.6s\n",
            "[Parallel(n_jobs=-1)]: Done   3 out of   3 | elapsed:    0.6s remaining:    0.0s\n",
            "[Parallel(n_jobs=-1)]: Done   3 out of   3 | elapsed:    0.6s finished\n"
          ]
        },
        {
          "output_type": "stream",
          "name": "stdout",
          "text": [
            "GradientBoostingClassifier\n",
            "Fitting 3 folds for each of 1 candidates, totalling 3 fits\n"
          ]
        },
        {
          "output_type": "stream",
          "name": "stderr",
          "text": [
            "/Users/jj/anaconda3/lib/python3.7/site-packages/sklearn/model_selection/_split.py:1978: FutureWarning: The default value of cv will change from 3 to 5 in version 0.22. Specify it explicitly to silence this warning.\n",
            "  warnings.warn(CV_WARNING, FutureWarning)\n",
            "[Parallel(n_jobs=-1)]: Using backend LokyBackend with 4 concurrent workers.\n",
            "[Parallel(n_jobs=-1)]: Done   1 tasks      | elapsed:   23.9s\n",
            "[Parallel(n_jobs=-1)]: Done   3 out of   3 | elapsed:   24.0s remaining:    0.0s\n",
            "[Parallel(n_jobs=-1)]: Done   3 out of   3 | elapsed:   24.0s finished\n"
          ]
        },
        {
          "output_type": "stream",
          "name": "stdout",
          "text": [
            "MultinomialNB\n",
            "Fitting 3 folds for each of 1 candidates, totalling 3 fits\n",
            "Training model on choice driver experience\n",
            "\n",
            "LogisticRegression\n",
            "Fitting 3 folds for each of 1 candidates, totalling 3 fits\n",
            "SVM\n",
            "Fitting 3 folds for each of 1 candidates, totalling 3 fits\n"
          ]
        },
        {
          "output_type": "stream",
          "name": "stderr",
          "text": [
            "/Users/jj/anaconda3/lib/python3.7/site-packages/sklearn/model_selection/_split.py:1978: FutureWarning: The default value of cv will change from 3 to 5 in version 0.22. Specify it explicitly to silence this warning.\n",
            "  warnings.warn(CV_WARNING, FutureWarning)\n",
            "[Parallel(n_jobs=-1)]: Using backend LokyBackend with 4 concurrent workers.\n",
            "[Parallel(n_jobs=-1)]: Done   1 tasks      | elapsed:    0.0s\n",
            "[Parallel(n_jobs=-1)]: Batch computation too fast (0.0299s.) Setting batch_size=12.\n",
            "[Parallel(n_jobs=-1)]: Done   3 out of   3 | elapsed:    0.0s remaining:    0.0s\n",
            "[Parallel(n_jobs=-1)]: Done   3 out of   3 | elapsed:    0.0s finished\n",
            "/Users/jj/anaconda3/lib/python3.7/site-packages/sklearn/model_selection/_split.py:1978: FutureWarning: The default value of cv will change from 3 to 5 in version 0.22. Specify it explicitly to silence this warning.\n",
            "  warnings.warn(CV_WARNING, FutureWarning)\n",
            "[Parallel(n_jobs=-1)]: Using backend LokyBackend with 4 concurrent workers.\n",
            "[Parallel(n_jobs=-1)]: Done   1 tasks      | elapsed:    0.0s\n",
            "[Parallel(n_jobs=-1)]: Batch computation too fast (0.0278s.) Setting batch_size=14.\n",
            "[Parallel(n_jobs=-1)]: Done   3 out of   3 | elapsed:    0.0s remaining:    0.0s\n",
            "[Parallel(n_jobs=-1)]: Done   3 out of   3 | elapsed:    0.0s finished\n",
            "/Users/jj/anaconda3/lib/python3.7/site-packages/sklearn/linear_model/logistic.py:432: FutureWarning: Default solver will be changed to 'lbfgs' in 0.22. Specify a solver to silence this warning.\n",
            "  FutureWarning)\n",
            "/Users/jj/anaconda3/lib/python3.7/site-packages/sklearn/model_selection/_split.py:1978: FutureWarning: The default value of cv will change from 3 to 5 in version 0.22. Specify it explicitly to silence this warning.\n",
            "  warnings.warn(CV_WARNING, FutureWarning)\n",
            "[Parallel(n_jobs=-1)]: Using backend LokyBackend with 4 concurrent workers.\n",
            "[Parallel(n_jobs=-1)]: Done   1 tasks      | elapsed:    4.5s\n",
            "[Parallel(n_jobs=-1)]: Done   3 out of   3 | elapsed:    4.6s remaining:    0.0s\n",
            "[Parallel(n_jobs=-1)]: Done   3 out of   3 | elapsed:    4.6s finished\n"
          ]
        },
        {
          "output_type": "stream",
          "name": "stdout",
          "text": [
            "RandomForest\n",
            "Fitting 3 folds for each of 1 candidates, totalling 3 fits\n"
          ]
        },
        {
          "output_type": "stream",
          "name": "stderr",
          "text": [
            "/Users/jj/anaconda3/lib/python3.7/site-packages/sklearn/model_selection/_split.py:1978: FutureWarning: The default value of cv will change from 3 to 5 in version 0.22. Specify it explicitly to silence this warning.\n",
            "  warnings.warn(CV_WARNING, FutureWarning)\n",
            "[Parallel(n_jobs=-1)]: Using backend LokyBackend with 4 concurrent workers.\n",
            "[Parallel(n_jobs=-1)]: Done   1 tasks      | elapsed:    0.5s\n",
            "[Parallel(n_jobs=-1)]: Done   3 out of   3 | elapsed:    0.5s remaining:    0.0s\n",
            "[Parallel(n_jobs=-1)]: Done   3 out of   3 | elapsed:    0.5s finished\n"
          ]
        },
        {
          "output_type": "stream",
          "name": "stdout",
          "text": [
            "GradientBoostingClassifier\n",
            "Fitting 3 folds for each of 1 candidates, totalling 3 fits\n"
          ]
        },
        {
          "output_type": "stream",
          "name": "stderr",
          "text": [
            "/Users/jj/anaconda3/lib/python3.7/site-packages/sklearn/model_selection/_split.py:1978: FutureWarning: The default value of cv will change from 3 to 5 in version 0.22. Specify it explicitly to silence this warning.\n",
            "  warnings.warn(CV_WARNING, FutureWarning)\n",
            "[Parallel(n_jobs=-1)]: Using backend LokyBackend with 4 concurrent workers.\n",
            "[Parallel(n_jobs=-1)]: Done   1 tasks      | elapsed:   21.5s\n",
            "[Parallel(n_jobs=-1)]: Done   3 out of   3 | elapsed:   22.5s remaining:    0.0s\n",
            "[Parallel(n_jobs=-1)]: Done   3 out of   3 | elapsed:   22.5s finished\n"
          ]
        },
        {
          "output_type": "stream",
          "name": "stdout",
          "text": [
            "MultinomialNB\n",
            "Fitting 3 folds for each of 1 candidates, totalling 3 fits\n",
            "Training model on choice driver value\n",
            "\n",
            "LogisticRegression\n",
            "Fitting 3 folds for each of 1 candidates, totalling 3 fits\n",
            "SVM\n",
            "Fitting 3 folds for each of 1 candidates, totalling 3 fits\n"
          ]
        },
        {
          "output_type": "stream",
          "name": "stderr",
          "text": [
            "/Users/jj/anaconda3/lib/python3.7/site-packages/sklearn/model_selection/_split.py:1978: FutureWarning: The default value of cv will change from 3 to 5 in version 0.22. Specify it explicitly to silence this warning.\n",
            "  warnings.warn(CV_WARNING, FutureWarning)\n",
            "[Parallel(n_jobs=-1)]: Using backend LokyBackend with 4 concurrent workers.\n",
            "[Parallel(n_jobs=-1)]: Done   1 tasks      | elapsed:    0.0s\n",
            "[Parallel(n_jobs=-1)]: Batch computation too fast (0.0262s.) Setting batch_size=14.\n",
            "[Parallel(n_jobs=-1)]: Done   3 out of   3 | elapsed:    0.0s remaining:    0.0s\n",
            "[Parallel(n_jobs=-1)]: Done   3 out of   3 | elapsed:    0.0s finished\n",
            "/Users/jj/anaconda3/lib/python3.7/site-packages/sklearn/model_selection/_split.py:1978: FutureWarning: The default value of cv will change from 3 to 5 in version 0.22. Specify it explicitly to silence this warning.\n",
            "  warnings.warn(CV_WARNING, FutureWarning)\n",
            "[Parallel(n_jobs=-1)]: Using backend LokyBackend with 4 concurrent workers.\n",
            "[Parallel(n_jobs=-1)]: Done   1 tasks      | elapsed:    0.0s\n",
            "[Parallel(n_jobs=-1)]: Batch computation too fast (0.0322s.) Setting batch_size=12.\n",
            "[Parallel(n_jobs=-1)]: Done   3 out of   3 | elapsed:    0.0s remaining:    0.0s\n",
            "[Parallel(n_jobs=-1)]: Done   3 out of   3 | elapsed:    0.0s finished\n",
            "/Users/jj/anaconda3/lib/python3.7/site-packages/sklearn/linear_model/logistic.py:432: FutureWarning: Default solver will be changed to 'lbfgs' in 0.22. Specify a solver to silence this warning.\n",
            "  FutureWarning)\n",
            "/Users/jj/anaconda3/lib/python3.7/site-packages/sklearn/model_selection/_split.py:1978: FutureWarning: The default value of cv will change from 3 to 5 in version 0.22. Specify it explicitly to silence this warning.\n",
            "  warnings.warn(CV_WARNING, FutureWarning)\n",
            "[Parallel(n_jobs=-1)]: Using backend LokyBackend with 4 concurrent workers.\n",
            "[Parallel(n_jobs=-1)]: Done   1 tasks      | elapsed:    4.4s\n",
            "[Parallel(n_jobs=-1)]: Done   3 out of   3 | elapsed:    4.4s remaining:    0.0s\n",
            "[Parallel(n_jobs=-1)]: Done   3 out of   3 | elapsed:    4.4s finished\n"
          ]
        },
        {
          "output_type": "stream",
          "name": "stdout",
          "text": [
            "RandomForest\n",
            "Fitting 3 folds for each of 1 candidates, totalling 3 fits\n"
          ]
        },
        {
          "output_type": "stream",
          "name": "stderr",
          "text": [
            "/Users/jj/anaconda3/lib/python3.7/site-packages/sklearn/model_selection/_split.py:1978: FutureWarning: The default value of cv will change from 3 to 5 in version 0.22. Specify it explicitly to silence this warning.\n",
            "  warnings.warn(CV_WARNING, FutureWarning)\n",
            "[Parallel(n_jobs=-1)]: Using backend LokyBackend with 4 concurrent workers.\n",
            "[Parallel(n_jobs=-1)]: Done   1 tasks      | elapsed:    0.5s\n",
            "[Parallel(n_jobs=-1)]: Done   3 out of   3 | elapsed:    0.5s remaining:    0.0s\n",
            "[Parallel(n_jobs=-1)]: Done   3 out of   3 | elapsed:    0.5s finished\n"
          ]
        },
        {
          "output_type": "stream",
          "name": "stdout",
          "text": [
            "GradientBoostingClassifier\n",
            "Fitting 3 folds for each of 1 candidates, totalling 3 fits\n"
          ]
        },
        {
          "output_type": "stream",
          "name": "stderr",
          "text": [
            "/Users/jj/anaconda3/lib/python3.7/site-packages/sklearn/model_selection/_split.py:1978: FutureWarning: The default value of cv will change from 3 to 5 in version 0.22. Specify it explicitly to silence this warning.\n",
            "  warnings.warn(CV_WARNING, FutureWarning)\n",
            "[Parallel(n_jobs=-1)]: Using backend LokyBackend with 4 concurrent workers.\n",
            "[Parallel(n_jobs=-1)]: Done   1 tasks      | elapsed:   19.1s\n",
            "[Parallel(n_jobs=-1)]: Done   3 out of   3 | elapsed:   19.7s remaining:    0.0s\n",
            "[Parallel(n_jobs=-1)]: Done   3 out of   3 | elapsed:   19.7s finished\n"
          ]
        },
        {
          "output_type": "stream",
          "name": "stdout",
          "text": [
            "MultinomialNB\n",
            "Fitting 3 folds for each of 1 candidates, totalling 3 fits\n",
            "Training model on choice driver service\n",
            "\n",
            "LogisticRegression\n",
            "Fitting 3 folds for each of 1 candidates, totalling 3 fits\n",
            "SVM\n",
            "Fitting 3 folds for each of 1 candidates, totalling 3 fits\n"
          ]
        },
        {
          "output_type": "stream",
          "name": "stderr",
          "text": [
            "/Users/jj/anaconda3/lib/python3.7/site-packages/sklearn/model_selection/_split.py:1978: FutureWarning: The default value of cv will change from 3 to 5 in version 0.22. Specify it explicitly to silence this warning.\n",
            "  warnings.warn(CV_WARNING, FutureWarning)\n",
            "[Parallel(n_jobs=-1)]: Using backend LokyBackend with 4 concurrent workers.\n",
            "[Parallel(n_jobs=-1)]: Done   1 tasks      | elapsed:    0.0s\n",
            "[Parallel(n_jobs=-1)]: Batch computation too fast (0.0190s.) Setting batch_size=20.\n",
            "[Parallel(n_jobs=-1)]: Done   3 out of   3 | elapsed:    0.0s remaining:    0.0s\n",
            "[Parallel(n_jobs=-1)]: Done   3 out of   3 | elapsed:    0.0s finished\n",
            "/Users/jj/anaconda3/lib/python3.7/site-packages/sklearn/model_selection/_split.py:1978: FutureWarning: The default value of cv will change from 3 to 5 in version 0.22. Specify it explicitly to silence this warning.\n",
            "  warnings.warn(CV_WARNING, FutureWarning)\n",
            "[Parallel(n_jobs=-1)]: Using backend LokyBackend with 4 concurrent workers.\n",
            "[Parallel(n_jobs=-1)]: Done   1 tasks      | elapsed:    0.0s\n",
            "[Parallel(n_jobs=-1)]: Batch computation too fast (0.0345s.) Setting batch_size=10.\n",
            "[Parallel(n_jobs=-1)]: Done   3 out of   3 | elapsed:    0.1s remaining:    0.0s\n",
            "[Parallel(n_jobs=-1)]: Done   3 out of   3 | elapsed:    0.1s finished\n",
            "/Users/jj/anaconda3/lib/python3.7/site-packages/sklearn/linear_model/logistic.py:432: FutureWarning: Default solver will be changed to 'lbfgs' in 0.22. Specify a solver to silence this warning.\n",
            "  FutureWarning)\n",
            "/Users/jj/anaconda3/lib/python3.7/site-packages/sklearn/model_selection/_split.py:1978: FutureWarning: The default value of cv will change from 3 to 5 in version 0.22. Specify it explicitly to silence this warning.\n",
            "  warnings.warn(CV_WARNING, FutureWarning)\n",
            "[Parallel(n_jobs=-1)]: Using backend LokyBackend with 4 concurrent workers.\n",
            "[Parallel(n_jobs=-1)]: Done   1 tasks      | elapsed:    4.7s\n",
            "[Parallel(n_jobs=-1)]: Done   3 out of   3 | elapsed:    4.8s remaining:    0.0s\n",
            "[Parallel(n_jobs=-1)]: Done   3 out of   3 | elapsed:    4.8s finished\n"
          ]
        },
        {
          "output_type": "stream",
          "name": "stdout",
          "text": [
            "RandomForest\n",
            "Fitting 3 folds for each of 1 candidates, totalling 3 fits\n"
          ]
        },
        {
          "output_type": "stream",
          "name": "stderr",
          "text": [
            "/Users/jj/anaconda3/lib/python3.7/site-packages/sklearn/model_selection/_split.py:1978: FutureWarning: The default value of cv will change from 3 to 5 in version 0.22. Specify it explicitly to silence this warning.\n",
            "  warnings.warn(CV_WARNING, FutureWarning)\n",
            "[Parallel(n_jobs=-1)]: Using backend LokyBackend with 4 concurrent workers.\n",
            "[Parallel(n_jobs=-1)]: Done   1 tasks      | elapsed:    0.5s\n",
            "[Parallel(n_jobs=-1)]: Done   3 out of   3 | elapsed:    0.5s remaining:    0.0s\n",
            "[Parallel(n_jobs=-1)]: Done   3 out of   3 | elapsed:    0.5s finished\n"
          ]
        },
        {
          "output_type": "stream",
          "name": "stdout",
          "text": [
            "GradientBoostingClassifier\n",
            "Fitting 3 folds for each of 1 candidates, totalling 3 fits\n"
          ]
        },
        {
          "output_type": "stream",
          "name": "stderr",
          "text": [
            "/Users/jj/anaconda3/lib/python3.7/site-packages/sklearn/model_selection/_split.py:1978: FutureWarning: The default value of cv will change from 3 to 5 in version 0.22. Specify it explicitly to silence this warning.\n",
            "  warnings.warn(CV_WARNING, FutureWarning)\n",
            "[Parallel(n_jobs=-1)]: Using backend LokyBackend with 4 concurrent workers.\n",
            "[Parallel(n_jobs=-1)]: Done   1 tasks      | elapsed:   25.4s\n",
            "[Parallel(n_jobs=-1)]: Done   3 out of   3 | elapsed:   25.7s remaining:    0.0s\n",
            "[Parallel(n_jobs=-1)]: Done   3 out of   3 | elapsed:   25.7s finished\n"
          ]
        },
        {
          "output_type": "stream",
          "name": "stdout",
          "text": [
            "MultinomialNB\n",
            "Fitting 3 folds for each of 1 candidates, totalling 3 fits\n",
            "Training model on choice driver convenience\n",
            "\n",
            "LogisticRegression\n",
            "Fitting 3 folds for each of 1 candidates, totalling 3 fits\n",
            "SVM\n",
            "Fitting 3 folds for each of 1 candidates, totalling 3 fits\n"
          ]
        },
        {
          "output_type": "stream",
          "name": "stderr",
          "text": [
            "/Users/jj/anaconda3/lib/python3.7/site-packages/sklearn/model_selection/_split.py:1978: FutureWarning: The default value of cv will change from 3 to 5 in version 0.22. Specify it explicitly to silence this warning.\n",
            "  warnings.warn(CV_WARNING, FutureWarning)\n",
            "[Parallel(n_jobs=-1)]: Using backend LokyBackend with 4 concurrent workers.\n",
            "[Parallel(n_jobs=-1)]: Done   1 tasks      | elapsed:    0.0s\n",
            "[Parallel(n_jobs=-1)]: Batch computation too fast (0.0216s.) Setting batch_size=18.\n",
            "[Parallel(n_jobs=-1)]: Done   3 out of   3 | elapsed:    0.0s remaining:    0.0s\n",
            "[Parallel(n_jobs=-1)]: Done   3 out of   3 | elapsed:    0.0s finished\n",
            "/Users/jj/anaconda3/lib/python3.7/site-packages/sklearn/model_selection/_split.py:1978: FutureWarning: The default value of cv will change from 3 to 5 in version 0.22. Specify it explicitly to silence this warning.\n",
            "  warnings.warn(CV_WARNING, FutureWarning)\n",
            "[Parallel(n_jobs=-1)]: Using backend LokyBackend with 4 concurrent workers.\n",
            "[Parallel(n_jobs=-1)]: Done   1 tasks      | elapsed:    0.0s\n",
            "[Parallel(n_jobs=-1)]: Batch computation too fast (0.0356s.) Setting batch_size=10.\n",
            "[Parallel(n_jobs=-1)]: Done   3 out of   3 | elapsed:    0.0s remaining:    0.0s\n",
            "[Parallel(n_jobs=-1)]: Done   3 out of   3 | elapsed:    0.0s finished\n",
            "/Users/jj/anaconda3/lib/python3.7/site-packages/sklearn/linear_model/logistic.py:432: FutureWarning: Default solver will be changed to 'lbfgs' in 0.22. Specify a solver to silence this warning.\n",
            "  FutureWarning)\n",
            "/Users/jj/anaconda3/lib/python3.7/site-packages/sklearn/model_selection/_split.py:1978: FutureWarning: The default value of cv will change from 3 to 5 in version 0.22. Specify it explicitly to silence this warning.\n",
            "  warnings.warn(CV_WARNING, FutureWarning)\n",
            "[Parallel(n_jobs=-1)]: Using backend LokyBackend with 4 concurrent workers.\n",
            "[Parallel(n_jobs=-1)]: Done   1 tasks      | elapsed:    3.4s\n",
            "[Parallel(n_jobs=-1)]: Done   3 out of   3 | elapsed:    3.7s remaining:    0.0s\n",
            "[Parallel(n_jobs=-1)]: Done   3 out of   3 | elapsed:    3.7s finished\n"
          ]
        },
        {
          "output_type": "stream",
          "name": "stdout",
          "text": [
            "RandomForest\n",
            "Fitting 3 folds for each of 1 candidates, totalling 3 fits\n"
          ]
        },
        {
          "output_type": "stream",
          "name": "stderr",
          "text": [
            "/Users/jj/anaconda3/lib/python3.7/site-packages/sklearn/model_selection/_split.py:1978: FutureWarning: The default value of cv will change from 3 to 5 in version 0.22. Specify it explicitly to silence this warning.\n",
            "  warnings.warn(CV_WARNING, FutureWarning)\n",
            "[Parallel(n_jobs=-1)]: Using backend LokyBackend with 4 concurrent workers.\n",
            "[Parallel(n_jobs=-1)]: Done   1 tasks      | elapsed:    0.5s\n",
            "[Parallel(n_jobs=-1)]: Done   3 out of   3 | elapsed:    0.6s remaining:    0.0s\n",
            "[Parallel(n_jobs=-1)]: Done   3 out of   3 | elapsed:    0.6s finished\n"
          ]
        },
        {
          "output_type": "stream",
          "name": "stdout",
          "text": [
            "GradientBoostingClassifier\n",
            "Fitting 3 folds for each of 1 candidates, totalling 3 fits\n"
          ]
        },
        {
          "output_type": "stream",
          "name": "stderr",
          "text": [
            "/Users/jj/anaconda3/lib/python3.7/site-packages/sklearn/model_selection/_split.py:1978: FutureWarning: The default value of cv will change from 3 to 5 in version 0.22. Specify it explicitly to silence this warning.\n",
            "  warnings.warn(CV_WARNING, FutureWarning)\n",
            "[Parallel(n_jobs=-1)]: Using backend LokyBackend with 4 concurrent workers.\n",
            "[Parallel(n_jobs=-1)]: Done   1 tasks      | elapsed:   12.9s\n",
            "[Parallel(n_jobs=-1)]: Done   3 out of   3 | elapsed:   13.1s remaining:    0.0s\n",
            "[Parallel(n_jobs=-1)]: Done   3 out of   3 | elapsed:   13.1s finished\n"
          ]
        },
        {
          "output_type": "stream",
          "name": "stdout",
          "text": [
            "MultinomialNB\n",
            "Fitting 3 folds for each of 1 candidates, totalling 3 fits\n",
            "Training model on choice driver consistency\n",
            "\n",
            "LogisticRegression\n",
            "Fitting 3 folds for each of 1 candidates, totalling 3 fits\n",
            "SVM\n",
            "Fitting 3 folds for each of 1 candidates, totalling 3 fits\n"
          ]
        },
        {
          "output_type": "stream",
          "name": "stderr",
          "text": [
            "/Users/jj/anaconda3/lib/python3.7/site-packages/sklearn/model_selection/_split.py:1978: FutureWarning: The default value of cv will change from 3 to 5 in version 0.22. Specify it explicitly to silence this warning.\n",
            "  warnings.warn(CV_WARNING, FutureWarning)\n",
            "[Parallel(n_jobs=-1)]: Using backend LokyBackend with 4 concurrent workers.\n",
            "[Parallel(n_jobs=-1)]: Done   1 tasks      | elapsed:    0.0s\n",
            "[Parallel(n_jobs=-1)]: Batch computation too fast (0.0255s.) Setting batch_size=14.\n",
            "[Parallel(n_jobs=-1)]: Done   3 out of   3 | elapsed:    0.0s remaining:    0.0s\n",
            "[Parallel(n_jobs=-1)]: Done   3 out of   3 | elapsed:    0.0s finished\n",
            "/Users/jj/anaconda3/lib/python3.7/site-packages/sklearn/model_selection/_split.py:1978: FutureWarning: The default value of cv will change from 3 to 5 in version 0.22. Specify it explicitly to silence this warning.\n",
            "  warnings.warn(CV_WARNING, FutureWarning)\n",
            "[Parallel(n_jobs=-1)]: Using backend LokyBackend with 4 concurrent workers.\n",
            "[Parallel(n_jobs=-1)]: Done   1 tasks      | elapsed:    0.0s\n",
            "[Parallel(n_jobs=-1)]: Batch computation too fast (0.0330s.) Setting batch_size=12.\n",
            "[Parallel(n_jobs=-1)]: Done   3 out of   3 | elapsed:    0.0s remaining:    0.0s\n",
            "[Parallel(n_jobs=-1)]: Done   3 out of   3 | elapsed:    0.0s finished\n",
            "/Users/jj/anaconda3/lib/python3.7/site-packages/sklearn/linear_model/logistic.py:432: FutureWarning: Default solver will be changed to 'lbfgs' in 0.22. Specify a solver to silence this warning.\n",
            "  FutureWarning)\n",
            "/Users/jj/anaconda3/lib/python3.7/site-packages/sklearn/model_selection/_split.py:1978: FutureWarning: The default value of cv will change from 3 to 5 in version 0.22. Specify it explicitly to silence this warning.\n",
            "  warnings.warn(CV_WARNING, FutureWarning)\n",
            "[Parallel(n_jobs=-1)]: Using backend LokyBackend with 4 concurrent workers.\n",
            "[Parallel(n_jobs=-1)]: Done   1 tasks      | elapsed:    2.2s\n",
            "[Parallel(n_jobs=-1)]: Done   3 out of   3 | elapsed:    2.5s remaining:    0.0s\n",
            "[Parallel(n_jobs=-1)]: Done   3 out of   3 | elapsed:    2.5s finished\n"
          ]
        },
        {
          "output_type": "stream",
          "name": "stdout",
          "text": [
            "RandomForest\n",
            "Fitting 3 folds for each of 1 candidates, totalling 3 fits\n"
          ]
        },
        {
          "output_type": "stream",
          "name": "stderr",
          "text": [
            "/Users/jj/anaconda3/lib/python3.7/site-packages/sklearn/model_selection/_split.py:1978: FutureWarning: The default value of cv will change from 3 to 5 in version 0.22. Specify it explicitly to silence this warning.\n",
            "  warnings.warn(CV_WARNING, FutureWarning)\n",
            "[Parallel(n_jobs=-1)]: Using backend LokyBackend with 4 concurrent workers.\n",
            "[Parallel(n_jobs=-1)]: Done   1 tasks      | elapsed:    0.4s\n",
            "[Parallel(n_jobs=-1)]: Done   3 out of   3 | elapsed:    0.4s remaining:    0.0s\n",
            "[Parallel(n_jobs=-1)]: Done   3 out of   3 | elapsed:    0.4s finished\n"
          ]
        },
        {
          "output_type": "stream",
          "name": "stdout",
          "text": [
            "GradientBoostingClassifier\n",
            "Fitting 3 folds for each of 1 candidates, totalling 3 fits\n"
          ]
        },
        {
          "output_type": "stream",
          "name": "stderr",
          "text": [
            "/Users/jj/anaconda3/lib/python3.7/site-packages/sklearn/model_selection/_split.py:1978: FutureWarning: The default value of cv will change from 3 to 5 in version 0.22. Specify it explicitly to silence this warning.\n",
            "  warnings.warn(CV_WARNING, FutureWarning)\n",
            "[Parallel(n_jobs=-1)]: Using backend LokyBackend with 4 concurrent workers.\n",
            "[Parallel(n_jobs=-1)]: Done   1 tasks      | elapsed:   13.4s\n",
            "[Parallel(n_jobs=-1)]: Done   3 out of   3 | elapsed:   13.9s remaining:    0.0s\n",
            "[Parallel(n_jobs=-1)]: Done   3 out of   3 | elapsed:   13.9s finished\n"
          ]
        },
        {
          "output_type": "stream",
          "name": "stdout",
          "text": [
            "MultinomialNB\n",
            "Fitting 3 folds for each of 1 candidates, totalling 3 fits\n",
            "Testing on choice driver food\n",
            "\n",
            "best parameters:\n",
            "SVC(C=2.3, cache_size=200, class_weight='balanced', coef0=0.0,\n",
            "    decision_function_shape='ovr', degree=3, gamma=1, kernel='rbf', max_iter=-1,\n",
            "    probability=False, random_state=None, shrinking=True, tol=0.001,\n",
            "    verbose=False)\n",
            "\n",
            "\n",
            "Classification report:\n"
          ]
        },
        {
          "output_type": "stream",
          "name": "stderr",
          "text": [
            "/Users/jj/anaconda3/lib/python3.7/site-packages/sklearn/model_selection/_split.py:1978: FutureWarning: The default value of cv will change from 3 to 5 in version 0.22. Specify it explicitly to silence this warning.\n",
            "  warnings.warn(CV_WARNING, FutureWarning)\n",
            "[Parallel(n_jobs=-1)]: Using backend LokyBackend with 4 concurrent workers.\n",
            "[Parallel(n_jobs=-1)]: Done   1 tasks      | elapsed:    0.0s\n",
            "[Parallel(n_jobs=-1)]: Batch computation too fast (0.0274s.) Setting batch_size=14.\n",
            "[Parallel(n_jobs=-1)]: Done   3 out of   3 | elapsed:    0.0s remaining:    0.0s\n",
            "[Parallel(n_jobs=-1)]: Done   3 out of   3 | elapsed:    0.0s finished\n"
          ]
        },
        {
          "output_type": "stream",
          "name": "stdout",
          "text": [
            "              precision    recall  f1-score   support\n",
            "\n",
            "         0.0       0.75      0.45      0.56       301\n",
            "         1.0       0.80      0.93      0.86       685\n",
            "\n",
            "    accuracy                           0.79       986\n",
            "   macro avg       0.77      0.69      0.71       986\n",
            "weighted avg       0.78      0.79      0.77       986\n",
            "\n",
            "[[136 165]\n",
            " [ 45 640]]\n",
            "78.70182555780933\n",
            "---------------------------------------------\n",
            "Testing on choice driver experience\n",
            "\n",
            "best parameters:\n",
            "SVC(C=2.3, cache_size=200, class_weight='balanced', coef0=0.0,\n",
            "    decision_function_shape='ovr', degree=3, gamma=1, kernel='rbf', max_iter=-1,\n",
            "    probability=False, random_state=None, shrinking=True, tol=0.001,\n",
            "    verbose=False)\n",
            "\n",
            "\n",
            "Classification report:\n",
            "              precision    recall  f1-score   support\n",
            "\n",
            "         0.0       0.82      0.69      0.75       463\n",
            "         1.0       0.76      0.87      0.81       523\n",
            "\n",
            "    accuracy                           0.78       986\n",
            "   macro avg       0.79      0.78      0.78       986\n",
            "weighted avg       0.79      0.78      0.78       986\n",
            "\n",
            "[[318 145]\n",
            " [ 68 455]]\n",
            "78.3975659229209\n",
            "---------------------------------------------\n",
            "Testing on choice driver value\n",
            "\n",
            "best parameters:\n",
            "GradientBoostingClassifier(criterion='friedman_mse', init=None,\n",
            "                           learning_rate=0.01, loss='deviance', max_depth=7,\n",
            "                           max_features=None, max_leaf_nodes=None,\n",
            "                           min_impurity_decrease=0.0, min_impurity_split=None,\n",
            "                           min_samples_leaf=1, min_samples_split=2,\n",
            "                           min_weight_fraction_leaf=0.0, n_estimators=100,\n",
            "                           n_iter_no_change=None, presort='auto',\n",
            "                           random_state=None, subsample=1.0, tol=0.0001,\n",
            "                           validation_fraction=0.1, verbose=0,\n",
            "                           warm_start=False)\n",
            "\n",
            "\n",
            "Classification report:\n",
            "              precision    recall  f1-score   support\n",
            "\n",
            "         0.0       0.88      0.98      0.93       831\n",
            "         1.0       0.75      0.28      0.41       155\n",
            "\n",
            "    accuracy                           0.87       986\n",
            "   macro avg       0.82      0.63      0.67       986\n",
            "weighted avg       0.86      0.87      0.85       986\n",
            "\n",
            "[[817  14]\n",
            " [112  43]]\n",
            "87.2210953346856\n",
            "---------------------------------------------\n",
            "Testing on choice driver service\n",
            "\n",
            "best parameters:\n",
            "GradientBoostingClassifier(criterion='friedman_mse', init=None,\n",
            "                           learning_rate=0.01, loss='deviance', max_depth=7,\n",
            "                           max_features=None, max_leaf_nodes=None,\n",
            "                           min_impurity_decrease=0.0, min_impurity_split=None,\n",
            "                           min_samples_leaf=1, min_samples_split=2,\n",
            "                           min_weight_fraction_leaf=0.0, n_estimators=100,\n",
            "                           n_iter_no_change=None, presort='auto',\n",
            "                           random_state=None, subsample=1.0, tol=0.0001,\n",
            "                           validation_fraction=0.1, verbose=0,\n",
            "                           warm_start=False)\n",
            "\n",
            "\n",
            "Classification report:\n",
            "              precision    recall  f1-score   support\n",
            "\n",
            "         0.0       0.84      0.88      0.86       490\n",
            "         1.0       0.87      0.84      0.85       496\n",
            "\n",
            "    accuracy                           0.86       986\n",
            "   macro avg       0.86      0.86      0.86       986\n",
            "weighted avg       0.86      0.86      0.86       986\n",
            "\n",
            "[[430  60]\n",
            " [ 81 415]]\n",
            "85.6997971602434\n",
            "---------------------------------------------\n",
            "Testing on choice driver consistency\n",
            "\n",
            "best parameters:\n",
            "SVC(C=2.3, cache_size=200, class_weight='balanced', coef0=0.0,\n",
            "    decision_function_shape='ovr', degree=3, gamma=1, kernel='rbf', max_iter=-1,\n",
            "    probability=False, random_state=None, shrinking=True, tol=0.001,\n",
            "    verbose=False)\n",
            "\n",
            "\n",
            "Classification report:\n",
            "              precision    recall  f1-score   support\n",
            "\n",
            "         0.0       0.99      1.00      0.99       976\n",
            "         1.0       0.00      0.00      0.00        10\n",
            "\n",
            "    accuracy                           0.99       986\n",
            "   macro avg       0.49      0.50      0.50       986\n",
            "weighted avg       0.98      0.99      0.98       986\n",
            "\n",
            "[[976   0]\n",
            " [ 10   0]]\n",
            "98.98580121703854\n",
            "---------------------------------------------\n",
            "Testing on choice driver convenience\n",
            "\n",
            "best parameters:\n",
            "GradientBoostingClassifier(criterion='friedman_mse', init=None,\n",
            "                           learning_rate=0.01, loss='deviance', max_depth=7,\n",
            "                           max_features=None, max_leaf_nodes=None,\n",
            "                           min_impurity_decrease=0.0, min_impurity_split=None,\n",
            "                           min_samples_leaf=1, min_samples_split=2,\n",
            "                           min_weight_fraction_leaf=0.0, n_estimators=100,\n",
            "                           n_iter_no_change=None, presort='auto',\n",
            "                           random_state=None, subsample=1.0, tol=0.0001,\n",
            "                           validation_fraction=0.1, verbose=0,\n",
            "                           warm_start=False)\n",
            "\n",
            "\n",
            "Classification report:\n",
            "              precision    recall  f1-score   support\n",
            "\n",
            "         0.0       0.98      1.00      0.99       964\n",
            "         1.0       1.00      0.05      0.09        22\n",
            "\n",
            "    accuracy                           0.98       986\n",
            "   macro avg       0.99      0.52      0.54       986\n",
            "weighted avg       0.98      0.98      0.97       986\n",
            "\n",
            "[[964   0]\n",
            " [ 21   1]]\n",
            "97.87018255578094\n"
          ]
        },
        {
          "output_type": "stream",
          "name": "stderr",
          "text": [
            "/Users/jj/anaconda3/lib/python3.7/site-packages/sklearn/metrics/classification.py:1437: UndefinedMetricWarning: Precision and F-score are ill-defined and being set to 0.0 in labels with no predicted samples.\n",
            "  'precision', 'predicted', average, warn_for)\n"
          ]
        },
        {
          "output_type": "execute_result",
          "execution_count": 18,
          "data": {
            "text/plain": [
              "['Exported_models/train_new_test_new_value.pkl']"
            ]
          },
          "metadata": {
            "tags": []
          }
        }
      ],
      "execution_count": 0,
      "metadata": {
        "colab": {},
        "colab_type": "code",
        "id": "fF3Q6klWb__A",
        "outputId": "12295325-971e-457b-e383-c8c89ec86883"
      }
    },
    {
      "cell_type": "code",
      "source": [],
      "outputs": [],
      "execution_count": 0,
      "metadata": {
        "colab": {},
        "colab_type": "code",
        "id": "mXlBYKRAb__I"
      }
    }
  ],
  "metadata": {
    "colab": {
      "collapsed_sections": [],
      "name": "Classification_sentiment_newdata_classical_LSTM_2810.ipynb",
      "provenance": [],
      "toc_visible": true
    },
    "kernelspec": {
      "display_name": "Python 3",
      "language": "python",
      "name": "python3"
    },
    "language_info": {
      "name": "python",
      "version": "3.6.10",
      "mimetype": "text/x-python",
      "codemirror_mode": {
        "name": "ipython",
        "version": 3
      },
      "pygments_lexer": "ipython3",
      "nbconvert_exporter": "python",
      "file_extension": ".py"
    },
    "nteract": {
      "version": "0.22.0"
    }
  },
  "nbformat": 4,
  "nbformat_minor": 1
}