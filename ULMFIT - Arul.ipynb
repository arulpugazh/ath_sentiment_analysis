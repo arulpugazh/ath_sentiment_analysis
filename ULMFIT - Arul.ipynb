{
 "cells": [
  {
   "cell_type": "markdown",
   "metadata": {
    "colab_type": "text",
    "id": "t-TKEXEE5M4o"
   },
   "source": [
    "# Activate GPU and install fast.ai"
   ]
  },
  {
   "cell_type": "markdown",
   "metadata": {
    "colab_type": "text",
    "id": "eoxYIFcbaSTE"
   },
   "source": [
    "# IMPORT REQUIRED MODELS"
   ]
  },
  {
   "cell_type": "code",
   "execution_count": 1,
   "metadata": {
    "colab": {},
    "colab_type": "code",
    "id": "eyhco48NaQGD"
   },
   "outputs": [],
   "source": [
    "import fastai\n",
    "from fastai import *\n",
    "from fastai.text import * \n",
    "from fastai.text.models import *\n",
    "import pandas as pd\n",
    "import numpy as np\n",
    "from sklearn.model_selection import train_test_split\n",
    "from sklearn.metrics import classification_report\n",
    "\n",
    "from sklearn.metrics import confusion_matrix, accuracy_score\n",
    "\n",
    "import nltk\n",
    "from nltk.corpus import stopwords\n",
    "import re \n",
    "from bs4 import BeautifulSoup\n",
    "\n",
    "from nltk.stem.snowball import SnowballStemmer"
   ]
  },
  {
   "cell_type": "markdown",
   "metadata": {
    "colab_type": "text",
    "id": "qVEk5zuAabgq"
   },
   "source": [
    "# Prepare data"
   ]
  },
  {
   "cell_type": "code",
   "execution_count": 2,
   "metadata": {
    "colab": {},
    "colab_type": "code",
    "id": "6gtDNqu0exks"
   },
   "outputs": [],
   "source": [
    "# Not excluding stopwords as it performs better\n",
    "stops={}"
   ]
  },
  {
   "cell_type": "code",
   "execution_count": 3,
   "metadata": {
    "colab": {},
    "colab_type": "code",
    "id": "blTmscHxeyka"
   },
   "outputs": [],
   "source": [
    "#PREPROCEESING THE TEXT\n",
    "\n",
    "def text_preprocessing(text, language, minWordSize):\n",
    "    \n",
    "    # remove html\n",
    "    text_html = BeautifulSoup(text,\"html.parser\" ).get_text()\n",
    "    \n",
    "    # remove non-letters\n",
    "    text_non_letters = re.sub(\"[^a-zA-Z']\", \" \", text_html) \n",
    "        \n",
    "    # convert to lower-case\n",
    "    text_lower = text_non_letters.lower()\n",
    "    \n",
    "    # remove stop words\n",
    "    text_no_stop_words = ' '\n",
    "    for w in text_lower.split():\n",
    "        if w not in stops:  \n",
    "            text_no_stop_words = text_no_stop_words + w + ' '  \n",
    "    \n",
    "    # do stemming\n",
    "    text_stemmer = ' '\n",
    "    stemmer = SnowballStemmer(language)\n",
    "    for w in text_no_stop_words.split():\n",
    "        text_stemmer = text_stemmer + stemmer.stem(w) + ' '\n",
    "         \n",
    "    # remove short words\n",
    "    text_no_short_words = ' '\n",
    "    for w in text_stemmer.split(): \n",
    "        if len(w) >=minWordSize:\n",
    "            text_no_short_words = text_no_short_words + w + ' '\n",
    "    return text_no_short_words"
   ]
  },
  {
   "cell_type": "code",
   "execution_count": 47,
   "metadata": {},
   "outputs": [],
   "source": [
    "#load and prepare old data\n",
    "df_reviews = pd.read_csv('Input_data/Old_data_reviews.csv',sep=',',quotechar='\"' ) #contains the reviews from Facebook and Tripadvisor\n",
    "df_cat_labels = pd.read_csv('Input_data/Old_data_categorisation_labels.csv',sep=',',quotechar='\"') # contains the classlabels of the reviews\n",
    "df_merged_data = pd.merge(df_cat_labels,df_reviews,how='left',left_on='review_id',right_on='id')\n",
    "\n",
    "# Drop unnecessary columns\n",
    "df_merged_data = df_merged_data.drop(['labeler_id', 'post_type', 'datetime_posted','likes', 'traveler_type',\n",
    "                    'rating_food','rating_service', 'rating_environment', 'rating_value',\n",
    "                     'reviewer_id','source_subject_id','id_x','review_id','id_y','source'],axis=1)\n",
    "\n",
    "#select english reviews\n",
    "def change_ratings(x):\n",
    "    if x in [0, 1,2]:\n",
    "        return -1\n",
    "    elif x == 3:\n",
    "        return 0\n",
    "    else:\n",
    "        return 1\n",
    "olddata =  df_merged_data.loc[df_merged_data['language'] == 'en']\n",
    "olddata['sentiment'] = olddata['rating'].apply(change_ratings)\n",
    "reviews_old = olddata['text'].values\n",
    "sentiment_old=olddata['sentiment'].values\n"
   ]
  },
  {
   "cell_type": "code",
   "execution_count": 12,
   "metadata": {
    "colab": {},
    "colab_type": "code",
    "id": "FGLilbf4e-pq"
   },
   "outputs": [],
   "source": [
    "#load and prepare new data\n",
    "newdata=pd.read_csv('Input_data/New_data.csv')\n",
    "# olddata = pd.read_csv(\"Input_data/Old_data_reviews.csv\")\n",
    "# newdata = pd.concat([newdata, olddata])\n",
    "reviews_new= newdata['Text'].values\n",
    "sentiment_new = newdata['Sentiment'].values\n",
    "\n",
    "#Split category column \n",
    "newdata['category']=newdata['Categories'].apply(lambda x:x.split(';'))\n",
    "\n",
    "def category_includer(data,string):    \n",
    "    for i in range(len(data)):\n",
    "        data.loc[i,string]=0\n",
    "        column=list(data.loc[i,'category'])\n",
    "        if string in column:\n",
    "            data.loc[i,string]=1\n",
    "    return data\n",
    "\n",
    "newdata=category_includer(newdata,'experience')\n",
    "newdata=category_includer(newdata,'service')\n",
    "newdata=category_includer(newdata,'consistency')\n",
    "newdata=category_includer(newdata,'value')\n",
    "newdata=category_includer(newdata,'food')\n",
    "newdata=category_includer(newdata,'convenience')\n",
    "\n",
    "#dropping the two columns and filter only English\n",
    "newdata=newdata.drop(['Categories','category'],axis=1)\n",
    "newdata=newdata[newdata['Language']==\"eng\"]"
   ]
  },
  {
   "cell_type": "code",
   "execution_count": 15,
   "metadata": {
    "colab": {
     "base_uri": "https://localhost:8080/",
     "height": 72
    },
    "colab_type": "code",
    "executionInfo": {
     "elapsed": 3753,
     "status": "ok",
     "timestamp": 1571475192838,
     "user": {
      "displayName": "Joris Vanherp",
      "photoUrl": "",
      "userId": "04253705092317983080"
     },
     "user_tz": -120
    },
    "id": "zNvgKlt-fasW",
    "outputId": "9cacf6dc-f069-4b8b-e897-d71b4e1131aa"
   },
   "outputs": [
    {
     "name": "stderr",
     "output_type": "stream",
     "text": [
      "/Users/arul/anaconda3/envs/fastai-cpu/lib/python3.6/site-packages/bs4/__init__.py:336: UserWarning: \"https://www.valkyriestudios.be\" looks like a URL. Beautiful Soup is not an HTTP client. You should probably use an HTTP client like requests to get the document behind the URL, and feed that document to Beautiful Soup.\n",
      "  ' that document to Beautiful Soup.' % decoded_markup\n"
     ]
    }
   ],
   "source": [
    "# Preprocess\n",
    "\n",
    "#reviews and sentiment as values\n",
    "reviews_new= newdata['Text'].values\n",
    "sentiment_new = newdata['Sentiment'].values\n",
    "\n",
    "reviews = list(reviews_new) + list(reviews_old)\n",
    "sentiment = list(sentiment_new) + list(sentiment_old)\n",
    "#test train split\n",
    "reviews_train, reviews_test, sentiment_train, sentiment_test = train_test_split(reviews, sentiment, test_size=0.2,random_state=0,stratify=sentiment)\n",
    "\n",
    "#bag of words\n",
    "language = 'english'\n",
    "minWordLength = 2 # shorter words will be removed\n",
    "\n",
    "for i in range(len(reviews_train)):\n",
    "    reviews_train[i] = text_preprocessing(reviews_train[i], language, minWordLength)\n",
    "for i in range(len(reviews_test)):\n",
    "    reviews_test[i] = text_preprocessing(reviews_test[i], language, minWordLength)\n",
    "        \n"
   ]
  },
  {
   "cell_type": "markdown",
   "metadata": {
    "colab_type": "text",
    "id": "f9TFHeCcjMaS"
   },
   "source": [
    "# Create and train models"
   ]
  },
  {
   "cell_type": "code",
   "execution_count": 16,
   "metadata": {
    "colab": {},
    "colab_type": "code",
    "id": "r0CYxD98fmCx"
   },
   "outputs": [],
   "source": [
    "# Create language databunch\n",
    "data_lm = TextLMDataBunch.from_df(train_df = pd.DataFrame({'text': reviews_train, 'labels': sentiment_train}), \n",
    "                                  valid_df = pd.DataFrame({'text': reviews_test, 'labels':sentiment_test}), \n",
    "                                  path = \"\",\n",
    "                                 text_cols=0,\n",
    "                                 label_cols=1)\n",
    "\n",
    "# Create classifier databunch\n",
    "data_clas = TextClasDataBunch.from_df(path = \"\", \n",
    "                                      train_df = pd.DataFrame({'text': reviews_train, 'labels': sentiment_train}),\n",
    "                                      valid_df = pd.DataFrame({'text': reviews_test, 'labels': sentiment_test}), \n",
    "                                      vocab=data_lm.train_ds.vocab, bs=16,\n",
    "                                     text_cols=0,\n",
    "                                 label_cols=1)"
   ]
  },
  {
   "cell_type": "code",
   "execution_count": 17,
   "metadata": {
    "colab": {},
    "colab_type": "code",
    "id": "N7ErkZ-rfyFa"
   },
   "outputs": [],
   "source": [
    "# Load pre-trained (Wikipedia) model, which predicts the next word\n",
    "learn = language_model_learner(data_lm, AWD_LSTM, pretrained=True, drop_mult=0.3);"
   ]
  },
  {
   "cell_type": "code",
   "execution_count": 18,
   "metadata": {
    "colab": {
     "base_uri": "https://localhost:8080/",
     "height": 300
    },
    "colab_type": "code",
    "executionInfo": {
     "elapsed": 34803,
     "status": "ok",
     "timestamp": 1571475429388,
     "user": {
      "displayName": "Joris Vanherp",
      "photoUrl": "",
      "userId": "04253705092317983080"
     },
     "user_tz": -120
    },
    "id": "PRNOUJHv6jBe",
    "outputId": "82c24e5f-0975-4caa-a7d7-870f07161a2a"
   },
   "outputs": [
    {
     "data": {
      "text/html": [],
      "text/plain": [
       "<IPython.core.display.HTML object>"
      ]
     },
     "metadata": {},
     "output_type": "display_data"
    },
    {
     "name": "stdout",
     "output_type": "stream",
     "text": [
      "LR Finder is complete, type {learner_name}.recorder.plot() to see the graph.\n"
     ]
    },
    {
     "data": {
      "image/png": "[encoded data removed]",
      "text/plain": [
       "<Figure size 432x288 with 1 Axes>"
      ]
     },
     "metadata": {
      "needs_background": "light"
     },
     "output_type": "display_data"
    }
   ],
   "source": [
    "# Run learning rate finder and plot to find good learning rates\n",
    "learn.lr_find()\n",
    "learn.recorder.plot()"
   ]
  },
  {
   "cell_type": "code",
   "execution_count": 19,
   "metadata": {
    "colab": {},
    "colab_type": "code",
    "id": "bsscYuUl6j-3"
   },
   "outputs": [],
   "source": [
    "#Save in case want to restart from here\n",
    "learn.save('fit_head')"
   ]
  },
  {
   "cell_type": "code",
   "execution_count": 0,
   "metadata": {
    "colab": {},
    "colab_type": "code",
    "id": "HU2XNJxe7nIX"
   },
   "outputs": [],
   "source": [
    "#Load in case want to restart from here\n",
    "learn.load('fit_head');"
   ]
  },
  {
   "cell_type": "code",
   "execution_count": 20,
   "metadata": {
    "colab": {
     "base_uri": "https://localhost:8080/",
     "height": 78
    },
    "colab_type": "code",
    "executionInfo": {
     "elapsed": 17939,
     "status": "ok",
     "timestamp": 1571476004046,
     "user": {
      "displayName": "Joris Vanherp",
      "photoUrl": "",
      "userId": "04253705092317983080"
     },
     "user_tz": -120
    },
    "id": "t2cP9vzgfzM5",
    "outputId": "1d180e85-f1aa-4844-d23e-ea9e0c71fe45"
   },
   "outputs": [
    {
     "data": {
      "text/html": [
       "<table border=\"1\" class=\"dataframe\">\n",
       "  <thead>\n",
       "    <tr style=\"text-align: left;\">\n",
       "      <th>epoch</th>\n",
       "      <th>train_loss</th>\n",
       "      <th>valid_loss</th>\n",
       "      <th>accuracy</th>\n",
       "      <th>time</th>\n",
       "    </tr>\n",
       "  </thead>\n",
       "  <tbody>\n",
       "    <tr>\n",
       "      <td>0</td>\n",
       "      <td>4.937283</td>\n",
       "      <td>4.680444</td>\n",
       "      <td>0.200412</td>\n",
       "      <td>18:30</td>\n",
       "    </tr>\n",
       "  </tbody>\n",
       "</table>"
      ],
      "text/plain": [
       "<IPython.core.display.HTML object>"
      ]
     },
     "metadata": {},
     "output_type": "display_data"
    }
   ],
   "source": [
    "# Train the language model, which predicts the next word in a review, on the reviews data bunch.\n",
    "# Train last layers for 1 epoch\n",
    "learn.fit_one_cycle(1, 1e-2)"
   ]
  },
  {
   "cell_type": "code",
   "execution_count": 21,
   "metadata": {
    "colab": {
     "base_uri": "https://localhost:8080/",
     "height": 198
    },
    "colab_type": "code",
    "executionInfo": {
     "elapsed": 101946,
     "status": "ok",
     "timestamp": 1571476090502,
     "user": {
      "displayName": "Joris Vanherp",
      "photoUrl": "",
      "userId": "04253705092317983080"
     },
     "user_tz": -120
    },
    "id": "1afTd8jx7u41",
    "outputId": "51493355-69a5-46cb-e2ea-551e98fbac57"
   },
   "outputs": [
    {
     "data": {
      "text/html": [
       "<table border=\"1\" class=\"dataframe\">\n",
       "  <thead>\n",
       "    <tr style=\"text-align: left;\">\n",
       "      <th>epoch</th>\n",
       "      <th>train_loss</th>\n",
       "      <th>valid_loss</th>\n",
       "      <th>accuracy</th>\n",
       "      <th>time</th>\n",
       "    </tr>\n",
       "  </thead>\n",
       "  <tbody>\n",
       "    <tr>\n",
       "      <td>0</td>\n",
       "      <td>4.526453</td>\n",
       "      <td>4.472011</td>\n",
       "      <td>0.223457</td>\n",
       "      <td>20:33</td>\n",
       "    </tr>\n",
       "    <tr>\n",
       "      <td>1</td>\n",
       "      <td>4.278420</td>\n",
       "      <td>4.257001</td>\n",
       "      <td>0.245134</td>\n",
       "      <td>19:31</td>\n",
       "    </tr>\n",
       "    <tr>\n",
       "      <td>2</td>\n",
       "      <td>3.991890</td>\n",
       "      <td>4.117462</td>\n",
       "      <td>0.261359</td>\n",
       "      <td>19:15</td>\n",
       "    </tr>\n",
       "    <tr>\n",
       "      <td>3</td>\n",
       "      <td>3.756675</td>\n",
       "      <td>4.049525</td>\n",
       "      <td>0.269965</td>\n",
       "      <td>18:55</td>\n",
       "    </tr>\n",
       "    <tr>\n",
       "      <td>4</td>\n",
       "      <td>3.637866</td>\n",
       "      <td>4.039631</td>\n",
       "      <td>0.271969</td>\n",
       "      <td>19:14</td>\n",
       "    </tr>\n",
       "  </tbody>\n",
       "</table>"
      ],
      "text/plain": [
       "<IPython.core.display.HTML object>"
      ]
     },
     "metadata": {},
     "output_type": "display_data"
    }
   ],
   "source": [
    "#Unfreeze and train for another epoch\n",
    "learn.unfreeze()\n",
    "learn.fit_one_cycle(5, 1e-3, moms=(0.8,0.7))"
   ]
  },
  {
   "cell_type": "code",
   "execution_count": 22,
   "metadata": {
    "colab": {},
    "colab_type": "code",
    "id": "d1gUjVlykSsa"
   },
   "outputs": [],
   "source": [
    "learn.save('fine_tuned')\n",
    "learn.save_encoder('fine_tuned_enc')"
   ]
  },
  {
   "cell_type": "code",
   "execution_count": 0,
   "metadata": {
    "colab": {},
    "colab_type": "code",
    "id": "lzgUhenkkSse"
   },
   "outputs": [],
   "source": [
    "learn.load('fine_tuned');\n",
    "learn.load_encoder('fine_tuned_enc');"
   ]
  },
  {
   "cell_type": "code",
   "execution_count": 23,
   "metadata": {
    "colab": {},
    "colab_type": "code",
    "id": "zu7QSUnHkSsg"
   },
   "outputs": [],
   "source": [
    "# Test what words it would predict\n",
    "TEXT = \"I had a\"\n",
    "N_WORDS = 40\n",
    "N_SENTENCES = 2"
   ]
  },
  {
   "cell_type": "code",
   "execution_count": 24,
   "metadata": {
    "colab": {
     "base_uri": "https://localhost:8080/",
     "height": 72
    },
    "colab_type": "code",
    "executionInfo": {
     "elapsed": 102033,
     "status": "ok",
     "timestamp": 1571476093228,
     "user": {
      "displayName": "Joris Vanherp",
      "photoUrl": "",
      "userId": "04253705092317983080"
     },
     "user_tz": -120
    },
    "id": "FYoYNRBMkSsh",
    "outputId": "c928c34d-4714-4d88-c373-40f39cde2efe"
   },
   "outputs": [
    {
     "name": "stdout",
     "output_type": "stream",
     "text": [
      "I had a amaz meal at claridg in brussel which certain count on the rank of best restaur in london we will definit be back xxbos brasseri anniversari which was fantast so from start to finish we had great meal and share the\n",
      "I had a amaz meal here and was not disappoint the chef was absolut blown away by the delici beef and the servic thank you xxbos we want to tri the tast menu for the soup and everi cours was delici with tasti\n"
     ]
    }
   ],
   "source": [
    "print(\"\\n\".join(learn.predict(TEXT, N_WORDS, temperature=0.75) for _ in range(N_SENTENCES)))"
   ]
  },
  {
   "cell_type": "code",
   "execution_count": 25,
   "metadata": {
    "colab": {},
    "colab_type": "code",
    "id": "vSm73guQmctO"
   },
   "outputs": [],
   "source": [
    "# Create classification model\n",
    "learn = text_classifier_learner(data_clas, AWD_LSTM,drop_mult=0.2);"
   ]
  },
  {
   "cell_type": "code",
   "execution_count": 42,
   "metadata": {
    "colab": {
     "base_uri": "https://localhost:8080/",
     "height": 336
    },
    "colab_type": "code",
    "executionInfo": {
     "elapsed": 100360,
     "status": "ok",
     "timestamp": 1571476093901,
     "user": {
      "displayName": "Joris Vanherp",
      "photoUrl": "",
      "userId": "04253705092317983080"
     },
     "user_tz": -120
    },
    "id": "JcFkE8WIkSsu",
    "outputId": "789a44b5-255a-4a47-84c0-82c92f0fa4d5"
   },
   "outputs": [
    {
     "ename": "ValueError",
     "evalue": "Value must be a nonnegative integer or None",
     "output_type": "error",
     "traceback": [
      "\u001b[0;31m---------------------------------------------------------------------------\u001b[0m",
      "\u001b[0;31mValueError\u001b[0m                                Traceback (most recent call last)",
      "\u001b[0;32m<ipython-input-42-aea8cfcd8df6>\u001b[0m in \u001b[0;36m<module>\u001b[0;34m\u001b[0m\n\u001b[1;32m      1\u001b[0m \u001b[0;31m#Visualize the data\u001b[0m\u001b[0;34m\u001b[0m\u001b[0;34m\u001b[0m\u001b[0;34m\u001b[0m\u001b[0m\n\u001b[0;32m----> 2\u001b[0;31m \u001b[0mdata_clas\u001b[0m\u001b[0;34m.\u001b[0m\u001b[0mshow_batch\u001b[0m\u001b[0;34m(\u001b[0m\u001b[0;34m)\u001b[0m\u001b[0;34m\u001b[0m\u001b[0;34m\u001b[0m\u001b[0m\n\u001b[0m",
      "\u001b[0;32m~/anaconda3/envs/fastai-cpu/lib/python3.6/site-packages/fastai/basic_data.py\u001b[0m in \u001b[0;36mshow_batch\u001b[0;34m(self, rows, ds_type, reverse, **kwargs)\u001b[0m\n\u001b[1;32m    192\u001b[0m             \u001b[0mys\u001b[0m \u001b[0;34m=\u001b[0m \u001b[0;34m[\u001b[0m\u001b[0mself\u001b[0m\u001b[0;34m.\u001b[0m\u001b[0mtrain_ds\u001b[0m\u001b[0;34m.\u001b[0m\u001b[0my\u001b[0m\u001b[0;34m.\u001b[0m\u001b[0mreconstruct\u001b[0m\u001b[0;34m(\u001b[0m\u001b[0mgrab_idx\u001b[0m\u001b[0;34m(\u001b[0m\u001b[0my\u001b[0m\u001b[0;34m,\u001b[0m \u001b[0mi\u001b[0m\u001b[0;34m)\u001b[0m\u001b[0;34m,\u001b[0m \u001b[0mx\u001b[0m\u001b[0;34m=\u001b[0m\u001b[0mx\u001b[0m\u001b[0;34m)\u001b[0m \u001b[0;32mfor\u001b[0m \u001b[0mi\u001b[0m\u001b[0;34m,\u001b[0m\u001b[0mx\u001b[0m \u001b[0;32min\u001b[0m \u001b[0menumerate\u001b[0m\u001b[0;34m(\u001b[0m\u001b[0mxs\u001b[0m\u001b[0;34m)\u001b[0m\u001b[0;34m]\u001b[0m\u001b[0;34m\u001b[0m\u001b[0;34m\u001b[0m\u001b[0m\n\u001b[1;32m    193\u001b[0m         \u001b[0;32melse\u001b[0m \u001b[0;34m:\u001b[0m \u001b[0mys\u001b[0m \u001b[0;34m=\u001b[0m \u001b[0;34m[\u001b[0m\u001b[0mself\u001b[0m\u001b[0;34m.\u001b[0m\u001b[0mtrain_ds\u001b[0m\u001b[0;34m.\u001b[0m\u001b[0my\u001b[0m\u001b[0;34m.\u001b[0m\u001b[0mreconstruct\u001b[0m\u001b[0;34m(\u001b[0m\u001b[0mgrab_idx\u001b[0m\u001b[0;34m(\u001b[0m\u001b[0my\u001b[0m\u001b[0;34m,\u001b[0m \u001b[0mi\u001b[0m\u001b[0;34m)\u001b[0m\u001b[0;34m)\u001b[0m \u001b[0;32mfor\u001b[0m \u001b[0mi\u001b[0m \u001b[0;32min\u001b[0m \u001b[0mrange\u001b[0m\u001b[0;34m(\u001b[0m\u001b[0mn_items\u001b[0m\u001b[0;34m)\u001b[0m\u001b[0;34m]\u001b[0m\u001b[0;34m\u001b[0m\u001b[0;34m\u001b[0m\u001b[0m\n\u001b[0;32m--> 194\u001b[0;31m         \u001b[0mself\u001b[0m\u001b[0;34m.\u001b[0m\u001b[0mtrain_ds\u001b[0m\u001b[0;34m.\u001b[0m\u001b[0mx\u001b[0m\u001b[0;34m.\u001b[0m\u001b[0mshow_xys\u001b[0m\u001b[0;34m(\u001b[0m\u001b[0mxs\u001b[0m\u001b[0;34m,\u001b[0m \u001b[0mys\u001b[0m\u001b[0;34m,\u001b[0m \u001b[0;34m**\u001b[0m\u001b[0mkwargs\u001b[0m\u001b[0;34m)\u001b[0m\u001b[0;34m\u001b[0m\u001b[0;34m\u001b[0m\u001b[0m\n\u001b[0m\u001b[1;32m    195\u001b[0m \u001b[0;34m\u001b[0m\u001b[0m\n\u001b[1;32m    196\u001b[0m     \u001b[0;32mdef\u001b[0m \u001b[0mexport\u001b[0m\u001b[0;34m(\u001b[0m\u001b[0mself\u001b[0m\u001b[0;34m,\u001b[0m \u001b[0mfile\u001b[0m\u001b[0;34m:\u001b[0m\u001b[0mPathLikeOrBinaryStream\u001b[0m\u001b[0;34m=\u001b[0m\u001b[0;34m'export.pkl'\u001b[0m\u001b[0;34m)\u001b[0m\u001b[0;34m:\u001b[0m\u001b[0;34m\u001b[0m\u001b[0;34m\u001b[0m\u001b[0m\n",
      "\u001b[0;32m~/anaconda3/envs/fastai-cpu/lib/python3.6/site-packages/fastai/text/data.py\u001b[0m in \u001b[0;36mshow_xys\u001b[0;34m(self, xs, ys, max_len)\u001b[0m\n\u001b[1;32m    358\u001b[0m         \u001b[0mitems\u001b[0m \u001b[0;34m=\u001b[0m \u001b[0mnp\u001b[0m\u001b[0;34m.\u001b[0m\u001b[0marray\u001b[0m\u001b[0;34m(\u001b[0m\u001b[0mitems\u001b[0m\u001b[0;34m)\u001b[0m\u001b[0;34m\u001b[0m\u001b[0;34m\u001b[0m\u001b[0m\n\u001b[1;32m    359\u001b[0m         \u001b[0mdf\u001b[0m \u001b[0;34m=\u001b[0m \u001b[0mpd\u001b[0m\u001b[0;34m.\u001b[0m\u001b[0mDataFrame\u001b[0m\u001b[0;34m(\u001b[0m\u001b[0;34m{\u001b[0m\u001b[0mn\u001b[0m\u001b[0;34m:\u001b[0m\u001b[0mitems\u001b[0m\u001b[0;34m[\u001b[0m\u001b[0;34m:\u001b[0m\u001b[0;34m,\u001b[0m\u001b[0mi\u001b[0m\u001b[0;34m]\u001b[0m \u001b[0;32mfor\u001b[0m \u001b[0mi\u001b[0m\u001b[0;34m,\u001b[0m\u001b[0mn\u001b[0m \u001b[0;32min\u001b[0m \u001b[0menumerate\u001b[0m\u001b[0;34m(\u001b[0m\u001b[0mnames\u001b[0m\u001b[0;34m)\u001b[0m\u001b[0;34m}\u001b[0m\u001b[0;34m,\u001b[0m \u001b[0mcolumns\u001b[0m\u001b[0;34m=\u001b[0m\u001b[0mnames\u001b[0m\u001b[0;34m)\u001b[0m\u001b[0;34m\u001b[0m\u001b[0;34m\u001b[0m\u001b[0m\n\u001b[0;32m--> 360\u001b[0;31m         \u001b[0;32mwith\u001b[0m \u001b[0mpd\u001b[0m\u001b[0;34m.\u001b[0m\u001b[0moption_context\u001b[0m\u001b[0;34m(\u001b[0m\u001b[0;34m'display.max_colwidth'\u001b[0m\u001b[0;34m,\u001b[0m \u001b[0;34m-\u001b[0m\u001b[0;36m1\u001b[0m\u001b[0;34m)\u001b[0m\u001b[0;34m:\u001b[0m\u001b[0;34m\u001b[0m\u001b[0;34m\u001b[0m\u001b[0m\n\u001b[0m\u001b[1;32m    361\u001b[0m             \u001b[0mdisplay\u001b[0m\u001b[0;34m(\u001b[0m\u001b[0mHTML\u001b[0m\u001b[0;34m(\u001b[0m\u001b[0mdf\u001b[0m\u001b[0;34m.\u001b[0m\u001b[0mto_html\u001b[0m\u001b[0;34m(\u001b[0m\u001b[0mindex\u001b[0m\u001b[0;34m=\u001b[0m\u001b[0;32mFalse\u001b[0m\u001b[0;34m)\u001b[0m\u001b[0;34m)\u001b[0m\u001b[0;34m)\u001b[0m\u001b[0;34m\u001b[0m\u001b[0;34m\u001b[0m\u001b[0m\n\u001b[1;32m    362\u001b[0m \u001b[0;34m\u001b[0m\u001b[0m\n",
      "\u001b[0;32m~/anaconda3/envs/fastai-cpu/lib/python3.6/site-packages/pandas/_config/config.py\u001b[0m in \u001b[0;36m__enter__\u001b[0;34m(self)\u001b[0m\n\u001b[1;32m    405\u001b[0m \u001b[0;34m\u001b[0m\u001b[0m\n\u001b[1;32m    406\u001b[0m         \u001b[0;32mfor\u001b[0m \u001b[0mpat\u001b[0m\u001b[0;34m,\u001b[0m \u001b[0mval\u001b[0m \u001b[0;32min\u001b[0m \u001b[0mself\u001b[0m\u001b[0;34m.\u001b[0m\u001b[0mops\u001b[0m\u001b[0;34m:\u001b[0m\u001b[0;34m\u001b[0m\u001b[0;34m\u001b[0m\u001b[0m\n\u001b[0;32m--> 407\u001b[0;31m             \u001b[0m_set_option\u001b[0m\u001b[0;34m(\u001b[0m\u001b[0mpat\u001b[0m\u001b[0;34m,\u001b[0m \u001b[0mval\u001b[0m\u001b[0;34m,\u001b[0m \u001b[0msilent\u001b[0m\u001b[0;34m=\u001b[0m\u001b[0;32mTrue\u001b[0m\u001b[0;34m)\u001b[0m\u001b[0;34m\u001b[0m\u001b[0;34m\u001b[0m\u001b[0m\n\u001b[0m\u001b[1;32m    408\u001b[0m \u001b[0;34m\u001b[0m\u001b[0m\n\u001b[1;32m    409\u001b[0m     \u001b[0;32mdef\u001b[0m \u001b[0m__exit__\u001b[0m\u001b[0;34m(\u001b[0m\u001b[0mself\u001b[0m\u001b[0;34m,\u001b[0m \u001b[0;34m*\u001b[0m\u001b[0margs\u001b[0m\u001b[0;34m)\u001b[0m\u001b[0;34m:\u001b[0m\u001b[0;34m\u001b[0m\u001b[0;34m\u001b[0m\u001b[0m\n",
      "\u001b[0;32m~/anaconda3/envs/fastai-cpu/lib/python3.6/site-packages/pandas/_config/config.py\u001b[0m in \u001b[0;36m_set_option\u001b[0;34m(*args, **kwargs)\u001b[0m\n\u001b[1;32m    125\u001b[0m         \u001b[0mo\u001b[0m \u001b[0;34m=\u001b[0m \u001b[0m_get_registered_option\u001b[0m\u001b[0;34m(\u001b[0m\u001b[0mkey\u001b[0m\u001b[0;34m)\u001b[0m\u001b[0;34m\u001b[0m\u001b[0;34m\u001b[0m\u001b[0m\n\u001b[1;32m    126\u001b[0m         \u001b[0;32mif\u001b[0m \u001b[0mo\u001b[0m \u001b[0;32mand\u001b[0m \u001b[0mo\u001b[0m\u001b[0;34m.\u001b[0m\u001b[0mvalidator\u001b[0m\u001b[0;34m:\u001b[0m\u001b[0;34m\u001b[0m\u001b[0;34m\u001b[0m\u001b[0m\n\u001b[0;32m--> 127\u001b[0;31m             \u001b[0mo\u001b[0m\u001b[0;34m.\u001b[0m\u001b[0mvalidator\u001b[0m\u001b[0;34m(\u001b[0m\u001b[0mv\u001b[0m\u001b[0;34m)\u001b[0m\u001b[0;34m\u001b[0m\u001b[0;34m\u001b[0m\u001b[0m\n\u001b[0m\u001b[1;32m    128\u001b[0m \u001b[0;34m\u001b[0m\u001b[0m\n\u001b[1;32m    129\u001b[0m         \u001b[0;31m# walk the nested dict\u001b[0m\u001b[0;34m\u001b[0m\u001b[0;34m\u001b[0m\u001b[0;34m\u001b[0m\u001b[0m\n",
      "\u001b[0;32m~/anaconda3/envs/fastai-cpu/lib/python3.6/site-packages/pandas/_config/config.py\u001b[0m in \u001b[0;36mis_nonnegative_int\u001b[0;34m(value)\u001b[0m\n\u001b[1;32m    842\u001b[0m \u001b[0;34m\u001b[0m\u001b[0m\n\u001b[1;32m    843\u001b[0m     \u001b[0mmsg\u001b[0m \u001b[0;34m=\u001b[0m \u001b[0;34m\"Value must be a nonnegative integer or None\"\u001b[0m\u001b[0;34m\u001b[0m\u001b[0;34m\u001b[0m\u001b[0m\n\u001b[0;32m--> 844\u001b[0;31m     \u001b[0;32mraise\u001b[0m \u001b[0mValueError\u001b[0m\u001b[0;34m(\u001b[0m\u001b[0mmsg\u001b[0m\u001b[0;34m)\u001b[0m\u001b[0;34m\u001b[0m\u001b[0;34m\u001b[0m\u001b[0m\n\u001b[0m\u001b[1;32m    845\u001b[0m \u001b[0;34m\u001b[0m\u001b[0m\n\u001b[1;32m    846\u001b[0m \u001b[0;34m\u001b[0m\u001b[0m\n",
      "\u001b[0;31mValueError\u001b[0m: Value must be a nonnegative integer or None"
     ]
    }
   ],
   "source": [
    "#Visualize the data\n",
    "data_clas.show_batch()"
   ]
  },
  {
   "cell_type": "code",
   "execution_count": 27,
   "metadata": {
    "colab": {
     "base_uri": "https://localhost:8080/",
     "height": 1000
    },
    "colab_type": "code",
    "executionInfo": {
     "elapsed": 1013,
     "status": "ok",
     "timestamp": 1571476094923,
     "user": {
      "displayName": "Joris Vanherp",
      "photoUrl": "",
      "userId": "04253705092317983080"
     },
     "user_tz": -120
    },
    "id": "LbGNdRwtkSsz",
    "outputId": "859cb734-ba9d-424f-dd24-332c09321c4f"
   },
   "outputs": [
    {
     "data": {
      "text/plain": [
       "RNNLearner(data=TextClasDataBunch;\n",
       "\n",
       "Train: LabelList (12050 items)\n",
       "x: TextList\n",
       "xxbos the dinner was veri nice off to tri them all xxunk ron,xxbos come to daniel was great way to celebr my birthday the servic was amaz the dinner was delici the dessert was out of this world would definit recommend this restaur but bring your wallet as with most notori chef daniel charg for what you came for,xxbos big space multi level cafe restaur we had the sunday breakfast lot of fruit juic pastri scrambl egg and extra coffe all for less than you would pay in hotel profession waiter,xxbos dinner here is an amaz dine experi the food is exquisit prepar and delici and the servic is impecc we both had the degust menu and we delight with everi food cours there are alway waiter to serv you food and describ each dish to you they also provid cover stool for ladi handbag the best part of the meal as it was unexpect for us was the fresh bake warm butteri and sweet madelein utter amaz the onli critic was that the bread was not serv warm which may be person prefer would go back there next time and would recommend it for special night out,xxbos great food love the all vegan menu soup was awesom the bbq burger was especi good\n",
       "y: FloatList\n",
       "1.0,5.0,4.0,5.0,1.0\n",
       "Path: .;\n",
       "\n",
       "Valid: LabelList (3013 items)\n",
       "x: TextList\n",
       "xxbos after all these year gramerci tavern still defin excel in cuisin set and servic one of the best restaur in ny,xxbos and no that is not xxunk the set lunch is steal pound tax for excel dish perhap onli one of them was realli wow great servic of cours,xxbos amaz place for fish and chip differ type of fish batter and dip make you wanna go here again and again on top of that they usual have local beer from microbreweri one of our favourit place in brussel,xxbos fabul meal with my wife my boss and his partner too mani superl to think about as far as the food is concern great atmospher delight follow delight and this fine restaur live up to expect howev we did feel we were be rush from one cours to anoth and so took matter into our own hand and slow down the pace prior to dessert sorri well worth visit,xxbos had love lunch with friend we often meet for catch up here alll had the cours set menu there sever choic for each cours all nice veri good valu for money servic atmospher are veri nice too\n",
       "y: FloatList\n",
       "5.0,5.0,5.0,5.0,1.0\n",
       "Path: .;\n",
       "\n",
       "Test: None, model=SequentialRNN(\n",
       "  (0): MultiBatchEncoder(\n",
       "    (module): AWD_LSTM(\n",
       "      (encoder): Embedding(8960, 400, padding_idx=1)\n",
       "      (encoder_dp): EmbeddingDropout(\n",
       "        (emb): Embedding(8960, 400, padding_idx=1)\n",
       "      )\n",
       "      (rnns): ModuleList(\n",
       "        (0): WeightDropout(\n",
       "          (module): LSTM(400, 1152, batch_first=True)\n",
       "        )\n",
       "        (1): WeightDropout(\n",
       "          (module): LSTM(1152, 1152, batch_first=True)\n",
       "        )\n",
       "        (2): WeightDropout(\n",
       "          (module): LSTM(1152, 400, batch_first=True)\n",
       "        )\n",
       "      )\n",
       "      (input_dp): RNNDropout()\n",
       "      (hidden_dps): ModuleList(\n",
       "        (0): RNNDropout()\n",
       "        (1): RNNDropout()\n",
       "        (2): RNNDropout()\n",
       "      )\n",
       "    )\n",
       "  )\n",
       "  (1): PoolingLinearClassifier(\n",
       "    (layers): Sequential(\n",
       "      (0): BatchNorm1d(1200, eps=1e-05, momentum=0.1, affine=True, track_running_stats=True)\n",
       "      (1): Dropout(p=0.2, inplace=False)\n",
       "      (2): Linear(in_features=1200, out_features=50, bias=True)\n",
       "      (3): ReLU(inplace=True)\n",
       "      (4): BatchNorm1d(50, eps=1e-05, momentum=0.1, affine=True, track_running_stats=True)\n",
       "      (5): Dropout(p=0.1, inplace=False)\n",
       "      (6): Linear(in_features=50, out_features=1, bias=True)\n",
       "    )\n",
       "  )\n",
       "), opt_func=functools.partial(<class 'torch.optim.adam.Adam'>, betas=(0.9, 0.99)), loss_func=FlattenedLoss of MSELoss(), metrics=[], true_wd=True, bn_wd=True, wd=0.01, train_bn=True, path=PosixPath('.'), model_dir='models', callback_fns=[functools.partial(<class 'fastai.basic_train.Recorder'>, add_time=True, silent=False)], callbacks=[RNNTrainer\n",
       "learn: RNNLearner(data=TextClasDataBunch;\n",
       "\n",
       "Train: LabelList (12050 items)\n",
       "x: TextList\n",
       "xxbos the dinner was veri nice off to tri them all xxunk ron,xxbos come to daniel was great way to celebr my birthday the servic was amaz the dinner was delici the dessert was out of this world would definit recommend this restaur but bring your wallet as with most notori chef daniel charg for what you came for,xxbos big space multi level cafe restaur we had the sunday breakfast lot of fruit juic pastri scrambl egg and extra coffe all for less than you would pay in hotel profession waiter,xxbos dinner here is an amaz dine experi the food is exquisit prepar and delici and the servic is impecc we both had the degust menu and we delight with everi food cours there are alway waiter to serv you food and describ each dish to you they also provid cover stool for ladi handbag the best part of the meal as it was unexpect for us was the fresh bake warm butteri and sweet madelein utter amaz the onli critic was that the bread was not serv warm which may be person prefer would go back there next time and would recommend it for special night out,xxbos great food love the all vegan menu soup was awesom the bbq burger was especi good\n",
       "y: FloatList\n",
       "1.0,5.0,4.0,5.0,1.0\n",
       "Path: .;\n",
       "\n",
       "Valid: LabelList (3013 items)\n",
       "x: TextList\n",
       "xxbos after all these year gramerci tavern still defin excel in cuisin set and servic one of the best restaur in ny,xxbos and no that is not xxunk the set lunch is steal pound tax for excel dish perhap onli one of them was realli wow great servic of cours,xxbos amaz place for fish and chip differ type of fish batter and dip make you wanna go here again and again on top of that they usual have local beer from microbreweri one of our favourit place in brussel,xxbos fabul meal with my wife my boss and his partner too mani superl to think about as far as the food is concern great atmospher delight follow delight and this fine restaur live up to expect howev we did feel we were be rush from one cours to anoth and so took matter into our own hand and slow down the pace prior to dessert sorri well worth visit,xxbos had love lunch with friend we often meet for catch up here alll had the cours set menu there sever choic for each cours all nice veri good valu for money servic atmospher are veri nice too\n",
       "y: FloatList\n",
       "5.0,5.0,5.0,5.0,1.0\n",
       "Path: .;\n",
       "\n",
       "Test: None, model=SequentialRNN(\n",
       "  (0): MultiBatchEncoder(\n",
       "    (module): AWD_LSTM(\n",
       "      (encoder): Embedding(8960, 400, padding_idx=1)\n",
       "      (encoder_dp): EmbeddingDropout(\n",
       "        (emb): Embedding(8960, 400, padding_idx=1)\n",
       "      )\n",
       "      (rnns): ModuleList(\n",
       "        (0): WeightDropout(\n",
       "          (module): LSTM(400, 1152, batch_first=True)\n",
       "        )\n",
       "        (1): WeightDropout(\n",
       "          (module): LSTM(1152, 1152, batch_first=True)\n",
       "        )\n",
       "        (2): WeightDropout(\n",
       "          (module): LSTM(1152, 400, batch_first=True)\n",
       "        )\n",
       "      )\n",
       "      (input_dp): RNNDropout()\n",
       "      (hidden_dps): ModuleList(\n",
       "        (0): RNNDropout()\n",
       "        (1): RNNDropout()\n",
       "        (2): RNNDropout()\n",
       "      )\n",
       "    )\n",
       "  )\n",
       "  (1): PoolingLinearClassifier(\n",
       "    (layers): Sequential(\n",
       "      (0): BatchNorm1d(1200, eps=1e-05, momentum=0.1, affine=True, track_running_stats=True)\n",
       "      (1): Dropout(p=0.2, inplace=False)\n",
       "      (2): Linear(in_features=1200, out_features=50, bias=True)\n",
       "      (3): ReLU(inplace=True)\n",
       "      (4): BatchNorm1d(50, eps=1e-05, momentum=0.1, affine=True, track_running_stats=True)\n",
       "      (5): Dropout(p=0.1, inplace=False)\n",
       "      (6): Linear(in_features=50, out_features=1, bias=True)\n",
       "    )\n",
       "  )\n",
       "), opt_func=functools.partial(<class 'torch.optim.adam.Adam'>, betas=(0.9, 0.99)), loss_func=FlattenedLoss of MSELoss(), metrics=[], true_wd=True, bn_wd=True, wd=0.01, train_bn=True, path=PosixPath('.'), model_dir='models', callback_fns=[functools.partial(<class 'fastai.basic_train.Recorder'>, add_time=True, silent=False)], callbacks=[...], layer_groups=[Sequential(\n",
       "  (0): Embedding(8960, 400, padding_idx=1)\n",
       "  (1): EmbeddingDropout(\n",
       "    (emb): Embedding(8960, 400, padding_idx=1)\n",
       "  )\n",
       "), Sequential(\n",
       "  (0): WeightDropout(\n",
       "    (module): LSTM(400, 1152, batch_first=True)\n",
       "  )\n",
       "  (1): RNNDropout()\n",
       "), Sequential(\n",
       "  (0): WeightDropout(\n",
       "    (module): LSTM(1152, 1152, batch_first=True)\n",
       "  )\n",
       "  (1): RNNDropout()\n",
       "), Sequential(\n",
       "  (0): WeightDropout(\n",
       "    (module): LSTM(1152, 400, batch_first=True)\n",
       "  )\n",
       "  (1): RNNDropout()\n",
       "), Sequential(\n",
       "  (0): PoolingLinearClassifier(\n",
       "    (layers): Sequential(\n",
       "      (0): BatchNorm1d(1200, eps=1e-05, momentum=0.1, affine=True, track_running_stats=True)\n",
       "      (1): Dropout(p=0.2, inplace=False)\n",
       "      (2): Linear(in_features=1200, out_features=50, bias=True)\n",
       "      (3): ReLU(inplace=True)\n",
       "      (4): BatchNorm1d(50, eps=1e-05, momentum=0.1, affine=True, track_running_stats=True)\n",
       "      (5): Dropout(p=0.1, inplace=False)\n",
       "      (6): Linear(in_features=50, out_features=1, bias=True)\n",
       "    )\n",
       "  )\n",
       ")], add_time=True, silent=False, cb_fns_registered=False)\n",
       "alpha: 2.0\n",
       "beta: 1.0], layer_groups=[Sequential(\n",
       "  (0): Embedding(8960, 400, padding_idx=1)\n",
       "  (1): EmbeddingDropout(\n",
       "    (emb): Embedding(8960, 400, padding_idx=1)\n",
       "  )\n",
       "), Sequential(\n",
       "  (0): WeightDropout(\n",
       "    (module): LSTM(400, 1152, batch_first=True)\n",
       "  )\n",
       "  (1): RNNDropout()\n",
       "), Sequential(\n",
       "  (0): WeightDropout(\n",
       "    (module): LSTM(1152, 1152, batch_first=True)\n",
       "  )\n",
       "  (1): RNNDropout()\n",
       "), Sequential(\n",
       "  (0): WeightDropout(\n",
       "    (module): LSTM(1152, 400, batch_first=True)\n",
       "  )\n",
       "  (1): RNNDropout()\n",
       "), Sequential(\n",
       "  (0): PoolingLinearClassifier(\n",
       "    (layers): Sequential(\n",
       "      (0): BatchNorm1d(1200, eps=1e-05, momentum=0.1, affine=True, track_running_stats=True)\n",
       "      (1): Dropout(p=0.2, inplace=False)\n",
       "      (2): Linear(in_features=1200, out_features=50, bias=True)\n",
       "      (3): ReLU(inplace=True)\n",
       "      (4): BatchNorm1d(50, eps=1e-05, momentum=0.1, affine=True, track_running_stats=True)\n",
       "      (5): Dropout(p=0.1, inplace=False)\n",
       "      (6): Linear(in_features=50, out_features=1, bias=True)\n",
       "    )\n",
       "  )\n",
       ")], add_time=True, silent=False, cb_fns_registered=False)"
      ]
     },
     "execution_count": 27,
     "metadata": {},
     "output_type": "execute_result"
    }
   ],
   "source": [
    "learn = text_classifier_learner(data_clas, AWD_LSTM, drop_mult=0.5)\n",
    "learn.load_encoder('fine_tuned_enc')"
   ]
  },
  {
   "cell_type": "code",
   "execution_count": 28,
   "metadata": {
    "colab": {
     "base_uri": "https://localhost:8080/",
     "height": 35
    },
    "colab_type": "code",
    "executionInfo": {
     "elapsed": 12284,
     "status": "ok",
     "timestamp": 1571476106201,
     "user": {
      "displayName": "Joris Vanherp",
      "photoUrl": "",
      "userId": "04253705092317983080"
     },
     "user_tz": -120
    },
    "id": "F5fnMNKQkSs1",
    "outputId": "e20b91ae-07b5-4c28-a542-fbb15cc13384"
   },
   "outputs": [
    {
     "data": {
      "text/html": [],
      "text/plain": [
       "<IPython.core.display.HTML object>"
      ]
     },
     "metadata": {},
     "output_type": "display_data"
    },
    {
     "name": "stdout",
     "output_type": "stream",
     "text": [
      "LR Finder is complete, type {learner_name}.recorder.plot() to see the graph.\n"
     ]
    }
   ],
   "source": [
    "learn.lr_find()"
   ]
  },
  {
   "cell_type": "code",
   "execution_count": 29,
   "metadata": {
    "colab": {
     "base_uri": "https://localhost:8080/",
     "height": 283
    },
    "colab_type": "code",
    "executionInfo": {
     "elapsed": 13066,
     "status": "ok",
     "timestamp": 1571476106995,
     "user": {
      "displayName": "Joris Vanherp",
      "photoUrl": "",
      "userId": "04253705092317983080"
     },
     "user_tz": -120
    },
    "id": "Ctl8SqZ4kSs2",
    "outputId": "de819986-1c4a-4b88-8700-2dd1f30141b5"
   },
   "outputs": [
    {
     "data": {
      "image/png": "[encoded data removed]",
      "text/plain": [
       "<Figure size 432x288 with 1 Axes>"
      ]
     },
     "metadata": {
      "needs_background": "light"
     },
     "output_type": "display_data"
    }
   ],
   "source": [
    "learn.recorder.plot()"
   ]
  },
  {
   "cell_type": "code",
   "execution_count": 30,
   "metadata": {
    "colab": {
     "base_uri": "https://localhost:8080/",
     "height": 78
    },
    "colab_type": "code",
    "executionInfo": {
     "elapsed": 38163,
     "status": "ok",
     "timestamp": 1571476132100,
     "user": {
      "displayName": "Joris Vanherp",
      "photoUrl": "",
      "userId": "04253705092317983080"
     },
     "user_tz": -120
    },
    "id": "GCFg512nmrhi",
    "outputId": "3a367de5-51d7-456b-9dd6-617e91a423c9"
   },
   "outputs": [
    {
     "data": {
      "text/html": [
       "<table border=\"1\" class=\"dataframe\">\n",
       "  <thead>\n",
       "    <tr style=\"text-align: left;\">\n",
       "      <th>epoch</th>\n",
       "      <th>train_loss</th>\n",
       "      <th>valid_loss</th>\n",
       "      <th>time</th>\n",
       "    </tr>\n",
       "  </thead>\n",
       "  <tbody>\n",
       "    <tr>\n",
       "      <td>0</td>\n",
       "      <td>2.692591</td>\n",
       "      <td>1.754592</td>\n",
       "      <td>17:44</td>\n",
       "    </tr>\n",
       "  </tbody>\n",
       "</table>"
      ],
      "text/plain": [
       "<IPython.core.display.HTML object>"
      ]
     },
     "metadata": {},
     "output_type": "display_data"
    }
   ],
   "source": [
    "# Train the classification model for one cycle\n",
    "# learn.fit_one_cycle(1, 1e-1) #test\n",
    "learn.fit_one_cycle(1, 2e-2, moms=(0.8,0.7))\n"
   ]
  },
  {
   "cell_type": "code",
   "execution_count": 31,
   "metadata": {
    "colab": {},
    "colab_type": "code",
    "id": "EBt-ASs7kSs6"
   },
   "outputs": [],
   "source": [
    "learn.save('first')"
   ]
  },
  {
   "cell_type": "code",
   "execution_count": 0,
   "metadata": {
    "colab": {},
    "colab_type": "code",
    "id": "YgDjCpa1kSs8"
   },
   "outputs": [],
   "source": [
    "learn.load('first');"
   ]
  },
  {
   "cell_type": "code",
   "execution_count": 32,
   "metadata": {
    "colab": {
     "base_uri": "https://localhost:8080/",
     "height": 78
    },
    "colab_type": "code",
    "executionInfo": {
     "elapsed": 68566,
     "status": "ok",
     "timestamp": 1571476162522,
     "user": {
      "displayName": "Joris Vanherp",
      "photoUrl": "",
      "userId": "04253705092317983080"
     },
     "user_tz": -120
    },
    "id": "Pdepk2sQkSs9",
    "outputId": "818ff591-28af-4afc-f37e-79828ba6b0e8"
   },
   "outputs": [
    {
     "data": {
      "text/html": [
       "<table border=\"1\" class=\"dataframe\">\n",
       "  <thead>\n",
       "    <tr style=\"text-align: left;\">\n",
       "      <th>epoch</th>\n",
       "      <th>train_loss</th>\n",
       "      <th>valid_loss</th>\n",
       "      <th>time</th>\n",
       "    </tr>\n",
       "  </thead>\n",
       "  <tbody>\n",
       "    <tr>\n",
       "      <td>0</td>\n",
       "      <td>2.361434</td>\n",
       "      <td>1.541512</td>\n",
       "      <td>19:32</td>\n",
       "    </tr>\n",
       "  </tbody>\n",
       "</table>"
      ],
      "text/plain": [
       "<IPython.core.display.HTML object>"
      ]
     },
     "metadata": {},
     "output_type": "display_data"
    }
   ],
   "source": [
    "# train again after unfreezing part\n",
    "learn.freeze_to(-2)\n",
    "learn.fit_one_cycle(1, slice(1e-2/(2.6**4),1e-2), moms=(0.8,0.7))"
   ]
  },
  {
   "cell_type": "code",
   "execution_count": 33,
   "metadata": {
    "colab": {},
    "colab_type": "code",
    "id": "YuVvCZ3GkSs_"
   },
   "outputs": [],
   "source": [
    "learn.save('second')"
   ]
  },
  {
   "cell_type": "code",
   "execution_count": 0,
   "metadata": {
    "colab": {},
    "colab_type": "code",
    "id": "JbQjg2dLkStB"
   },
   "outputs": [],
   "source": [
    "learn.load('second');"
   ]
  },
  {
   "cell_type": "code",
   "execution_count": 34,
   "metadata": {
    "colab": {
     "base_uri": "https://localhost:8080/",
     "height": 78
    },
    "colab_type": "code",
    "executionInfo": {
     "elapsed": 117239,
     "status": "ok",
     "timestamp": 1571476211215,
     "user": {
      "displayName": "Joris Vanherp",
      "photoUrl": "",
      "userId": "04253705092317983080"
     },
     "user_tz": -120
    },
    "id": "T4Ac2V6BkStC",
    "outputId": "10c3e1f5-f2d3-4e1c-a54c-61e184492d15"
   },
   "outputs": [
    {
     "data": {
      "text/html": [
       "<table border=\"1\" class=\"dataframe\">\n",
       "  <thead>\n",
       "    <tr style=\"text-align: left;\">\n",
       "      <th>epoch</th>\n",
       "      <th>train_loss</th>\n",
       "      <th>valid_loss</th>\n",
       "      <th>time</th>\n",
       "    </tr>\n",
       "  </thead>\n",
       "  <tbody>\n",
       "    <tr>\n",
       "      <td>0</td>\n",
       "      <td>1.926550</td>\n",
       "      <td>1.289218</td>\n",
       "      <td>26:14</td>\n",
       "    </tr>\n",
       "  </tbody>\n",
       "</table>"
      ],
      "text/plain": [
       "<IPython.core.display.HTML object>"
      ]
     },
     "metadata": {},
     "output_type": "display_data"
    }
   ],
   "source": [
    "# train again after unfreezing further\n",
    "learn.freeze_to(-3)\n",
    "learn.fit_one_cycle(1, slice(5e-3/(2.6**4),5e-3), moms=(0.8,0.7))"
   ]
  },
  {
   "cell_type": "code",
   "execution_count": 35,
   "metadata": {
    "colab": {},
    "colab_type": "code",
    "id": "MMb3GFOQkStF"
   },
   "outputs": [],
   "source": [
    "learn.save('third')"
   ]
  },
  {
   "cell_type": "code",
   "execution_count": 0,
   "metadata": {
    "colab": {},
    "colab_type": "code",
    "id": "7s_6vbmlkStG"
   },
   "outputs": [],
   "source": [
    "learn.load('third');"
   ]
  },
  {
   "cell_type": "code",
   "execution_count": 36,
   "metadata": {
    "colab": {
     "base_uri": "https://localhost:8080/",
     "height": 108
    },
    "colab_type": "code",
    "executionInfo": {
     "elapsed": 237577,
     "status": "ok",
     "timestamp": 1571476331575,
     "user": {
      "displayName": "Joris Vanherp",
      "photoUrl": "",
      "userId": "04253705092317983080"
     },
     "user_tz": -120
    },
    "id": "o41OxAa4kStI",
    "outputId": "ed2bbdc6-d561-4485-fcae-8f265616d80e"
   },
   "outputs": [
    {
     "data": {
      "text/html": [
       "<table border=\"1\" class=\"dataframe\">\n",
       "  <thead>\n",
       "    <tr style=\"text-align: left;\">\n",
       "      <th>epoch</th>\n",
       "      <th>train_loss</th>\n",
       "      <th>valid_loss</th>\n",
       "      <th>time</th>\n",
       "    </tr>\n",
       "  </thead>\n",
       "  <tbody>\n",
       "    <tr>\n",
       "      <td>0</td>\n",
       "      <td>1.814087</td>\n",
       "      <td>1.228117</td>\n",
       "      <td>35:48</td>\n",
       "    </tr>\n",
       "    <tr>\n",
       "      <td>1</td>\n",
       "      <td>1.762110</td>\n",
       "      <td>1.161799</td>\n",
       "      <td>33:35</td>\n",
       "    </tr>\n",
       "    <tr>\n",
       "      <td>2</td>\n",
       "      <td>1.402475</td>\n",
       "      <td>0.966216</td>\n",
       "      <td>40:41</td>\n",
       "    </tr>\n",
       "    <tr>\n",
       "      <td>3</td>\n",
       "      <td>1.567373</td>\n",
       "      <td>0.946640</td>\n",
       "      <td>34:40</td>\n",
       "    </tr>\n",
       "    <tr>\n",
       "      <td>4</td>\n",
       "      <td>1.490822</td>\n",
       "      <td>0.986350</td>\n",
       "      <td>37:50</td>\n",
       "    </tr>\n",
       "  </tbody>\n",
       "</table>"
      ],
      "text/plain": [
       "<IPython.core.display.HTML object>"
      ]
     },
     "metadata": {},
     "output_type": "display_data"
    }
   ],
   "source": [
    "# train again after unfreezing full\n",
    "learn.unfreeze()\n",
    "learn.fit_one_cycle(5, slice(1e-3/(2.6**4),1e-3), moms=(0.8,0.7))"
   ]
  },
  {
   "cell_type": "code",
   "execution_count": 37,
   "metadata": {
    "colab": {
     "base_uri": "https://localhost:8080/",
     "height": 35
    },
    "colab_type": "code",
    "executionInfo": {
     "elapsed": 237572,
     "status": "ok",
     "timestamp": 1571476331576,
     "user": {
      "displayName": "Joris Vanherp",
      "photoUrl": "",
      "userId": "04253705092317983080"
     },
     "user_tz": -120
    },
    "id": "yMUVNtPRkStK",
    "outputId": "17273e3c-9816-4a40-e6d3-82fabb4a147a"
   },
   "outputs": [
    {
     "data": {
      "text/plain": [
       "(FloatItem [0.726943], tensor([0.7269]), tensor([0.7269]))"
      ]
     },
     "execution_count": 37,
     "metadata": {},
     "output_type": "execute_result"
    }
   ],
   "source": [
    "#Get results for example\n",
    "learn.predict(\"A Solid Good cafe - I say this, because i felt as though the service and the price could have been better. I almost felt ignored initially, but maybe that was because they were understaffed. I feel as though, with the price their, the service should have a bit more of a wow factor. But because of the high price and OK service I am rating a little lower. Coffee is great and the food is good too. I would go back!\")"
   ]
  },
  {
   "cell_type": "markdown",
   "metadata": {
    "colab_type": "text",
    "id": "pf-Fy3J9ksQX"
   },
   "source": [
    "# Get accuracy and export"
   ]
  },
  {
   "cell_type": "code",
   "execution_count": 38,
   "metadata": {
    "colab": {},
    "colab_type": "code",
    "id": "N6kUx3ZRHMvl"
   },
   "outputs": [],
   "source": [
    "# Get predictions\n",
    "preds, targets = learn.get_preds()\n",
    "predictions = np.argmax(preds, axis = 1)\n",
    "accuracy_matrix=pd.crosstab(predictions, targets)\n"
   ]
  },
  {
   "cell_type": "code",
   "execution_count": 39,
   "metadata": {
    "colab": {
     "base_uri": "https://localhost:8080/",
     "height": 168
    },
    "colab_type": "code",
    "executionInfo": {
     "elapsed": 242750,
     "status": "ok",
     "timestamp": 1571476336780,
     "user": {
      "displayName": "Joris Vanherp",
      "photoUrl": "",
      "userId": "04253705092317983080"
     },
     "user_tz": -120
    },
    "id": "4UzfJHwXRFU1",
    "outputId": "c7a3cbe6-3ce1-4a53-e6a6-240173b52b0d"
   },
   "outputs": [
    {
     "data": {
      "text/html": [
       "<div>\n",
       "<style scoped>\n",
       "    .dataframe tbody tr th:only-of-type {\n",
       "        vertical-align: middle;\n",
       "    }\n",
       "\n",
       "    .dataframe tbody tr th {\n",
       "        vertical-align: top;\n",
       "    }\n",
       "\n",
       "    .dataframe thead th {\n",
       "        text-align: right;\n",
       "    }\n",
       "</style>\n",
       "<table border=\"1\" class=\"dataframe\">\n",
       "  <thead>\n",
       "    <tr style=\"text-align: right;\">\n",
       "      <th>row_0</th>\n",
       "      <th>-1</th>\n",
       "    </tr>\n",
       "    <tr>\n",
       "      <th>col_0</th>\n",
       "      <th></th>\n",
       "    </tr>\n",
       "  </thead>\n",
       "  <tbody>\n",
       "    <tr>\n",
       "      <th>-1.0</th>\n",
       "      <td>177</td>\n",
       "    </tr>\n",
       "    <tr>\n",
       "      <th>-1.0</th>\n",
       "      <td>60</td>\n",
       "    </tr>\n",
       "    <tr>\n",
       "      <th>0.0</th>\n",
       "      <td>779</td>\n",
       "    </tr>\n",
       "    <tr>\n",
       "      <th>1.0</th>\n",
       "      <td>47</td>\n",
       "    </tr>\n",
       "    <tr>\n",
       "      <th>3.0</th>\n",
       "      <td>129</td>\n",
       "    </tr>\n",
       "    <tr>\n",
       "      <th>4.0</th>\n",
       "      <td>429</td>\n",
       "    </tr>\n",
       "    <tr>\n",
       "      <th>5.0</th>\n",
       "      <td>1392</td>\n",
       "    </tr>\n",
       "  </tbody>\n",
       "</table>\n",
       "</div>"
      ],
      "text/plain": [
       "row_0    -1\n",
       "col_0      \n",
       "-1.0    177\n",
       "-1.0     60\n",
       " 0.0    779\n",
       " 1.0     47\n",
       " 3.0    129\n",
       " 4.0    429\n",
       " 5.0   1392"
      ]
     },
     "execution_count": 39,
     "metadata": {},
     "output_type": "execute_result"
    }
   ],
   "source": [
    "# print confusion matrix\n",
    "accuracy_matrix2=accuracy_matrix.copy()\n",
    "accuracy_matrix2=accuracy_matrix2.rename(columns={0:-1,1:0,2:1})\n",
    "accuracy_matrix2=accuracy_matrix2.rename(index={0: -1, 1:0, 2: 1})\n",
    "accuracy_matrix2.T"
   ]
  },
  {
   "cell_type": "code",
   "execution_count": 0,
   "metadata": {
    "colab": {},
    "colab_type": "code",
    "id": "ry94w-13wAe0"
   },
   "outputs": [],
   "source": [
    "# Calculate different accuracy measures\n",
    "precision_minus_1=accuracy_matrix[0][0]/accuracy_matrix.sum(1)[0]\n",
    "precision_0 = accuracy_matrix[1][1]/accuracy_matrix.sum(1)[1]\n",
    "precision_1 = accuracy_matrix[2][2]/accuracy_matrix.sum(1)[2]\n",
    "precision=[precision_minus_1,precision_0,precision_1]\n",
    "recall_minus_1 = accuracy_matrix[0][0]/accuracy_matrix.sum(0)[0]\n",
    "recall_0 = accuracy_matrix[1][1]/accuracy_matrix.sum(0)[1]\n",
    "recall_1 = accuracy_matrix[2][2]/accuracy_matrix.sum(0)[2]\n",
    "recall=[recall_minus_1,recall_0,recall_1]\n",
    "weighted_precision = (precision[0]*accuracy_matrix.sum(0)[0]+ precision[1]*accuracy_matrix.sum(0)[1]+ precision[2]*accuracy_matrix.sum(0)[2])/sum(accuracy_matrix.sum(0))\n",
    "weighted_recall = (recall[0]*accuracy_matrix.sum(1)[0]+ recall[1]*accuracy_matrix.sum(1)[1]+ recall[2]*accuracy_matrix.sum(1)[2])/sum(accuracy_matrix.sum(1))"
   ]
  },
  {
   "cell_type": "code",
   "execution_count": 61,
   "metadata": {
    "colab": {
     "base_uri": "https://localhost:8080/",
     "height": 35
    },
    "colab_type": "code",
    "executionInfo": {
     "elapsed": 242922,
     "status": "ok",
     "timestamp": 1571476336978,
     "user": {
      "displayName": "Joris Vanherp",
      "photoUrl": "",
      "userId": "04253705092317983080"
     },
     "user_tz": -120
    },
    "id": "Xhu9smFaSRAx",
    "outputId": "6113a1c5-39f6-44f0-8392-096a63eec1b8"
   },
   "outputs": [
    {
     "name": "stdout",
     "output_type": "stream",
     "text": [
      "The weighted average precision is 0.90\n"
     ]
    }
   ],
   "source": [
    "print('The weighted average precision is %.2f'%(weighted_precision))\n"
   ]
  },
  {
   "cell_type": "code",
   "execution_count": null,
   "metadata": {
    "colab": {
     "base_uri": "https://localhost:8080/",
     "height": 590
    },
    "colab_type": "code",
    "executionInfo": {
     "elapsed": 46549,
     "status": "ok",
     "timestamp": 1571476640787,
     "user": {
      "displayName": "Joris Vanherp",
      "photoUrl": "",
      "userId": "04253705092317983080"
     },
     "user_tz": -120
    },
    "id": "39BBUvzM5m5M",
    "outputId": "2fe43910-85b2-4f74-d068-0bd18fe97206"
   },
   "outputs": [],
   "source": [
    "# Export and download the file\n",
    "learn.export('train_new_test_new_sentiment_bestmodel_ulmfit.pkl');\n",
    "files.download('train_new_test_new_sentiment_bestmodel_ulmfit.pkl');"
   ]
  },
  {
   "cell_type": "code",
   "execution_count": 0,
   "metadata": {
    "colab": {},
    "colab_type": "code",
    "id": "P2j_snSoC9Fn"
   },
   "outputs": [],
   "source": [
    "#upload the file to google drive then get the path of the file\n",
    "path='/content'"
   ]
  },
  {
   "cell_type": "code",
   "execution_count": 0,
   "metadata": {
    "colab": {},
    "colab_type": "code",
    "id": "hkoc6O4SC-lX"
   },
   "outputs": [],
   "source": [
    "#load the file \n",
    "l = load_learner(path, 'export.pkl')"
   ]
  },
  {
   "cell_type": "code",
   "execution_count": 69,
   "metadata": {
    "colab": {
     "base_uri": "https://localhost:8080/",
     "height": 35
    },
    "colab_type": "code",
    "executionInfo": {
     "elapsed": 465,
     "status": "ok",
     "timestamp": 1571476582701,
     "user": {
      "displayName": "Joris Vanherp",
      "photoUrl": "",
      "userId": "04253705092317983080"
     },
     "user_tz": -120
    },
    "id": "k7dEb5o5b_ni",
    "outputId": "33fdc0ae-c7f2-4228-e77f-2f23535ab611"
   },
   "outputs": [
    {
     "data": {
      "text/plain": [
       "(Category 1, tensor(2), tensor([0.1001, 0.0798, 0.8200]))"
      ]
     },
     "execution_count": 69,
     "metadata": {
      "tags": []
     },
     "output_type": "execute_result"
    }
   ],
   "source": [
    "# predicted probability of -1, 0, 1\n",
    "l.predict(\"High quality food,well served,few dishes,clean,young,very friendly. Has a part of a large pavement's corner with wood tables and benches.Wonderful place to have breakfast.\")"
   ]
  },
  {
   "cell_type": "code",
   "execution_count": 0,
   "metadata": {
    "colab": {},
    "colab_type": "code",
    "id": "qE-i9eHdRbfT"
   },
   "outputs": [],
   "source": []
  }
 ],
 "metadata": {
  "accelerator": "GPU",
  "colab": {
   "collapsed_sections": [],
   "name": "Sentiment_newdata_ULMFiT_1810.ipynb",
   "provenance": []
  },
  "kernel_info": {
   "name": "python3"
  },
  "kernelspec": {
   "display_name": "Python 3",
   "language": "python",
   "name": "python3"
  },
  "language_info": {
   "codemirror_mode": {
    "name": "ipython",
    "version": 3
   },
   "file_extension": ".py",
   "mimetype": "text/x-python",
   "name": "python",
   "nbconvert_exporter": "python",
   "pygments_lexer": "ipython3",
   "version": "3.6.10"
  },
  "nteract": {
   "version": "0.15.0"
  }
 },
 "nbformat": 4,
 "nbformat_minor": 1
}
