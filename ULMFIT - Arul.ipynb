{
 "cells": [
  {
   "cell_type": "markdown",
   "metadata": {
    "colab_type": "text",
    "id": "t-TKEXEE5M4o"
   },
   "source": [
    "# Activate GPU and install fast.ai"
   ]
  },
  {
   "cell_type": "markdown",
   "metadata": {
    "colab_type": "text",
    "id": "eoxYIFcbaSTE"
   },
   "source": [
    "# IMPORT REQUIRED MODELS"
   ]
  },
  {
   "cell_type": "code",
   "execution_count": 1,
   "metadata": {
    "colab": {},
    "colab_type": "code",
    "id": "eyhco48NaQGD"
   },
   "outputs": [],
   "source": [
    "import fastai\n",
    "from fastai import *\n",
    "from fastai.text import * \n",
    "from fastai.text.models import *\n",
    "import pandas as pd\n",
    "import numpy as np\n",
    "from sklearn.model_selection import train_test_split\n",
    "from sklearn.metrics import classification_report\n",
    "import pandas as pd\n",
    "from sklearn.metrics import confusion_matrix, accuracy_score\n",
    "\n",
    "import nltk\n",
    "from nltk.corpus import stopwords\n",
    "import re \n",
    "from bs4 import BeautifulSoup\n",
    "\n",
    "from nltk.stem.snowball import SnowballStemmer"
   ]
  },
  {
   "cell_type": "markdown",
   "metadata": {
    "colab_type": "text",
    "id": "qVEk5zuAabgq"
   },
   "source": [
    "# Prepare data"
   ]
  },
  {
   "cell_type": "code",
   "execution_count": 2,
   "metadata": {
    "colab": {},
    "colab_type": "code",
    "id": "6gtDNqu0exks"
   },
   "outputs": [],
   "source": [
    "# Not excluding stopwords as it performs better\n",
    "stops={}"
   ]
  },
  {
   "cell_type": "code",
   "execution_count": 3,
   "metadata": {
    "colab": {},
    "colab_type": "code",
    "id": "blTmscHxeyka"
   },
   "outputs": [],
   "source": [
    "#PREPROCEESING THE TEXT\n",
    "\n",
    "def text_preprocessing(text, language, minWordSize):\n",
    "    \n",
    "    # remove html\n",
    "    text_html = BeautifulSoup(text,\"html.parser\" ).get_text()\n",
    "    \n",
    "    # remove non-letters\n",
    "    text_non_letters = re.sub(\"[^a-zA-Z']\", \" \", text_html) \n",
    "        \n",
    "    # convert to lower-case\n",
    "    text_lower = text_non_letters.lower()\n",
    "    \n",
    "    # remove stop words\n",
    "    text_no_stop_words = ' '\n",
    "    for w in text_lower.split():\n",
    "        if w not in stops:  \n",
    "            text_no_stop_words = text_no_stop_words + w + ' '  \n",
    "    \n",
    "    # do stemming\n",
    "    text_stemmer = ' '\n",
    "    stemmer = SnowballStemmer(language)\n",
    "    for w in text_no_stop_words.split():\n",
    "        text_stemmer = text_stemmer + stemmer.stem(w) + ' '\n",
    "         \n",
    "    # remove short words\n",
    "    text_no_short_words = ' '\n",
    "    for w in text_stemmer.split(): \n",
    "        if len(w) >=minWordSize:\n",
    "            text_no_short_words = text_no_short_words + w + ' '\n",
    "    return text_lower"
   ]
  },
  {
   "cell_type": "code",
   "execution_count": 4,
   "metadata": {},
   "outputs": [],
   "source": [
    "#load and prepare old data\n",
    "df_reviews = pd.read_csv('Input_data/Old_data_reviews.csv',sep=',',quotechar='\"' ) #contains the reviews from Facebook and Tripadvisor\n",
    "df_cat_labels = pd.read_csv('Input_data/Old_data_categorisation_labels.csv',sep=',',quotechar='\"') # contains the classlabels of the reviews\n",
    "df_merged_data = pd.merge(df_cat_labels,df_reviews,how='left',left_on='review_id',right_on='id')\n",
    "\n",
    "# Drop unnecessary columns\n",
    "df_merged_data = df_merged_data.drop(['labeler_id', 'post_type', 'datetime_posted','likes', 'traveler_type',\n",
    "                    'rating_food','rating_service', 'rating_environment', 'rating_value',\n",
    "                     'reviewer_id','source_subject_id','id_x','review_id','id_y','source'],axis=1)\n",
    "\n",
    "#select english reviews\n",
    "def change_ratings(x):\n",
    "    if x in [0, 1,2]:\n",
    "        return -1\n",
    "    elif x == 3:\n",
    "        return 0\n",
    "    else:\n",
    "        return 1\n",
    "olddata =  df_merged_data.loc[df_merged_data['language'] == 'en']\n",
    "olddata['sentiment'] = olddata['rating'].apply(change_ratings)\n",
    "reviews_old = olddata['text'].values\n",
    "sentiment_old=olddata['sentiment'].values\n"
   ]
  },
  {
   "cell_type": "code",
   "execution_count": 5,
   "metadata": {
    "colab": {},
    "colab_type": "code",
    "id": "FGLilbf4e-pq"
   },
   "outputs": [],
   "source": [
    "#load and prepare new data\n",
    "newdata=pd.read_csv('Input_data/New_data.csv')\n",
    "# olddata = pd.read_csv(\"Input_data/Old_data_reviews.csv\")\n",
    "# newdata = pd.concat([newdata, olddata])\n",
    "reviews_new= newdata['Text'].values\n",
    "sentiment_new = newdata['Sentiment'].values\n",
    "\n",
    "#Split category column \n",
    "newdata['category']=newdata['Categories'].apply(lambda x:x.split(';'))\n",
    "\n",
    "def category_includer(data,string):    \n",
    "    for i in range(len(data)):\n",
    "        data.loc[i,string]=0\n",
    "        column=list(data.loc[i,'category'])\n",
    "        if string in column:\n",
    "            data.loc[i,string]=1\n",
    "    return data\n",
    "\n",
    "newdata=category_includer(newdata,'experience')\n",
    "newdata=category_includer(newdata,'service')\n",
    "newdata=category_includer(newdata,'consistency')\n",
    "newdata=category_includer(newdata,'value')\n",
    "newdata=category_includer(newdata,'food')\n",
    "newdata=category_includer(newdata,'convenience')\n",
    "\n",
    "#dropping the two columns and filter only English\n",
    "newdata=newdata.drop(['Categories','category'],axis=1)\n",
    "newdata=newdata[newdata['Language']==\"eng\"]"
   ]
  },
  {
   "cell_type": "code",
   "execution_count": 6,
   "metadata": {
    "colab": {
     "base_uri": "https://localhost:8080/",
     "height": 72
    },
    "colab_type": "code",
    "executionInfo": {
     "elapsed": 3753,
     "status": "ok",
     "timestamp": 1571475192838,
     "user": {
      "displayName": "Joris Vanherp",
      "photoUrl": "",
      "userId": "04253705092317983080"
     },
     "user_tz": -120
    },
    "id": "zNvgKlt-fasW",
    "outputId": "9cacf6dc-f069-4b8b-e897-d71b4e1131aa"
   },
   "outputs": [
    {
     "name": "stderr",
     "output_type": "stream",
     "text": [
      "/home/arul/anaconda3/envs/ath/lib/python3.7/site-packages/bs4/__init__.py:389: UserWarning: \"https://www.valkyriestudios.be\" looks like a URL. Beautiful Soup is not an HTTP client. You should probably use an HTTP client like requests to get the document behind the URL, and feed that document to Beautiful Soup.\n",
      "  ' that document to Beautiful Soup.' % decoded_markup\n"
     ]
    }
   ],
   "source": [
    "# Preprocess\n",
    "\n",
    "#reviews and sentiment as values\n",
    "reviews_new= newdata['Text'].values\n",
    "sentiment_new = newdata['Sentiment'].values\n",
    "\n",
    "reviews = list(reviews_new) + list(reviews_old)\n",
    "sentiment = list(sentiment_new) + list(sentiment_old)\n",
    "#test train split\n",
    "reviews_train, reviews_test, sentiment_train, sentiment_test = train_test_split(reviews_new, sentiment_new, test_size=0.2,random_state=0,stratify=sentiment_new)\n",
    "\n",
    "#bag of words\n",
    "language = 'english'\n",
    "minWordLength = 2 # shorter words will be removed\n",
    "\n",
    "for i in range(len(reviews_train)):\n",
    "    reviews_train[i] = text_preprocessing(reviews_train[i], language, minWordLength)\n",
    "for i in range(len(reviews_test)):\n",
    "    reviews_test[i] = text_preprocessing(reviews_test[i], language, minWordLength)\n",
    "        \n"
   ]
  },
  {
   "cell_type": "markdown",
   "metadata": {
    "colab_type": "text",
    "id": "f9TFHeCcjMaS"
   },
   "source": [
    "# Create and train models"
   ]
  },
  {
   "cell_type": "code",
   "execution_count": 7,
   "metadata": {
    "colab": {},
    "colab_type": "code",
    "id": "r0CYxD98fmCx"
   },
   "outputs": [
    {
     "data": {
      "text/html": [],
      "text/plain": [
       "<IPython.core.display.HTML object>"
      ]
     },
     "metadata": {},
     "output_type": "display_data"
    },
    {
     "data": {
      "text/html": [],
      "text/plain": [
       "<IPython.core.display.HTML object>"
      ]
     },
     "metadata": {},
     "output_type": "display_data"
    },
    {
     "data": {
      "text/html": [],
      "text/plain": [
       "<IPython.core.display.HTML object>"
      ]
     },
     "metadata": {},
     "output_type": "display_data"
    },
    {
     "data": {
      "text/html": [],
      "text/plain": [
       "<IPython.core.display.HTML object>"
      ]
     },
     "metadata": {},
     "output_type": "display_data"
    }
   ],
   "source": [
    "# Create language databunch\n",
    "data_lm = TextLMDataBunch.from_df(train_df = pd.DataFrame({'text': reviews_train, 'labels': sentiment_train}), \n",
    "                                  valid_df = pd.DataFrame({'text': reviews_test, 'labels':sentiment_test}), \n",
    "                                  path = \"\",\n",
    "                                 text_cols=0,\n",
    "                                 label_cols=1)\n",
    "\n",
    "# Create classifier databunch\n",
    "data_clas = TextClasDataBunch.from_df(path = \"\", \n",
    "                                      train_df = pd.DataFrame({'text': reviews_train, 'labels': sentiment_train}),\n",
    "                                      valid_df = pd.DataFrame({'text': reviews_test, 'labels': sentiment_test}), \n",
    "                                      vocab=data_lm.train_ds.vocab, bs=16,\n",
    "                                     text_cols=0,\n",
    "                                 label_cols=1)"
   ]
  },
  {
   "cell_type": "code",
   "execution_count": 8,
   "metadata": {
    "colab": {},
    "colab_type": "code",
    "id": "N7ErkZ-rfyFa"
   },
   "outputs": [],
   "source": [
    "# Load pre-trained (Wikipedia) model, which predicts the next word\n",
    "learn = language_model_learner(data_lm, AWD_LSTM, pretrained=True, drop_mult=0.3);"
   ]
  },
  {
   "cell_type": "code",
   "execution_count": 9,
   "metadata": {
    "colab": {
     "base_uri": "https://localhost:8080/",
     "height": 300
    },
    "colab_type": "code",
    "executionInfo": {
     "elapsed": 34803,
     "status": "ok",
     "timestamp": 1571475429388,
     "user": {
      "displayName": "Joris Vanherp",
      "photoUrl": "",
      "userId": "04253705092317983080"
     },
     "user_tz": -120
    },
    "id": "PRNOUJHv6jBe",
    "outputId": "82c24e5f-0975-4caa-a7d7-870f07161a2a"
   },
   "outputs": [
    {
     "data": {
      "text/html": [
       "\n",
       "    <div>\n",
       "        <style>\n",
       "            /* Turns off some styling */\n",
       "            progress {\n",
       "                /* gets rid of default border in Firefox and Opera. */\n",
       "                border: none;\n",
       "                /* Needs to be in here for Safari polyfill so background images work as expected. */\n",
       "                background-size: auto;\n",
       "            }\n",
       "            .progress-bar-interrupted, .progress-bar-interrupted::-webkit-progress-bar {\n",
       "                background: #F44336;\n",
       "            }\n",
       "        </style>\n",
       "      <progress value='2' class='' max='3', style='width:300px; height:20px; vertical-align: middle;'></progress>\n",
       "      66.67% [2/3 00:16<00:08]\n",
       "    </div>\n",
       "    \n",
       "<table border=\"1\" class=\"dataframe\">\n",
       "  <thead>\n",
       "    <tr style=\"text-align: left;\">\n",
       "      <th>epoch</th>\n",
       "      <th>train_loss</th>\n",
       "      <th>valid_loss</th>\n",
       "      <th>accuracy</th>\n",
       "      <th>time</th>\n",
       "    </tr>\n",
       "  </thead>\n",
       "  <tbody>\n",
       "    <tr>\n",
       "      <td>0</td>\n",
       "      <td>6.220251</td>\n",
       "      <td>#na#</td>\n",
       "      <td>00:08</td>\n",
       "    </tr>\n",
       "    <tr>\n",
       "      <td>1</td>\n",
       "      <td>5.812618</td>\n",
       "      <td>#na#</td>\n",
       "      <td>00:07</td>\n",
       "    </tr>\n",
       "  </tbody>\n",
       "</table><p>\n",
       "\n",
       "    <div>\n",
       "        <style>\n",
       "            /* Turns off some styling */\n",
       "            progress {\n",
       "                /* gets rid of default border in Firefox and Opera. */\n",
       "                border: none;\n",
       "                /* Needs to be in here for Safari polyfill so background images work as expected. */\n",
       "                background-size: auto;\n",
       "            }\n",
       "            .progress-bar-interrupted, .progress-bar-interrupted::-webkit-progress-bar {\n",
       "                background: #F44336;\n",
       "            }\n",
       "        </style>\n",
       "      <progress value='23' class='' max='38', style='width:300px; height:20px; vertical-align: middle;'></progress>\n",
       "      60.53% [23/38 00:04<00:03 10.5645]\n",
       "    </div>\n",
       "    "
      ],
      "text/plain": [
       "<IPython.core.display.HTML object>"
      ]
     },
     "metadata": {},
     "output_type": "display_data"
    },
    {
     "name": "stdout",
     "output_type": "stream",
     "text": [
      "LR Finder is complete, type {learner_name}.recorder.plot() to see the graph.\n"
     ]
    },
    {
     "data": {
      "image/png": "[encoded data removed]",
      "text/plain": [
       "<Figure size 432x288 with 1 Axes>"
      ]
     },
     "metadata": {
      "needs_background": "light"
     },
     "output_type": "display_data"
    }
   ],
   "source": [
    "# Run learning rate finder and plot to find good learning rates\n",
    "learn.lr_find()\n",
    "learn.recorder.plot()"
   ]
  },
  {
   "cell_type": "code",
   "execution_count": 10,
   "metadata": {
    "colab": {},
    "colab_type": "code",
    "id": "bsscYuUl6j-3"
   },
   "outputs": [],
   "source": [
    "#Save in case want to restart from here\n",
    "learn.save('fit_head')"
   ]
  },
  {
   "cell_type": "code",
   "execution_count": 11,
   "metadata": {
    "colab": {},
    "colab_type": "code",
    "id": "HU2XNJxe7nIX"
   },
   "outputs": [],
   "source": [
    "#Load in case want to restart from here\n",
    "learn.load('fit_head');"
   ]
  },
  {
   "cell_type": "code",
   "execution_count": 12,
   "metadata": {
    "colab": {
     "base_uri": "https://localhost:8080/",
     "height": 78
    },
    "colab_type": "code",
    "executionInfo": {
     "elapsed": 17939,
     "status": "ok",
     "timestamp": 1571476004046,
     "user": {
      "displayName": "Joris Vanherp",
      "photoUrl": "",
      "userId": "04253705092317983080"
     },
     "user_tz": -120
    },
    "id": "t2cP9vzgfzM5",
    "outputId": "1d180e85-f1aa-4844-d23e-ea9e0c71fe45"
   },
   "outputs": [
    {
     "data": {
      "text/html": [
       "<table border=\"1\" class=\"dataframe\">\n",
       "  <thead>\n",
       "    <tr style=\"text-align: left;\">\n",
       "      <th>epoch</th>\n",
       "      <th>train_loss</th>\n",
       "      <th>valid_loss</th>\n",
       "      <th>accuracy</th>\n",
       "      <th>time</th>\n",
       "    </tr>\n",
       "  </thead>\n",
       "  <tbody>\n",
       "    <tr>\n",
       "      <td>0</td>\n",
       "      <td>5.301569</td>\n",
       "      <td>4.739258</td>\n",
       "      <td>0.175933</td>\n",
       "      <td>00:08</td>\n",
       "    </tr>\n",
       "  </tbody>\n",
       "</table>"
      ],
      "text/plain": [
       "<IPython.core.display.HTML object>"
      ]
     },
     "metadata": {},
     "output_type": "display_data"
    }
   ],
   "source": [
    "# Train the language model, which predicts the next word in a review, on the reviews data bunch.\n",
    "# Train last layers for 1 epoch\n",
    "learn.fit_one_cycle(1, 1e-2)"
   ]
  },
  {
   "cell_type": "code",
   "execution_count": 13,
   "metadata": {
    "colab": {
     "base_uri": "https://localhost:8080/",
     "height": 198
    },
    "colab_type": "code",
    "executionInfo": {
     "elapsed": 101946,
     "status": "ok",
     "timestamp": 1571476090502,
     "user": {
      "displayName": "Joris Vanherp",
      "photoUrl": "",
      "userId": "04253705092317983080"
     },
     "user_tz": -120
    },
    "id": "1afTd8jx7u41",
    "outputId": "51493355-69a5-46cb-e2ea-551e98fbac57"
   },
   "outputs": [
    {
     "data": {
      "text/html": [
       "<table border=\"1\" class=\"dataframe\">\n",
       "  <thead>\n",
       "    <tr style=\"text-align: left;\">\n",
       "      <th>epoch</th>\n",
       "      <th>train_loss</th>\n",
       "      <th>valid_loss</th>\n",
       "      <th>accuracy</th>\n",
       "      <th>time</th>\n",
       "    </tr>\n",
       "  </thead>\n",
       "  <tbody>\n",
       "    <tr>\n",
       "      <td>0</td>\n",
       "      <td>4.688353</td>\n",
       "      <td>4.495827</td>\n",
       "      <td>0.206128</td>\n",
       "      <td>00:09</td>\n",
       "    </tr>\n",
       "    <tr>\n",
       "      <td>1</td>\n",
       "      <td>4.491562</td>\n",
       "      <td>4.298305</td>\n",
       "      <td>0.227455</td>\n",
       "      <td>00:09</td>\n",
       "    </tr>\n",
       "    <tr>\n",
       "      <td>2</td>\n",
       "      <td>4.287105</td>\n",
       "      <td>4.204474</td>\n",
       "      <td>0.238920</td>\n",
       "      <td>00:09</td>\n",
       "    </tr>\n",
       "    <tr>\n",
       "      <td>3</td>\n",
       "      <td>4.097982</td>\n",
       "      <td>4.180104</td>\n",
       "      <td>0.241944</td>\n",
       "      <td>00:09</td>\n",
       "    </tr>\n",
       "    <tr>\n",
       "      <td>4</td>\n",
       "      <td>3.958417</td>\n",
       "      <td>4.180285</td>\n",
       "      <td>0.242248</td>\n",
       "      <td>00:09</td>\n",
       "    </tr>\n",
       "  </tbody>\n",
       "</table>"
      ],
      "text/plain": [
       "<IPython.core.display.HTML object>"
      ]
     },
     "metadata": {},
     "output_type": "display_data"
    }
   ],
   "source": [
    "#Unfreeze and train for another epoch\n",
    "learn.unfreeze()\n",
    "learn.fit_one_cycle(5, 1e-3, moms=(0.8,0.7))"
   ]
  },
  {
   "cell_type": "code",
   "execution_count": 14,
   "metadata": {
    "colab": {},
    "colab_type": "code",
    "id": "d1gUjVlykSsa"
   },
   "outputs": [],
   "source": [
    "learn.save('fine_tuned')\n",
    "learn.save_encoder('fine_tuned_enc')"
   ]
  },
  {
   "cell_type": "code",
   "execution_count": 15,
   "metadata": {
    "colab": {},
    "colab_type": "code",
    "id": "lzgUhenkkSse"
   },
   "outputs": [],
   "source": [
    "learn.load('fine_tuned');\n",
    "learn.load_encoder('fine_tuned_enc');"
   ]
  },
  {
   "cell_type": "code",
   "execution_count": 16,
   "metadata": {
    "colab": {},
    "colab_type": "code",
    "id": "zu7QSUnHkSsg"
   },
   "outputs": [],
   "source": [
    "# Test what words it would predict\n",
    "TEXT = \"I had a\"\n",
    "N_WORDS = 40\n",
    "N_SENTENCES = 2"
   ]
  },
  {
   "cell_type": "code",
   "execution_count": 17,
   "metadata": {
    "colab": {
     "base_uri": "https://localhost:8080/",
     "height": 72
    },
    "colab_type": "code",
    "executionInfo": {
     "elapsed": 102033,
     "status": "ok",
     "timestamp": 1571476093228,
     "user": {
      "displayName": "Joris Vanherp",
      "photoUrl": "",
      "userId": "04253705092317983080"
     },
     "user_tz": -120
    },
    "id": "FYoYNRBMkSsh",
    "outputId": "c928c34d-4714-4d88-c373-40f39cde2efe"
   },
   "outputs": [
    {
     "name": "stdout",
     "output_type": "stream",
     "text": [
      "I had a coffee here in the late afternoon and it is a very lively place for a decent evening xxbos pre theatre theatre and i would n't recommend that xxbos i m a fan of the fashion restaurant and was very pleased\n",
      "I had a lovely meal to celebrate my birthday with my sister the food was brilliant and the service was great i also do n't care too much about my husband 's bad experience xxbos we had the best spaghetti and even better\n"
     ]
    }
   ],
   "source": [
    "print(\"\\n\".join(learn.predict(TEXT, N_WORDS, temperature=0.75) for _ in range(N_SENTENCES)))"
   ]
  },
  {
   "cell_type": "code",
   "execution_count": 18,
   "metadata": {
    "colab": {},
    "colab_type": "code",
    "id": "vSm73guQmctO"
   },
   "outputs": [],
   "source": [
    "# Create classification model\n",
    "learn = text_classifier_learner(data_clas, AWD_LSTM,drop_mult=0.2);"
   ]
  },
  {
   "cell_type": "code",
   "execution_count": 19,
   "metadata": {
    "colab": {
     "base_uri": "https://localhost:8080/",
     "height": 336
    },
    "colab_type": "code",
    "executionInfo": {
     "elapsed": 100360,
     "status": "ok",
     "timestamp": 1571476093901,
     "user": {
      "displayName": "Joris Vanherp",
      "photoUrl": "",
      "userId": "04253705092317983080"
     },
     "user_tz": -120
    },
    "id": "JcFkE8WIkSsu",
    "outputId": "789a44b5-255a-4a47-84c0-82c92f0fa4d5"
   },
   "outputs": [
    {
     "data": {
      "text/html": [
       "<table border=\"1\" class=\"dataframe\">\n",
       "  <thead>\n",
       "    <tr style=\"text-align: right;\">\n",
       "      <th>text</th>\n",
       "      <th>target</th>\n",
       "    </tr>\n",
       "  </thead>\n",
       "  <tbody>\n",
       "    <tr>\n",
       "      <td>xxbos i don t know where to start i have never before taken time out to write a review or complaint about an establishment but me and my partner s experience definitely xxunk one we pre booked our table over the phone for pm on saturday nd march being our anniversary we arrived on time but were asked to wait at the bar whilst our table was being prepared after</td>\n",
       "      <td>-1</td>\n",
       "    </tr>\n",
       "    <tr>\n",
       "      <td>xxbos please be aware bones in kids haddock goujons of the kids menu i visited middleton steak house in leicester on fathers day with my husband and kids a year old and month old we ordered my year old haddock goujons from little eaters menu half way through my daughters meal i noticed she was nt breathing her eyes where getting wider and wider and watering and she was getting</td>\n",
       "      <td>-1</td>\n",
       "    </tr>\n",
       "    <tr>\n",
       "      <td>xxbos xxunk i went with another person and the xxunk that came to us were this chicken has no xxunk this chicken is dead for no xxunk they are well situated in a lively place just renovated the inside is fine although i found it not clean the waiter had to clean our table after we were seated and the floor was not xxunk and waitress were nice and efficient</td>\n",
       "      <td>-1</td>\n",
       "    </tr>\n",
       "    <tr>\n",
       "      <td>xxbos i used to be a regular customer of middletons but sadly it has xxunk gone downhill the downstairs seating with the metal partition has clearly been designed to xxunk as many people as possible into the restaurant to the xxunk of the customer it 's more spacious in mcdonalds i even go to the xxunk of xxunk not to sit there when booking a table however my request was</td>\n",
       "      <td>-1</td>\n",
       "    </tr>\n",
       "    <tr>\n",
       "      <td>xxbos being a restaurant owner years i am very picky and as usual i will give you an honest review hope this helps my daughter lives very close and she invited us to dinner at this restaurant she just kept saying dad you will love the views and the food they do not take reservations so we went about and it was quiet and we sat outside highly recommend and</td>\n",
       "      <td>1</td>\n",
       "    </tr>\n",
       "  </tbody>\n",
       "</table>"
      ],
      "text/plain": [
       "<IPython.core.display.HTML object>"
      ]
     },
     "metadata": {},
     "output_type": "display_data"
    }
   ],
   "source": [
    "#Visualize the data\n",
    "data_clas.show_batch()"
   ]
  },
  {
   "cell_type": "code",
   "execution_count": 20,
   "metadata": {
    "colab": {
     "base_uri": "https://localhost:8080/",
     "height": 1000
    },
    "colab_type": "code",
    "executionInfo": {
     "elapsed": 1013,
     "status": "ok",
     "timestamp": 1571476094923,
     "user": {
      "displayName": "Joris Vanherp",
      "photoUrl": "",
      "userId": "04253705092317983080"
     },
     "user_tz": -120
    },
    "id": "LbGNdRwtkSsz",
    "outputId": "859cb734-ba9d-424f-dd24-332c09321c4f"
   },
   "outputs": [
    {
     "data": {
      "text/plain": [
       "RNNLearner(data=TextClasDataBunch;\n",
       "\n",
       "Train: LabelList (3944 items)\n",
       "x: TextList\n",
       "xxbos we have been here several times we visited tonight for my sons first birthday and were treated like royalty the service is always great a big shout out to michael patti summer and also the lady who cleared up our plates sorry i forgot your name who are professional efficient and friendly food is always of high standard my husband loves the ribs i love the veggie burger and the chocolate brownie dessert is amazing portions are great too which is a bonus we are a family of four and my kids always enjoy their food from the children s menu the activity pack with the crayons are a good distraction,xxbos good food,xxbos great place to get a burger at lunch in xxunk the service can be a bit slow at times but other than that people are friendly here they have an ok selection of beer which is always great with a burger,xxbos we visited as a couple of friends on a monday night only other tables were taken and we got sat in a nice corner of the place the main room is really nice with a feeling of a slightly posh restaurants but with paper napkins service was good and waiters polite and very helpful although probably xxunk for a not busy night so we got asked multiple times the same questions as the waiters were walking around we xxunk calamari not very tasty and slightly burnt prawn cocktail xxunk xxunk with a very light and fresh sauce decent portion mains xxunk of bbq ribs best ribs i tried in a really long time as i took the first rib by the bone and pulled the bone came off straight away super juice and soft great taste steak with lobster great looking steak with lobster coming with a choice of sauces dessert creme xxunk drinks were nice and xxunk priced although all meats are quite expensive will visit again,xxbos taken here by friends and was looking forward to it absolutely delicious food meats cooked to perfection\n",
       "y: CategoryList\n",
       "1,1,0,1,1\n",
       "Path: .;\n",
       "\n",
       "Valid: LabelList (986 items)\n",
       "x: TextList\n",
       "xxbos too expensive for what it is,xxbos delicious simple food and nice team welcoming with clear explanation of the menu in at least four or five languages more trendy than i thought after the french xxunk 's comment tables inside and outside small ones xxunk he terrace behind a glass wall or long for groups in the middle xxunk a little bit difficult to sit down on when you 're wearing a tight xxunk choose another seat if you can,xxbos my wife and i had visited on sunday evening celebrating having recently got xxunk despite being a sunday evening and knowing it 's not the greatest time to want to be at work myself but charlotte i believe is her name made us feel very welcome and her customer service skills were excellent customer service i could not fault her at all she definitely made our night so much more better also the food as usual was fantastic thank you,xxbos the xxunk floor as you enter the xxunk xxunk of xxunk tables far too small for a rijsttafel setting making the experience cramped,xxbos happy th birthday dad you are the best xxunk xxunk xxunk xxunk xxunk xxunk xxunk xxunk xxunk xxunk xxunk xxunk xxunk xxunk xxunk picoftheday xxunk xxunk xxunk photooftheday picoftheday xxunk xxunk\n",
       "y: CategoryList\n",
       "-1,1,1,0,1\n",
       "Path: .;\n",
       "\n",
       "Test: None, model=SequentialRNN(\n",
       "  (0): MultiBatchEncoder(\n",
       "    (module): AWD_LSTM(\n",
       "      (encoder): Embedding(4888, 400, padding_idx=1)\n",
       "      (encoder_dp): EmbeddingDropout(\n",
       "        (emb): Embedding(4888, 400, padding_idx=1)\n",
       "      )\n",
       "      (rnns): ModuleList(\n",
       "        (0): WeightDropout(\n",
       "          (module): LSTM(400, 1152, batch_first=True)\n",
       "        )\n",
       "        (1): WeightDropout(\n",
       "          (module): LSTM(1152, 1152, batch_first=True)\n",
       "        )\n",
       "        (2): WeightDropout(\n",
       "          (module): LSTM(1152, 400, batch_first=True)\n",
       "        )\n",
       "      )\n",
       "      (input_dp): RNNDropout()\n",
       "      (hidden_dps): ModuleList(\n",
       "        (0): RNNDropout()\n",
       "        (1): RNNDropout()\n",
       "        (2): RNNDropout()\n",
       "      )\n",
       "    )\n",
       "  )\n",
       "  (1): PoolingLinearClassifier(\n",
       "    (layers): Sequential(\n",
       "      (0): BatchNorm1d(1200, eps=1e-05, momentum=0.1, affine=True, track_running_stats=True)\n",
       "      (1): Dropout(p=0.2, inplace=False)\n",
       "      (2): Linear(in_features=1200, out_features=50, bias=True)\n",
       "      (3): ReLU(inplace=True)\n",
       "      (4): BatchNorm1d(50, eps=1e-05, momentum=0.1, affine=True, track_running_stats=True)\n",
       "      (5): Dropout(p=0.1, inplace=False)\n",
       "      (6): Linear(in_features=50, out_features=3, bias=True)\n",
       "    )\n",
       "  )\n",
       "), opt_func=functools.partial(<class 'torch.optim.adam.Adam'>, betas=(0.9, 0.99)), loss_func=FlattenedLoss of CrossEntropyLoss(), metrics=[<function accuracy at 0x7f42473694d0>], true_wd=True, bn_wd=True, wd=0.01, train_bn=True, path=PosixPath('.'), model_dir='models', callback_fns=[functools.partial(<class 'fastai.basic_train.Recorder'>, add_time=True, silent=False)], callbacks=[RNNTrainer\n",
       "learn: ...\n",
       "alpha: 2.0\n",
       "beta: 1.0], layer_groups=[Sequential(\n",
       "  (0): Embedding(4888, 400, padding_idx=1)\n",
       "  (1): EmbeddingDropout(\n",
       "    (emb): Embedding(4888, 400, padding_idx=1)\n",
       "  )\n",
       "), Sequential(\n",
       "  (0): WeightDropout(\n",
       "    (module): LSTM(400, 1152, batch_first=True)\n",
       "  )\n",
       "  (1): RNNDropout()\n",
       "), Sequential(\n",
       "  (0): WeightDropout(\n",
       "    (module): LSTM(1152, 1152, batch_first=True)\n",
       "  )\n",
       "  (1): RNNDropout()\n",
       "), Sequential(\n",
       "  (0): WeightDropout(\n",
       "    (module): LSTM(1152, 400, batch_first=True)\n",
       "  )\n",
       "  (1): RNNDropout()\n",
       "), Sequential(\n",
       "  (0): PoolingLinearClassifier(\n",
       "    (layers): Sequential(\n",
       "      (0): BatchNorm1d(1200, eps=1e-05, momentum=0.1, affine=True, track_running_stats=True)\n",
       "      (1): Dropout(p=0.2, inplace=False)\n",
       "      (2): Linear(in_features=1200, out_features=50, bias=True)\n",
       "      (3): ReLU(inplace=True)\n",
       "      (4): BatchNorm1d(50, eps=1e-05, momentum=0.1, affine=True, track_running_stats=True)\n",
       "      (5): Dropout(p=0.1, inplace=False)\n",
       "      (6): Linear(in_features=50, out_features=3, bias=True)\n",
       "    )\n",
       "  )\n",
       ")], add_time=True, silent=False)"
      ]
     },
     "execution_count": 20,
     "metadata": {},
     "output_type": "execute_result"
    }
   ],
   "source": [
    "learn = text_classifier_learner(data_clas, AWD_LSTM, drop_mult=0.5)\n",
    "learn.load_encoder('fine_tuned_enc')"
   ]
  },
  {
   "cell_type": "code",
   "execution_count": 21,
   "metadata": {
    "colab": {
     "base_uri": "https://localhost:8080/",
     "height": 35
    },
    "colab_type": "code",
    "executionInfo": {
     "elapsed": 12284,
     "status": "ok",
     "timestamp": 1571476106201,
     "user": {
      "displayName": "Joris Vanherp",
      "photoUrl": "",
      "userId": "04253705092317983080"
     },
     "user_tz": -120
    },
    "id": "F5fnMNKQkSs1",
    "outputId": "e20b91ae-07b5-4c28-a542-fbb15cc13384"
   },
   "outputs": [
    {
     "data": {
      "text/html": [
       "\n",
       "    <div>\n",
       "        <style>\n",
       "            /* Turns off some styling */\n",
       "            progress {\n",
       "                /* gets rid of default border in Firefox and Opera. */\n",
       "                border: none;\n",
       "                /* Needs to be in here for Safari polyfill so background images work as expected. */\n",
       "                background-size: auto;\n",
       "            }\n",
       "            .progress-bar-interrupted, .progress-bar-interrupted::-webkit-progress-bar {\n",
       "                background: #F44336;\n",
       "            }\n",
       "        </style>\n",
       "      <progress value='0' class='' max='1', style='width:300px; height:20px; vertical-align: middle;'></progress>\n",
       "      0.00% [0/1 00:00<00:00]\n",
       "    </div>\n",
       "    \n",
       "<table border=\"1\" class=\"dataframe\">\n",
       "  <thead>\n",
       "    <tr style=\"text-align: left;\">\n",
       "      <th>epoch</th>\n",
       "      <th>train_loss</th>\n",
       "      <th>valid_loss</th>\n",
       "      <th>accuracy</th>\n",
       "      <th>time</th>\n",
       "    </tr>\n",
       "  </thead>\n",
       "  <tbody>\n",
       "  </tbody>\n",
       "</table><p>\n",
       "\n",
       "    <div>\n",
       "        <style>\n",
       "            /* Turns off some styling */\n",
       "            progress {\n",
       "                /* gets rid of default border in Firefox and Opera. */\n",
       "                border: none;\n",
       "                /* Needs to be in here for Safari polyfill so background images work as expected. */\n",
       "                background-size: auto;\n",
       "            }\n",
       "            .progress-bar-interrupted, .progress-bar-interrupted::-webkit-progress-bar {\n",
       "                background: #F44336;\n",
       "            }\n",
       "        </style>\n",
       "      <progress value='93' class='' max='246', style='width:300px; height:20px; vertical-align: middle;'></progress>\n",
       "      37.80% [93/246 00:10<00:17 3.1373]\n",
       "    </div>\n",
       "    "
      ],
      "text/plain": [
       "<IPython.core.display.HTML object>"
      ]
     },
     "metadata": {},
     "output_type": "display_data"
    },
    {
     "name": "stdout",
     "output_type": "stream",
     "text": [
      "LR Finder is complete, type {learner_name}.recorder.plot() to see the graph.\n"
     ]
    }
   ],
   "source": [
    "learn.lr_find()"
   ]
  },
  {
   "cell_type": "code",
   "execution_count": 22,
   "metadata": {
    "colab": {
     "base_uri": "https://localhost:8080/",
     "height": 283
    },
    "colab_type": "code",
    "executionInfo": {
     "elapsed": 13066,
     "status": "ok",
     "timestamp": 1571476106995,
     "user": {
      "displayName": "Joris Vanherp",
      "photoUrl": "",
      "userId": "04253705092317983080"
     },
     "user_tz": -120
    },
    "id": "Ctl8SqZ4kSs2",
    "outputId": "de819986-1c4a-4b88-8700-2dd1f30141b5"
   },
   "outputs": [
    {
     "data": {
      "image/png": "[encoded data removed]",
      "text/plain": [
       "<Figure size 432x288 with 1 Axes>"
      ]
     },
     "metadata": {
      "needs_background": "light"
     },
     "output_type": "display_data"
    }
   ],
   "source": [
    "learn.recorder.plot()"
   ]
  },
  {
   "cell_type": "code",
   "execution_count": 23,
   "metadata": {
    "colab": {
     "base_uri": "https://localhost:8080/",
     "height": 78
    },
    "colab_type": "code",
    "executionInfo": {
     "elapsed": 38163,
     "status": "ok",
     "timestamp": 1571476132100,
     "user": {
      "displayName": "Joris Vanherp",
      "photoUrl": "",
      "userId": "04253705092317983080"
     },
     "user_tz": -120
    },
    "id": "GCFg512nmrhi",
    "outputId": "3a367de5-51d7-456b-9dd6-617e91a423c9"
   },
   "outputs": [
    {
     "data": {
      "text/html": [
       "\n",
       "    <div>\n",
       "        <style>\n",
       "            /* Turns off some styling */\n",
       "            progress {\n",
       "                /* gets rid of default border in Firefox and Opera. */\n",
       "                border: none;\n",
       "                /* Needs to be in here for Safari polyfill so background images work as expected. */\n",
       "                background-size: auto;\n",
       "            }\n",
       "            .progress-bar-interrupted, .progress-bar-interrupted::-webkit-progress-bar {\n",
       "                background: #F44336;\n",
       "            }\n",
       "        </style>\n",
       "      <progress value='0' class='' max='1', style='width:300px; height:20px; vertical-align: middle;'></progress>\n",
       "      0.00% [0/1 00:00<00:00]\n",
       "    </div>\n",
       "    \n",
       "<table border=\"1\" class=\"dataframe\">\n",
       "  <thead>\n",
       "    <tr style=\"text-align: left;\">\n",
       "      <th>epoch</th>\n",
       "      <th>train_loss</th>\n",
       "      <th>valid_loss</th>\n",
       "      <th>accuracy</th>\n",
       "      <th>time</th>\n",
       "    </tr>\n",
       "  </thead>\n",
       "  <tbody>\n",
       "  </tbody>\n",
       "</table><p>\n",
       "\n",
       "    <div>\n",
       "        <style>\n",
       "            /* Turns off some styling */\n",
       "            progress {\n",
       "                /* gets rid of default border in Firefox and Opera. */\n",
       "                border: none;\n",
       "                /* Needs to be in here for Safari polyfill so background images work as expected. */\n",
       "                background-size: auto;\n",
       "            }\n",
       "            .progress-bar-interrupted, .progress-bar-interrupted::-webkit-progress-bar {\n",
       "                background: #F44336;\n",
       "            }\n",
       "        </style>\n",
       "      <progress value='100' class='' max='246', style='width:300px; height:20px; vertical-align: middle;'></progress>\n",
       "      40.65% [100/246 00:16<00:24 0.6586]\n",
       "    </div>\n",
       "    "
      ],
      "text/plain": [
       "<IPython.core.display.HTML object>"
      ]
     },
     "metadata": {},
     "output_type": "display_data"
    },
    {
     "ename": "KeyboardInterrupt",
     "evalue": "",
     "output_type": "error",
     "traceback": [
      "\u001b[0;31m---------------------------------------------------------------------------\u001b[0m",
      "\u001b[0;31mKeyboardInterrupt\u001b[0m                         Traceback (most recent call last)",
      "\u001b[0;32m<ipython-input-23-0fafceecc1dd>\u001b[0m in \u001b[0;36m<module>\u001b[0;34m\u001b[0m\n\u001b[1;32m      1\u001b[0m \u001b[0;31m# Train the classification model for one cycle\u001b[0m\u001b[0;34m\u001b[0m\u001b[0;34m\u001b[0m\u001b[0;34m\u001b[0m\u001b[0m\n\u001b[1;32m      2\u001b[0m \u001b[0;31m# learn.fit_one_cycle(1, 1e-1) #test\u001b[0m\u001b[0;34m\u001b[0m\u001b[0;34m\u001b[0m\u001b[0;34m\u001b[0m\u001b[0m\n\u001b[0;32m----> 3\u001b[0;31m \u001b[0mlearn\u001b[0m\u001b[0;34m.\u001b[0m\u001b[0mfit_one_cycle\u001b[0m\u001b[0;34m(\u001b[0m\u001b[0;36m1\u001b[0m\u001b[0;34m,\u001b[0m \u001b[0;36m2e-2\u001b[0m\u001b[0;34m,\u001b[0m \u001b[0mmoms\u001b[0m\u001b[0;34m=\u001b[0m\u001b[0;34m(\u001b[0m\u001b[0;36m0.8\u001b[0m\u001b[0;34m,\u001b[0m\u001b[0;36m0.7\u001b[0m\u001b[0;34m)\u001b[0m\u001b[0;34m)\u001b[0m\u001b[0;34m\u001b[0m\u001b[0;34m\u001b[0m\u001b[0m\n\u001b[0m",
      "\u001b[0;32m~/anaconda3/envs/ath/lib/python3.7/site-packages/fastai/train.py\u001b[0m in \u001b[0;36mfit_one_cycle\u001b[0;34m(learn, cyc_len, max_lr, moms, div_factor, pct_start, final_div, wd, callbacks, tot_epochs, start_epoch)\u001b[0m\n\u001b[1;32m     21\u001b[0m     callbacks.append(OneCycleScheduler(learn, max_lr, moms=moms, div_factor=div_factor, pct_start=pct_start,\n\u001b[1;32m     22\u001b[0m                                        final_div=final_div, tot_epochs=tot_epochs, start_epoch=start_epoch))\n\u001b[0;32m---> 23\u001b[0;31m     \u001b[0mlearn\u001b[0m\u001b[0;34m.\u001b[0m\u001b[0mfit\u001b[0m\u001b[0;34m(\u001b[0m\u001b[0mcyc_len\u001b[0m\u001b[0;34m,\u001b[0m \u001b[0mmax_lr\u001b[0m\u001b[0;34m,\u001b[0m \u001b[0mwd\u001b[0m\u001b[0;34m=\u001b[0m\u001b[0mwd\u001b[0m\u001b[0;34m,\u001b[0m \u001b[0mcallbacks\u001b[0m\u001b[0;34m=\u001b[0m\u001b[0mcallbacks\u001b[0m\u001b[0;34m)\u001b[0m\u001b[0;34m\u001b[0m\u001b[0;34m\u001b[0m\u001b[0m\n\u001b[0m\u001b[1;32m     24\u001b[0m \u001b[0;34m\u001b[0m\u001b[0m\n\u001b[1;32m     25\u001b[0m def fit_fc(learn:Learner, tot_epochs:int=1, lr:float=defaults.lr,  moms:Tuple[float,float]=(0.95,0.85), start_pct:float=0.72,\n",
      "\u001b[0;32m~/anaconda3/envs/ath/lib/python3.7/site-packages/fastai/basic_train.py\u001b[0m in \u001b[0;36mfit\u001b[0;34m(self, epochs, lr, wd, callbacks)\u001b[0m\n\u001b[1;32m    198\u001b[0m         \u001b[0;32melse\u001b[0m\u001b[0;34m:\u001b[0m \u001b[0mself\u001b[0m\u001b[0;34m.\u001b[0m\u001b[0mopt\u001b[0m\u001b[0;34m.\u001b[0m\u001b[0mlr\u001b[0m\u001b[0;34m,\u001b[0m\u001b[0mself\u001b[0m\u001b[0;34m.\u001b[0m\u001b[0mopt\u001b[0m\u001b[0;34m.\u001b[0m\u001b[0mwd\u001b[0m \u001b[0;34m=\u001b[0m \u001b[0mlr\u001b[0m\u001b[0;34m,\u001b[0m\u001b[0mwd\u001b[0m\u001b[0;34m\u001b[0m\u001b[0;34m\u001b[0m\u001b[0m\n\u001b[1;32m    199\u001b[0m         \u001b[0mcallbacks\u001b[0m \u001b[0;34m=\u001b[0m \u001b[0;34m[\u001b[0m\u001b[0mcb\u001b[0m\u001b[0;34m(\u001b[0m\u001b[0mself\u001b[0m\u001b[0;34m)\u001b[0m \u001b[0;32mfor\u001b[0m \u001b[0mcb\u001b[0m \u001b[0;32min\u001b[0m \u001b[0mself\u001b[0m\u001b[0;34m.\u001b[0m\u001b[0mcallback_fns\u001b[0m \u001b[0;34m+\u001b[0m \u001b[0mlistify\u001b[0m\u001b[0;34m(\u001b[0m\u001b[0mdefaults\u001b[0m\u001b[0;34m.\u001b[0m\u001b[0mextra_callback_fns\u001b[0m\u001b[0;34m)\u001b[0m\u001b[0;34m]\u001b[0m \u001b[0;34m+\u001b[0m \u001b[0mlistify\u001b[0m\u001b[0;34m(\u001b[0m\u001b[0mcallbacks\u001b[0m\u001b[0;34m)\u001b[0m\u001b[0;34m\u001b[0m\u001b[0;34m\u001b[0m\u001b[0m\n\u001b[0;32m--> 200\u001b[0;31m         \u001b[0mfit\u001b[0m\u001b[0;34m(\u001b[0m\u001b[0mepochs\u001b[0m\u001b[0;34m,\u001b[0m \u001b[0mself\u001b[0m\u001b[0;34m,\u001b[0m \u001b[0mmetrics\u001b[0m\u001b[0;34m=\u001b[0m\u001b[0mself\u001b[0m\u001b[0;34m.\u001b[0m\u001b[0mmetrics\u001b[0m\u001b[0;34m,\u001b[0m \u001b[0mcallbacks\u001b[0m\u001b[0;34m=\u001b[0m\u001b[0mself\u001b[0m\u001b[0;34m.\u001b[0m\u001b[0mcallbacks\u001b[0m\u001b[0;34m+\u001b[0m\u001b[0mcallbacks\u001b[0m\u001b[0;34m)\u001b[0m\u001b[0;34m\u001b[0m\u001b[0;34m\u001b[0m\u001b[0m\n\u001b[0m\u001b[1;32m    201\u001b[0m \u001b[0;34m\u001b[0m\u001b[0m\n\u001b[1;32m    202\u001b[0m     \u001b[0;32mdef\u001b[0m \u001b[0mcreate_opt\u001b[0m\u001b[0;34m(\u001b[0m\u001b[0mself\u001b[0m\u001b[0;34m,\u001b[0m \u001b[0mlr\u001b[0m\u001b[0;34m:\u001b[0m\u001b[0mFloats\u001b[0m\u001b[0;34m,\u001b[0m \u001b[0mwd\u001b[0m\u001b[0;34m:\u001b[0m\u001b[0mFloats\u001b[0m\u001b[0;34m=\u001b[0m\u001b[0;36m0.\u001b[0m\u001b[0;34m)\u001b[0m\u001b[0;34m->\u001b[0m\u001b[0;32mNone\u001b[0m\u001b[0;34m:\u001b[0m\u001b[0;34m\u001b[0m\u001b[0;34m\u001b[0m\u001b[0m\n",
      "\u001b[0;32m~/anaconda3/envs/ath/lib/python3.7/site-packages/fastai/basic_train.py\u001b[0m in \u001b[0;36mfit\u001b[0;34m(epochs, learn, callbacks, metrics)\u001b[0m\n\u001b[1;32m     99\u001b[0m             \u001b[0;32mfor\u001b[0m \u001b[0mxb\u001b[0m\u001b[0;34m,\u001b[0m\u001b[0myb\u001b[0m \u001b[0;32min\u001b[0m \u001b[0mprogress_bar\u001b[0m\u001b[0;34m(\u001b[0m\u001b[0mlearn\u001b[0m\u001b[0;34m.\u001b[0m\u001b[0mdata\u001b[0m\u001b[0;34m.\u001b[0m\u001b[0mtrain_dl\u001b[0m\u001b[0;34m,\u001b[0m \u001b[0mparent\u001b[0m\u001b[0;34m=\u001b[0m\u001b[0mpbar\u001b[0m\u001b[0;34m)\u001b[0m\u001b[0;34m:\u001b[0m\u001b[0;34m\u001b[0m\u001b[0;34m\u001b[0m\u001b[0m\n\u001b[1;32m    100\u001b[0m                 \u001b[0mxb\u001b[0m\u001b[0;34m,\u001b[0m \u001b[0myb\u001b[0m \u001b[0;34m=\u001b[0m \u001b[0mcb_handler\u001b[0m\u001b[0;34m.\u001b[0m\u001b[0mon_batch_begin\u001b[0m\u001b[0;34m(\u001b[0m\u001b[0mxb\u001b[0m\u001b[0;34m,\u001b[0m \u001b[0myb\u001b[0m\u001b[0;34m)\u001b[0m\u001b[0;34m\u001b[0m\u001b[0;34m\u001b[0m\u001b[0m\n\u001b[0;32m--> 101\u001b[0;31m                 \u001b[0mloss\u001b[0m \u001b[0;34m=\u001b[0m \u001b[0mloss_batch\u001b[0m\u001b[0;34m(\u001b[0m\u001b[0mlearn\u001b[0m\u001b[0;34m.\u001b[0m\u001b[0mmodel\u001b[0m\u001b[0;34m,\u001b[0m \u001b[0mxb\u001b[0m\u001b[0;34m,\u001b[0m \u001b[0myb\u001b[0m\u001b[0;34m,\u001b[0m \u001b[0mlearn\u001b[0m\u001b[0;34m.\u001b[0m\u001b[0mloss_func\u001b[0m\u001b[0;34m,\u001b[0m \u001b[0mlearn\u001b[0m\u001b[0;34m.\u001b[0m\u001b[0mopt\u001b[0m\u001b[0;34m,\u001b[0m \u001b[0mcb_handler\u001b[0m\u001b[0;34m)\u001b[0m\u001b[0;34m\u001b[0m\u001b[0;34m\u001b[0m\u001b[0m\n\u001b[0m\u001b[1;32m    102\u001b[0m                 \u001b[0;32mif\u001b[0m \u001b[0mcb_handler\u001b[0m\u001b[0;34m.\u001b[0m\u001b[0mon_batch_end\u001b[0m\u001b[0;34m(\u001b[0m\u001b[0mloss\u001b[0m\u001b[0;34m)\u001b[0m\u001b[0;34m:\u001b[0m \u001b[0;32mbreak\u001b[0m\u001b[0;34m\u001b[0m\u001b[0;34m\u001b[0m\u001b[0m\n\u001b[1;32m    103\u001b[0m \u001b[0;34m\u001b[0m\u001b[0m\n",
      "\u001b[0;32m~/anaconda3/envs/ath/lib/python3.7/site-packages/fastai/basic_train.py\u001b[0m in \u001b[0;36mloss_batch\u001b[0;34m(model, xb, yb, loss_func, opt, cb_handler)\u001b[0m\n\u001b[1;32m     31\u001b[0m \u001b[0;34m\u001b[0m\u001b[0m\n\u001b[1;32m     32\u001b[0m     \u001b[0;32mif\u001b[0m \u001b[0mopt\u001b[0m \u001b[0;32mis\u001b[0m \u001b[0;32mnot\u001b[0m \u001b[0;32mNone\u001b[0m\u001b[0;34m:\u001b[0m\u001b[0;34m\u001b[0m\u001b[0;34m\u001b[0m\u001b[0m\n\u001b[0;32m---> 33\u001b[0;31m         \u001b[0mloss\u001b[0m\u001b[0;34m,\u001b[0m\u001b[0mskip_bwd\u001b[0m \u001b[0;34m=\u001b[0m \u001b[0mcb_handler\u001b[0m\u001b[0;34m.\u001b[0m\u001b[0mon_backward_begin\u001b[0m\u001b[0;34m(\u001b[0m\u001b[0mloss\u001b[0m\u001b[0;34m)\u001b[0m\u001b[0;34m\u001b[0m\u001b[0;34m\u001b[0m\u001b[0m\n\u001b[0m\u001b[1;32m     34\u001b[0m         \u001b[0;32mif\u001b[0m \u001b[0;32mnot\u001b[0m \u001b[0mskip_bwd\u001b[0m\u001b[0;34m:\u001b[0m                     \u001b[0mloss\u001b[0m\u001b[0;34m.\u001b[0m\u001b[0mbackward\u001b[0m\u001b[0;34m(\u001b[0m\u001b[0;34m)\u001b[0m\u001b[0;34m\u001b[0m\u001b[0;34m\u001b[0m\u001b[0m\n\u001b[1;32m     35\u001b[0m         \u001b[0;32mif\u001b[0m \u001b[0;32mnot\u001b[0m \u001b[0mcb_handler\u001b[0m\u001b[0;34m.\u001b[0m\u001b[0mon_backward_end\u001b[0m\u001b[0;34m(\u001b[0m\u001b[0;34m)\u001b[0m\u001b[0;34m:\u001b[0m \u001b[0mopt\u001b[0m\u001b[0;34m.\u001b[0m\u001b[0mstep\u001b[0m\u001b[0;34m(\u001b[0m\u001b[0;34m)\u001b[0m\u001b[0;34m\u001b[0m\u001b[0;34m\u001b[0m\u001b[0m\n",
      "\u001b[0;32m~/anaconda3/envs/ath/lib/python3.7/site-packages/fastai/callback.py\u001b[0m in \u001b[0;36mon_backward_begin\u001b[0;34m(self, loss)\u001b[0m\n\u001b[1;32m    288\u001b[0m     \u001b[0;32mdef\u001b[0m \u001b[0mon_backward_begin\u001b[0m\u001b[0;34m(\u001b[0m\u001b[0mself\u001b[0m\u001b[0;34m,\u001b[0m \u001b[0mloss\u001b[0m\u001b[0;34m:\u001b[0m\u001b[0mTensor\u001b[0m\u001b[0;34m)\u001b[0m\u001b[0;34m->\u001b[0m\u001b[0mTuple\u001b[0m\u001b[0;34m[\u001b[0m\u001b[0mAny\u001b[0m\u001b[0;34m,\u001b[0m\u001b[0mAny\u001b[0m\u001b[0;34m]\u001b[0m\u001b[0;34m:\u001b[0m\u001b[0;34m\u001b[0m\u001b[0;34m\u001b[0m\u001b[0m\n\u001b[1;32m    289\u001b[0m         \u001b[0;34m\"Handle gradient calculation on `loss`.\"\u001b[0m\u001b[0;34m\u001b[0m\u001b[0;34m\u001b[0m\u001b[0m\n\u001b[0;32m--> 290\u001b[0;31m         \u001b[0mself\u001b[0m\u001b[0;34m.\u001b[0m\u001b[0msmoothener\u001b[0m\u001b[0;34m.\u001b[0m\u001b[0madd_value\u001b[0m\u001b[0;34m(\u001b[0m\u001b[0mloss\u001b[0m\u001b[0;34m.\u001b[0m\u001b[0mfloat\u001b[0m\u001b[0;34m(\u001b[0m\u001b[0;34m)\u001b[0m\u001b[0;34m.\u001b[0m\u001b[0mdetach\u001b[0m\u001b[0;34m(\u001b[0m\u001b[0;34m)\u001b[0m\u001b[0;34m.\u001b[0m\u001b[0mcpu\u001b[0m\u001b[0;34m(\u001b[0m\u001b[0;34m)\u001b[0m\u001b[0;34m)\u001b[0m\u001b[0;34m\u001b[0m\u001b[0;34m\u001b[0m\u001b[0m\n\u001b[0m\u001b[1;32m    291\u001b[0m         \u001b[0mself\u001b[0m\u001b[0;34m.\u001b[0m\u001b[0mstate_dict\u001b[0m\u001b[0;34m[\u001b[0m\u001b[0;34m'last_loss'\u001b[0m\u001b[0;34m]\u001b[0m\u001b[0;34m,\u001b[0m \u001b[0mself\u001b[0m\u001b[0;34m.\u001b[0m\u001b[0mstate_dict\u001b[0m\u001b[0;34m[\u001b[0m\u001b[0;34m'smooth_loss'\u001b[0m\u001b[0;34m]\u001b[0m \u001b[0;34m=\u001b[0m \u001b[0mloss\u001b[0m\u001b[0;34m,\u001b[0m \u001b[0mself\u001b[0m\u001b[0;34m.\u001b[0m\u001b[0msmoothener\u001b[0m\u001b[0;34m.\u001b[0m\u001b[0msmooth\u001b[0m\u001b[0;34m\u001b[0m\u001b[0;34m\u001b[0m\u001b[0m\n\u001b[1;32m    292\u001b[0m         \u001b[0mself\u001b[0m\u001b[0;34m(\u001b[0m\u001b[0;34m'backward_begin'\u001b[0m\u001b[0;34m,\u001b[0m \u001b[0mcall_mets\u001b[0m\u001b[0;34m=\u001b[0m\u001b[0;32mFalse\u001b[0m\u001b[0;34m)\u001b[0m\u001b[0;34m\u001b[0m\u001b[0;34m\u001b[0m\u001b[0m\n",
      "\u001b[0;31mKeyboardInterrupt\u001b[0m: "
     ]
    }
   ],
   "source": [
    "# Train the classification model for one cycle\n",
    "# learn.fit_one_cycle(1, 1e-1) #test\n",
    "learn.fit_one_cycle(1, 2e-2, moms=(0.8,0.7))\n"
   ]
  },
  {
   "cell_type": "code",
   "execution_count": null,
   "metadata": {
    "colab": {},
    "colab_type": "code",
    "id": "EBt-ASs7kSs6"
   },
   "outputs": [],
   "source": [
    "learn.save('first')"
   ]
  },
  {
   "cell_type": "code",
   "execution_count": null,
   "metadata": {
    "colab": {},
    "colab_type": "code",
    "id": "YgDjCpa1kSs8"
   },
   "outputs": [],
   "source": [
    "learn.load('first');"
   ]
  },
  {
   "cell_type": "code",
   "execution_count": null,
   "metadata": {
    "colab": {
     "base_uri": "https://localhost:8080/",
     "height": 78
    },
    "colab_type": "code",
    "executionInfo": {
     "elapsed": 68566,
     "status": "ok",
     "timestamp": 1571476162522,
     "user": {
      "displayName": "Joris Vanherp",
      "photoUrl": "",
      "userId": "04253705092317983080"
     },
     "user_tz": -120
    },
    "id": "Pdepk2sQkSs9",
    "outputId": "818ff591-28af-4afc-f37e-79828ba6b0e8"
   },
   "outputs": [],
   "source": [
    "# train again after unfreezing part\n",
    "learn.freeze_to(-2)\n",
    "learn.fit_one_cycle(1, slice(1e-2/(2.6**4),1e-2), moms=(0.8,0.7))"
   ]
  },
  {
   "cell_type": "code",
   "execution_count": null,
   "metadata": {
    "colab": {},
    "colab_type": "code",
    "id": "YuVvCZ3GkSs_"
   },
   "outputs": [],
   "source": [
    "learn.save('second')"
   ]
  },
  {
   "cell_type": "code",
   "execution_count": null,
   "metadata": {
    "colab": {},
    "colab_type": "code",
    "id": "JbQjg2dLkStB"
   },
   "outputs": [],
   "source": [
    "learn.load('second');"
   ]
  },
  {
   "cell_type": "code",
   "execution_count": null,
   "metadata": {
    "colab": {
     "base_uri": "https://localhost:8080/",
     "height": 78
    },
    "colab_type": "code",
    "executionInfo": {
     "elapsed": 117239,
     "status": "ok",
     "timestamp": 1571476211215,
     "user": {
      "displayName": "Joris Vanherp",
      "photoUrl": "",
      "userId": "04253705092317983080"
     },
     "user_tz": -120
    },
    "id": "T4Ac2V6BkStC",
    "outputId": "10c3e1f5-f2d3-4e1c-a54c-61e184492d15"
   },
   "outputs": [],
   "source": [
    "# train again after unfreezing further\n",
    "learn.freeze_to(-3)\n",
    "learn.fit_one_cycle(1, slice(5e-3/(2.6**4),5e-3), moms=(0.8,0.7))"
   ]
  },
  {
   "cell_type": "code",
   "execution_count": null,
   "metadata": {
    "colab": {},
    "colab_type": "code",
    "id": "MMb3GFOQkStF"
   },
   "outputs": [],
   "source": [
    "learn.save('third')"
   ]
  },
  {
   "cell_type": "code",
   "execution_count": null,
   "metadata": {
    "colab": {},
    "colab_type": "code",
    "id": "7s_6vbmlkStG"
   },
   "outputs": [],
   "source": [
    "learn.load('third');"
   ]
  },
  {
   "cell_type": "code",
   "execution_count": null,
   "metadata": {
    "colab": {
     "base_uri": "https://localhost:8080/",
     "height": 108
    },
    "colab_type": "code",
    "executionInfo": {
     "elapsed": 237577,
     "status": "ok",
     "timestamp": 1571476331575,
     "user": {
      "displayName": "Joris Vanherp",
      "photoUrl": "",
      "userId": "04253705092317983080"
     },
     "user_tz": -120
    },
    "id": "o41OxAa4kStI",
    "outputId": "ed2bbdc6-d561-4485-fcae-8f265616d80e"
   },
   "outputs": [],
   "source": [
    "# train again after unfreezing full\n",
    "learn.unfreeze()\n",
    "learn.fit_one_cycle(10, slice(1e-3/(2.6**4),1e-3), moms=(0.8,0.7))"
   ]
  },
  {
   "cell_type": "code",
   "execution_count": null,
   "metadata": {
    "colab": {
     "base_uri": "https://localhost:8080/",
     "height": 35
    },
    "colab_type": "code",
    "executionInfo": {
     "elapsed": 237572,
     "status": "ok",
     "timestamp": 1571476331576,
     "user": {
      "displayName": "Joris Vanherp",
      "photoUrl": "",
      "userId": "04253705092317983080"
     },
     "user_tz": -120
    },
    "id": "yMUVNtPRkStK",
    "outputId": "17273e3c-9816-4a40-e6d3-82fabb4a147a"
   },
   "outputs": [],
   "source": [
    "#Get results for example\n",
    "learn.predict(\"A Solid Good cafe - I say this, because i felt as though the service and the price could have been better. I almost felt ignored initially, but maybe that was because they were understaffed. I feel as though, with the price their, the service should have a bit more of a wow factor. But because of the high price and OK service I am rating a little lower. Coffee is great and the food is good too. I would go back!\")"
   ]
  },
  {
   "cell_type": "markdown",
   "metadata": {
    "colab_type": "text",
    "id": "pf-Fy3J9ksQX"
   },
   "source": [
    "# Get accuracy and export"
   ]
  },
  {
   "cell_type": "code",
   "execution_count": null,
   "metadata": {
    "colab": {},
    "colab_type": "code",
    "id": "N6kUx3ZRHMvl"
   },
   "outputs": [],
   "source": [
    "# Get predictions\n",
    "preds, targets = learn.get_preds()\n",
    "predictions = np.argmax(preds, axis = 1)\n",
    "accuracy_matrix=pd.crosstab(predictions, targets)\n"
   ]
  },
  {
   "cell_type": "code",
   "execution_count": null,
   "metadata": {
    "colab": {
     "base_uri": "https://localhost:8080/",
     "height": 168
    },
    "colab_type": "code",
    "executionInfo": {
     "elapsed": 242750,
     "status": "ok",
     "timestamp": 1571476336780,
     "user": {
      "displayName": "Joris Vanherp",
      "photoUrl": "",
      "userId": "04253705092317983080"
     },
     "user_tz": -120
    },
    "id": "4UzfJHwXRFU1",
    "outputId": "c7a3cbe6-3ce1-4a53-e6a6-240173b52b0d"
   },
   "outputs": [],
   "source": [
    "# print confusion matrix\n",
    "accuracy_matrix2=accuracy_matrix.copy()\n",
    "accuracy_matrix2=accuracy_matrix2.rename(columns={0:-1,1:0,2:1})\n",
    "accuracy_matrix2=accuracy_matrix2.rename(index={0: -1, 1:0, 2: 1})\n",
    "accuracy_matrix2.T"
   ]
  },
  {
   "cell_type": "code",
   "execution_count": null,
   "metadata": {
    "colab": {},
    "colab_type": "code",
    "id": "ry94w-13wAe0"
   },
   "outputs": [],
   "source": [
    "# Calculate different accuracy measures\n",
    "precision_minus_1=accuracy_matrix[0][0]/accuracy_matrix.sum(1)[0]\n",
    "precision_0 = accuracy_matrix[1][1]/accuracy_matrix.sum(1)[1]\n",
    "precision_1 = accuracy_matrix[2][2]/accuracy_matrix.sum(1)[2]\n",
    "precision=[precision_minus_1,precision_0,precision_1]\n",
    "recall_minus_1 = accuracy_matrix[0][0]/accuracy_matrix.sum(0)[0]\n",
    "recall_0 = accuracy_matrix[1][1]/accuracy_matrix.sum(0)[1]\n",
    "recall_1 = accuracy_matrix[2][2]/accuracy_matrix.sum(0)[2]\n",
    "recall=[recall_minus_1,recall_0,recall_1]\n",
    "weighted_precision = (precision[0]*accuracy_matrix.sum(0)[0]+ precision[1]*accuracy_matrix.sum(0)[1]+ precision[2]*accuracy_matrix.sum(0)[2])/sum(accuracy_matrix.sum(0))\n",
    "weighted_recall = (recall[0]*accuracy_matrix.sum(1)[0]+ recall[1]*accuracy_matrix.sum(1)[1]+ recall[2]*accuracy_matrix.sum(1)[2])/sum(accuracy_matrix.sum(1))"
   ]
  },
  {
   "cell_type": "code",
   "execution_count": null,
   "metadata": {
    "colab": {
     "base_uri": "https://localhost:8080/",
     "height": 35
    },
    "colab_type": "code",
    "executionInfo": {
     "elapsed": 242922,
     "status": "ok",
     "timestamp": 1571476336978,
     "user": {
      "displayName": "Joris Vanherp",
      "photoUrl": "",
      "userId": "04253705092317983080"
     },
     "user_tz": -120
    },
    "id": "Xhu9smFaSRAx",
    "outputId": "6113a1c5-39f6-44f0-8392-096a63eec1b8"
   },
   "outputs": [],
   "source": [
    "print('The weighted average precision is %.2f'%(weighted_precision))\n"
   ]
  },
  {
   "cell_type": "code",
   "execution_count": null,
   "metadata": {
    "colab": {
     "base_uri": "https://localhost:8080/",
     "height": 590
    },
    "colab_type": "code",
    "executionInfo": {
     "elapsed": 46549,
     "status": "ok",
     "timestamp": 1571476640787,
     "user": {
      "displayName": "Joris Vanherp",
      "photoUrl": "",
      "userId": "04253705092317983080"
     },
     "user_tz": -120
    },
    "id": "39BBUvzM5m5M",
    "outputId": "2fe43910-85b2-4f74-d068-0bd18fe97206"
   },
   "outputs": [],
   "source": [
    "# Export and download the file\n",
    "learn.export('train_all_test_all_sentiment_bestmodel_ulmfit.pkl');\n",
    "# files.download('train_all_test_all_sentiment_bestmodel_ulmfit.pkl');"
   ]
  },
  {
   "cell_type": "code",
   "execution_count": null,
   "metadata": {
    "colab": {},
    "colab_type": "code",
    "id": "P2j_snSoC9Fn"
   },
   "outputs": [],
   "source": [
    "#upload the file to google drive then get the path of the file\n",
    "path='/models'"
   ]
  },
  {
   "cell_type": "code",
   "execution_count": null,
   "metadata": {
    "colab": {},
    "colab_type": "code",
    "id": "hkoc6O4SC-lX"
   },
   "outputs": [],
   "source": [
    "#load the file \n",
    "l = load_learner(path, 'export.pkl')"
   ]
  },
  {
   "cell_type": "code",
   "execution_count": null,
   "metadata": {
    "colab": {
     "base_uri": "https://localhost:8080/",
     "height": 35
    },
    "colab_type": "code",
    "executionInfo": {
     "elapsed": 465,
     "status": "ok",
     "timestamp": 1571476582701,
     "user": {
      "displayName": "Joris Vanherp",
      "photoUrl": "",
      "userId": "04253705092317983080"
     },
     "user_tz": -120
    },
    "id": "k7dEb5o5b_ni",
    "outputId": "33fdc0ae-c7f2-4228-e77f-2f23535ab611"
   },
   "outputs": [],
   "source": [
    "# predicted probability of -1, 0, 1\n",
    "pred =learn.predict(\"High quality food,well served,few dishes,clean,young,very friendly. Has a part of a large pavement's corner with wood tables and benches.Wonderful place to have breakfast.\")"
   ]
  },
  {
   "cell_type": "code",
   "execution_count": null,
   "metadata": {},
   "outputs": [],
   "source": [
    "str(pred[0])"
   ]
  },
  {
   "cell_type": "code",
   "execution_count": null,
   "metadata": {},
   "outputs": [],
   "source": [
    "newdata['pred'] = newdata['Text'].apply(lambda txt: str(learn.predict(txt)[0]))"
   ]
  },
  {
   "cell_type": "code",
   "execution_count": null,
   "metadata": {},
   "outputs": [],
   "source": [
    "accuracy_matrix = pd.crosstab(newdata.pred,newdata.Sentiment)\n",
    "accuracy_matrix.T"
   ]
  },
  {
   "cell_type": "code",
   "execution_count": null,
   "metadata": {},
   "outputs": [],
   "source": [
    "# Calculate different accuracy measures\n",
    "precision_minus_1=accuracy_matrix[-1][-1]/accuracy_matrix.sum(1)[-1]\n",
    "precision_0 = accuracy_matrix[0][0]/accuracy_matrix.sum(1)[0]\n",
    "precision_1 = accuracy_matrix[1][1]/accuracy_matrix.sum(1)[1]\n",
    "precision=[precision_minus_1,precision_0,precision_1]\n",
    "recall_minus_1 = accuracy_matrix[-1][-1]/accuracy_matrix.sum(0)[-1]\n",
    "recall_0 = accuracy_matrix[0][0]/accuracy_matrix.sum(0)[0]\n",
    "recall_1 = accuracy_matrix[1][1]/accuracy_matrix.sum(0)[1]\n",
    "recall=[recall_minus_1,recall_0,recall_1]\n",
    "weighted_precision = (precision[-1]*accuracy_matrix.sum(0)[-1]+ precision[0]*accuracy_matrix.sum(0)[0]+ precision[1]*accuracy_matrix.sum(0)[1])/sum(accuracy_matrix.sum(0))\n",
    "weighted_recall = (recall[-1]*accuracy_matrix.sum(1)[-1]+ recall[0]*accuracy_matrix.sum(1)[0]+ recall[1]*accuracy_matrix.sum(1)[1])/sum(accuracy_matrix.sum(1))\n",
    "print('The weighted average precision is %.2f'%(weighted_precision))"
   ]
  },
  {
   "cell_type": "code",
   "execution_count": null,
   "metadata": {},
   "outputs": [],
   "source": []
  }
 ],
 "metadata": {
  "accelerator": "GPU",
  "colab": {
   "collapsed_sections": [],
   "name": "Sentiment_newdata_ULMFiT_1810.ipynb",
   "provenance": []
  },
  "kernel_info": {
   "name": "python3"
  },
  "kernelspec": {
   "display_name": "Python 3",
   "language": "python",
   "name": "python3"
  },
  "language_info": {
   "codemirror_mode": {
    "name": "ipython",
    "version": 3
   },
   "file_extension": ".py",
   "mimetype": "text/x-python",
   "name": "python",
   "nbconvert_exporter": "python",
   "pygments_lexer": "ipython3",
   "version": "3.7.6"
  },
  "nteract": {
   "version": "0.15.0"
  }
 },
 "nbformat": 4,
 "nbformat_minor": 1
}
