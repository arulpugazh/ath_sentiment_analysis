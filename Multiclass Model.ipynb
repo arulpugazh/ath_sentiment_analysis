{
 "cells": [
  {
   "cell_type": "code",
   "execution_count": 1,
   "metadata": {
    "colab": {
     "base_uri": "https://localhost:8080/",
     "height": 369
    },
    "colab_type": "code",
    "id": "j0L8tF7b2UYi",
    "outputId": "3960b74b-4303-469a-c479-f4678aa6b013"
   },
   "outputs": [],
   "source": [
    "import fastai\n",
    "from fastai import *\n",
    "from fastai.text import * \n",
    "from fastai.text.models import *\n",
    "import pandas as pd\n",
    "import numpy as np\n",
    "from sklearn.model_selection import train_test_split\n",
    "from sklearn.metrics import classification_report\n",
    "import pandas as pd\n",
    "from sklearn.metrics import confusion_matrix, accuracy_score\n",
    "import swifter\n",
    "import nltk\n",
    "from nltk.corpus import stopwords\n",
    "import re \n",
    "from bs4 import BeautifulSoup\n",
    "from sklearn.metrics import precision_score, recall_score\n",
    "from nltk.stem.snowball import SnowballStemmer"
   ]
  },
  {
   "cell_type": "code",
   "execution_count": 2,
   "metadata": {
    "colab": {},
    "colab_type": "code",
    "id": "5CakXSGXGRfP"
   },
   "outputs": [],
   "source": [
    "DATA_PATH = Path('Input_data')\n",
    "MODEL_LM_PATH = Path('models_lm')\n",
    "MODEL_LM_PATH.mkdir(exist_ok=True)\n",
    "MODEL_TEXT_TAB_PATH = Path('models_text_tab')\n",
    "MODEL_TEXT_TAB_PATH.mkdir(exist_ok=True)"
   ]
  },
  {
   "cell_type": "code",
   "execution_count": 3,
   "metadata": {
    "colab": {},
    "colab_type": "code",
    "id": "3iNwEaxi2r3I"
   },
   "outputs": [],
   "source": [
    "class ConcatDataset(Dataset):\n",
    "    def __init__(self, x1, x2, y):\n",
    "        self.x1, self.x2, self.y = x1, x2, y\n",
    "    def __len__(self): \n",
    "        return len(self.y)\n",
    "    def __getitem__(self, i): \n",
    "        return (self.x1[i], self.x2[i]), self.y[i]\n",
    "    \n",
    "# define a custom collate function to be used to create a Concat DataBunch later\n",
    "def tabtext_collate(batch):\n",
    "    x, y = list(zip(*batch))\n",
    "    # x1 is (cat,cont), x2 is numericalized ids for text\n",
    "    x1, x2 = list(zip(*x))\n",
    "    x1 = to_data(x1)\n",
    "    x1 = list(zip(*x1))\n",
    "    x1 = torch.stack(x1[0]), torch.stack(x1[1])\n",
    "    x2, y = pad_collate(list(zip(x2, y)), pad_idx=1, pad_first=True)\n",
    "    return (x1, x2), y"
   ]
  },
  {
   "cell_type": "code",
   "execution_count": 4,
   "metadata": {
    "colab": {},
    "colab_type": "code",
    "id": "l_in8Xih-sH6"
   },
   "outputs": [],
   "source": [
    "class ConcatModel(nn.Module):\n",
    "    def __init__(self, mod_tab, mod_nlp, layers, drops):\n",
    "        super().__init__()\n",
    "        self.mod_tab = mod_tab\n",
    "        self.mod_nlp = mod_nlp\n",
    "        lst_layers = []\n",
    "        activs = [nn.ReLU(inplace=True), ] * (len(layers)-2) + [None]\n",
    "        for n_in, n_out, p, actn in zip(layers[:-1], layers[1:], drops, activs):\n",
    "            lst_layers += bn_drop_lin(n_in, n_out, p=p, actn=actn)\n",
    "        self.layers = nn.Sequential(*lst_layers)\n",
    "\n",
    "    def forward(self, *x):\n",
    "        x_tab = self.mod_tab(*x[0])\n",
    "        x_nlp = self.mod_nlp(x[1])[0]\n",
    "        x = torch.cat([x_tab, x_nlp], dim=1)\n",
    "        return self.layers(x)"
   ]
  },
  {
   "cell_type": "code",
   "execution_count": 5,
   "metadata": {
    "colab": {},
    "colab_type": "code",
    "id": "5h3DgEWR-y7e"
   },
   "outputs": [],
   "source": [
    "fulldata= pd.read_csv('Input_data/newdata.csv')"
   ]
  },
  {
   "cell_type": "code",
   "execution_count": 6,
   "metadata": {},
   "outputs": [
    {
     "data": {
      "text/html": [
       "<div>\n",
       "<style scoped>\n",
       "    .dataframe tbody tr th:only-of-type {\n",
       "        vertical-align: middle;\n",
       "    }\n",
       "\n",
       "    .dataframe tbody tr th {\n",
       "        vertical-align: top;\n",
       "    }\n",
       "\n",
       "    .dataframe thead th {\n",
       "        text-align: right;\n",
       "    }\n",
       "</style>\n",
       "<table border=\"1\" class=\"dataframe\">\n",
       "  <thead>\n",
       "    <tr style=\"text-align: right;\">\n",
       "      <th></th>\n",
       "      <th>Unnamed: 0</th>\n",
       "      <th>Integration Type</th>\n",
       "      <th>Language</th>\n",
       "      <th>Sentiment</th>\n",
       "      <th>Text</th>\n",
       "      <th>experience</th>\n",
       "      <th>service</th>\n",
       "      <th>consistency</th>\n",
       "      <th>value</th>\n",
       "      <th>food</th>\n",
       "      <th>convenience</th>\n",
       "      <th>lang_code</th>\n",
       "      <th>raw_text</th>\n",
       "      <th>Unnamed: 0.1</th>\n",
       "      <th>Categories</th>\n",
       "      <th>pred</th>\n",
       "    </tr>\n",
       "  </thead>\n",
       "  <tbody>\n",
       "    <tr>\n",
       "      <th>0</th>\n",
       "      <td>0</td>\n",
       "      <td>eetnu</td>\n",
       "      <td>nld</td>\n",
       "      <td>-1</td>\n",
       "      <td>Food was tasty but far too little compared to ...</td>\n",
       "      <td>1.0</td>\n",
       "      <td>0.0</td>\n",
       "      <td>0.0</td>\n",
       "      <td>0.0</td>\n",
       "      <td>0.0</td>\n",
       "      <td>0.0</td>\n",
       "      <td>nl</td>\n",
       "      <td>Eten was lekker maar veel te weinig vergeleken...</td>\n",
       "      <td>NaN</td>\n",
       "      <td>NaN</td>\n",
       "      <td>NaN</td>\n",
       "    </tr>\n",
       "    <tr>\n",
       "      <th>1</th>\n",
       "      <td>1</td>\n",
       "      <td>resengo</td>\n",
       "      <td>nld</td>\n",
       "      <td>-1</td>\n",
       "      <td>Super</td>\n",
       "      <td>0.0</td>\n",
       "      <td>1.0</td>\n",
       "      <td>0.0</td>\n",
       "      <td>0.0</td>\n",
       "      <td>0.0</td>\n",
       "      <td>0.0</td>\n",
       "      <td>nl</td>\n",
       "      <td>Super</td>\n",
       "      <td>NaN</td>\n",
       "      <td>NaN</td>\n",
       "      <td>NaN</td>\n",
       "    </tr>\n",
       "    <tr>\n",
       "      <th>2</th>\n",
       "      <td>4</td>\n",
       "      <td>zomato</td>\n",
       "      <td>por</td>\n",
       "      <td>-1</td>\n",
       "      <td>Maybe the expectations are so high, we were so...</td>\n",
       "      <td>1.0</td>\n",
       "      <td>0.0</td>\n",
       "      <td>0.0</td>\n",
       "      <td>0.0</td>\n",
       "      <td>0.0</td>\n",
       "      <td>0.0</td>\n",
       "      <td>pt</td>\n",
       "      <td>Talvez pelas expectativas serem tão altas, que...</td>\n",
       "      <td>NaN</td>\n",
       "      <td>NaN</td>\n",
       "      <td>NaN</td>\n",
       "    </tr>\n",
       "    <tr>\n",
       "      <th>3</th>\n",
       "      <td>5</td>\n",
       "      <td>zomato</td>\n",
       "      <td>por</td>\n",
       "      <td>1</td>\n",
       "      <td>Burger is always good. I confess having had a ...</td>\n",
       "      <td>1.0</td>\n",
       "      <td>1.0</td>\n",
       "      <td>1.0</td>\n",
       "      <td>1.0</td>\n",
       "      <td>1.0</td>\n",
       "      <td>0.0</td>\n",
       "      <td>pt</td>\n",
       "      <td>Hambúrguer é sempre bom. Confesso já ter tido ...</td>\n",
       "      <td>NaN</td>\n",
       "      <td>NaN</td>\n",
       "      <td>NaN</td>\n",
       "    </tr>\n",
       "    <tr>\n",
       "      <th>4</th>\n",
       "      <td>6</td>\n",
       "      <td>zomato</td>\n",
       "      <td>por</td>\n",
       "      <td>1</td>\n",
       "      <td>I'm a fan of the hamburger in the neighborhood...</td>\n",
       "      <td>1.0</td>\n",
       "      <td>1.0</td>\n",
       "      <td>1.0</td>\n",
       "      <td>1.0</td>\n",
       "      <td>0.0</td>\n",
       "      <td>1.0</td>\n",
       "      <td>pt</td>\n",
       "      <td>Sou fã da hamburgueria do bairro! Sempre achei...</td>\n",
       "      <td>NaN</td>\n",
       "      <td>NaN</td>\n",
       "      <td>NaN</td>\n",
       "    </tr>\n",
       "    <tr>\n",
       "      <th>...</th>\n",
       "      <td>...</td>\n",
       "      <td>...</td>\n",
       "      <td>...</td>\n",
       "      <td>...</td>\n",
       "      <td>...</td>\n",
       "      <td>...</td>\n",
       "      <td>...</td>\n",
       "      <td>...</td>\n",
       "      <td>...</td>\n",
       "      <td>...</td>\n",
       "      <td>...</td>\n",
       "      <td>...</td>\n",
       "      <td>...</td>\n",
       "      <td>...</td>\n",
       "      <td>...</td>\n",
       "      <td>...</td>\n",
       "    </tr>\n",
       "    <tr>\n",
       "      <th>10452</th>\n",
       "      <td>4925</td>\n",
       "      <td>formitable</td>\n",
       "      <td>eng</td>\n",
       "      <td>-1</td>\n",
       "      <td>- standing in a row at the entrance and host w...</td>\n",
       "      <td>NaN</td>\n",
       "      <td>NaN</td>\n",
       "      <td>NaN</td>\n",
       "      <td>NaN</td>\n",
       "      <td>NaN</td>\n",
       "      <td>NaN</td>\n",
       "      <td>NaN</td>\n",
       "      <td>NaN</td>\n",
       "      <td>10332.0</td>\n",
       "      <td>food;service</td>\n",
       "      <td>-1.0</td>\n",
       "    </tr>\n",
       "    <tr>\n",
       "      <th>10453</th>\n",
       "      <td>4926</td>\n",
       "      <td>google_mybusiness</td>\n",
       "      <td>eng</td>\n",
       "      <td>-1</td>\n",
       "      <td>Very poor service &amp; the food was really bad. D...</td>\n",
       "      <td>NaN</td>\n",
       "      <td>NaN</td>\n",
       "      <td>NaN</td>\n",
       "      <td>NaN</td>\n",
       "      <td>NaN</td>\n",
       "      <td>NaN</td>\n",
       "      <td>NaN</td>\n",
       "      <td>NaN</td>\n",
       "      <td>10394.0</td>\n",
       "      <td>service;food;value;experience</td>\n",
       "      <td>-1.0</td>\n",
       "    </tr>\n",
       "    <tr>\n",
       "      <th>10454</th>\n",
       "      <td>4927</td>\n",
       "      <td>facebook</td>\n",
       "      <td>eng</td>\n",
       "      <td>-1</td>\n",
       "      <td>Very rude, unfriendly personal which reacts qu...</td>\n",
       "      <td>NaN</td>\n",
       "      <td>NaN</td>\n",
       "      <td>NaN</td>\n",
       "      <td>NaN</td>\n",
       "      <td>NaN</td>\n",
       "      <td>NaN</td>\n",
       "      <td>NaN</td>\n",
       "      <td>NaN</td>\n",
       "      <td>10448.0</td>\n",
       "      <td>service</td>\n",
       "      <td>-1.0</td>\n",
       "    </tr>\n",
       "    <tr>\n",
       "      <th>10455</th>\n",
       "      <td>4928</td>\n",
       "      <td>google_mybusiness</td>\n",
       "      <td>eng</td>\n",
       "      <td>-1</td>\n",
       "      <td>Bad service, horrible taste and the food nothi...</td>\n",
       "      <td>NaN</td>\n",
       "      <td>NaN</td>\n",
       "      <td>NaN</td>\n",
       "      <td>NaN</td>\n",
       "      <td>NaN</td>\n",
       "      <td>NaN</td>\n",
       "      <td>NaN</td>\n",
       "      <td>NaN</td>\n",
       "      <td>10452.0</td>\n",
       "      <td>experience;food;service</td>\n",
       "      <td>-1.0</td>\n",
       "    </tr>\n",
       "    <tr>\n",
       "      <th>10456</th>\n",
       "      <td>4929</td>\n",
       "      <td>google_mybusiness</td>\n",
       "      <td>eng</td>\n",
       "      <td>-1</td>\n",
       "      <td>Only ordered cappuccino with oatmilk, what a m...</td>\n",
       "      <td>NaN</td>\n",
       "      <td>NaN</td>\n",
       "      <td>NaN</td>\n",
       "      <td>NaN</td>\n",
       "      <td>NaN</td>\n",
       "      <td>NaN</td>\n",
       "      <td>NaN</td>\n",
       "      <td>NaN</td>\n",
       "      <td>10453.0</td>\n",
       "      <td>experience</td>\n",
       "      <td>-1.0</td>\n",
       "    </tr>\n",
       "  </tbody>\n",
       "</table>\n",
       "<p>10457 rows × 16 columns</p>\n",
       "</div>"
      ],
      "text/plain": [
       "       Unnamed: 0   Integration Type Language  Sentiment  \\\n",
       "0               0              eetnu      nld         -1   \n",
       "1               1            resengo      nld         -1   \n",
       "2               4             zomato      por         -1   \n",
       "3               5             zomato      por          1   \n",
       "4               6             zomato      por          1   \n",
       "...           ...                ...      ...        ...   \n",
       "10452        4925         formitable      eng         -1   \n",
       "10453        4926  google_mybusiness      eng         -1   \n",
       "10454        4927           facebook      eng         -1   \n",
       "10455        4928  google_mybusiness      eng         -1   \n",
       "10456        4929  google_mybusiness      eng         -1   \n",
       "\n",
       "                                                    Text  experience  service  \\\n",
       "0      Food was tasty but far too little compared to ...         1.0      0.0   \n",
       "1                                                  Super         0.0      1.0   \n",
       "2      Maybe the expectations are so high, we were so...         1.0      0.0   \n",
       "3      Burger is always good. I confess having had a ...         1.0      1.0   \n",
       "4      I'm a fan of the hamburger in the neighborhood...         1.0      1.0   \n",
       "...                                                  ...         ...      ...   \n",
       "10452  - standing in a row at the entrance and host w...         NaN      NaN   \n",
       "10453  Very poor service & the food was really bad. D...         NaN      NaN   \n",
       "10454  Very rude, unfriendly personal which reacts qu...         NaN      NaN   \n",
       "10455  Bad service, horrible taste and the food nothi...         NaN      NaN   \n",
       "10456  Only ordered cappuccino with oatmilk, what a m...         NaN      NaN   \n",
       "\n",
       "       consistency  value  food  convenience lang_code  \\\n",
       "0              0.0    0.0   0.0          0.0        nl   \n",
       "1              0.0    0.0   0.0          0.0        nl   \n",
       "2              0.0    0.0   0.0          0.0        pt   \n",
       "3              1.0    1.0   1.0          0.0        pt   \n",
       "4              1.0    1.0   0.0          1.0        pt   \n",
       "...            ...    ...   ...          ...       ...   \n",
       "10452          NaN    NaN   NaN          NaN       NaN   \n",
       "10453          NaN    NaN   NaN          NaN       NaN   \n",
       "10454          NaN    NaN   NaN          NaN       NaN   \n",
       "10455          NaN    NaN   NaN          NaN       NaN   \n",
       "10456          NaN    NaN   NaN          NaN       NaN   \n",
       "\n",
       "                                                raw_text  Unnamed: 0.1  \\\n",
       "0      Eten was lekker maar veel te weinig vergeleken...           NaN   \n",
       "1                                                  Super           NaN   \n",
       "2      Talvez pelas expectativas serem tão altas, que...           NaN   \n",
       "3      Hambúrguer é sempre bom. Confesso já ter tido ...           NaN   \n",
       "4      Sou fã da hamburgueria do bairro! Sempre achei...           NaN   \n",
       "...                                                  ...           ...   \n",
       "10452                                                NaN       10332.0   \n",
       "10453                                                NaN       10394.0   \n",
       "10454                                                NaN       10448.0   \n",
       "10455                                                NaN       10452.0   \n",
       "10456                                                NaN       10453.0   \n",
       "\n",
       "                          Categories  pred  \n",
       "0                                NaN   NaN  \n",
       "1                                NaN   NaN  \n",
       "2                                NaN   NaN  \n",
       "3                                NaN   NaN  \n",
       "4                                NaN   NaN  \n",
       "...                              ...   ...  \n",
       "10452                   food;service  -1.0  \n",
       "10453  service;food;value;experience  -1.0  \n",
       "10454                        service  -1.0  \n",
       "10455        experience;food;service  -1.0  \n",
       "10456                     experience  -1.0  \n",
       "\n",
       "[10457 rows x 16 columns]"
      ]
     },
     "execution_count": 6,
     "metadata": {},
     "output_type": "execute_result"
    }
   ],
   "source": []
  },
  {
   "cell_type": "code",
   "execution_count": 9,
   "metadata": {
    "colab": {},
    "colab_type": "code",
    "id": "A6eM4Z-NBYHt"
   },
   "outputs": [],
   "source": [
    "fulldata.drop(columns=['raw_text', 'pred', 'Unnamed: 0.1', 'Categories', 'Unnamed: 0'], inplace=True)"
   ]
  },
  {
   "cell_type": "code",
   "execution_count": 10,
   "metadata": {
    "colab": {},
    "colab_type": "code",
    "id": "o9ZjKjmTCu58"
   },
   "outputs": [],
   "source": [
    "df_train = fulldata[:8000]\n",
    "df_valid = fulldata[8000:]"
   ]
  },
  {
   "cell_type": "code",
   "execution_count": 12,
   "metadata": {
    "colab": {},
    "colab_type": "code",
    "id": "_25Y-ie3F3Ji"
   },
   "outputs": [],
   "source": [
    "val_idxs = np.arange(df_train.shape[0], fulldata.shape[0])"
   ]
  },
  {
   "cell_type": "code",
   "execution_count": 13,
   "metadata": {
    "colab": {},
    "colab_type": "code",
    "id": "vAz53MKHF8gy"
   },
   "outputs": [
    {
     "data": {
      "text/html": [],
      "text/plain": [
       "<IPython.core.display.HTML object>"
      ]
     },
     "metadata": {},
     "output_type": "display_data"
    },
    {
     "data": {
      "text/html": [],
      "text/plain": [
       "<IPython.core.display.HTML object>"
      ]
     },
     "metadata": {},
     "output_type": "display_data"
    }
   ],
   "source": [
    "bs = 32\n",
    "\n",
    "# create Databunch (https://docs.fast.ai/text.data.html)\n",
    "data_lm = (TextList.from_df(fulldata, cols=['Text'])\n",
    "                           .split_by_idx(val_idxs)\n",
    "                           .label_for_lm()  \n",
    "                           .databunch(path=MODEL_LM_PATH, bs=bs))"
   ]
  },
  {
   "cell_type": "code",
   "execution_count": 14,
   "metadata": {
    "colab": {},
    "colab_type": "code",
    "id": "BlVO-ftKGJgP"
   },
   "outputs": [],
   "source": [
    "data_lm.save('data_lm.pkl')"
   ]
  },
  {
   "cell_type": "code",
   "execution_count": 15,
   "metadata": {
    "colab": {},
    "colab_type": "code",
    "id": "qZjTGOHjHkFZ"
   },
   "outputs": [],
   "source": [
    "learn = language_model_learner(data_lm, AWD_LSTM, drop_mult=0.5, path=MODEL_LM_PATH)"
   ]
  },
  {
   "cell_type": "code",
   "execution_count": 16,
   "metadata": {
    "colab": {},
    "colab_type": "code",
    "id": "N1U_j4lCHmsI"
   },
   "outputs": [
    {
     "data": {
      "text/html": [
       "\n",
       "    <div>\n",
       "        <style>\n",
       "            /* Turns off some styling */\n",
       "            progress {\n",
       "                /* gets rid of default border in Firefox and Opera. */\n",
       "                border: none;\n",
       "                /* Needs to be in here for Safari polyfill so background images work as expected. */\n",
       "                background-size: auto;\n",
       "            }\n",
       "            .progress-bar-interrupted, .progress-bar-interrupted::-webkit-progress-bar {\n",
       "                background: #F44336;\n",
       "            }\n",
       "        </style>\n",
       "      <progress value='0' class='' max='1', style='width:300px; height:20px; vertical-align: middle;'></progress>\n",
       "      0.00% [0/1 00:00<00:00]\n",
       "    </div>\n",
       "    \n",
       "<table border=\"1\" class=\"dataframe\">\n",
       "  <thead>\n",
       "    <tr style=\"text-align: left;\">\n",
       "      <th>epoch</th>\n",
       "      <th>train_loss</th>\n",
       "      <th>valid_loss</th>\n",
       "      <th>accuracy</th>\n",
       "      <th>time</th>\n",
       "    </tr>\n",
       "  </thead>\n",
       "  <tbody>\n",
       "  </tbody>\n",
       "</table><p>\n",
       "\n",
       "    <div>\n",
       "        <style>\n",
       "            /* Turns off some styling */\n",
       "            progress {\n",
       "                /* gets rid of default border in Firefox and Opera. */\n",
       "                border: none;\n",
       "                /* Needs to be in here for Safari polyfill so background images work as expected. */\n",
       "                background-size: auto;\n",
       "            }\n",
       "            .progress-bar-interrupted, .progress-bar-interrupted::-webkit-progress-bar {\n",
       "                background: #F44336;\n",
       "            }\n",
       "        </style>\n",
       "      <progress value='99' class='' max='154', style='width:300px; height:20px; vertical-align: middle;'></progress>\n",
       "      64.29% [99/154 09:21<05:11 10.4315]\n",
       "    </div>\n",
       "    "
      ],
      "text/plain": [
       "<IPython.core.display.HTML object>"
      ]
     },
     "metadata": {},
     "output_type": "display_data"
    },
    {
     "name": "stdout",
     "output_type": "stream",
     "text": [
      "LR Finder is complete, type {learner_name}.recorder.plot() to see the graph.\n",
      "Min numerical gradient: 3.31E-02\n",
      "Min loss divided by 10: 3.02E-02\n"
     ]
    },
    {
     "data": {
      "image/png": "[encoded data removed]",
      "text/plain": [
       "<Figure size 432x288 with 1 Axes>"
      ]
     },
     "metadata": {
      "needs_background": "light"
     },
     "output_type": "display_data"
    }
   ],
   "source": [
    "learn.lr_find()\n",
    "learn.recorder.plot(suggestion=True)\n",
    "min_lr = learn.recorder.min_grad_lr"
   ]
  },
  {
   "cell_type": "code",
   "execution_count": null,
   "metadata": {
    "colab": {},
    "colab_type": "code",
    "id": "b6YtLSBKHqSa"
   },
   "outputs": [
    {
     "data": {
      "text/html": [
       "\n",
       "    <div>\n",
       "        <style>\n",
       "            /* Turns off some styling */\n",
       "            progress {\n",
       "                /* gets rid of default border in Firefox and Opera. */\n",
       "                border: none;\n",
       "                /* Needs to be in here for Safari polyfill so background images work as expected. */\n",
       "                background-size: auto;\n",
       "            }\n",
       "            .progress-bar-interrupted, .progress-bar-interrupted::-webkit-progress-bar {\n",
       "                background: #F44336;\n",
       "            }\n",
       "        </style>\n",
       "      <progress value='0' class='' max='1', style='width:300px; height:20px; vertical-align: middle;'></progress>\n",
       "      0.00% [0/1 00:00<00:00]\n",
       "    </div>\n",
       "    \n",
       "<table border=\"1\" class=\"dataframe\">\n",
       "  <thead>\n",
       "    <tr style=\"text-align: left;\">\n",
       "      <th>epoch</th>\n",
       "      <th>train_loss</th>\n",
       "      <th>valid_loss</th>\n",
       "      <th>accuracy</th>\n",
       "      <th>time</th>\n",
       "    </tr>\n",
       "  </thead>\n",
       "  <tbody>\n",
       "  </tbody>\n",
       "</table><p>\n",
       "\n",
       "    <div>\n",
       "        <style>\n",
       "            /* Turns off some styling */\n",
       "            progress {\n",
       "                /* gets rid of default border in Firefox and Opera. */\n",
       "                border: none;\n",
       "                /* Needs to be in here for Safari polyfill so background images work as expected. */\n",
       "                background-size: auto;\n",
       "            }\n",
       "            .progress-bar-interrupted, .progress-bar-interrupted::-webkit-progress-bar {\n",
       "                background: #F44336;\n",
       "            }\n",
       "        </style>\n",
       "      <progress value='1' class='' max='154', style='width:300px; height:20px; vertical-align: middle;'></progress>\n",
       "      0.65% [1/154 00:05<15:16 5.7086]\n",
       "    </div>\n",
       "    "
      ],
      "text/plain": [
       "<IPython.core.display.HTML object>"
      ]
     },
     "metadata": {},
     "output_type": "display_data"
    }
   ],
   "source": [
    "learn.fit_one_cycle(1, min_lr, moms=(0.8,0.7))"
   ]
  },
  {
   "cell_type": "code",
   "execution_count": 0,
   "metadata": {
    "colab": {},
    "colab_type": "code",
    "id": "s678YJg7HzeN"
   },
   "outputs": [],
   "source": [
    "learn.unfreeze()\n",
    "learn.lr_find()\n",
    "learn.recorder.plot(suggestion=True)\n",
    "min_lr = learn.recorder.min_grad_lr"
   ]
  },
  {
   "cell_type": "code",
   "execution_count": 0,
   "metadata": {
    "colab": {},
    "colab_type": "code",
    "id": "BdQVlN2aH4eW"
   },
   "outputs": [],
   "source": [
    "learn.fit_one_cycle(5, min_lr, moms=(0.8,0.7)) \n"
   ]
  },
  {
   "cell_type": "code",
   "execution_count": 0,
   "metadata": {
    "colab": {},
    "colab_type": "code",
    "id": "R_uC6dXRH99A"
   },
   "outputs": [],
   "source": [
    "learn.save_encoder('fine_tuned_enc')"
   ]
  },
  {
   "cell_type": "code",
   "execution_count": 0,
   "metadata": {
    "colab": {},
    "colab_type": "code",
    "id": "GP360HjEIFhq"
   },
   "outputs": [],
   "source": []
  }
 ],
 "metadata": {
  "accelerator": "GPU",
  "colab": {
   "collapsed_sections": [],
   "name": "Untitled0.ipynb",
   "provenance": []
  },
  "kernelspec": {
   "display_name": "ath",
   "language": "python",
   "name": "ath"
  },
  "language_info": {
   "codemirror_mode": {
    "name": "ipython",
    "version": 3
   },
   "file_extension": ".py",
   "mimetype": "text/x-python",
   "name": "python",
   "nbconvert_exporter": "python",
   "pygments_lexer": "ipython3",
   "version": "3.7.6"
  }
 },
 "nbformat": 4,
 "nbformat_minor": 1
}
