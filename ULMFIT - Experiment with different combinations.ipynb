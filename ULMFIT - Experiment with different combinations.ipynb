{
 "cells": [
  {
   "cell_type": "code",
   "execution_count": 1,
   "metadata": {},
   "outputs": [],
   "source": [
    "import fastai\n",
    "from fastai import *\n",
    "from fastai.text import * \n",
    "from fastai.text.models import *\n",
    "import pandas as pd\n",
    "import numpy as np\n",
    "from sklearn.model_selection import train_test_split\n",
    "from sklearn.metrics import classification_report\n",
    "import pandas as pd\n",
    "from sklearn.metrics import confusion_matrix, accuracy_score\n",
    "import swifter\n",
    "import nltk\n",
    "from nltk.corpus import stopwords\n",
    "import re \n",
    "from bs4 import BeautifulSoup\n",
    "\n",
    "from nltk.stem.snowball import SnowballStemmer"
   ]
  },
  {
   "cell_type": "code",
   "execution_count": 2,
   "metadata": {},
   "outputs": [],
   "source": [
    "stops={}"
   ]
  },
  {
   "cell_type": "code",
   "execution_count": 3,
   "metadata": {},
   "outputs": [],
   "source": [
    "#PREPROCEESING THE TEXT\n",
    "\n",
    "def text_preprocessing(text, language, minWordSize):\n",
    "    \n",
    "    # remove html\n",
    "    text_html = BeautifulSoup(text,\"html.parser\" ).get_text()\n",
    "    \n",
    "    # remove non-letters\n",
    "    text_non_letters = re.sub(\"[^a-zA-Z']\", \" \", text_html) \n",
    "        \n",
    "    # convert to lower-case\n",
    "    text_lower = text_non_letters.lower()\n",
    "    \n",
    "    # remove stop words\n",
    "    text_no_stop_words = ' '\n",
    "    for w in text_lower.split():\n",
    "        if w not in stops:  \n",
    "            text_no_stop_words = text_no_stop_words + w + ' '  \n",
    "    \n",
    "    # do stemming\n",
    "    text_stemmer = ' '\n",
    "    stemmer = SnowballStemmer(language)\n",
    "    for w in text_no_stop_words.split():\n",
    "        text_stemmer = text_stemmer + stemmer.stem(w) + ' '\n",
    "         \n",
    "    # remove short words\n",
    "    text_no_short_words = ' '\n",
    "    for w in text_stemmer.split(): \n",
    "        if len(w) >=minWordSize:\n",
    "            text_no_short_words = text_no_short_words + w + ' '\n",
    "    return text_no_short_words"
   ]
  },
  {
   "cell_type": "code",
   "execution_count": 4,
   "metadata": {},
   "outputs": [],
   "source": [
    "#PREPROCEESING THE TEXT\n",
    "\n",
    "def text_preprocessing_simple(text, language, minWordSize):\n",
    "    \n",
    "    # remove html\n",
    "    text_html = BeautifulSoup(text,\"html.parser\" ).get_text()\n",
    "    \n",
    "    # remove non-letters\n",
    "    text_non_letters = re.sub(\"[^a-zA-Z']\", \" \", text_html) \n",
    "        \n",
    "    # convert to lower-case\n",
    "    text_lower = text_non_letters.lower()\n",
    "    return text_lower"
   ]
  },
  {
   "cell_type": "code",
   "execution_count": 5,
   "metadata": {},
   "outputs": [],
   "source": [
    "def change_ratings(x):\n",
    "    if x in [0, 1,2]:\n",
    "        return -1\n",
    "    elif x == 3:\n",
    "        return 0\n",
    "    else:\n",
    "        return 1"
   ]
  },
  {
   "cell_type": "code",
   "execution_count": 6,
   "metadata": {},
   "outputs": [],
   "source": [
    "def get_old_data():\n",
    "    #load and prepare old data\n",
    "    df_reviews = pd.read_csv('Input_data/Old_data_reviews.csv',sep=',',quotechar='\"' ) #contains the reviews from Facebook and Tripadvisor\n",
    "    df_cat_labels = pd.read_csv('Input_data/Old_data_categorisation_labels.csv',sep=',',quotechar='\"') # contains the classlabels of the reviews\n",
    "    df_merged_data = pd.merge(df_cat_labels,df_reviews,how='left',left_on='review_id',right_on='id')\n",
    "\n",
    "    # Drop unnecessary columns\n",
    "    df_merged_data = df_merged_data.drop(['labeler_id', 'post_type', 'datetime_posted','likes', 'traveler_type',\n",
    "                        'rating_food','rating_service', 'rating_environment', 'rating_value',\n",
    "                         'reviewer_id','source_subject_id','id_x','review_id','id_y','source'],axis=1)\n",
    "\n",
    "    #select english reviews\n",
    "    olddata =  df_merged_data.loc[df_merged_data['language'] == 'en']\n",
    "    olddata['sentiment'] = olddata['rating'].apply(change_ratings)\n",
    "    reviews_old = olddata['text'].values\n",
    "    sentiment_old=olddata['sentiment'].values\n",
    "    return reviews_old, sentiment_old"
   ]
  },
  {
   "cell_type": "code",
   "execution_count": 7,
   "metadata": {},
   "outputs": [],
   "source": [
    "def get_new_data():\n",
    "    #load and prepare new data\n",
    "    newdata=pd.read_csv('Input_data/New_data.csv')\n",
    "    #Split category column \n",
    "    newdata['category']=newdata['Categories'].apply(lambda x:x.split(';'))\n",
    "\n",
    "    def category_includer(data,string):    \n",
    "        for i in range(len(data)):\n",
    "            data.loc[i,string]=0\n",
    "            column=list(data.loc[i,'category'])\n",
    "            if string in column:\n",
    "                data.loc[i,string]=1\n",
    "        return data\n",
    "\n",
    "    newdata=category_includer(newdata,'experience')\n",
    "    newdata=category_includer(newdata,'service')\n",
    "    newdata=category_includer(newdata,'consistency')\n",
    "    newdata=category_includer(newdata,'value')\n",
    "    newdata=category_includer(newdata,'food')\n",
    "    newdata=category_includer(newdata,'convenience')\n",
    "\n",
    "    #dropping the two columns and filter only English\n",
    "    newdata=newdata.drop(['Categories','category'],axis=1)\n",
    "    newdata=newdata[newdata['Language']==\"eng\"]\n",
    "    reviews_new= newdata['Text'].values\n",
    "    sentiment_new = newdata['Sentiment'].values\n",
    "\n",
    "    return reviews_new, sentiment_new"
   ]
  },
  {
   "cell_type": "code",
   "execution_count": 8,
   "metadata": {},
   "outputs": [],
   "source": [
    "def get_all_data():\n",
    "    reviews_old, sentiment_old = get_old_data()\n",
    "    reviews_new, sentiment_new = get_new_data()\n",
    "    reviews = list(reviews_old) + list(reviews_new)\n",
    "    sentiment = list(sentiment_old) + list(sentiment_new)\n",
    "    return reviews, sentiment"
   ]
  },
  {
   "cell_type": "code",
   "execution_count": 9,
   "metadata": {},
   "outputs": [],
   "source": [
    "def run_preprocessing(preprocess_fn, reviews_train, reviews_test, language, minWordLength):\n",
    "    for i in range(len(reviews_train)):\n",
    "        reviews_train[i] = preprocess_fn(reviews_train[i], language, minWordLength)\n",
    "    for i in range(len(reviews_test)):\n",
    "        reviews_test[i] = preprocess_fn(reviews_test[i], language, minWordLength)"
   ]
  },
  {
   "cell_type": "code",
   "execution_count": 10,
   "metadata": {},
   "outputs": [],
   "source": [
    "def preprocess_data(type_data=\"all\", preprocessing=\"all\"):\n",
    "    #Get data\n",
    "    if type_data == \"all\":\n",
    "        reviews, sentiments = get_all_data()\n",
    "    elif type_data == \"old\":\n",
    "        reviews, sentiments = get_old_data()\n",
    "    else:\n",
    "        reviews, sentiments = get_new_data()\n",
    "\n",
    "    #test train split\n",
    "    reviews_train, reviews_test, sentiment_train, sentiment_test = train_test_split(reviews, sentiments, test_size=0.2,random_state=0,stratify=sentiments)\n",
    "\n",
    "    #bag of words\n",
    "    language = 'english'\n",
    "    minWordLength = 2 # shorter words will be removed\n",
    "    \n",
    "    if preprocessing ==\"all\":\n",
    "        run_preprocessing(text_preprocessing, reviews_train, reviews_test, language, minWordLength)\n",
    "    else:\n",
    "        run_preprocessing(text_preprocessing_simple, reviews_train, reviews_test, language, minWordLength)\n",
    "    return reviews_train, reviews_test, sentiment_train, sentiment_test\n"
   ]
  },
  {
   "cell_type": "code",
   "execution_count": 48,
   "metadata": {},
   "outputs": [],
   "source": [
    "def train_model(type_data=\"all\", preprocessing=\"all\"):\n",
    "    reviews_train, reviews_test, sentiment_train, sentiment_test = preprocess_data(type_data, preprocessing)\n",
    "    reviews_new, sentiments_new = get_new_data()\n",
    "    newdata = pd.DataFrame(list(zip(reviews_new, sentiments_new)), columns=['text', 'labels'])\n",
    "    # Create language databunch\n",
    "    data_lm = TextLMDataBunch.from_df(train_df = pd.DataFrame({'text': reviews_train, 'labels': sentiment_train}), \n",
    "                                      valid_df = pd.DataFrame({'text': reviews_test, 'labels':sentiment_test}), \n",
    "                                      path = \"\",\n",
    "                                     text_cols=0,\n",
    "                                     label_cols=1)\n",
    "\n",
    "    # Create classifier databunch\n",
    "    data_clas = TextClasDataBunch.from_df(path = \"\", \n",
    "                                          train_df = pd.DataFrame({'text': reviews_train, 'labels': sentiment_train}),\n",
    "                                          valid_df = pd.DataFrame({'text': reviews_test, 'labels': sentiment_test}), \n",
    "                                          vocab=data_lm.train_ds.vocab, bs=16,\n",
    "                                         text_cols=0,\n",
    "                                     label_cols=1)\n",
    "    learn = language_model_learner(data_lm, AWD_LSTM, pretrained=True, drop_mult=0.3)\n",
    "    learn.fit_one_cycle(1, 1e-2)\n",
    "    learn.unfreeze()\n",
    "    learn.fit_one_cycle(5, 1e-3, moms=(0.8,0.7))\n",
    "    learn.save_encoder('fine_tuned_enc')\n",
    "    learn = text_classifier_learner(data_clas, AWD_LSTM,drop_mult=0.2);\n",
    "    learn.load_encoder('fine_tuned_enc')\n",
    "    learn.fit_one_cycle(1, 2e-2, moms=(0.8,0.7))\n",
    "    learn.freeze_to(-2)\n",
    "    learn.fit_one_cycle(1, slice(1e-2/(2.6**4),1e-2), moms=(0.8,0.7))\n",
    "    learn.freeze_to(-3)\n",
    "    learn.fit_one_cycle(1, slice(5e-3/(2.6**4),5e-3), moms=(0.8,0.7))\n",
    "    learn.unfreeze()\n",
    "    learn.fit_one_cycle(10, slice(1e-3/(2.6**4),1e-3), moms=(0.8,0.7))\n",
    "\n",
    "    preds, targets = learn.get_preds()\n",
    "    predictions = np.argmax(preds, axis = 1)\n",
    "    \n",
    "    accuracy_matrix=pd.crosstab(predictions, targets)\n",
    "    accuracy_matrix2=accuracy_matrix.copy()\n",
    "    accuracy_matrix2=accuracy_matrix2.rename(columns={0:-1,1:0,2:1})\n",
    "    accuracy_matrix2=accuracy_matrix2.rename(index={0: -1, 1:0, 2: 1})\n",
    "    accuracy_matrix2 = accuracy_matrix2.T\n",
    "    \n",
    "    precision_minus_1=accuracy_matrix[0][0]/accuracy_matrix.sum(1)[0]\n",
    "    precision_0 = accuracy_matrix[1][1]/accuracy_matrix.sum(1)[1]\n",
    "    precision_1 = accuracy_matrix[2][2]/accuracy_matrix.sum(1)[2]\n",
    "    precision=[precision_minus_1,precision_0,precision_1]\n",
    "    recall_minus_1 = accuracy_matrix[0][0]/accuracy_matrix.sum(0)[0]\n",
    "    recall_0 = accuracy_matrix[1][1]/accuracy_matrix.sum(0)[1]\n",
    "    recall_1 = accuracy_matrix[2][2]/accuracy_matrix.sum(0)[2]\n",
    "    recall=[recall_minus_1,recall_0,recall_1]\n",
    "    weighted_precision = (precision[0]*accuracy_matrix.sum(0)[0]+ precision[1]*accuracy_matrix.sum(0)[1]+ precision[2]*accuracy_matrix.sum(0)[2])/sum(accuracy_matrix.sum(0))\n",
    "    weighted_recall = (recall[0]*accuracy_matrix.sum(1)[0]+ recall[1]*accuracy_matrix.sum(1)[1]+ recall[2]*accuracy_matrix.sum(1)[2])/sum(accuracy_matrix.sum(1))\n",
    "    learn.export('train_'+ type_data + '_preprocess_' + preprocessing + '_ulmfit.pkl');\n",
    "    \n",
    "    newdata['pred'] = newdata['text'].apply(lambda txt: str(learn.predict(txt)[0]))\n",
    "    \n",
    "    accuracy_matrix_test = pd.crosstab(newdata.pred,newdata.labels)\n",
    "    accuracy_matrix_test=accuracy_matrix_test.rename(columns={-1:0,0:1,1:2})\n",
    "    accuracy_matrix_test=accuracy_matrix_test.rename(index={-1:0,0:1,1:2})\n",
    "\n",
    "    precision_minus_1=accuracy_matrix_test[0][0]/accuracy_matrix_test.sum(1)[0]\n",
    "    precision_0 = accuracy_matrix_test[1][1]/accuracy_matrix_test.sum(1)[1]\n",
    "    precision_1 = accuracy_matrix_test[2][2]/accuracy_matrix_test.sum(1)[2]\n",
    "    precision=[precision_minus_1,precision_0,precision_1]\n",
    "    recall_minus_1 = accuracy_matrix_test[0][0]/accuracy_matrix_test.sum(0)[0]\n",
    "    recall_0 = accuracy_matrix_test[1][1]/accuracy_matrix_test.sum(0)[1]\n",
    "    recall_1 = accuracy_matrix_test[2][2]/accuracy_matrix_test.sum(0)[2]\n",
    "    recall=[recall_minus_1,recall_0,recall_1]\n",
    "    weighted_precision_test = (precision[0]*accuracy_matrix_test.sum(0)[0]+ precision[1]*accuracy_matrix_test.sum(0)[1]+ precision[2]*accuracy_matrix_test.sum(0)[2])/sum(accuracy_matrix_test.sum(0))\n",
    "    weighted_recall_test = (recall[0]*accuracy_matrix_test.sum(1)[0]+ recall[1]*accuracy_matrix_test.sum(1)[1]+ recall[2]*accuracy_matrix_test.sum(1)[2])/sum(accuracy_matrix_test.sum(1))\n",
    "    \n",
    "    return learn, accuracy_matrix, weighted_precision, weighted_recall, accuracy_matrix_test, weighted_precision_test, weighted_recall_test"
   ]
  },
  {
   "cell_type": "markdown",
   "metadata": {},
   "source": [
    "## New Data for training, No stemming"
   ]
  },
  {
   "cell_type": "code",
   "execution_count": 49,
   "metadata": {},
   "outputs": [
    {
     "name": "stderr",
     "output_type": "stream",
     "text": [
      "/home/arul/anaconda3/envs/ath/lib/python3.7/site-packages/bs4/__init__.py:389: UserWarning: \"https://www.valkyriestudios.be\" looks like a URL. Beautiful Soup is not an HTTP client. You should probably use an HTTP client like requests to get the document behind the URL, and feed that document to Beautiful Soup.\n",
      "  ' that document to Beautiful Soup.' % decoded_markup\n"
     ]
    },
    {
     "data": {
      "text/html": [],
      "text/plain": [
       "<IPython.core.display.HTML object>"
      ]
     },
     "metadata": {},
     "output_type": "display_data"
    },
    {
     "data": {
      "text/html": [],
      "text/plain": [
       "<IPython.core.display.HTML object>"
      ]
     },
     "metadata": {},
     "output_type": "display_data"
    },
    {
     "data": {
      "text/html": [],
      "text/plain": [
       "<IPython.core.display.HTML object>"
      ]
     },
     "metadata": {},
     "output_type": "display_data"
    },
    {
     "data": {
      "text/html": [],
      "text/plain": [
       "<IPython.core.display.HTML object>"
      ]
     },
     "metadata": {},
     "output_type": "display_data"
    },
    {
     "data": {
      "text/html": [
       "<table border=\"1\" class=\"dataframe\">\n",
       "  <thead>\n",
       "    <tr style=\"text-align: left;\">\n",
       "      <th>epoch</th>\n",
       "      <th>train_loss</th>\n",
       "      <th>valid_loss</th>\n",
       "      <th>accuracy</th>\n",
       "      <th>time</th>\n",
       "    </tr>\n",
       "  </thead>\n",
       "  <tbody>\n",
       "    <tr>\n",
       "      <td>0</td>\n",
       "      <td>5.303167</td>\n",
       "      <td>4.729417</td>\n",
       "      <td>0.176644</td>\n",
       "      <td>00:08</td>\n",
       "    </tr>\n",
       "  </tbody>\n",
       "</table>"
      ],
      "text/plain": [
       "<IPython.core.display.HTML object>"
      ]
     },
     "metadata": {},
     "output_type": "display_data"
    },
    {
     "data": {
      "text/html": [
       "<table border=\"1\" class=\"dataframe\">\n",
       "  <thead>\n",
       "    <tr style=\"text-align: left;\">\n",
       "      <th>epoch</th>\n",
       "      <th>train_loss</th>\n",
       "      <th>valid_loss</th>\n",
       "      <th>accuracy</th>\n",
       "      <th>time</th>\n",
       "    </tr>\n",
       "  </thead>\n",
       "  <tbody>\n",
       "    <tr>\n",
       "      <td>0</td>\n",
       "      <td>4.690261</td>\n",
       "      <td>4.484616</td>\n",
       "      <td>0.208807</td>\n",
       "      <td>00:09</td>\n",
       "    </tr>\n",
       "    <tr>\n",
       "      <td>1</td>\n",
       "      <td>4.494267</td>\n",
       "      <td>4.288888</td>\n",
       "      <td>0.227841</td>\n",
       "      <td>00:09</td>\n",
       "    </tr>\n",
       "    <tr>\n",
       "      <td>2</td>\n",
       "      <td>4.283785</td>\n",
       "      <td>4.206264</td>\n",
       "      <td>0.238413</td>\n",
       "      <td>00:09</td>\n",
       "    </tr>\n",
       "    <tr>\n",
       "      <td>3</td>\n",
       "      <td>4.093012</td>\n",
       "      <td>4.177383</td>\n",
       "      <td>0.241680</td>\n",
       "      <td>00:09</td>\n",
       "    </tr>\n",
       "    <tr>\n",
       "      <td>4</td>\n",
       "      <td>3.955849</td>\n",
       "      <td>4.177590</td>\n",
       "      <td>0.241985</td>\n",
       "      <td>00:09</td>\n",
       "    </tr>\n",
       "  </tbody>\n",
       "</table>"
      ],
      "text/plain": [
       "<IPython.core.display.HTML object>"
      ]
     },
     "metadata": {},
     "output_type": "display_data"
    },
    {
     "data": {
      "text/html": [
       "<table border=\"1\" class=\"dataframe\">\n",
       "  <thead>\n",
       "    <tr style=\"text-align: left;\">\n",
       "      <th>epoch</th>\n",
       "      <th>train_loss</th>\n",
       "      <th>valid_loss</th>\n",
       "      <th>accuracy</th>\n",
       "      <th>time</th>\n",
       "    </tr>\n",
       "  </thead>\n",
       "  <tbody>\n",
       "    <tr>\n",
       "      <td>0</td>\n",
       "      <td>0.441748</td>\n",
       "      <td>0.381253</td>\n",
       "      <td>0.865112</td>\n",
       "      <td>00:35</td>\n",
       "    </tr>\n",
       "  </tbody>\n",
       "</table>"
      ],
      "text/plain": [
       "<IPython.core.display.HTML object>"
      ]
     },
     "metadata": {},
     "output_type": "display_data"
    },
    {
     "data": {
      "text/html": [
       "<table border=\"1\" class=\"dataframe\">\n",
       "  <thead>\n",
       "    <tr style=\"text-align: left;\">\n",
       "      <th>epoch</th>\n",
       "      <th>train_loss</th>\n",
       "      <th>valid_loss</th>\n",
       "      <th>accuracy</th>\n",
       "      <th>time</th>\n",
       "    </tr>\n",
       "  </thead>\n",
       "  <tbody>\n",
       "    <tr>\n",
       "      <td>0</td>\n",
       "      <td>0.410132</td>\n",
       "      <td>0.339771</td>\n",
       "      <td>0.878296</td>\n",
       "      <td>00:35</td>\n",
       "    </tr>\n",
       "  </tbody>\n",
       "</table>"
      ],
      "text/plain": [
       "<IPython.core.display.HTML object>"
      ]
     },
     "metadata": {},
     "output_type": "display_data"
    },
    {
     "data": {
      "text/html": [
       "<table border=\"1\" class=\"dataframe\">\n",
       "  <thead>\n",
       "    <tr style=\"text-align: left;\">\n",
       "      <th>epoch</th>\n",
       "      <th>train_loss</th>\n",
       "      <th>valid_loss</th>\n",
       "      <th>accuracy</th>\n",
       "      <th>time</th>\n",
       "    </tr>\n",
       "  </thead>\n",
       "  <tbody>\n",
       "    <tr>\n",
       "      <td>0</td>\n",
       "      <td>0.382360</td>\n",
       "      <td>0.306028</td>\n",
       "      <td>0.896552</td>\n",
       "      <td>00:36</td>\n",
       "    </tr>\n",
       "  </tbody>\n",
       "</table>"
      ],
      "text/plain": [
       "<IPython.core.display.HTML object>"
      ]
     },
     "metadata": {},
     "output_type": "display_data"
    },
    {
     "data": {
      "text/html": [
       "<table border=\"1\" class=\"dataframe\">\n",
       "  <thead>\n",
       "    <tr style=\"text-align: left;\">\n",
       "      <th>epoch</th>\n",
       "      <th>train_loss</th>\n",
       "      <th>valid_loss</th>\n",
       "      <th>accuracy</th>\n",
       "      <th>time</th>\n",
       "    </tr>\n",
       "  </thead>\n",
       "  <tbody>\n",
       "    <tr>\n",
       "      <td>0</td>\n",
       "      <td>0.245521</td>\n",
       "      <td>0.293865</td>\n",
       "      <td>0.891481</td>\n",
       "      <td>00:40</td>\n",
       "    </tr>\n",
       "    <tr>\n",
       "      <td>1</td>\n",
       "      <td>0.228332</td>\n",
       "      <td>0.283576</td>\n",
       "      <td>0.901623</td>\n",
       "      <td>00:44</td>\n",
       "    </tr>\n",
       "    <tr>\n",
       "      <td>2</td>\n",
       "      <td>0.244146</td>\n",
       "      <td>0.290463</td>\n",
       "      <td>0.902637</td>\n",
       "      <td>00:36</td>\n",
       "    </tr>\n",
       "    <tr>\n",
       "      <td>3</td>\n",
       "      <td>0.173300</td>\n",
       "      <td>0.304525</td>\n",
       "      <td>0.900609</td>\n",
       "      <td>00:43</td>\n",
       "    </tr>\n",
       "    <tr>\n",
       "      <td>4</td>\n",
       "      <td>0.097057</td>\n",
       "      <td>0.303391</td>\n",
       "      <td>0.896552</td>\n",
       "      <td>00:42</td>\n",
       "    </tr>\n",
       "    <tr>\n",
       "      <td>5</td>\n",
       "      <td>0.080853</td>\n",
       "      <td>0.338199</td>\n",
       "      <td>0.902637</td>\n",
       "      <td>00:43</td>\n",
       "    </tr>\n",
       "    <tr>\n",
       "      <td>6</td>\n",
       "      <td>0.088923</td>\n",
       "      <td>0.345449</td>\n",
       "      <td>0.896552</td>\n",
       "      <td>00:39</td>\n",
       "    </tr>\n",
       "    <tr>\n",
       "      <td>7</td>\n",
       "      <td>0.061048</td>\n",
       "      <td>0.333379</td>\n",
       "      <td>0.907708</td>\n",
       "      <td>00:44</td>\n",
       "    </tr>\n",
       "    <tr>\n",
       "      <td>8</td>\n",
       "      <td>0.040892</td>\n",
       "      <td>0.338750</td>\n",
       "      <td>0.900609</td>\n",
       "      <td>00:41</td>\n",
       "    </tr>\n",
       "    <tr>\n",
       "      <td>9</td>\n",
       "      <td>0.050820</td>\n",
       "      <td>0.355306</td>\n",
       "      <td>0.900609</td>\n",
       "      <td>00:41</td>\n",
       "    </tr>\n",
       "  </tbody>\n",
       "</table>"
      ],
      "text/plain": [
       "<IPython.core.display.HTML object>"
      ]
     },
     "metadata": {},
     "output_type": "display_data"
    },
    {
     "data": {
      "text/html": [],
      "text/plain": [
       "<IPython.core.display.HTML object>"
      ]
     },
     "metadata": {},
     "output_type": "display_data"
    },
    {
     "name": "stdout",
     "output_type": "stream",
     "text": [
      "New, Simple\n",
      "col_0    0   1    2\n",
      "row_0              \n",
      "0      139  13   10\n",
      "1        3  16    6\n",
      "2       35  31  733\n",
      "Validation Dataset\n",
      "Weighted Precision 0.8898585528131335\n",
      "Weighted Reccall 0.9288224288661263\n",
      "Test Dataset\n",
      "labels    0    1     2\n",
      "pred                  \n",
      "-1      725   46   115\n",
      "0        88  160    99\n",
      "1        70   96  3531\n",
      "Weighted Precison Test 0.9003327801552753\n",
      "Weighted Recall Test 0.8918959655990852\n"
     ]
    }
   ],
   "source": [
    "learn, accuracy_matrix, weighted_precision, weighted_recall, accuracy_matrix_test, weighted_precision_test, weighted_recall_test=train_model(\"new\", \"simple\")\n",
    "print(\"New, Simple\")\n",
    "print(accuracy_matrix)\n",
    "print(\"Validation Dataset\")\n",
    "print(\"Weighted Precision\",weighted_precision)\n",
    "print(\"Weighted Reccall\", weighted_recall)\n",
    "print(\"Test Dataset\")\n",
    "print(accuracy_matrix_test)\n",
    "print(\"Weighted Precison Test\",  weighted_precision_test)\n",
    "print(\"Weighted Recall Test\", weighted_recall_test)"
   ]
  },
  {
   "cell_type": "markdown",
   "metadata": {},
   "source": [
    "## New data for training, with stemming"
   ]
  },
  {
   "cell_type": "code",
   "execution_count": 50,
   "metadata": {},
   "outputs": [
    {
     "name": "stderr",
     "output_type": "stream",
     "text": [
      "/home/arul/anaconda3/envs/ath/lib/python3.7/site-packages/bs4/__init__.py:389: UserWarning: \"https://www.valkyriestudios.be\" looks like a URL. Beautiful Soup is not an HTTP client. You should probably use an HTTP client like requests to get the document behind the URL, and feed that document to Beautiful Soup.\n",
      "  ' that document to Beautiful Soup.' % decoded_markup\n"
     ]
    },
    {
     "data": {
      "text/html": [],
      "text/plain": [
       "<IPython.core.display.HTML object>"
      ]
     },
     "metadata": {},
     "output_type": "display_data"
    },
    {
     "data": {
      "text/html": [],
      "text/plain": [
       "<IPython.core.display.HTML object>"
      ]
     },
     "metadata": {},
     "output_type": "display_data"
    },
    {
     "data": {
      "text/html": [],
      "text/plain": [
       "<IPython.core.display.HTML object>"
      ]
     },
     "metadata": {},
     "output_type": "display_data"
    },
    {
     "data": {
      "text/html": [],
      "text/plain": [
       "<IPython.core.display.HTML object>"
      ]
     },
     "metadata": {},
     "output_type": "display_data"
    },
    {
     "data": {
      "text/html": [
       "<table border=\"1\" class=\"dataframe\">\n",
       "  <thead>\n",
       "    <tr style=\"text-align: left;\">\n",
       "      <th>epoch</th>\n",
       "      <th>train_loss</th>\n",
       "      <th>valid_loss</th>\n",
       "      <th>accuracy</th>\n",
       "      <th>time</th>\n",
       "    </tr>\n",
       "  </thead>\n",
       "  <tbody>\n",
       "    <tr>\n",
       "      <td>0</td>\n",
       "      <td>5.908585</td>\n",
       "      <td>5.147351</td>\n",
       "      <td>0.151875</td>\n",
       "      <td>00:08</td>\n",
       "    </tr>\n",
       "  </tbody>\n",
       "</table>"
      ],
      "text/plain": [
       "<IPython.core.display.HTML object>"
      ]
     },
     "metadata": {},
     "output_type": "display_data"
    },
    {
     "data": {
      "text/html": [
       "<table border=\"1\" class=\"dataframe\">\n",
       "  <thead>\n",
       "    <tr style=\"text-align: left;\">\n",
       "      <th>epoch</th>\n",
       "      <th>train_loss</th>\n",
       "      <th>valid_loss</th>\n",
       "      <th>accuracy</th>\n",
       "      <th>time</th>\n",
       "    </tr>\n",
       "  </thead>\n",
       "  <tbody>\n",
       "    <tr>\n",
       "      <td>0</td>\n",
       "      <td>5.097179</td>\n",
       "      <td>4.878819</td>\n",
       "      <td>0.180357</td>\n",
       "      <td>00:08</td>\n",
       "    </tr>\n",
       "    <tr>\n",
       "      <td>1</td>\n",
       "      <td>4.890745</td>\n",
       "      <td>4.643445</td>\n",
       "      <td>0.202835</td>\n",
       "      <td>00:08</td>\n",
       "    </tr>\n",
       "    <tr>\n",
       "      <td>2</td>\n",
       "      <td>4.669193</td>\n",
       "      <td>4.532998</td>\n",
       "      <td>0.215000</td>\n",
       "      <td>00:08</td>\n",
       "    </tr>\n",
       "    <tr>\n",
       "      <td>3</td>\n",
       "      <td>4.475345</td>\n",
       "      <td>4.494557</td>\n",
       "      <td>0.218371</td>\n",
       "      <td>00:08</td>\n",
       "    </tr>\n",
       "    <tr>\n",
       "      <td>4</td>\n",
       "      <td>4.336513</td>\n",
       "      <td>4.489472</td>\n",
       "      <td>0.219129</td>\n",
       "      <td>00:08</td>\n",
       "    </tr>\n",
       "  </tbody>\n",
       "</table>"
      ],
      "text/plain": [
       "<IPython.core.display.HTML object>"
      ]
     },
     "metadata": {},
     "output_type": "display_data"
    },
    {
     "data": {
      "text/html": [
       "<table border=\"1\" class=\"dataframe\">\n",
       "  <thead>\n",
       "    <tr style=\"text-align: left;\">\n",
       "      <th>epoch</th>\n",
       "      <th>train_loss</th>\n",
       "      <th>valid_loss</th>\n",
       "      <th>accuracy</th>\n",
       "      <th>time</th>\n",
       "    </tr>\n",
       "  </thead>\n",
       "  <tbody>\n",
       "    <tr>\n",
       "      <td>0</td>\n",
       "      <td>0.501210</td>\n",
       "      <td>0.397431</td>\n",
       "      <td>0.872211</td>\n",
       "      <td>00:33</td>\n",
       "    </tr>\n",
       "  </tbody>\n",
       "</table>"
      ],
      "text/plain": [
       "<IPython.core.display.HTML object>"
      ]
     },
     "metadata": {},
     "output_type": "display_data"
    },
    {
     "data": {
      "text/html": [
       "<table border=\"1\" class=\"dataframe\">\n",
       "  <thead>\n",
       "    <tr style=\"text-align: left;\">\n",
       "      <th>epoch</th>\n",
       "      <th>train_loss</th>\n",
       "      <th>valid_loss</th>\n",
       "      <th>accuracy</th>\n",
       "      <th>time</th>\n",
       "    </tr>\n",
       "  </thead>\n",
       "  <tbody>\n",
       "    <tr>\n",
       "      <td>0</td>\n",
       "      <td>0.433548</td>\n",
       "      <td>0.349709</td>\n",
       "      <td>0.879310</td>\n",
       "      <td>00:34</td>\n",
       "    </tr>\n",
       "  </tbody>\n",
       "</table>"
      ],
      "text/plain": [
       "<IPython.core.display.HTML object>"
      ]
     },
     "metadata": {},
     "output_type": "display_data"
    },
    {
     "data": {
      "text/html": [
       "<table border=\"1\" class=\"dataframe\">\n",
       "  <thead>\n",
       "    <tr style=\"text-align: left;\">\n",
       "      <th>epoch</th>\n",
       "      <th>train_loss</th>\n",
       "      <th>valid_loss</th>\n",
       "      <th>accuracy</th>\n",
       "      <th>time</th>\n",
       "    </tr>\n",
       "  </thead>\n",
       "  <tbody>\n",
       "    <tr>\n",
       "      <td>0</td>\n",
       "      <td>0.395152</td>\n",
       "      <td>0.326464</td>\n",
       "      <td>0.874239</td>\n",
       "      <td>00:34</td>\n",
       "    </tr>\n",
       "  </tbody>\n",
       "</table>"
      ],
      "text/plain": [
       "<IPython.core.display.HTML object>"
      ]
     },
     "metadata": {},
     "output_type": "display_data"
    },
    {
     "data": {
      "text/html": [
       "<table border=\"1\" class=\"dataframe\">\n",
       "  <thead>\n",
       "    <tr style=\"text-align: left;\">\n",
       "      <th>epoch</th>\n",
       "      <th>train_loss</th>\n",
       "      <th>valid_loss</th>\n",
       "      <th>accuracy</th>\n",
       "      <th>time</th>\n",
       "    </tr>\n",
       "  </thead>\n",
       "  <tbody>\n",
       "    <tr>\n",
       "      <td>0</td>\n",
       "      <td>0.276599</td>\n",
       "      <td>0.303386</td>\n",
       "      <td>0.891481</td>\n",
       "      <td>00:38</td>\n",
       "    </tr>\n",
       "    <tr>\n",
       "      <td>1</td>\n",
       "      <td>0.256259</td>\n",
       "      <td>0.293460</td>\n",
       "      <td>0.886410</td>\n",
       "      <td>00:42</td>\n",
       "    </tr>\n",
       "    <tr>\n",
       "      <td>2</td>\n",
       "      <td>0.229936</td>\n",
       "      <td>0.295933</td>\n",
       "      <td>0.896552</td>\n",
       "      <td>00:34</td>\n",
       "    </tr>\n",
       "    <tr>\n",
       "      <td>3</td>\n",
       "      <td>0.184770</td>\n",
       "      <td>0.319564</td>\n",
       "      <td>0.883367</td>\n",
       "      <td>00:41</td>\n",
       "    </tr>\n",
       "    <tr>\n",
       "      <td>4</td>\n",
       "      <td>0.121085</td>\n",
       "      <td>0.323504</td>\n",
       "      <td>0.890467</td>\n",
       "      <td>00:40</td>\n",
       "    </tr>\n",
       "    <tr>\n",
       "      <td>5</td>\n",
       "      <td>0.095024</td>\n",
       "      <td>0.347343</td>\n",
       "      <td>0.878296</td>\n",
       "      <td>00:41</td>\n",
       "    </tr>\n",
       "    <tr>\n",
       "      <td>6</td>\n",
       "      <td>0.087869</td>\n",
       "      <td>0.380421</td>\n",
       "      <td>0.882353</td>\n",
       "      <td>00:38</td>\n",
       "    </tr>\n",
       "    <tr>\n",
       "      <td>7</td>\n",
       "      <td>0.067997</td>\n",
       "      <td>0.376579</td>\n",
       "      <td>0.880325</td>\n",
       "      <td>00:42</td>\n",
       "    </tr>\n",
       "    <tr>\n",
       "      <td>8</td>\n",
       "      <td>0.047322</td>\n",
       "      <td>0.373544</td>\n",
       "      <td>0.879310</td>\n",
       "      <td>00:39</td>\n",
       "    </tr>\n",
       "    <tr>\n",
       "      <td>9</td>\n",
       "      <td>0.052153</td>\n",
       "      <td>0.393247</td>\n",
       "      <td>0.877282</td>\n",
       "      <td>00:39</td>\n",
       "    </tr>\n",
       "  </tbody>\n",
       "</table>"
      ],
      "text/plain": [
       "<IPython.core.display.HTML object>"
      ]
     },
     "metadata": {},
     "output_type": "display_data"
    },
    {
     "data": {
      "text/html": [],
      "text/plain": [
       "<IPython.core.display.HTML object>"
      ]
     },
     "metadata": {},
     "output_type": "display_data"
    },
    {
     "name": "stdout",
     "output_type": "stream",
     "text": [
      "New, Simple\n",
      "col_0    0   1    2\n",
      "row_0              \n",
      "0      132  21   17\n",
      "1        4   9    8\n",
      "2       41  30  724\n",
      "Validation Dataset\n",
      "Weighted Precision 0.8572593873555393\n",
      "Weighted Reccall 0.9111503859123793\n",
      "Test Dataset\n",
      "labels    0    1     2\n",
      "pred                  \n",
      "-1      608   60   214\n",
      "0        48   98    66\n",
      "1       227  144  3465\n",
      "Weighted Precison Test 0.8379501441945325\n",
      "Weighted Recall Test 0.857059310739877\n"
     ]
    }
   ],
   "source": [
    "learn, accuracy_matrix, weighted_precision, weighted_recall, accuracy_matrix_test, weighted_precision_test, weighted_recall_test=train_model(\"new\", \"all\")\n",
    "print(\"New, Simple\")\n",
    "print(accuracy_matrix)\n",
    "print(\"Validation Dataset\")\n",
    "print(\"Weighted Precision\",weighted_precision)\n",
    "print(\"Weighted Reccall\", weighted_recall)\n",
    "print(\"Test Dataset\")\n",
    "print(accuracy_matrix_test)\n",
    "print(\"Weighted Precison Test\",  weighted_precision_test)\n",
    "print(\"Weighted Recall Test\", weighted_recall_test)"
   ]
  },
  {
   "cell_type": "markdown",
   "metadata": {},
   "source": [
    "## Old data for training, No stemming and no stop word filters"
   ]
  },
  {
   "cell_type": "code",
   "execution_count": 51,
   "metadata": {},
   "outputs": [
    {
     "data": {
      "text/html": [],
      "text/plain": [
       "<IPython.core.display.HTML object>"
      ]
     },
     "metadata": {},
     "output_type": "display_data"
    },
    {
     "data": {
      "text/html": [],
      "text/plain": [
       "<IPython.core.display.HTML object>"
      ]
     },
     "metadata": {},
     "output_type": "display_data"
    },
    {
     "data": {
      "text/html": [],
      "text/plain": [
       "<IPython.core.display.HTML object>"
      ]
     },
     "metadata": {},
     "output_type": "display_data"
    },
    {
     "data": {
      "text/html": [],
      "text/plain": [
       "<IPython.core.display.HTML object>"
      ]
     },
     "metadata": {},
     "output_type": "display_data"
    },
    {
     "data": {
      "text/html": [
       "<table border=\"1\" class=\"dataframe\">\n",
       "  <thead>\n",
       "    <tr style=\"text-align: left;\">\n",
       "      <th>epoch</th>\n",
       "      <th>train_loss</th>\n",
       "      <th>valid_loss</th>\n",
       "      <th>accuracy</th>\n",
       "      <th>time</th>\n",
       "    </tr>\n",
       "  </thead>\n",
       "  <tbody>\n",
       "    <tr>\n",
       "      <td>0</td>\n",
       "      <td>4.675793</td>\n",
       "      <td>4.382808</td>\n",
       "      <td>0.223878</td>\n",
       "      <td>00:37</td>\n",
       "    </tr>\n",
       "  </tbody>\n",
       "</table>"
      ],
      "text/plain": [
       "<IPython.core.display.HTML object>"
      ]
     },
     "metadata": {},
     "output_type": "display_data"
    },
    {
     "data": {
      "text/html": [
       "<table border=\"1\" class=\"dataframe\">\n",
       "  <thead>\n",
       "    <tr style=\"text-align: left;\">\n",
       "      <th>epoch</th>\n",
       "      <th>train_loss</th>\n",
       "      <th>valid_loss</th>\n",
       "      <th>accuracy</th>\n",
       "      <th>time</th>\n",
       "    </tr>\n",
       "  </thead>\n",
       "  <tbody>\n",
       "    <tr>\n",
       "      <td>0</td>\n",
       "      <td>4.208443</td>\n",
       "      <td>4.181471</td>\n",
       "      <td>0.245524</td>\n",
       "      <td>00:40</td>\n",
       "    </tr>\n",
       "    <tr>\n",
       "      <td>1</td>\n",
       "      <td>3.954906</td>\n",
       "      <td>3.959342</td>\n",
       "      <td>0.270059</td>\n",
       "      <td>00:40</td>\n",
       "    </tr>\n",
       "    <tr>\n",
       "      <td>2</td>\n",
       "      <td>3.626609</td>\n",
       "      <td>3.804894</td>\n",
       "      <td>0.289895</td>\n",
       "      <td>00:40</td>\n",
       "    </tr>\n",
       "    <tr>\n",
       "      <td>3</td>\n",
       "      <td>3.369307</td>\n",
       "      <td>3.727332</td>\n",
       "      <td>0.300688</td>\n",
       "      <td>00:40</td>\n",
       "    </tr>\n",
       "    <tr>\n",
       "      <td>4</td>\n",
       "      <td>3.208462</td>\n",
       "      <td>3.713552</td>\n",
       "      <td>0.302305</td>\n",
       "      <td>00:40</td>\n",
       "    </tr>\n",
       "  </tbody>\n",
       "</table>"
      ],
      "text/plain": [
       "<IPython.core.display.HTML object>"
      ]
     },
     "metadata": {},
     "output_type": "display_data"
    },
    {
     "data": {
      "text/html": [
       "<table border=\"1\" class=\"dataframe\">\n",
       "  <thead>\n",
       "    <tr style=\"text-align: left;\">\n",
       "      <th>epoch</th>\n",
       "      <th>train_loss</th>\n",
       "      <th>valid_loss</th>\n",
       "      <th>accuracy</th>\n",
       "      <th>time</th>\n",
       "    </tr>\n",
       "  </thead>\n",
       "  <tbody>\n",
       "    <tr>\n",
       "      <td>0</td>\n",
       "      <td>0.265474</td>\n",
       "      <td>0.217008</td>\n",
       "      <td>0.918599</td>\n",
       "      <td>02:24</td>\n",
       "    </tr>\n",
       "  </tbody>\n",
       "</table>"
      ],
      "text/plain": [
       "<IPython.core.display.HTML object>"
      ]
     },
     "metadata": {},
     "output_type": "display_data"
    },
    {
     "data": {
      "text/html": [
       "<table border=\"1\" class=\"dataframe\">\n",
       "  <thead>\n",
       "    <tr style=\"text-align: left;\">\n",
       "      <th>epoch</th>\n",
       "      <th>train_loss</th>\n",
       "      <th>valid_loss</th>\n",
       "      <th>accuracy</th>\n",
       "      <th>time</th>\n",
       "    </tr>\n",
       "  </thead>\n",
       "  <tbody>\n",
       "    <tr>\n",
       "      <td>0</td>\n",
       "      <td>0.216557</td>\n",
       "      <td>0.160888</td>\n",
       "      <td>0.933892</td>\n",
       "      <td>02:27</td>\n",
       "    </tr>\n",
       "  </tbody>\n",
       "</table>"
      ],
      "text/plain": [
       "<IPython.core.display.HTML object>"
      ]
     },
     "metadata": {},
     "output_type": "display_data"
    },
    {
     "data": {
      "text/html": [
       "<table border=\"1\" class=\"dataframe\">\n",
       "  <thead>\n",
       "    <tr style=\"text-align: left;\">\n",
       "      <th>epoch</th>\n",
       "      <th>train_loss</th>\n",
       "      <th>valid_loss</th>\n",
       "      <th>accuracy</th>\n",
       "      <th>time</th>\n",
       "    </tr>\n",
       "  </thead>\n",
       "  <tbody>\n",
       "    <tr>\n",
       "      <td>0</td>\n",
       "      <td>0.135580</td>\n",
       "      <td>0.116568</td>\n",
       "      <td>0.953133</td>\n",
       "      <td>02:36</td>\n",
       "    </tr>\n",
       "  </tbody>\n",
       "</table>"
      ],
      "text/plain": [
       "<IPython.core.display.HTML object>"
      ]
     },
     "metadata": {},
     "output_type": "display_data"
    },
    {
     "data": {
      "text/html": [
       "<table border=\"1\" class=\"dataframe\">\n",
       "  <thead>\n",
       "    <tr style=\"text-align: left;\">\n",
       "      <th>epoch</th>\n",
       "      <th>train_loss</th>\n",
       "      <th>valid_loss</th>\n",
       "      <th>accuracy</th>\n",
       "      <th>time</th>\n",
       "    </tr>\n",
       "  </thead>\n",
       "  <tbody>\n",
       "    <tr>\n",
       "      <td>0</td>\n",
       "      <td>0.078720</td>\n",
       "      <td>0.110664</td>\n",
       "      <td>0.958559</td>\n",
       "      <td>02:18</td>\n",
       "    </tr>\n",
       "    <tr>\n",
       "      <td>1</td>\n",
       "      <td>0.068201</td>\n",
       "      <td>0.094161</td>\n",
       "      <td>0.968426</td>\n",
       "      <td>02:25</td>\n",
       "    </tr>\n",
       "    <tr>\n",
       "      <td>2</td>\n",
       "      <td>0.030822</td>\n",
       "      <td>0.077103</td>\n",
       "      <td>0.973853</td>\n",
       "      <td>02:08</td>\n",
       "    </tr>\n",
       "    <tr>\n",
       "      <td>3</td>\n",
       "      <td>0.019416</td>\n",
       "      <td>0.088345</td>\n",
       "      <td>0.976813</td>\n",
       "      <td>02:41</td>\n",
       "    </tr>\n",
       "    <tr>\n",
       "      <td>4</td>\n",
       "      <td>0.016053</td>\n",
       "      <td>0.093884</td>\n",
       "      <td>0.978293</td>\n",
       "      <td>02:08</td>\n",
       "    </tr>\n",
       "    <tr>\n",
       "      <td>5</td>\n",
       "      <td>0.014307</td>\n",
       "      <td>0.082120</td>\n",
       "      <td>0.980266</td>\n",
       "      <td>02:42</td>\n",
       "    </tr>\n",
       "    <tr>\n",
       "      <td>6</td>\n",
       "      <td>0.008344</td>\n",
       "      <td>0.087175</td>\n",
       "      <td>0.980266</td>\n",
       "      <td>02:30</td>\n",
       "    </tr>\n",
       "    <tr>\n",
       "      <td>7</td>\n",
       "      <td>0.008263</td>\n",
       "      <td>0.096331</td>\n",
       "      <td>0.980266</td>\n",
       "      <td>02:32</td>\n",
       "    </tr>\n",
       "    <tr>\n",
       "      <td>8</td>\n",
       "      <td>0.007604</td>\n",
       "      <td>0.093564</td>\n",
       "      <td>0.977800</td>\n",
       "      <td>02:27</td>\n",
       "    </tr>\n",
       "    <tr>\n",
       "      <td>9</td>\n",
       "      <td>0.005080</td>\n",
       "      <td>0.094680</td>\n",
       "      <td>0.979773</td>\n",
       "      <td>02:10</td>\n",
       "    </tr>\n",
       "  </tbody>\n",
       "</table>"
      ],
      "text/plain": [
       "<IPython.core.display.HTML object>"
      ]
     },
     "metadata": {},
     "output_type": "display_data"
    },
    {
     "data": {
      "text/html": [],
      "text/plain": [
       "<IPython.core.display.HTML object>"
      ]
     },
     "metadata": {},
     "output_type": "display_data"
    },
    {
     "name": "stdout",
     "output_type": "stream",
     "text": [
      "New, Simple\n",
      "col_0   0    1     2\n",
      "row_0               \n",
      "0      64    4     0\n",
      "1       6  102     1\n",
      "2       7   23  1820\n",
      "Validation Dataset\n",
      "Weighted Precision 0.9791102391888702\n",
      "Weighted Reccall 0.9825799712458549\n",
      "Test Dataset\n",
      "labels    0    1     2\n",
      "pred                  \n",
      "-1      238   30   118\n",
      "0       533  142   481\n",
      "1       112  130  3146\n",
      "Weighted Precison Test 0.82333413799613\n",
      "Weighted Recall Test 0.7086595078205956\n"
     ]
    }
   ],
   "source": [
    "learn, accuracy_matrix, weighted_precision, weighted_recall, accuracy_matrix_test, weighted_precision_test, weighted_recall_test=train_model(\"old\", \"simple\")\n",
    "print(\"New, Simple\")\n",
    "print(accuracy_matrix)\n",
    "print(\"Validation Dataset\")\n",
    "print(\"Weighted Precision\",weighted_precision)\n",
    "print(\"Weighted Reccall\", weighted_recall)\n",
    "print(\"Test Dataset\")\n",
    "print(accuracy_matrix_test)\n",
    "print(\"Weighted Precison Test\",  weighted_precision_test)\n",
    "print(\"Weighted Recall Test\", weighted_recall_test)"
   ]
  },
  {
   "cell_type": "markdown",
   "metadata": {},
   "source": [
    "## Old data for training, With stemming and stop words filter"
   ]
  },
  {
   "cell_type": "code",
   "execution_count": 52,
   "metadata": {},
   "outputs": [
    {
     "data": {
      "text/html": [],
      "text/plain": [
       "<IPython.core.display.HTML object>"
      ]
     },
     "metadata": {},
     "output_type": "display_data"
    },
    {
     "data": {
      "text/html": [],
      "text/plain": [
       "<IPython.core.display.HTML object>"
      ]
     },
     "metadata": {},
     "output_type": "display_data"
    },
    {
     "data": {
      "text/html": [],
      "text/plain": [
       "<IPython.core.display.HTML object>"
      ]
     },
     "metadata": {},
     "output_type": "display_data"
    },
    {
     "data": {
      "text/html": [],
      "text/plain": [
       "<IPython.core.display.HTML object>"
      ]
     },
     "metadata": {},
     "output_type": "display_data"
    },
    {
     "data": {
      "text/html": [
       "<table border=\"1\" class=\"dataframe\">\n",
       "  <thead>\n",
       "    <tr style=\"text-align: left;\">\n",
       "      <th>epoch</th>\n",
       "      <th>train_loss</th>\n",
       "      <th>valid_loss</th>\n",
       "      <th>accuracy</th>\n",
       "      <th>time</th>\n",
       "    </tr>\n",
       "  </thead>\n",
       "  <tbody>\n",
       "    <tr>\n",
       "      <td>0</td>\n",
       "      <td>5.021291</td>\n",
       "      <td>4.692528</td>\n",
       "      <td>0.200357</td>\n",
       "      <td>00:33</td>\n",
       "    </tr>\n",
       "  </tbody>\n",
       "</table>"
      ],
      "text/plain": [
       "<IPython.core.display.HTML object>"
      ]
     },
     "metadata": {},
     "output_type": "display_data"
    },
    {
     "data": {
      "text/html": [
       "<table border=\"1\" class=\"dataframe\">\n",
       "  <thead>\n",
       "    <tr style=\"text-align: left;\">\n",
       "      <th>epoch</th>\n",
       "      <th>train_loss</th>\n",
       "      <th>valid_loss</th>\n",
       "      <th>accuracy</th>\n",
       "      <th>time</th>\n",
       "    </tr>\n",
       "  </thead>\n",
       "  <tbody>\n",
       "    <tr>\n",
       "      <td>0</td>\n",
       "      <td>4.526930</td>\n",
       "      <td>4.475866</td>\n",
       "      <td>0.222341</td>\n",
       "      <td>00:35</td>\n",
       "    </tr>\n",
       "    <tr>\n",
       "      <td>1</td>\n",
       "      <td>4.262245</td>\n",
       "      <td>4.235905</td>\n",
       "      <td>0.246499</td>\n",
       "      <td>00:36</td>\n",
       "    </tr>\n",
       "    <tr>\n",
       "      <td>2</td>\n",
       "      <td>3.942935</td>\n",
       "      <td>4.074142</td>\n",
       "      <td>0.265344</td>\n",
       "      <td>00:36</td>\n",
       "    </tr>\n",
       "    <tr>\n",
       "      <td>3</td>\n",
       "      <td>3.682522</td>\n",
       "      <td>3.989883</td>\n",
       "      <td>0.277443</td>\n",
       "      <td>00:36</td>\n",
       "    </tr>\n",
       "    <tr>\n",
       "      <td>4</td>\n",
       "      <td>3.537864</td>\n",
       "      <td>3.975934</td>\n",
       "      <td>0.278769</td>\n",
       "      <td>00:36</td>\n",
       "    </tr>\n",
       "  </tbody>\n",
       "</table>"
      ],
      "text/plain": [
       "<IPython.core.display.HTML object>"
      ]
     },
     "metadata": {},
     "output_type": "display_data"
    },
    {
     "data": {
      "text/html": [
       "<table border=\"1\" class=\"dataframe\">\n",
       "  <thead>\n",
       "    <tr style=\"text-align: left;\">\n",
       "      <th>epoch</th>\n",
       "      <th>train_loss</th>\n",
       "      <th>valid_loss</th>\n",
       "      <th>accuracy</th>\n",
       "      <th>time</th>\n",
       "    </tr>\n",
       "  </thead>\n",
       "  <tbody>\n",
       "    <tr>\n",
       "      <td>0</td>\n",
       "      <td>0.261477</td>\n",
       "      <td>0.227974</td>\n",
       "      <td>0.918599</td>\n",
       "      <td>02:17</td>\n",
       "    </tr>\n",
       "  </tbody>\n",
       "</table>"
      ],
      "text/plain": [
       "<IPython.core.display.HTML object>"
      ]
     },
     "metadata": {},
     "output_type": "display_data"
    },
    {
     "data": {
      "text/html": [
       "<table border=\"1\" class=\"dataframe\">\n",
       "  <thead>\n",
       "    <tr style=\"text-align: left;\">\n",
       "      <th>epoch</th>\n",
       "      <th>train_loss</th>\n",
       "      <th>valid_loss</th>\n",
       "      <th>accuracy</th>\n",
       "      <th>time</th>\n",
       "    </tr>\n",
       "  </thead>\n",
       "  <tbody>\n",
       "    <tr>\n",
       "      <td>0</td>\n",
       "      <td>0.217068</td>\n",
       "      <td>0.161254</td>\n",
       "      <td>0.939319</td>\n",
       "      <td>02:20</td>\n",
       "    </tr>\n",
       "  </tbody>\n",
       "</table>"
      ],
      "text/plain": [
       "<IPython.core.display.HTML object>"
      ]
     },
     "metadata": {},
     "output_type": "display_data"
    },
    {
     "data": {
      "text/html": [
       "<table border=\"1\" class=\"dataframe\">\n",
       "  <thead>\n",
       "    <tr style=\"text-align: left;\">\n",
       "      <th>epoch</th>\n",
       "      <th>train_loss</th>\n",
       "      <th>valid_loss</th>\n",
       "      <th>accuracy</th>\n",
       "      <th>time</th>\n",
       "    </tr>\n",
       "  </thead>\n",
       "  <tbody>\n",
       "    <tr>\n",
       "      <td>0</td>\n",
       "      <td>0.147842</td>\n",
       "      <td>0.118912</td>\n",
       "      <td>0.955106</td>\n",
       "      <td>02:27</td>\n",
       "    </tr>\n",
       "  </tbody>\n",
       "</table>"
      ],
      "text/plain": [
       "<IPython.core.display.HTML object>"
      ]
     },
     "metadata": {},
     "output_type": "display_data"
    },
    {
     "data": {
      "text/html": [
       "<table border=\"1\" class=\"dataframe\">\n",
       "  <thead>\n",
       "    <tr style=\"text-align: left;\">\n",
       "      <th>epoch</th>\n",
       "      <th>train_loss</th>\n",
       "      <th>valid_loss</th>\n",
       "      <th>accuracy</th>\n",
       "      <th>time</th>\n",
       "    </tr>\n",
       "  </thead>\n",
       "  <tbody>\n",
       "    <tr>\n",
       "      <td>0</td>\n",
       "      <td>0.075863</td>\n",
       "      <td>0.104161</td>\n",
       "      <td>0.964480</td>\n",
       "      <td>02:10</td>\n",
       "    </tr>\n",
       "    <tr>\n",
       "      <td>1</td>\n",
       "      <td>0.079051</td>\n",
       "      <td>0.080473</td>\n",
       "      <td>0.973360</td>\n",
       "      <td>02:17</td>\n",
       "    </tr>\n",
       "    <tr>\n",
       "      <td>2</td>\n",
       "      <td>0.040725</td>\n",
       "      <td>0.072297</td>\n",
       "      <td>0.977306</td>\n",
       "      <td>02:01</td>\n",
       "    </tr>\n",
       "    <tr>\n",
       "      <td>3</td>\n",
       "      <td>0.027082</td>\n",
       "      <td>0.074924</td>\n",
       "      <td>0.979280</td>\n",
       "      <td>02:33</td>\n",
       "    </tr>\n",
       "    <tr>\n",
       "      <td>4</td>\n",
       "      <td>0.015839</td>\n",
       "      <td>0.073085</td>\n",
       "      <td>0.980266</td>\n",
       "      <td>02:01</td>\n",
       "    </tr>\n",
       "    <tr>\n",
       "      <td>5</td>\n",
       "      <td>0.017688</td>\n",
       "      <td>0.079023</td>\n",
       "      <td>0.978786</td>\n",
       "      <td>02:33</td>\n",
       "    </tr>\n",
       "    <tr>\n",
       "      <td>6</td>\n",
       "      <td>0.009190</td>\n",
       "      <td>0.066244</td>\n",
       "      <td>0.978786</td>\n",
       "      <td>02:22</td>\n",
       "    </tr>\n",
       "    <tr>\n",
       "      <td>7</td>\n",
       "      <td>0.007403</td>\n",
       "      <td>0.076229</td>\n",
       "      <td>0.981253</td>\n",
       "      <td>02:24</td>\n",
       "    </tr>\n",
       "    <tr>\n",
       "      <td>8</td>\n",
       "      <td>0.004785</td>\n",
       "      <td>0.074761</td>\n",
       "      <td>0.980266</td>\n",
       "      <td>02:20</td>\n",
       "    </tr>\n",
       "    <tr>\n",
       "      <td>9</td>\n",
       "      <td>0.005441</td>\n",
       "      <td>0.078951</td>\n",
       "      <td>0.980266</td>\n",
       "      <td>02:03</td>\n",
       "    </tr>\n",
       "  </tbody>\n",
       "</table>"
      ],
      "text/plain": [
       "<IPython.core.display.HTML object>"
      ]
     },
     "metadata": {},
     "output_type": "display_data"
    },
    {
     "data": {
      "text/html": [],
      "text/plain": [
       "<IPython.core.display.HTML object>"
      ]
     },
     "metadata": {},
     "output_type": "display_data"
    },
    {
     "name": "stdout",
     "output_type": "stream",
     "text": [
      "New, Simple\n",
      "col_0   0    1     2\n",
      "row_0               \n",
      "0      62    2     0\n",
      "1      10  109     5\n",
      "2       5   18  1816\n",
      "Validation Dataset\n",
      "Weighted Precision 0.9798786549775163\n",
      "Weighted Reccall 0.9818738223666391\n",
      "Test Dataset\n",
      "labels    0    1     2\n",
      "pred                  \n",
      "-1      466   56   235\n",
      "0       139   41    74\n",
      "1       278  205  3436\n",
      "Weighted Precison Test 0.7861575773841087\n",
      "Weighted Recall Test 0.8173693032749333\n"
     ]
    }
   ],
   "source": [
    "learn, accuracy_matrix, weighted_precision, weighted_recall, accuracy_matrix_test, weighted_precision_test, weighted_recall_test=train_model(\"old\", \"all\")\n",
    "print(\"New, Simple\")\n",
    "print(accuracy_matrix)\n",
    "print(\"Validation Dataset\")\n",
    "print(\"Weighted Precision\",weighted_precision)\n",
    "print(\"Weighted Reccall\", weighted_recall)\n",
    "print(\"Test Dataset\")\n",
    "print(accuracy_matrix_test)\n",
    "print(\"Weighted Precison Test\",  weighted_precision_test)\n",
    "print(\"Weighted Recall Test\", weighted_recall_test)"
   ]
  },
  {
   "cell_type": "markdown",
   "metadata": {},
   "source": [
    "## All data, no stemming and no stop words filter"
   ]
  },
  {
   "cell_type": "code",
   "execution_count": 53,
   "metadata": {},
   "outputs": [
    {
     "name": "stderr",
     "output_type": "stream",
     "text": [
      "/home/arul/anaconda3/envs/ath/lib/python3.7/site-packages/bs4/__init__.py:389: UserWarning: \"https://www.valkyriestudios.be\" looks like a URL. Beautiful Soup is not an HTTP client. You should probably use an HTTP client like requests to get the document behind the URL, and feed that document to Beautiful Soup.\n",
      "  ' that document to Beautiful Soup.' % decoded_markup\n"
     ]
    },
    {
     "data": {
      "text/html": [],
      "text/plain": [
       "<IPython.core.display.HTML object>"
      ]
     },
     "metadata": {},
     "output_type": "display_data"
    },
    {
     "data": {
      "text/html": [],
      "text/plain": [
       "<IPython.core.display.HTML object>"
      ]
     },
     "metadata": {},
     "output_type": "display_data"
    },
    {
     "data": {
      "text/html": [],
      "text/plain": [
       "<IPython.core.display.HTML object>"
      ]
     },
     "metadata": {},
     "output_type": "display_data"
    },
    {
     "data": {
      "text/html": [],
      "text/plain": [
       "<IPython.core.display.HTML object>"
      ]
     },
     "metadata": {},
     "output_type": "display_data"
    },
    {
     "data": {
      "text/html": [
       "<table border=\"1\" class=\"dataframe\">\n",
       "  <thead>\n",
       "    <tr style=\"text-align: left;\">\n",
       "      <th>epoch</th>\n",
       "      <th>train_loss</th>\n",
       "      <th>valid_loss</th>\n",
       "      <th>accuracy</th>\n",
       "      <th>time</th>\n",
       "    </tr>\n",
       "  </thead>\n",
       "  <tbody>\n",
       "    <tr>\n",
       "      <td>0</td>\n",
       "      <td>4.653063</td>\n",
       "      <td>4.424557</td>\n",
       "      <td>0.220938</td>\n",
       "      <td>00:50</td>\n",
       "    </tr>\n",
       "  </tbody>\n",
       "</table>"
      ],
      "text/plain": [
       "<IPython.core.display.HTML object>"
      ]
     },
     "metadata": {},
     "output_type": "display_data"
    },
    {
     "data": {
      "text/html": [
       "<table border=\"1\" class=\"dataframe\">\n",
       "  <thead>\n",
       "    <tr style=\"text-align: left;\">\n",
       "      <th>epoch</th>\n",
       "      <th>train_loss</th>\n",
       "      <th>valid_loss</th>\n",
       "      <th>accuracy</th>\n",
       "      <th>time</th>\n",
       "    </tr>\n",
       "  </thead>\n",
       "  <tbody>\n",
       "    <tr>\n",
       "      <td>0</td>\n",
       "      <td>4.235130</td>\n",
       "      <td>4.233929</td>\n",
       "      <td>0.243478</td>\n",
       "      <td>00:53</td>\n",
       "    </tr>\n",
       "    <tr>\n",
       "      <td>1</td>\n",
       "      <td>3.985912</td>\n",
       "      <td>4.040794</td>\n",
       "      <td>0.264422</td>\n",
       "      <td>00:53</td>\n",
       "    </tr>\n",
       "    <tr>\n",
       "      <td>2</td>\n",
       "      <td>3.706315</td>\n",
       "      <td>3.915871</td>\n",
       "      <td>0.280566</td>\n",
       "      <td>00:53</td>\n",
       "    </tr>\n",
       "    <tr>\n",
       "      <td>3</td>\n",
       "      <td>3.471212</td>\n",
       "      <td>3.855360</td>\n",
       "      <td>0.289029</td>\n",
       "      <td>00:53</td>\n",
       "    </tr>\n",
       "    <tr>\n",
       "      <td>4</td>\n",
       "      <td>3.331177</td>\n",
       "      <td>3.847532</td>\n",
       "      <td>0.291003</td>\n",
       "      <td>00:53</td>\n",
       "    </tr>\n",
       "  </tbody>\n",
       "</table>"
      ],
      "text/plain": [
       "<IPython.core.display.HTML object>"
      ]
     },
     "metadata": {},
     "output_type": "display_data"
    },
    {
     "data": {
      "text/html": [
       "<table border=\"1\" class=\"dataframe\">\n",
       "  <thead>\n",
       "    <tr style=\"text-align: left;\">\n",
       "      <th>epoch</th>\n",
       "      <th>train_loss</th>\n",
       "      <th>valid_loss</th>\n",
       "      <th>accuracy</th>\n",
       "      <th>time</th>\n",
       "    </tr>\n",
       "  </thead>\n",
       "  <tbody>\n",
       "    <tr>\n",
       "      <td>0</td>\n",
       "      <td>0.315224</td>\n",
       "      <td>0.289059</td>\n",
       "      <td>0.889147</td>\n",
       "      <td>03:16</td>\n",
       "    </tr>\n",
       "  </tbody>\n",
       "</table>"
      ],
      "text/plain": [
       "<IPython.core.display.HTML object>"
      ]
     },
     "metadata": {},
     "output_type": "display_data"
    },
    {
     "data": {
      "text/html": [
       "<table border=\"1\" class=\"dataframe\">\n",
       "  <thead>\n",
       "    <tr style=\"text-align: left;\">\n",
       "      <th>epoch</th>\n",
       "      <th>train_loss</th>\n",
       "      <th>valid_loss</th>\n",
       "      <th>accuracy</th>\n",
       "      <th>time</th>\n",
       "    </tr>\n",
       "  </thead>\n",
       "  <tbody>\n",
       "    <tr>\n",
       "      <td>0</td>\n",
       "      <td>0.320256</td>\n",
       "      <td>0.233335</td>\n",
       "      <td>0.913375</td>\n",
       "      <td>02:58</td>\n",
       "    </tr>\n",
       "  </tbody>\n",
       "</table>"
      ],
      "text/plain": [
       "<IPython.core.display.HTML object>"
      ]
     },
     "metadata": {},
     "output_type": "display_data"
    },
    {
     "data": {
      "text/html": [
       "<table border=\"1\" class=\"dataframe\">\n",
       "  <thead>\n",
       "    <tr style=\"text-align: left;\">\n",
       "      <th>epoch</th>\n",
       "      <th>train_loss</th>\n",
       "      <th>valid_loss</th>\n",
       "      <th>accuracy</th>\n",
       "      <th>time</th>\n",
       "    </tr>\n",
       "  </thead>\n",
       "  <tbody>\n",
       "    <tr>\n",
       "      <td>0</td>\n",
       "      <td>0.214178</td>\n",
       "      <td>0.197030</td>\n",
       "      <td>0.936608</td>\n",
       "      <td>03:01</td>\n",
       "    </tr>\n",
       "  </tbody>\n",
       "</table>"
      ],
      "text/plain": [
       "<IPython.core.display.HTML object>"
      ]
     },
     "metadata": {},
     "output_type": "display_data"
    },
    {
     "data": {
      "text/html": [
       "<table border=\"1\" class=\"dataframe\">\n",
       "  <thead>\n",
       "    <tr style=\"text-align: left;\">\n",
       "      <th>epoch</th>\n",
       "      <th>train_loss</th>\n",
       "      <th>valid_loss</th>\n",
       "      <th>accuracy</th>\n",
       "      <th>time</th>\n",
       "    </tr>\n",
       "  </thead>\n",
       "  <tbody>\n",
       "    <tr>\n",
       "      <td>0</td>\n",
       "      <td>0.153862</td>\n",
       "      <td>0.191787</td>\n",
       "      <td>0.935944</td>\n",
       "      <td>03:07</td>\n",
       "    </tr>\n",
       "    <tr>\n",
       "      <td>1</td>\n",
       "      <td>0.118514</td>\n",
       "      <td>0.250161</td>\n",
       "      <td>0.943578</td>\n",
       "      <td>03:07</td>\n",
       "    </tr>\n",
       "    <tr>\n",
       "      <td>2</td>\n",
       "      <td>0.097045</td>\n",
       "      <td>0.325558</td>\n",
       "      <td>0.946233</td>\n",
       "      <td>02:45</td>\n",
       "    </tr>\n",
       "    <tr>\n",
       "      <td>3</td>\n",
       "      <td>0.072589</td>\n",
       "      <td>0.252950</td>\n",
       "      <td>0.949884</td>\n",
       "      <td>02:49</td>\n",
       "    </tr>\n",
       "    <tr>\n",
       "      <td>4</td>\n",
       "      <td>0.045967</td>\n",
       "      <td>0.190514</td>\n",
       "      <td>0.950216</td>\n",
       "      <td>03:15</td>\n",
       "    </tr>\n",
       "    <tr>\n",
       "      <td>5</td>\n",
       "      <td>0.032175</td>\n",
       "      <td>0.197037</td>\n",
       "      <td>0.947561</td>\n",
       "      <td>03:20</td>\n",
       "    </tr>\n",
       "    <tr>\n",
       "      <td>6</td>\n",
       "      <td>0.025014</td>\n",
       "      <td>0.218933</td>\n",
       "      <td>0.945237</td>\n",
       "      <td>03:13</td>\n",
       "    </tr>\n",
       "    <tr>\n",
       "      <td>7</td>\n",
       "      <td>0.025565</td>\n",
       "      <td>0.221446</td>\n",
       "      <td>0.950880</td>\n",
       "      <td>02:54</td>\n",
       "    </tr>\n",
       "    <tr>\n",
       "      <td>8</td>\n",
       "      <td>0.013063</td>\n",
       "      <td>0.231569</td>\n",
       "      <td>0.949220</td>\n",
       "      <td>03:10</td>\n",
       "    </tr>\n",
       "    <tr>\n",
       "      <td>9</td>\n",
       "      <td>0.010472</td>\n",
       "      <td>0.222711</td>\n",
       "      <td>0.948556</td>\n",
       "      <td>03:00</td>\n",
       "    </tr>\n",
       "  </tbody>\n",
       "</table>"
      ],
      "text/plain": [
       "<IPython.core.display.HTML object>"
      ]
     },
     "metadata": {},
     "output_type": "display_data"
    },
    {
     "data": {
      "text/html": [],
      "text/plain": [
       "<IPython.core.display.HTML object>"
      ]
     },
     "metadata": {},
     "output_type": "display_data"
    },
    {
     "name": "stdout",
     "output_type": "stream",
     "text": [
      "New, Simple\n",
      "col_0    0    1     2\n",
      "row_0                \n",
      "0      184   12     6\n",
      "1       19  127    17\n",
      "2       51   50  2547\n",
      "Validation Dataset\n",
      "Weighted Precision 0.9460999272731566\n",
      "Weighted Reccall 0.9559116344891503\n",
      "Test Dataset\n",
      "labels    0    1     2\n",
      "pred                  \n",
      "-1      808  115   352\n",
      "0        41  127   104\n",
      "1        34   60  3289\n",
      "Weighted Precison Test 0.8806345705579162\n",
      "Weighted Recall Test 0.8625084165007728\n"
     ]
    }
   ],
   "source": [
    "learn, accuracy_matrix, weighted_precision, weighted_recall, accuracy_matrix_test, weighted_precision_test, weighted_recall_test=train_model(\"all\", \"simple\")\n",
    "print(\"New, Simple\")\n",
    "print(accuracy_matrix)\n",
    "print(\"Validation Dataset\")\n",
    "print(\"Weighted Precision\",weighted_precision)\n",
    "print(\"Weighted Reccall\", weighted_recall)\n",
    "print(\"Test Dataset\")\n",
    "print(accuracy_matrix_test)\n",
    "print(\"Weighted Precison Test\",  weighted_precision_test)\n",
    "print(\"Weighted Recall Test\", weighted_recall_test)"
   ]
  },
  {
   "cell_type": "markdown",
   "metadata": {},
   "source": [
    "## All data, with stemming and stop words filters"
   ]
  },
  {
   "cell_type": "code",
   "execution_count": 54,
   "metadata": {},
   "outputs": [
    {
     "name": "stderr",
     "output_type": "stream",
     "text": [
      "/home/arul/anaconda3/envs/ath/lib/python3.7/site-packages/bs4/__init__.py:389: UserWarning: \"https://www.valkyriestudios.be\" looks like a URL. Beautiful Soup is not an HTTP client. You should probably use an HTTP client like requests to get the document behind the URL, and feed that document to Beautiful Soup.\n",
      "  ' that document to Beautiful Soup.' % decoded_markup\n"
     ]
    },
    {
     "data": {
      "text/html": [],
      "text/plain": [
       "<IPython.core.display.HTML object>"
      ]
     },
     "metadata": {},
     "output_type": "display_data"
    },
    {
     "data": {
      "text/html": [],
      "text/plain": [
       "<IPython.core.display.HTML object>"
      ]
     },
     "metadata": {},
     "output_type": "display_data"
    },
    {
     "data": {
      "text/html": [],
      "text/plain": [
       "<IPython.core.display.HTML object>"
      ]
     },
     "metadata": {},
     "output_type": "display_data"
    },
    {
     "data": {
      "text/html": [],
      "text/plain": [
       "<IPython.core.display.HTML object>"
      ]
     },
     "metadata": {},
     "output_type": "display_data"
    },
    {
     "data": {
      "text/html": [
       "<table border=\"1\" class=\"dataframe\">\n",
       "  <thead>\n",
       "    <tr style=\"text-align: left;\">\n",
       "      <th>epoch</th>\n",
       "      <th>train_loss</th>\n",
       "      <th>valid_loss</th>\n",
       "      <th>accuracy</th>\n",
       "      <th>time</th>\n",
       "    </tr>\n",
       "  </thead>\n",
       "  <tbody>\n",
       "    <tr>\n",
       "      <td>0</td>\n",
       "      <td>4.943565</td>\n",
       "      <td>4.700051</td>\n",
       "      <td>0.199762</td>\n",
       "      <td>00:44</td>\n",
       "    </tr>\n",
       "  </tbody>\n",
       "</table>"
      ],
      "text/plain": [
       "<IPython.core.display.HTML object>"
      ]
     },
     "metadata": {},
     "output_type": "display_data"
    },
    {
     "data": {
      "text/html": [
       "<table border=\"1\" class=\"dataframe\">\n",
       "  <thead>\n",
       "    <tr style=\"text-align: left;\">\n",
       "      <th>epoch</th>\n",
       "      <th>train_loss</th>\n",
       "      <th>valid_loss</th>\n",
       "      <th>accuracy</th>\n",
       "      <th>time</th>\n",
       "    </tr>\n",
       "  </thead>\n",
       "  <tbody>\n",
       "    <tr>\n",
       "      <td>0</td>\n",
       "      <td>4.520302</td>\n",
       "      <td>4.496871</td>\n",
       "      <td>0.221992</td>\n",
       "      <td>00:47</td>\n",
       "    </tr>\n",
       "    <tr>\n",
       "      <td>1</td>\n",
       "      <td>4.263268</td>\n",
       "      <td>4.286583</td>\n",
       "      <td>0.242142</td>\n",
       "      <td>00:47</td>\n",
       "    </tr>\n",
       "    <tr>\n",
       "      <td>2</td>\n",
       "      <td>3.998870</td>\n",
       "      <td>4.155742</td>\n",
       "      <td>0.258056</td>\n",
       "      <td>00:47</td>\n",
       "    </tr>\n",
       "    <tr>\n",
       "      <td>3</td>\n",
       "      <td>3.766071</td>\n",
       "      <td>4.091449</td>\n",
       "      <td>0.267309</td>\n",
       "      <td>00:47</td>\n",
       "    </tr>\n",
       "    <tr>\n",
       "      <td>4</td>\n",
       "      <td>3.635593</td>\n",
       "      <td>4.083505</td>\n",
       "      <td>0.268882</td>\n",
       "      <td>00:47</td>\n",
       "    </tr>\n",
       "  </tbody>\n",
       "</table>"
      ],
      "text/plain": [
       "<IPython.core.display.HTML object>"
      ]
     },
     "metadata": {},
     "output_type": "display_data"
    },
    {
     "data": {
      "text/html": [
       "<table border=\"1\" class=\"dataframe\">\n",
       "  <thead>\n",
       "    <tr style=\"text-align: left;\">\n",
       "      <th>epoch</th>\n",
       "      <th>train_loss</th>\n",
       "      <th>valid_loss</th>\n",
       "      <th>accuracy</th>\n",
       "      <th>time</th>\n",
       "    </tr>\n",
       "  </thead>\n",
       "  <tbody>\n",
       "    <tr>\n",
       "      <td>0</td>\n",
       "      <td>0.296639</td>\n",
       "      <td>0.297900</td>\n",
       "      <td>0.893794</td>\n",
       "      <td>03:06</td>\n",
       "    </tr>\n",
       "  </tbody>\n",
       "</table>"
      ],
      "text/plain": [
       "<IPython.core.display.HTML object>"
      ]
     },
     "metadata": {},
     "output_type": "display_data"
    },
    {
     "data": {
      "text/html": [
       "<table border=\"1\" class=\"dataframe\">\n",
       "  <thead>\n",
       "    <tr style=\"text-align: left;\">\n",
       "      <th>epoch</th>\n",
       "      <th>train_loss</th>\n",
       "      <th>valid_loss</th>\n",
       "      <th>accuracy</th>\n",
       "      <th>time</th>\n",
       "    </tr>\n",
       "  </thead>\n",
       "  <tbody>\n",
       "    <tr>\n",
       "      <td>0</td>\n",
       "      <td>0.300323</td>\n",
       "      <td>0.229887</td>\n",
       "      <td>0.908397</td>\n",
       "      <td>02:49</td>\n",
       "    </tr>\n",
       "  </tbody>\n",
       "</table>"
      ],
      "text/plain": [
       "<IPython.core.display.HTML object>"
      ]
     },
     "metadata": {},
     "output_type": "display_data"
    },
    {
     "data": {
      "text/html": [
       "<table border=\"1\" class=\"dataframe\">\n",
       "  <thead>\n",
       "    <tr style=\"text-align: left;\">\n",
       "      <th>epoch</th>\n",
       "      <th>train_loss</th>\n",
       "      <th>valid_loss</th>\n",
       "      <th>accuracy</th>\n",
       "      <th>time</th>\n",
       "    </tr>\n",
       "  </thead>\n",
       "  <tbody>\n",
       "    <tr>\n",
       "      <td>0</td>\n",
       "      <td>0.217801</td>\n",
       "      <td>0.210939</td>\n",
       "      <td>0.924328</td>\n",
       "      <td>02:52</td>\n",
       "    </tr>\n",
       "  </tbody>\n",
       "</table>"
      ],
      "text/plain": [
       "<IPython.core.display.HTML object>"
      ]
     },
     "metadata": {},
     "output_type": "display_data"
    },
    {
     "data": {
      "text/html": [
       "<table border=\"1\" class=\"dataframe\">\n",
       "  <thead>\n",
       "    <tr style=\"text-align: left;\">\n",
       "      <th>epoch</th>\n",
       "      <th>train_loss</th>\n",
       "      <th>valid_loss</th>\n",
       "      <th>accuracy</th>\n",
       "      <th>time</th>\n",
       "    </tr>\n",
       "  </thead>\n",
       "  <tbody>\n",
       "    <tr>\n",
       "      <td>0</td>\n",
       "      <td>0.167806</td>\n",
       "      <td>0.198494</td>\n",
       "      <td>0.929970</td>\n",
       "      <td>02:57</td>\n",
       "    </tr>\n",
       "    <tr>\n",
       "      <td>1</td>\n",
       "      <td>0.133437</td>\n",
       "      <td>0.169816</td>\n",
       "      <td>0.945569</td>\n",
       "      <td>02:56</td>\n",
       "    </tr>\n",
       "    <tr>\n",
       "      <td>2</td>\n",
       "      <td>0.105211</td>\n",
       "      <td>0.174563</td>\n",
       "      <td>0.951211</td>\n",
       "      <td>02:36</td>\n",
       "    </tr>\n",
       "    <tr>\n",
       "      <td>3</td>\n",
       "      <td>0.074911</td>\n",
       "      <td>0.185035</td>\n",
       "      <td>0.947561</td>\n",
       "      <td>02:40</td>\n",
       "    </tr>\n",
       "    <tr>\n",
       "      <td>4</td>\n",
       "      <td>0.048558</td>\n",
       "      <td>0.194357</td>\n",
       "      <td>0.948888</td>\n",
       "      <td>03:05</td>\n",
       "    </tr>\n",
       "    <tr>\n",
       "      <td>5</td>\n",
       "      <td>0.037593</td>\n",
       "      <td>0.194678</td>\n",
       "      <td>0.950880</td>\n",
       "      <td>03:09</td>\n",
       "    </tr>\n",
       "    <tr>\n",
       "      <td>6</td>\n",
       "      <td>0.021887</td>\n",
       "      <td>0.200290</td>\n",
       "      <td>0.950880</td>\n",
       "      <td>03:03</td>\n",
       "    </tr>\n",
       "    <tr>\n",
       "      <td>7</td>\n",
       "      <td>0.025019</td>\n",
       "      <td>0.190900</td>\n",
       "      <td>0.954530</td>\n",
       "      <td>02:45</td>\n",
       "    </tr>\n",
       "    <tr>\n",
       "      <td>8</td>\n",
       "      <td>0.012538</td>\n",
       "      <td>0.207416</td>\n",
       "      <td>0.954198</td>\n",
       "      <td>03:00</td>\n",
       "    </tr>\n",
       "    <tr>\n",
       "      <td>9</td>\n",
       "      <td>0.011740</td>\n",
       "      <td>0.204269</td>\n",
       "      <td>0.952539</td>\n",
       "      <td>02:51</td>\n",
       "    </tr>\n",
       "  </tbody>\n",
       "</table>"
      ],
      "text/plain": [
       "<IPython.core.display.HTML object>"
      ]
     },
     "metadata": {},
     "output_type": "display_data"
    },
    {
     "data": {
      "text/html": [],
      "text/plain": [
       "<IPython.core.display.HTML object>"
      ]
     },
     "metadata": {},
     "output_type": "display_data"
    },
    {
     "name": "stdout",
     "output_type": "stream",
     "text": [
      "New, Simple\n",
      "col_0    0    1     2\n",
      "row_0                \n",
      "0      191   10     8\n",
      "1       17  129    12\n",
      "2       46   50  2550\n",
      "Validation Dataset\n",
      "Weighted Precision 0.9502794218754288\n",
      "Weighted Reccall 0.9593133911302317\n",
      "Test Dataset\n",
      "labels    0    1     2\n",
      "pred                  \n",
      "-1      677   78   279\n",
      "0        17   22    22\n",
      "1       189  202  3444\n",
      "Weighted Precison Test 0.8215473575289088\n",
      "Weighted Recall Test 0.8770755437485549\n"
     ]
    }
   ],
   "source": [
    "\n",
    "learn, accuracy_matrix, weighted_precision, weighted_recall, accuracy_matrix_test, weighted_precision_test, weighted_recall_test=train_model(\"all\", \"all\")\n",
    "print(\"New, Simple\")\n",
    "print(accuracy_matrix)\n",
    "print(\"Validation Dataset\")\n",
    "print(\"Weighted Precision\",weighted_precision)\n",
    "print(\"Weighted Reccall\", weighted_recall)\n",
    "print(\"Test Dataset\")\n",
    "print(accuracy_matrix_test)\n",
    "print(\"Weighted Precison Test\",  weighted_precision_test)\n",
    "print(\"Weighted Recall Test\", weighted_recall_test)"
   ]
  }
 ],
 "metadata": {
  "kernelspec": {
   "display_name": "Python 3",
   "language": "python",
   "name": "python3"
  },
  "language_info": {
   "codemirror_mode": {
    "name": "ipython",
    "version": 3
   },
   "file_extension": ".py",
   "mimetype": "text/x-python",
   "name": "python",
   "nbconvert_exporter": "python",
   "pygments_lexer": "ipython3",
   "version": "3.7.6"
  }
 },
 "nbformat": 4,
 "nbformat_minor": 4
}
